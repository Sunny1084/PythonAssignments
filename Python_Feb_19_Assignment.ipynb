{
 "cells": [
  {
   "cell_type": "markdown",
   "id": "65cd7525",
   "metadata": {},
   "source": [
    "#### Q1. What is Flask Framework? What are the advantages of Flask Framework?"
   ]
  },
  {
   "cell_type": "code",
   "execution_count": null,
   "id": "62912855",
   "metadata": {},
   "outputs": [],
   "source": [
    "'''\n",
    "Flask is a micro web framework written in Python. It is designed to be lightweight, flexible, and easy to use, making it a \n",
    "popular choice for building web applications and APIs.\n",
    "\n",
    "Here are some of the advantages of Flask Framework:\n",
    "\n",
    "Lightweight: Flask is a \"micro\" framework, which means it has a small codebase and minimal dependencies. This makes it easy to \n",
    "learn and use, and allows for fast and efficient development.\n",
    "\n",
    "Flexibility: Flask is designed to be flexible and customizable. It does not impose any particular directory structure or project\n",
    "layout, so developers are free to organize their code however they see fit. This makes it easy to integrate Flask into existing \n",
    "projects, or to use it as a component in a larger application.\n",
    "\n",
    "Easy to use: Flask has a simple and intuitive API, which makes it easy to get started with and use. It also includes built-in \n",
    "support for common web development tasks, such as handling HTTP requests and responses, handling user authentication and \n",
    "authorization, and working with databases.\n",
    "\n",
    "Extensible: Flask can be extended through a variety of third-party extensions, which provide additional functionality and \n",
    "features. There are extensions available for everything from database integration to email sending, making it easy to add new \n",
    "capabilities to your Flask application as needed.\n",
    "\n",
    "Scalability: Flask is designed to be scalable, with built-in support for running multiple worker processes or threads to handle \n",
    "incoming requests. This makes it well-suited for building applications that need to handle a high volume of traffic or requests.\n",
    "\n",
    "Overall, Flask is a powerful and flexible framework that makes it easy to build web applications and APIs in Python. Its \n",
    "lightweight and modular design, combined with its ease of use and extensibility, make it a popular choice for developers of all \n",
    "skill levels.\n",
    "'''"
   ]
  },
  {
   "cell_type": "markdown",
   "id": "48d8f2f8",
   "metadata": {},
   "source": [
    "#### Q2. Create a simple Flask application to display ‘Hello World!!’. Attach the screenshot of the output in Jupyter Notebook."
   ]
  },
  {
   "cell_type": "code",
   "execution_count": null,
   "id": "95a70642",
   "metadata": {},
   "outputs": [],
   "source": [
    "from flask import Flask\n",
    "from flask import request\n",
    "\n",
    "app = Flask(__name__)\n",
    "\n",
    "@app.route(\"/\")\n",
    "def hello_world():\n",
    "    return \"Hello, World!\"\n",
    "\n",
    "if __name__==\"__main__\":\n",
    "    app.run(host=\"0.0.0.0\",port=5002)\n"
   ]
  },
  {
   "cell_type": "markdown",
   "id": "f481b769",
   "metadata": {},
   "source": [
    "![](Capture.png)"
   ]
  },
  {
   "cell_type": "markdown",
   "id": "61494c12",
   "metadata": {},
   "source": [
    "#### Q3. What is App routing in Flask? Why do we use app routes?"
   ]
  },
  {
   "cell_type": "code",
   "execution_count": null,
   "id": "5ba022d7",
   "metadata": {},
   "outputs": [],
   "source": [
    "\"\"\"\n",
    "In Flask, an app route is a decorator that allows you to bind a URL to a function that handles that URL. The app route decorator\n",
    "is used to create a mapping between a URL and a view function. When a user requests a URL from the Flask application, the \n",
    "application uses the route information to determine which function to execute to handle the request.\n",
    "\n",
    "We use app routes in Flask to provide a clean and organized way of handling user requests. By using app routes, we can map each \n",
    "URL to a specific view function, making our code more modular and easier to maintain. This also allows us to create reusable \n",
    "code by separating concerns into different functions.\n",
    "\"\"\""
   ]
  },
  {
   "cell_type": "markdown",
   "id": "caf2bc28",
   "metadata": {},
   "source": [
    "#### Q4. Create a “/welcome” route to display the welcome message “Welcome to ABC Corporation” and a “/” route to show the following details: Company Name: ABC Corporation  Location: India  Contact Detail: 999-999-9999"
   ]
  },
  {
   "cell_type": "code",
   "execution_count": null,
   "id": "540d65da",
   "metadata": {},
   "outputs": [],
   "source": [
    "from flask import Flask\n",
    "from flask import request\n",
    "\n",
    "app = Flask(__name__)\n",
    "\n",
    "@app.route(\"/welcome\")\n",
    "def welcome():\n",
    "     return \"Welcome to ABC Corporation \\nCompany Name : ABC Corporation \\nLocation : India \\nDetail : 999-999-9999\"\n",
    "\n",
    "if __name__==\"__main__\":\n",
    "    app.run(host=\"0.0.0.0\",port=5002)\n"
   ]
  },
  {
   "cell_type": "markdown",
   "id": "8244815d",
   "metadata": {},
   "source": [
    "![](Flask.png)"
   ]
  },
  {
   "cell_type": "markdown",
   "id": "45e73871",
   "metadata": {},
   "source": [
    "#### Q5. What function is used in Flask for URL Building? Write a Python code to demonstrate the working of the url_for() function."
   ]
  },
  {
   "cell_type": "code",
   "execution_count": null,
   "id": "9f81bb50",
   "metadata": {},
   "outputs": [],
   "source": [
    "'''\n",
    "In Flask, the url_for() function is used for URL building. This function generates a URL for the given endpoint and accepts the \n",
    "name of the endpoint as the first argument and any number of keyword arguments, which are used to build the URL's query string. \n",
    "The endpoint is the name of the function that is decorated with @app.route.\n",
    "'''"
   ]
  },
  {
   "cell_type": "code",
   "execution_count": null,
   "id": "40d56f94",
   "metadata": {},
   "outputs": [],
   "source": [
    "from flask import Flask, url_for\n",
    "\n",
    "app = Flask(__name__)\n",
    "\n",
    "@app.route('/')\n",
    "def home():\n",
    "    return 'Hello, World!'\n",
    "\n",
    "@app.route('/user/<username>')\n",
    "def profile(username):\n",
    "    return f'Hello, {username}!'\n",
    "\n",
    "with app.test_request_context():\n",
    "    print(url_for('home')) \n",
    "    print(url_for('profile', username='John Doe'))"
   ]
  }
 ],
 "metadata": {
  "kernelspec": {
   "display_name": "Python 3 (ipykernel)",
   "language": "python",
   "name": "python3"
  },
  "language_info": {
   "codemirror_mode": {
    "name": "ipython",
    "version": 3
   },
   "file_extension": ".py",
   "mimetype": "text/x-python",
   "name": "python",
   "nbconvert_exporter": "python",
   "pygments_lexer": "ipython3",
   "version": "3.9.13"
  }
 },
 "nbformat": 4,
 "nbformat_minor": 5
}
