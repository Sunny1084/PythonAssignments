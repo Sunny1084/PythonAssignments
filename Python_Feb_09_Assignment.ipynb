{
 "cells": [
  {
   "cell_type": "markdown",
   "id": "e5769924",
   "metadata": {},
   "source": [
    "#### Q1, Create a vehicle class with an init method having instance variables as name_of_vehicle, max_speed and average_of_vehicle."
   ]
  },
  {
   "cell_type": "code",
   "execution_count": 3,
   "id": "05ab0352",
   "metadata": {},
   "outputs": [],
   "source": [
    "class vehicle:\n",
    "    def __init__(self, name_of_vehicle, max_speed, average_of_vehicle):\n",
    "        self.name_of_vehicle = name_of_vehicle\n",
    "        self.max_speed = max_speed\n",
    "        self.average_of_vehicle = average_of_vehicle "
   ]
  },
  {
   "cell_type": "markdown",
   "id": "4e9375b4",
   "metadata": {},
   "source": [
    "#### Q2. Create a child class car from the vehicle class created in Que 1, which will inherit the vehicle class. Create a method named seating_capacity which takes capacity as an argument and returns the name of the vehicle and its seating capacity."
   ]
  },
  {
   "cell_type": "code",
   "execution_count": 10,
   "id": "f31c6e75",
   "metadata": {},
   "outputs": [],
   "source": [
    "class car(vehicle):\n",
    "    def seating_capacity(self, capacity):\n",
    "        print(f\"{self.name_of_vehicle} has a seating capacity of {capacity}\")"
   ]
  },
  {
   "cell_type": "code",
   "execution_count": 12,
   "id": "eeb04a64",
   "metadata": {},
   "outputs": [
    {
     "name": "stdout",
     "output_type": "stream",
     "text": [
      "Sedan has a seating capacity of 5\n"
     ]
    }
   ],
   "source": [
    "alto = car(\"Sedan\",150,23)\n",
    "alto.seating_capacity(5)"
   ]
  },
  {
   "cell_type": "markdown",
   "id": "f8393cba",
   "metadata": {},
   "source": [
    "#### Q3. What is multiple inheritance? Write a python code to demonstrate multiple inheritance."
   ]
  },
  {
   "cell_type": "code",
   "execution_count": 13,
   "id": "305c36e1",
   "metadata": {},
   "outputs": [],
   "source": [
    "# Ans When a class inherit properties from multiple parent class is called multiple inheritance\n",
    "\n",
    "class parent1:\n",
    "    def parent1method(self):\n",
    "        print(\"Parent1 method\")\n",
    "\n",
    "class parent2:\n",
    "    def parent2method(self):\n",
    "        print(\"Parent2 method\")\n",
    "        \n",
    "class child(parent1, parent2):\n",
    "    def childmethod(self):\n",
    "        print(\"Child method\")\n",
    "        \n",
    "child_obj = child()\n"
   ]
  },
  {
   "cell_type": "code",
   "execution_count": 16,
   "id": "3ebb338c",
   "metadata": {},
   "outputs": [
    {
     "name": "stdout",
     "output_type": "stream",
     "text": [
      "Parent1 method\n",
      "Parent2 method\n"
     ]
    }
   ],
   "source": [
    "child_obj.parent1method()\n",
    "child_obj.parent2method()"
   ]
  },
  {
   "cell_type": "markdown",
   "id": "03498525",
   "metadata": {},
   "source": [
    "#### Q4. What are getter and setter in python? Create a class and create a getter and a setter method in this class."
   ]
  },
  {
   "cell_type": "code",
   "execution_count": 18,
   "id": "e7584c64",
   "metadata": {},
   "outputs": [],
   "source": [
    "# Ans In Python, getter and setter methods are used to retrieve and set the value of an object's attributes, respectively. \n",
    "# A getter method, also known as an accessor method, is used to retrieve the value of an object's attribute, and a setter \n",
    "# method, also known as a mutator method, is used to set the value of an object's attribute.\n",
    "\n",
    "class Person:\n",
    "    def __init__(self, name):\n",
    "        self.name = name\n",
    "    def get_name (self):\n",
    "        return self.name\n",
    "    def set_name(self, name):\n",
    "        self.name = name"
   ]
  },
  {
   "cell_type": "code",
   "execution_count": 20,
   "id": "15fa941b",
   "metadata": {},
   "outputs": [
    {
     "name": "stdout",
     "output_type": "stream",
     "text": [
      "Sunny\n"
     ]
    }
   ],
   "source": [
    "per = Person(\"Sunny\")\n",
    "print(per.get_name())"
   ]
  },
  {
   "cell_type": "code",
   "execution_count": 21,
   "id": "c7e332a6",
   "metadata": {},
   "outputs": [
    {
     "name": "stdout",
     "output_type": "stream",
     "text": [
      "Suraj\n"
     ]
    }
   ],
   "source": [
    "per.set_name(\"Suraj\")\n",
    "print(per.get_name())"
   ]
  },
  {
   "cell_type": "markdown",
   "id": "65ef7039",
   "metadata": {},
   "source": [
    "#### Q5.What is method overriding in python? Write a python code to demonstrate method overriding."
   ]
  },
  {
   "cell_type": "code",
   "execution_count": 22,
   "id": "f0fc0ff4",
   "metadata": {},
   "outputs": [],
   "source": [
    "# Ans Method overriding is a feature of object-oriented programming that allows a subclass to provide a different implementation\n",
    "# of a method that is already defined in its parent class. This allows the subclass to change the behavior of the method while \n",
    "# still maintaining the same method signature.\n",
    "\n",
    "class shape:\n",
    "    def area(self):\n",
    "        pass\n",
    "    \n",
    "class rectangle(shape):\n",
    "    def __init__(self, length, breadth):\n",
    "        self.length = length\n",
    "        self.breadth = breadth\n",
    "    def area(self):\n",
    "        return self.length * self.breadth\n",
    "\n",
    "class circle(shape):\n",
    "    def __init__(self, radius):\n",
    "        self.radius = radius\n",
    "    def area(self):\n",
    "        return 3.14*self.radius*self.radius\n"
   ]
  },
  {
   "cell_type": "code",
   "execution_count": 23,
   "id": "de2b9933",
   "metadata": {},
   "outputs": [
    {
     "name": "stdout",
     "output_type": "stream",
     "text": [
      "200\n"
     ]
    }
   ],
   "source": [
    "rect = rectangle(10,20)\n",
    "print(rect.area())"
   ]
  },
  {
   "cell_type": "code",
   "execution_count": 24,
   "id": "adcbac6b",
   "metadata": {},
   "outputs": [
    {
     "name": "stdout",
     "output_type": "stream",
     "text": [
      "314.0\n"
     ]
    }
   ],
   "source": [
    "cir = circle(10)\n",
    "print(cir.area())"
   ]
  }
 ],
 "metadata": {
  "kernelspec": {
   "display_name": "Python 3 (ipykernel)",
   "language": "python",
   "name": "python3"
  },
  "language_info": {
   "codemirror_mode": {
    "name": "ipython",
    "version": 3
   },
   "file_extension": ".py",
   "mimetype": "text/x-python",
   "name": "python",
   "nbconvert_exporter": "python",
   "pygments_lexer": "ipython3",
   "version": "3.9.13"
  }
 },
 "nbformat": 4,
 "nbformat_minor": 5
}
