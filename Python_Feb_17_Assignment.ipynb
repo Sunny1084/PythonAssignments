{
 "cells": [
  {
   "cell_type": "markdown",
   "id": "b3300d7f",
   "metadata": {},
   "source": [
    "#### Q1. What is MongoDB? Explain non-relational databases in short. In which scenarios it is preferred to use MongoDB over SQL databases? "
   ]
  },
  {
   "cell_type": "code",
   "execution_count": null,
   "id": "d104be8f",
   "metadata": {},
   "outputs": [],
   "source": [
    "\"\"\"\n",
    "MongoDB is a popular open-source NoSQL document-oriented database that stores data in a JSON-like format called BSON \n",
    "(Binary JSON). It is designed to be scalable, flexible, and performant, making it well-suited for modern, data-intensive \n",
    "applications.\n",
    "\n",
    "Non-relational databases, also known as NoSQL databases, are databases that do not use the traditional relational model based on \n",
    "tables and columns. Instead, they use different data models, such as key-value stores, document stores, graph databases, and \n",
    "others. Non-relational databases are often more flexible and scalable than relational databases, and they can handle \n",
    "unstructured and semi-structured data more easily.\n",
    "\n",
    "MongoDB is preferred over SQL databases in scenarios where the data is complex, unstructured, or semi-structured, and requires \n",
    "frequent updates. It is also well-suited for applications that need to handle a large amount of data and require fast read and \n",
    "write operations. In particular, MongoDB is often used for web and mobile applications, content management systems, social \n",
    "media platforms, and real-time analytics. Additionally, MongoDB's flexible data model and dynamic schema make it easier to \n",
    "iterate on and evolve data models over time.\n",
    "\"\"\""
   ]
  },
  {
   "cell_type": "markdown",
   "id": "1452bc98",
   "metadata": {},
   "source": [
    "#### Q2. State and Explain the features of MongoDB. "
   ]
  },
  {
   "cell_type": "code",
   "execution_count": null,
   "id": "7ee9ba19",
   "metadata": {},
   "outputs": [],
   "source": [
    "\"\"\"\n",
    "MongoDB has several features that make it a popular and powerful NoSQL database:\n",
    "\n",
    "1. Document-oriented: MongoDB stores data in a document-oriented format that is similar to JSON. Each document can have its own \n",
    "unique structure, allowing for more flexible and dynamic data models.\n",
    "\n",
    "2. Scalability: MongoDB is designed to be horizontally scalable, meaning that it can handle large amounts of data by \n",
    "distributing it across multiple servers. This makes it well-suited for applications that need to handle a lot of data or require\n",
    "high availability.\n",
    "\n",
    "3. High performance: MongoDB uses various techniques, such as indexing and caching, to provide high performance for read and \n",
    "write operations. It also supports native aggregation and query optimization to help speed up complex data queries.\n",
    "\n",
    "4. Rich query language: MongoDB's query language is powerful and flexible, allowing developers to query data using a variety of \n",
    "operators and functions.\n",
    "\n",
    "5. Flexible schema: MongoDB's schema is dynamic, meaning that it can be modified easily without needing to define a strict \n",
    "schema up front. This makes it easier to iterate on and evolve data models over time.\n",
    "\n",
    "6. Support for geospatial data: MongoDB provides robust support for geospatial data, including the ability to perform geospatial\n",
    "queries and geospatial indexing.\n",
    "\n",
    "7. Ad hoc queries: MongoDB allows for ad hoc queries, meaning that developers can query the data in real-time without having to \n",
    "create pre-defined views or indexes.\n",
    "\n",
    "8. Automatic sharding: MongoDB can automatically distribute data across multiple servers using a technique called sharding. This\n",
    "helps to ensure high availability and scalability.\n",
    "\n",
    "9. ACID transactions: MongoDB supports ACID transactions, meaning that developers can ensure data consistency and integrity \n",
    "across multiple documents and collections.\n",
    "\n",
    "\"\"\"\n"
   ]
  },
  {
   "cell_type": "markdown",
   "id": "4a722306",
   "metadata": {},
   "source": [
    "#### Q3. Write a code to connect MongoDB to Python. Also, create a database and a collection in MongoDB."
   ]
  },
  {
   "cell_type": "code",
   "execution_count": null,
   "id": "baa12fc7",
   "metadata": {},
   "outputs": [],
   "source": [
    "# import the pymongo library\n",
    "import pymongo\n",
    "\n",
    "# establish a connection to MongoDB\n",
    "client = pymongo.MongoClient(\"mongodb://localhost:27017/\")\n",
    "\n",
    "# create a new database called \"mydatabase\"\n",
    "mydb = client[\"mydatabase\"]\n",
    "\n",
    "# create a new collection called \"mycollection\" in \"mydatabase\"\n",
    "mycol = mydb[\"mycollection\"]"
   ]
  },
  {
   "cell_type": "markdown",
   "id": "aeccdf07",
   "metadata": {},
   "source": [
    "#### Q4. Using the database and the collection created in question number 3, write a code to insert one record, and insert many records. Use the find() and find_one() methods to print the inserted record."
   ]
  },
  {
   "cell_type": "code",
   "execution_count": null,
   "id": "c9e4ba2d",
   "metadata": {},
   "outputs": [],
   "source": [
    "# insert one record into \"mycollection\"\n",
    "mydict = {\"name\": \"John\", \"address\": \"Highway 37\"}\n",
    "x = mycol.insert_one(mydict)\n",
    "print(x.inserted_id)\n",
    "\n",
    "# insert multiple records into \"mycollection\"\n",
    "mylist = [\n",
    "  {\"name\": \"Amy\", \"address\": \"Apple street 652\"},\n",
    "  {\"name\": \"Hannah\", \"address\": \"Mountain 21\"},\n",
    "  {\"name\": \"Michael\", \"address\": \"Valley 345\"},\n",
    "  {\"name\": \"Sandy\", \"address\": \"Ocean blvd 2\"},\n",
    "  {\"name\": \"Betty\", \"address\": \"Green Grass 1\"},\n",
    "  {\"name\": \"Richard\", \"address\": \"Sky st 331\"}\n",
    "]\n",
    "x = mycol.insert_many(mylist)\n",
    "print(x.inserted_ids)\n",
    "\n",
    "# find one record in \"mycollection\"\n",
    "x = mycol.find_one()\n",
    "print(x)\n",
    "\n",
    "# find all records in \"mycollection\"\n",
    "for x in mycol.find():\n",
    "  print(x)"
   ]
  },
  {
   "cell_type": "markdown",
   "id": "6ea73927",
   "metadata": {},
   "source": [
    "#### Q5. Explain how you can use the find() method to query the MongoDB database. Write a simple code to demonstrate this."
   ]
  },
  {
   "cell_type": "code",
   "execution_count": null,
   "id": "c2aedd37",
   "metadata": {},
   "outputs": [],
   "source": [
    "'''\n",
    "n MongoDB, the find() method is used to query a collection and retrieve documents that match a specific set of criteria. You can \n",
    "pass in a query as an argument to the find() method to retrieve documents that match the query.\n",
    "'''\n",
    "\n",
    "# query the \"mycollection\" collection to find documents where the \"name\" field is \"John\"\n",
    "query = {\"name\": \"John\"}\n",
    "results = mycol.find(query)\n",
    "\n",
    "# print out the documents that match the query\n",
    "for result in results:\n",
    "    print(result)"
   ]
  },
  {
   "cell_type": "markdown",
   "id": "dd225b10",
   "metadata": {},
   "source": [
    "#### Q6. Explain the sort() method. Give an example to demonstrate sorting in MongoDB. "
   ]
  },
  {
   "cell_type": "code",
   "execution_count": null,
   "id": "68fd0059",
   "metadata": {},
   "outputs": [],
   "source": [
    "'''\n",
    "In MongoDB, the sort() method is used to sort the results of a query in ascending or descending order based on one or more \n",
    "fields. The method takes a field name and a sort order as arguments, and can be used in conjunction with the find() method to \n",
    "sort the results of a query.\n",
    "'''\n",
    "\n",
    "# query the \"mycollection\" collection to find all documents and sort them by the \"name\" field in ascending order\n",
    "results = mycol.find().sort(\"name\", 1)    # we can -1 for descending order\n",
    "\n",
    "# print out the sorted documents\n",
    "for result in results:\n",
    "    print(result)"
   ]
  },
  {
   "cell_type": "markdown",
   "id": "57d9f5a4",
   "metadata": {},
   "source": [
    "#### Q7. Explain why delete_one(), delete_many(), and drop() is used."
   ]
  },
  {
   "cell_type": "code",
   "execution_count": null,
   "id": "3d136e25",
   "metadata": {},
   "outputs": [],
   "source": [
    "'''\n",
    "In MongoDB, the delete_one() and delete_many() methods are used to remove documents from a collection that match a specific set \n",
    "of criteria.\n",
    "\n",
    "The delete_one() method removes a single document from a collection that matches a specified filter. If multiple documents match\n",
    "the filter, it will only delete the first matching document that it encounters.\n",
    "\n",
    "The delete_many() method removes all documents from a collection that match a specified filter. This method can be used to \n",
    "delete multiple documents in a single operation.\n",
    "\n",
    "Both delete_one() and delete_many() methods return a DeleteResult object that contains information about the operation, such as \n",
    "the number of documents that were deleted.\n",
    "\n",
    "The drop() method, on the other hand, is used to completely remove a collection from a database. This method drops the entire \n",
    "collection and all of its indexes, and cannot be undone. The drop() method does not take any arguments, and returns None.\n",
    "'''"
   ]
  }
 ],
 "metadata": {
  "kernelspec": {
   "display_name": "Python 3 (ipykernel)",
   "language": "python",
   "name": "python3"
  },
  "language_info": {
   "codemirror_mode": {
    "name": "ipython",
    "version": 3
   },
   "file_extension": ".py",
   "mimetype": "text/x-python",
   "name": "python",
   "nbconvert_exporter": "python",
   "pygments_lexer": "ipython3",
   "version": "3.9.13"
  }
 },
 "nbformat": 4,
 "nbformat_minor": 5
}
