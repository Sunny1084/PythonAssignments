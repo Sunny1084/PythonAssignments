{
 "cells": [
  {
   "cell_type": "markdown",
   "id": "5d04af32",
   "metadata": {},
   "source": [
    "#### Q1. What is a database? Differentiate between SQL and NoSQL databases."
   ]
  },
  {
   "cell_type": "code",
   "execution_count": null,
   "id": "9570584f",
   "metadata": {},
   "outputs": [],
   "source": [
    "'''\n",
    "Ans A database is a collection of data that is organized and stored in a way that allows for easy retrieval and manipulation of \n",
    "the information. Databases are commonly used to store and manage large amounts of data in a structured and organized manner.\n",
    "\n",
    "SQL and NoSQL databases are two different types of databases that use different models to store and manage data. SQL databases \n",
    "are relational databases that use tables to store data, with each table containing rows and columns of data that are related to \n",
    "each other. SQL databases use a structured query language (SQL) to manipulate and retrieve data.\n",
    "\n",
    "NoSQL databases, on the other hand, are non-relational databases that use a variety of data models to store and manage data, \n",
    "such as document, key-value, graph, and column-family models. NoSQL databases are designed to handle large amounts of \n",
    "unstructured or semi-structured data, and they typically offer high performance and scalability. They are often used in \n",
    "applications that require real-time data processing and analysis.\n",
    "\n",
    "One key difference between SQL and NoSQL databases is that SQL databases are typically better suited for applications that \n",
    "require complex queries and data relationships, while NoSQL databases are often used in applications that require high \n",
    "scalability and performance, but may sacrifice some level of data consistency or query flexibility in exchange. Additionally, \n",
    "SQL databases often require a predefined schema, while NoSQL databases can be more flexible in their schema design.\n",
    "\n",
    "''' "
   ]
  },
  {
   "cell_type": "markdown",
   "id": "3790e71c",
   "metadata": {},
   "source": [
    "#### Q2. What is DDL? Explain why CREATE, DROP, ALTER, and TRUNCATE are used with an example."
   ]
  },
  {
   "cell_type": "code",
   "execution_count": null,
   "id": "1bce77b8",
   "metadata": {},
   "outputs": [],
   "source": [
    "# Ans DDl is stands for Data Definition Language. It is used to defined and manuplate the structure of the table\n",
    "'''\n",
    "1. Create : It is used to create a table in the data base for example:\n",
    "CREATE TABLE customers (\n",
    "  id INT PRIMARY KEY,\n",
    "  name VARCHAR(50),\n",
    "  email VARCHAR(100)\n",
    ");\n",
    "\n",
    "2. Drop : It is used to delete an existing database object as table or index.\n",
    "DROP TABLE customers;\n",
    "\n",
    "3. ALTER: The ALTER command is used to modify an existing database object, such as a table or index\n",
    "ALTER TABLE customers ADD COLUMN phone VARCHAR(20);\n",
    "\n",
    "4. TRUNCATE: The TRUNCATE command is used to delete all data from a table, but keeps the table structure intact.\n",
    "TRUNCATE TABLE customers;\n",
    "'''"
   ]
  },
  {
   "cell_type": "markdown",
   "id": "8deded86",
   "metadata": {},
   "source": [
    "#### Q3. What is DML? Explain INSERT, UPDATE, and DELETE with an example."
   ]
  },
  {
   "cell_type": "code",
   "execution_count": null,
   "id": "47a2e9d3",
   "metadata": {},
   "outputs": [],
   "source": [
    "\"\"\"\n",
    "Ans DML stands for Data Manuplation language. It is used to manuplate the data of the database table.\n",
    "\n",
    "1. Insert : This command is used to insert the record in the database table.\n",
    "Insert into customers\n",
    "values(1,'Sunny','sunny@gmail.com');\n",
    "\n",
    "2. UPDATE: The UPDATE command is used to modify existing data in a table\n",
    "UPDATE customers SET email = 'jane.doe@example.com' WHERE id = 1;\n",
    "\n",
    "3. Delete : This command is used to remove data from table.\n",
    "DELETE FROM customers WHERE id = 1;\n",
    "\n",
    "\"\"\""
   ]
  },
  {
   "cell_type": "markdown",
   "id": "71d9d664",
   "metadata": {},
   "source": [
    "#### Q4. What is DQL? Explain SELECT with an example."
   ]
  },
  {
   "cell_type": "code",
   "execution_count": null,
   "id": "774e679d",
   "metadata": {},
   "outputs": [],
   "source": [
    "\"\"\"\n",
    "DQL stands for Data Query Language. It is used to retrive the record from the table.\n",
    "Select * from employee. this command will retrieve all the records from the employee table\n",
    "\"\"\""
   ]
  },
  {
   "cell_type": "markdown",
   "id": "9bffe056",
   "metadata": {},
   "source": [
    "#### Q5. Explain Primary Key and Foreign Key. "
   ]
  },
  {
   "cell_type": "code",
   "execution_count": null,
   "id": "515d9488",
   "metadata": {},
   "outputs": [],
   "source": [
    "\"\"\"\n",
    "Primary key is uniquely identify each row, it is not null constraint. There is only one primary key in a table\n",
    "\n",
    "A Foreign Key is a column or a set of columns in one table that refers to the Primary Key of another table. It is used to \n",
    "establish relationships between tables and to enforce referential integrity. The Foreign Key ensures that the data in the \n",
    "referencing table is consistent with the data in the referenced table. In other words, it ensures that each value in the \n",
    "Foreign Key column of the referencing table corresponds to a value in the Primary Key column of the referenced table.\n",
    "\"\"\""
   ]
  },
  {
   "cell_type": "markdown",
   "id": "75a86854",
   "metadata": {},
   "source": [
    "#### Q6. Write a python code to connect MySQL to python. Explain the cursor() and execute() method."
   ]
  },
  {
   "cell_type": "code",
   "execution_count": null,
   "id": "598cecc8",
   "metadata": {},
   "outputs": [],
   "source": [
    "import mysql.connector\n",
    "\n",
    "mydb = mysql.connector.connect(\n",
    " host = \"localhost\"\n",
    " user = \"abc\"\n",
    " password = \"password\"\n",
    ")\n",
    "mycursor = mydb.cursor()\n",
    "mycursor.execute(\"Create database Test\")\n",
    "mydb.close()\n",
    "\n",
    "\"\"\"\n",
    "The cursor() method creates a cursor object that can be used to interact with the database. The cursor object provides methods \n",
    "such as execute(), fetchone(), fetchall(), and fetchmany() to execute SQL queries and fetch results.\n",
    "\n",
    "execute(query, params): This method is used to execute a SQL query on the database. The first argument is the query string, \n",
    "and the second argument (optional) is a tuple of values to substitute into the query (using %s placeholders). The method \n",
    "returns None if the query does not return any results, or a cursor object if the query returns results. In the example code, \n",
    "mycursor.execute(\"SELECT * FROM yourtable\") executes a query to select all rows from the yourtable table. The results are \n",
    "fetched later using the fetchall() method on the cursor object. Note that the execute() method does not commit the transaction \n",
    "to the database, so any changes made by the query will not be persisted until you call mydb.commit().\n",
    "\n",
    "\n",
    "\"\"\""
   ]
  },
  {
   "cell_type": "markdown",
   "id": "f5716c8c",
   "metadata": {},
   "source": [
    "#### Q7. Give the order of execution of SQL clauses in an SQL query."
   ]
  },
  {
   "cell_type": "code",
   "execution_count": null,
   "id": "6b78d387",
   "metadata": {},
   "outputs": [],
   "source": [
    "\"\"\"\n",
    "In general, an SQL query is executed in the following order:\n",
    "\n",
    "1. FROM: The FROM clause is evaluated first to identify the table(s) and view(s) involved in the query.\n",
    "\n",
    "2. JOIN: If the query involves a join operation, the JOIN clauses are evaluated next to combine the data from the tables/views.\n",
    "\n",
    "3. WHERE: The WHERE clause is evaluated next to filter the rows returned by the query based on the specified conditions.\n",
    "\n",
    "4. GROUP BY: If the query involves grouping, the GROUP BY clause is evaluated next to group the rows based on the \n",
    "specified columns.\n",
    "\n",
    "5. HAVING: The HAVING clause is evaluated next to filter the groups returned by the query based on the specified conditions\n",
    "\n",
    "6. SELECT: The SELECT clause is evaluated next to select the columns to include in the result set.\n",
    "\n",
    "7. DISTINCT: If the query involves DISTINCT, the DISTINCT clause is evaluated next to remove duplicates from the result set.\n",
    "\n",
    "8. ORDER BY: The ORDER BY clause is evaluated next to sort the rows in the result set based on the specified columns.\n",
    "\n",
    "9. LIMIT: If the query involves LIMIT, the LIMIT clause is evaluated last to limit the number of rows returned by the query.\n",
    "\n",
    "\n",
    "\n",
    "\"\"\""
   ]
  }
 ],
 "metadata": {
  "kernelspec": {
   "display_name": "Python 3 (ipykernel)",
   "language": "python",
   "name": "python3"
  },
  "language_info": {
   "codemirror_mode": {
    "name": "ipython",
    "version": 3
   },
   "file_extension": ".py",
   "mimetype": "text/x-python",
   "name": "python",
   "nbconvert_exporter": "python",
   "pygments_lexer": "ipython3",
   "version": "3.9.13"
  }
 },
 "nbformat": 4,
 "nbformat_minor": 5
}
