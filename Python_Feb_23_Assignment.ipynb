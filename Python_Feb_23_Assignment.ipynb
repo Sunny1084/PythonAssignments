{
 "cells": [
  {
   "cell_type": "markdown",
   "id": "86ba0233",
   "metadata": {},
   "source": [
    "#### Q1. Create a Pandas Series that contains the following data: 4, 8, 15, 16, 23, and 42. Then, print the series."
   ]
  },
  {
   "cell_type": "code",
   "execution_count": 2,
   "id": "1361647d",
   "metadata": {},
   "outputs": [
    {
     "name": "stdout",
     "output_type": "stream",
     "text": [
      "0     4\n",
      "1     8\n",
      "2    15\n",
      "3    16\n",
      "4    23\n",
      "5    42\n",
      "dtype: int64\n"
     ]
    }
   ],
   "source": [
    "import pandas as pd\n",
    "\n",
    "data = [4,8,15,16,23,42]\n",
    "series = pd.Series(data)\n",
    "print(series)"
   ]
  },
  {
   "cell_type": "markdown",
   "id": "3f880ca0",
   "metadata": {},
   "source": [
    "#### Q2. Create a variable of list type containing 10 elements in it, and apply pandas.Series function on the variable print it."
   ]
  },
  {
   "cell_type": "code",
   "execution_count": 4,
   "id": "e60a6195",
   "metadata": {},
   "outputs": [
    {
     "name": "stdout",
     "output_type": "stream",
     "text": [
      "0      0\n",
      "1      1\n",
      "2      2\n",
      "3      3\n",
      "4      4\n",
      "5      5\n",
      "6      6\n",
      "7      7\n",
      "8      8\n",
      "9      9\n",
      "10    10\n",
      "dtype: int64\n"
     ]
    }
   ],
   "source": [
    "list1 = range(11)\n",
    "data1 = pd.Series(list1)\n",
    "print(data1)"
   ]
  },
  {
   "cell_type": "markdown",
   "id": "c07582aa",
   "metadata": {},
   "source": [
    "#### Q3. Create a Pandas DataFrame that contains the following data:"
   ]
  },
  {
   "cell_type": "code",
   "execution_count": 6,
   "id": "a8ed492f",
   "metadata": {},
   "outputs": [
    {
     "name": "stdout",
     "output_type": "stream",
     "text": [
      "     Name  Age  Gender\n",
      "0   Alice   25  Female\n",
      "1     Bob   30    Male\n",
      "2  Claire   27  Female\n"
     ]
    }
   ],
   "source": [
    "data2 = {'Name':['Alice','Bob','Claire'],'Age':[25,30,27],'Gender':['Female','Male','Female']}\n",
    "series2 = pd.DataFrame(data2)\n",
    "print(series2)"
   ]
  },
  {
   "cell_type": "markdown",
   "id": "8cc9f7ff",
   "metadata": {},
   "source": [
    "#### Q4. What is ‘DataFrame’ in pandas and how is it different from pandas.series? Explain with an example."
   ]
  },
  {
   "cell_type": "code",
   "execution_count": 9,
   "id": "649be659",
   "metadata": {},
   "outputs": [
    {
     "name": "stdout",
     "output_type": "stream",
     "text": [
      "Series :\n",
      "a    1\n",
      "b    2\n",
      "c    3\n",
      "d    4\n",
      "dtype: int64\n",
      "\n",
      "DataFrame :\n",
      "   a  b  c\n",
      "0  1  4  7\n",
      "1  2  5  8\n",
      "2  3  6  9\n"
     ]
    }
   ],
   "source": [
    "'''\n",
    "In Pandas, a DataFrame is a two-dimensional labeled data structure that represents a table of rows and columns. It is similar to\n",
    "a spreadsheet or a SQL table, where the columns can have different data types, such as numeric, string, boolean, or date, and \n",
    "the rows are labeled with an index.\n",
    "\n",
    "On the other hand, a Series is a one-dimensional labeled data structure that represents a single column of data in a DataFrame. \n",
    "It is similar to a list or a 1D NumPy array, but with an index attached to each value. A Series can have a single data type for \n",
    "all its elements.\n",
    "\n",
    "Here's an example to illustrate the difference between a DataFrame and a Series:\n",
    "'''\n",
    "seriesdata = [1,2,3,4]\n",
    "\n",
    "outputseries = pd.Series(seriesdata,index = ['a','b','c','d'])\n",
    "print('Series :')\n",
    "print(outputseries)\n",
    "\n",
    "outputdataframe = pd.DataFrame({'a':[1,2,3],'b':[4,5,6],'c':[7,8,9]})\n",
    "print('\\nDataFrame :')\n",
    "print(outputdataframe)"
   ]
  },
  {
   "cell_type": "markdown",
   "id": "8018cb22",
   "metadata": {},
   "source": [
    "#### Q5. What are some common functions you can use to manipulate data in a Pandas DataFrame? Can you give an example of when you might use one of these functions?"
   ]
  },
  {
   "cell_type": "code",
   "execution_count": 11,
   "id": "f1d83d22",
   "metadata": {},
   "outputs": [
    {
     "name": "stdout",
     "output_type": "stream",
     "text": [
      "Product\n",
      "A     748\n",
      "B    1136\n",
      "Name: Sales, dtype: int64\n"
     ]
    }
   ],
   "source": [
    "'''\n",
    "Pandas DataFrame provides a wide range of functions to manipulate data. Some of the common functions used to manipulate data in \n",
    "a Pandas DataFrame are:\n",
    "\n",
    "head() and tail(): To view the top or bottom rows of the DataFrame respectively. These functions can be useful to quickly \n",
    "inspect the data to check if it has been loaded correctly or to see what it looks like.\n",
    "\n",
    "describe(): To generate descriptive statistics of the DataFrame, such as mean, standard deviation, minimum, maximum, and \n",
    "quartile values for each numeric column. This function can be useful to get a quick overview of the distribution of the data.\n",
    "\n",
    "groupby(): To group the rows of the DataFrame based on one or more columns and perform operations on each group. This function \n",
    "can be useful to calculate aggregate statistics for different categories of data.\n",
    "\n",
    "sort_values(): To sort the rows of the DataFrame based on one or more columns in ascending or descending order. This function \n",
    "can be useful to reorder the data based on a specific column or a combination of columns.\n",
    "\n",
    "drop(): To remove one or more rows or columns from the DataFrame. This function can be useful to remove missing or irrelevant \n",
    "data or to create a subset of the DataFrame.\n",
    "'''\n",
    "datastores = {'Product' : ['A','B','B','A','A','B'], 'Store':['X','Y','Y','X','X','Y'], 'Sales':[345,456,230,214,189,450]}\n",
    "df = pd.DataFrame(datastores)\n",
    "sum_of_product = df.groupby('Product')['Sales'].sum()\n",
    "\n",
    "print(sum_of_product)"
   ]
  },
  {
   "cell_type": "markdown",
   "id": "1d0bbb6b",
   "metadata": {},
   "source": [
    "#### Q6. Which of the following is mutable in nature Series, DataFrame, Panel? "
   ]
  },
  {
   "cell_type": "code",
   "execution_count": null,
   "id": "162c19dd",
   "metadata": {},
   "outputs": [],
   "source": [
    "'''\n",
    "Among the three, only the DataFrame and Panel are mutable in nature, meaning you can change their values after they have been \n",
    "created.\n",
    "\n",
    "Series, on the other hand, is immutable in nature, meaning you cannot change the values in a series after it has been created. \n",
    "You can only modify it by creating a new series based on the existing series.\n",
    "'''"
   ]
  },
  {
   "cell_type": "markdown",
   "id": "c3a5c935",
   "metadata": {},
   "source": [
    "#### Q7. Create a DataFrame using multiple Series. Explain with an example."
   ]
  },
  {
   "cell_type": "code",
   "execution_count": 12,
   "id": "c1796c44",
   "metadata": {},
   "outputs": [
    {
     "name": "stdout",
     "output_type": "stream",
     "text": [
      "     Name  Age  Gender\n",
      "0   Alice   25  Female\n",
      "1     Bob   30    Male\n",
      "2  Claire   27  Female\n"
     ]
    }
   ],
   "source": [
    "nameSeries = pd.Series(['Alice', 'Bob', 'Claire'])\n",
    "AgeSeries = pd.Series([25,30,27])\n",
    "genderSeries = pd.Series(['Female','Male','Female'])\n",
    "dataframefromseries = pd.DataFrame({'Name':nameSeries, 'Age': AgeSeries, 'Gender':genderSeries})\n",
    "\n",
    "print(dataframefromseries)"
   ]
  }
 ],
 "metadata": {
  "kernelspec": {
   "display_name": "Python 3 (ipykernel)",
   "language": "python",
   "name": "python3"
  },
  "language_info": {
   "codemirror_mode": {
    "name": "ipython",
    "version": 3
   },
   "file_extension": ".py",
   "mimetype": "text/x-python",
   "name": "python",
   "nbconvert_exporter": "python",
   "pygments_lexer": "ipython3",
   "version": "3.9.13"
  }
 },
 "nbformat": 4,
 "nbformat_minor": 5
}
