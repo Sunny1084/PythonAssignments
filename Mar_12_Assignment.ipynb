{
 "cells": [
  {
   "cell_type": "markdown",
   "id": "44a33192",
   "metadata": {},
   "source": [
    "### Q1. Calculate the 95% confidence interval for a sample of data with a mean of 50 and a standard deviation of 5 using Python. Interpret the results."
   ]
  },
  {
   "cell_type": "code",
   "execution_count": 2,
   "id": "98b4dcfc",
   "metadata": {},
   "outputs": [
    {
     "name": "stdout",
     "output_type": "stream",
     "text": [
      "95% Confidence Interval: (48.21, 51.79)\n"
     ]
    }
   ],
   "source": [
    "import scipy.stats as stats\n",
    "\n",
    "# Given data\n",
    "sample_mean = 50  # Mean of the sample\n",
    "sample_std_dev = 5  # Standard deviation of the sample\n",
    "confidence_level = 0.95 # 95% confidence level\n",
    "n = 30\n",
    "\n",
    "# Calculate the margin of error\n",
    "margin_of_error = stats.norm.ppf((1 + confidence_level) / 2) * (sample_std_dev / (n ** 0.5))\n",
    "\n",
    "# Calculate the lower and upper bounds of the confidence interval\n",
    "lower_bound = sample_mean - margin_of_error\n",
    "upper_bound = sample_mean + margin_of_error\n",
    "\n",
    "print(f\"95% Confidence Interval: ({lower_bound:.2f}, {upper_bound:.2f})\")"
   ]
  },
  {
   "cell_type": "markdown",
   "id": "3d7b7d7b",
   "metadata": {},
   "source": [
    "### Q2. Conduct a chi-square goodness of fit test to determine if the distribution of colors of M&Ms in a bag matches the expected distribution of 20% blue, 20% orange, 20% green, 10% yellow, 10% red, and 20% brown. Use Python to perform the test with a significance level of 0.05."
   ]
  },
  {
   "cell_type": "code",
   "execution_count": 3,
   "id": "561c03d0",
   "metadata": {},
   "outputs": [
    {
     "name": "stdout",
     "output_type": "stream",
     "text": [
      "Fail to reject the null hypothesis: The distribution of M&M colors matches the expected distribution.\n"
     ]
    }
   ],
   "source": [
    "import scipy.stats as stats\n",
    "import numpy as np\n",
    "\n",
    "# Observed frequencies of M&M colors (replace with your actual data)\n",
    "observed_frequencies = np.array([25, 18, 22, 11, 9, 15])\n",
    "\n",
    "# Expected frequencies based on the expected distribution\n",
    "expected_frequencies = np.array([0.2, 0.2, 0.2, 0.1, 0.1, 0.2]) * np.sum(observed_frequencies)\n",
    "\n",
    "# Perform the chi-square goodness of fit test\n",
    "chi2, p = stats.chisquare(f_obs=observed_frequencies, f_exp=expected_frequencies)\n",
    "\n",
    "# Define the significance level\n",
    "alpha = 0.05\n",
    "\n",
    "# Check if the p-value is less than the significance level\n",
    "if p < alpha:\n",
    "    print(f\"Reject the null hypothesis: The distribution of M&M colors is not as expected.\")\n",
    "else:\n",
    "    print(f\"Fail to reject the null hypothesis: The distribution of M&M colors matches the expected distribution.\")"
   ]
  },
  {
   "cell_type": "markdown",
   "id": "a671ccb6",
   "metadata": {},
   "source": [
    "### Q3. Use Python to calculate the chi-square statistic and p-value for a contingency table with the following data:"
   ]
  },
  {
   "cell_type": "code",
   "execution_count": 4,
   "id": "b4c76bc3",
   "metadata": {},
   "outputs": [
    {
     "name": "stdout",
     "output_type": "stream",
     "text": [
      "Chi-square statistic: 5.83\n",
      "P-value: 0.0541\n",
      "Degrees of Freedom: 2\n",
      "Fail to reject the null hypothesis: There is no significant association between the groups and outcomes.\n"
     ]
    }
   ],
   "source": [
    "import scipy.stats as stats\n",
    "\n",
    "# Create the contingency table\n",
    "observed_data = [[20, 15],\n",
    "                 [10, 25],\n",
    "                 [15, 20]]\n",
    "\n",
    "# Perform the chi-square test for independence\n",
    "chi2, p, dof, expected = stats.chi2_contingency(observed_data)\n",
    "\n",
    "# Define the significance level\n",
    "alpha = 0.05\n",
    "\n",
    "# Interpret the results\n",
    "print(f\"Chi-square statistic: {chi2:.2f}\")\n",
    "print(f\"P-value: {p:.4f}\")\n",
    "print(f\"Degrees of Freedom: {dof}\")\n",
    "\n",
    "if p < alpha:\n",
    "    print(\"Reject the null hypothesis: There is a significant association between the groups and outcomes.\")\n",
    "else:\n",
    "    print(\"Fail to reject the null hypothesis: There is no significant association between the groups and outcomes.\")"
   ]
  },
  {
   "cell_type": "markdown",
   "id": "9e8ece6d",
   "metadata": {},
   "source": [
    "### Q4. A study of the prevalence of smoking in a population of 500 individuals found that 60 individuals smoked. Use Python to calculate the 95% confidence interval for the true proportion of individuals in the population who smoke."
   ]
  },
  {
   "cell_type": "code",
   "execution_count": 5,
   "id": "c5cbbebf",
   "metadata": {},
   "outputs": [
    {
     "name": "stdout",
     "output_type": "stream",
     "text": [
      "95% Confidence Interval: (0.09151638887130707, 0.1484836111286929)\n"
     ]
    }
   ],
   "source": [
    "import numpy as np\n",
    "\n",
    "# Sample size\n",
    "n = 500\n",
    "\n",
    "# Number of individuals who smoke in the sample\n",
    "x = 60\n",
    "\n",
    "# Proportion of smokers in the sample\n",
    "p_hat = x / n\n",
    "\n",
    "# Significance level\n",
    "alpha = 0.05\n",
    "\n",
    "# Calculate the standard error\n",
    "std_error = np.sqrt((p_hat * (1 - p_hat)) / n)\n",
    "\n",
    "# Calculate the margin of error\n",
    "margin_of_error = stats.norm.ppf(1 - alpha / 2) * std_error\n",
    "\n",
    "# Calculate the confidence interval\n",
    "confidence_interval = (p_hat - margin_of_error, p_hat + margin_of_error)\n",
    "\n",
    "print(f\"95% Confidence Interval: {confidence_interval}\")"
   ]
  },
  {
   "cell_type": "markdown",
   "id": "a13edf7f",
   "metadata": {},
   "source": [
    "### Q5. Calculate the 90% confidence interval for a sample of data with a mean of 75 and a standard deviation of 12 using Python. Interpret the results. "
   ]
  },
  {
   "cell_type": "code",
   "execution_count": 6,
   "id": "a810b854",
   "metadata": {},
   "outputs": [
    {
     "name": "stdout",
     "output_type": "stream",
     "text": [
      "95% Confidence Interval: (71.40, 78.60)\n"
     ]
    }
   ],
   "source": [
    "import scipy.stats as stats\n",
    "\n",
    "# Given data\n",
    "sample_mean = 75 # Mean of the sample\n",
    "sample_std_dev = 12  # Standard deviation of the sample\n",
    "confidence_level = 0.90 # 95% confidence level\n",
    "n = 30\n",
    "\n",
    "# Calculate the margin of error\n",
    "margin_of_error = stats.norm.ppf((1 + confidence_level) / 2) * (sample_std_dev / (n ** 0.5))\n",
    "\n",
    "# Calculate the lower and upper bounds of the confidence interval\n",
    "lower_bound = sample_mean - margin_of_error\n",
    "upper_bound = sample_mean + margin_of_error\n",
    "\n",
    "print(f\"95% Confidence Interval: ({lower_bound:.2f}, {upper_bound:.2f})\")"
   ]
  },
  {
   "cell_type": "markdown",
   "id": "5ee2f119",
   "metadata": {},
   "source": [
    "### Q6. Use Python to plot the chi-square distribution with 10 degrees of freedom. Label the axes and shade the area corresponding to a chi-square statistic of 15."
   ]
  },
  {
   "cell_type": "code",
   "execution_count": 7,
   "id": "ca208b83",
   "metadata": {},
   "outputs": [
    {
     "data": {
      "image/png": "[encoded data removed]",
      "text/plain": [
       "<Figure size 800x400 with 1 Axes>"
      ]
     },
     "metadata": {},
     "output_type": "display_data"
    }
   ],
   "source": [
    "import numpy as np\n",
    "import matplotlib.pyplot as plt\n",
    "import scipy.stats as stats\n",
    "\n",
    "# Degrees of freedom\n",
    "df = 10\n",
    "\n",
    "# Generate a range of chi-square values\n",
    "x = np.linspace(0, 30, 1000)\n",
    "\n",
    "# Calculate the chi-square probability density function (PDF) for the given degrees of freedom\n",
    "pdf = stats.chi2.pdf(x, df)\n",
    "\n",
    "# Create the plot\n",
    "plt.figure(figsize=(8, 4))\n",
    "plt.plot(x, pdf, label=f'Chi-square PDF (df={df})', color='blue')\n",
    "\n",
    "# Shade the area corresponding to a chi-square statistic of 15\n",
    "x_shaded = np.linspace(0, 15, 1000)\n",
    "pdf_shaded = stats.chi2.pdf(x_shaded, df)\n",
    "plt.fill_between(x_shaded, pdf_shaded, 0, where=(x_shaded <= 15), color='gray', alpha=0.5, label='Chi-square ≤ 15')\n",
    "\n",
    "# Add labels and legend\n",
    "plt.xlabel('Chi-square Value')\n",
    "plt.ylabel('Probability Density')\n",
    "plt.title('Chi-square Distribution')\n",
    "plt.legend()\n",
    "\n",
    "# Show the plot\n",
    "plt.grid()\n",
    "plt.show()"
   ]
  },
  {
   "cell_type": "markdown",
   "id": "cfce7865",
   "metadata": {},
   "source": [
    "### Q7. A random sample of 1000 people was asked if they preferred Coke or Pepsi. Of the sample, 520 preferred Coke. Calculate a 99% confidence interval for the true proportion of people in the population who prefer Coke. "
   ]
  },
  {
   "cell_type": "code",
   "execution_count": 8,
   "id": "4ddcf600",
   "metadata": {},
   "outputs": [
    {
     "name": "stdout",
     "output_type": "stream",
     "text": [
      "99% Confidence Interval: (0.4793051576779699, 0.5606948423220302)\n"
     ]
    }
   ],
   "source": [
    "import numpy as np\n",
    "\n",
    "# Sample size\n",
    "n = 1000\n",
    "\n",
    "# Number of individuals who smoke in the sample\n",
    "x = 520\n",
    "\n",
    "# Proportion of smokers in the sample\n",
    "p_hat = x / n\n",
    "\n",
    "# Significance level\n",
    "alpha = 0.01\n",
    "\n",
    "# Calculate the standard error\n",
    "std_error = np.sqrt((p_hat * (1 - p_hat)) / n)\n",
    "\n",
    "# Calculate the margin of error\n",
    "margin_of_error = stats.norm.ppf(1 - alpha / 2) * std_error\n",
    "\n",
    "# Calculate the confidence interval\n",
    "confidence_interval = (p_hat - margin_of_error, p_hat + margin_of_error)\n",
    "\n",
    "print(f\"99% Confidence Interval: {confidence_interval}\")"
   ]
  },
  {
   "cell_type": "markdown",
   "id": "79c711a5",
   "metadata": {},
   "source": [
    "### Q8. A researcher hypothesizes that a coin is biased towards tails. They flip the coin 100 times and observe 45 tails. Conduct a chi-square goodness of fit test to determine if the observed frequencies match the expected frequencies of a fair coin. Use a significance level of 0.05."
   ]
  },
  {
   "cell_type": "code",
   "execution_count": 9,
   "id": "a0c55ae0",
   "metadata": {},
   "outputs": [
    {
     "name": "stdout",
     "output_type": "stream",
     "text": [
      "Chi-square statistic: 0.5\n",
      "P-value: 0.47950012218695337\n",
      "Fail to reject the null hypothesis: The coin is not biased towards tails.\n"
     ]
    }
   ],
   "source": [
    "import numpy as np\n",
    "import scipy.stats as stats\n",
    "\n",
    "# Define the observed and expected frequencies\n",
    "observed_freq = 45\n",
    "\n",
    "expected_freq = 50  # Expected frequency for a fair coin\n",
    "\n",
    "# Calculate the chi-square statistic\n",
    "chi_square = ((observed_freq - expected_freq) ** 2) / expected_freq\n",
    "\n",
    "# Calculate the degrees of freedom\n",
    "df = 1  # For a coin toss, there are two possible outcomes (heads or tails), so df = 2 - 1 = 1\n",
    "\n",
    "# Calculate the p-value\n",
    "p_value = 1 - stats.chi2.cdf(chi_square, df)\n",
    "\n",
    "# Set the significance level\n",
    "alpha = 0.05\n",
    "\n",
    "# Determine whether to reject the null hypothesis\n",
    "if p_value < alpha:\n",
    "    print(f\"Chi-square statistic: {chi_square}\")\n",
    "    print(f\"P-value: {p_value}\")\n",
    "    print(\"Reject the null hypothesis: The coin is biased towards tails.\")\n",
    "else:\n",
    "    print(f\"Chi-square statistic: {chi_square}\")\n",
    "    print(f\"P-value: {p_value}\")\n",
    "    print(\"Fail to reject the null hypothesis: The coin is not biased towards tails.\")\n"
   ]
  },
  {
   "cell_type": "markdown",
   "id": "5aae2208",
   "metadata": {},
   "source": [
    "### Q9. A study was conducted to determine if there is an association between smoking status (smoker or non-smoker) and lung cancer diagnosis (yes or no). The results are shown in the contingency table below. Conduct a chi-square test for independence to determine if there is a significant association between smoking status and lung cancer diagnosis."
   ]
  },
  {
   "cell_type": "code",
   "execution_count": 11,
   "id": "7ae5f7a8",
   "metadata": {},
   "outputs": [
    {
     "name": "stdout",
     "output_type": "stream",
     "text": [
      "Chi-square statistic: 12.06\n",
      "P-value: 0.0005\n",
      "Degrees of Freedom: 1\n",
      "Reject the null hypothesis: There is a significant association between the smoker and non-smoker.\n"
     ]
    }
   ],
   "source": [
    "import scipy.stats as stats\n",
    "\n",
    "# Create the contingency table\n",
    "observed_data = [[60, 140],\n",
    "                 [30, 170]]\n",
    "\n",
    "# Perform the chi-square test for independence\n",
    "chi2, p, dof, expected = stats.chi2_contingency(observed_data)\n",
    "\n",
    "# Define the significance level\n",
    "alpha = 0.05\n",
    "\n",
    "# Interpret the results\n",
    "print(f\"Chi-square statistic: {chi2:.2f}\")\n",
    "print(f\"P-value: {p:.4f}\")\n",
    "print(f\"Degrees of Freedom: {dof}\")\n",
    "\n",
    "if p < alpha:\n",
    "    print(\"Reject the null hypothesis: There is a significant association between the smoker and non-smoker.\")\n",
    "else:\n",
    "    print(\"Fail to reject the null hypothesis: There is no significant association between the smoker and non-smoker.\")"
   ]
  },
  {
   "cell_type": "markdown",
   "id": "4a12600b",
   "metadata": {},
   "source": [
    "### Q10. A study was conducted to determine if the proportion of people who prefer milk chocolate, dark chocolate, or white chocolate is different in the U.S. versus the U.K. A random sample of 500 people from the U.S. and a random sample of 500 people from the U.K. were surveyed. The results are shown in the contingency table below. Conduct a chi-square test for independence to determine if there is a significant association between chocolate preference and country of origin."
   ]
  },
  {
   "cell_type": "code",
   "execution_count": 13,
   "id": "975ba2ca",
   "metadata": {},
   "outputs": [
    {
     "name": "stdout",
     "output_type": "stream",
     "text": [
      "Chi-square statistic: 13.39\n",
      "P-value: 0.0012\n",
      "Degrees of Freedom: 2\n",
      "Reject the null hypothesis: There is a significant association between the U.S and U.K.\n"
     ]
    }
   ],
   "source": [
    "import scipy.stats as stats\n",
    "\n",
    "# Create the contingency table\n",
    "observed_data = [[200, 150, 150],\n",
    "                 [225, 175, 100]]\n",
    "\n",
    "# Perform the chi-square test for independence\n",
    "chi2, p, dof, expected = stats.chi2_contingency(observed_data)\n",
    "\n",
    "# Define the significance level\n",
    "alpha = 0.05\n",
    "\n",
    "# Interpret the results\n",
    "print(f\"Chi-square statistic: {chi2:.2f}\")\n",
    "print(f\"P-value: {p:.4f}\")\n",
    "print(f\"Degrees of Freedom: {dof}\")\n",
    "\n",
    "if p < alpha:\n",
    "    print(\"Reject the null hypothesis: There is a significant association between the U.S and U.K.\")\n",
    "else:\n",
    "    print(\"Fail to reject the null hypothesis: There is no significant association between the U.S and U.K.\")"
   ]
  },
  {
   "cell_type": "markdown",
   "id": "5b780790",
   "metadata": {},
   "source": [
    "### Q11. A random sample of 30 people was selected from a population with an unknown mean and standard deviation. The sample mean was found to be 72 and the sample standard deviation was found to be 10. Conduct a hypothesis test to determine if the population mean is significantly different from 70. Use a significance level of 0.05."
   ]
  },
  {
   "cell_type": "code",
   "execution_count": 14,
   "id": "6fbe4f8c",
   "metadata": {},
   "outputs": [
    {
     "name": "stdout",
     "output_type": "stream",
     "text": [
      "t-statistic: 1.0954451150103321\n",
      "P-value: 0.2823362372860698\n",
      "Fail to reject the null hypothesis: Population mean is not significantly different from 70.\n"
     ]
    }
   ],
   "source": [
    "import scipy.stats as stats\n",
    "\n",
    "# Sample statistics\n",
    "sample_mean = 72\n",
    "sample_stddev = 10\n",
    "sample_size = 30\n",
    "\n",
    "# Null hypothesis: Population mean is equal to 70\n",
    "# Alternative hypothesis: Population mean is not equal to 70\n",
    "\n",
    "# Significance level\n",
    "alpha = 0.05\n",
    "\n",
    "# Calculate the standard error of the mean (SEM)\n",
    "sem = sample_stddev / (sample_size**0.5)\n",
    "\n",
    "# Calculate the t-statistic\n",
    "t_statistic = (sample_mean - 70) / sem\n",
    "\n",
    "# Calculate the degrees of freedom\n",
    "df = sample_size - 1\n",
    "\n",
    "# Calculate the p-value for a two-tailed test\n",
    "p_value = 2 * (1 - stats.t.cdf(abs(t_statistic), df))\n",
    "\n",
    "# Determine whether to reject the null hypothesis\n",
    "if p_value < alpha:\n",
    "    print(f\"t-statistic: {t_statistic}\")\n",
    "    print(f\"P-value: {p_value}\")\n",
    "    print(\"Reject the null hypothesis: Population mean is significantly different from 70.\")\n",
    "else:\n",
    "    print(f\"t-statistic: {t_statistic}\")\n",
    "    print(f\"P-value: {p_value}\")\n",
    "    print(\"Fail to reject the null hypothesis: Population mean is not significantly different from 70.\")"
   ]
  }
 ],
 "metadata": {
  "kernelspec": {
   "display_name": "Python 3 (ipykernel)",
   "language": "python",
   "name": "python3"
  },
  "language_info": {
   "codemirror_mode": {
    "name": "ipython",
    "version": 3
   },
   "file_extension": ".py",
   "mimetype": "text/x-python",
   "name": "python",
   "nbconvert_exporter": "python",
   "pygments_lexer": "ipython3",
   "version": "3.9.13"
  }
 },
 "nbformat": 4,
 "nbformat_minor": 5
}
