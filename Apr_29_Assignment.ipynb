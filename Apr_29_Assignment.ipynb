{
 "cells": [
  {
   "cell_type": "markdown",
   "id": "86d5b441",
   "metadata": {},
   "source": [
    "### Q1. Explain the basic concept of clustering and give examples of applications where clustering is useful."
   ]
  },
  {
   "cell_type": "markdown",
   "id": "2e18d75a",
   "metadata": {},
   "source": [
    "Clustering is a machine learning technique that involves grouping similar data points together based on their features. The goal of clustering is to identify patterns in the data and group similar data points together. Clustering can be used in various applications such as market research, customer segmentation, biological data and medical imaging, search result clustering, recommendation engine, pattern recognition, social network analysis, image processing, etc. ¹²⁴\n",
    "\n",
    "For example, clustering can be used to segment customers based on their purchase history and preferences. This can help businesses to tailor their marketing strategies and product offerings to specific customer segments. Clustering can also be used in image processing to group similar images together based on their features. This can help in organizing large image datasets and identifying patterns in the data. ¹⁴"
   ]
  },
  {
   "cell_type": "markdown",
   "id": "4f53b094",
   "metadata": {},
   "source": [
    "### Q2. What is DBSCAN and how does it differ from other clustering algorithms such as k-means and hierarchical clustering?"
   ]
  },
  {
   "cell_type": "markdown",
   "id": "b807e0cd",
   "metadata": {},
   "source": [
    "**DBSCAN** stands for Density-Based Spatial Clustering of Applications with Noise. It is an unsupervised machine learning algorithm that groups together data points that are closely packed together based on their density. The algorithm is particularly useful when the data is not uniformly distributed and when the number of clusters is not known beforehand. DBSCAN has two important parameters: **epsilon** and **min_samples**. Epsilon defines the radius of the neighborhood around a data point, while min_samples specifies the minimum number of data points required to form a dense region ¹².\n",
    "\n",
    "DBSCAN differs from other clustering algorithms such as k-means and hierarchical clustering in several ways. Firstly, DBSCAN does not require the number of clusters to be specified beforehand, unlike k-means. Secondly, DBSCAN can identify clusters of arbitrary shapes and sizes, while k-means assumes that the clusters are spherical and have equal variances. Thirdly, DBSCAN can handle noise and outliers effectively by classifying them as noise points, while hierarchical clustering does not have a mechanism to handle noise points ⁶. "
   ]
  },
  {
   "cell_type": "markdown",
   "id": "ecaa5188",
   "metadata": {},
   "source": [
    "### Q3. How do you determine the optimal values for the epsilon and minimum points parameters in DBSCAN clustering?"
   ]
  },
  {
   "cell_type": "markdown",
   "id": "d8b15f8e",
   "metadata": {},
   "source": [
    "Determining the optimal values for the epsilon and minimum points parameters in DBSCAN clustering can be a challenging task. The epsilon parameter determines the maximum distance between two points for them to be considered part of the same cluster, while the minimum points parameter specifies the minimum number of points required to form a dense region. \n",
    "\n",
    "One way to determine the optimal values for these parameters is to use a k-distance graph. This involves plotting the distance to the k=MinPts-1 nearest neighbor from the largest to the smallest value. Good values of epsilon are where the plot shows an \"elbow\". If epsilon is too small, a large portion of the data will not be clustered. If epsilon is too high, clusters will merge, and most objects will be in the same cluster ¹³. \n",
    "\n",
    "To determine the optimal value for MinPts, a rule of thumb is to set it to be greater than or equal to the number of dimensions D in the data set, i.e., MinPts ≥ D + 1. A low value of MinPts, such as 1, is not meaningful because it results in each point forming its own cluster. If MinPts≤ 2, the result will be similar to hierarchical clustering with the single link metric, where the dendrogram is cut at height epsilon. Therefore, MinPts must be at least 3. However, larger values are usually better for data sets with noise as they lead to more significant clusters. A value of MinPts = 2·D is a good rule of thumb, but larger values may be necessary for large or noisy data sets or those containing many duplicates ¹³."
   ]
  },
  {
   "cell_type": "markdown",
   "id": "c9e69491",
   "metadata": {},
   "source": [
    "### Q4. How does DBSCAN clustering handle outliers in a dataset?"
   ]
  },
  {
   "cell_type": "markdown",
   "id": "a6027386",
   "metadata": {},
   "source": [
    "DBSCAN clustering algorithm is capable of handling outliers and noise points effectively. In DBSCAN, noise points are defined as data points that do not belong to any cluster. The algorithm identifies noise points by looking at the density of the data points. If a data point does not have enough neighbors within a specified radius, it is classified as a noise point ¹³.\n",
    "\n",
    "DBSCAN can also handle outliers effectively by classifying them as noise points. Outliers are data points that are far away from other data points and do not belong to any cluster. DBSCAN identifies outliers by looking at the density of the data points. If a data point does not have enough neighbors within a specified radius, it is classified as an outlier ¹³."
   ]
  },
  {
   "cell_type": "markdown",
   "id": "238a2e12",
   "metadata": {},
   "source": [
    "### Q5. How does DBSCAN clustering differ from k-means clustering?"
   ]
  },
  {
   "cell_type": "markdown",
   "id": "ce92844c",
   "metadata": {},
   "source": [
    "DBSCAN and k-means are two popular clustering algorithms in unsupervised machine learning. The main differences between the two algorithms are as follows:\n",
    "\n",
    "1. **Number of clusters**: DBSCAN does not require the number of clusters to be specified beforehand, unlike k-means. DBSCAN can identify clusters of arbitrary shapes and sizes, while k-means assumes that the clusters are spherical and have equal variances.\n",
    "\n",
    "2. **Handling noise**: DBSCAN can handle noise and outliers effectively by classifying them as noise points, while k-means does not have a mechanism to handle noise points.\n",
    "\n",
    "3. **Cluster shape**: DBSCAN can identify clusters of arbitrary shapes and sizes, while k-means assumes that the clusters are spherical and have equal variances.\n",
    "\n",
    "4. **Parameter selection**: DBSCAN requires the selection of two parameters: epsilon and min_samples, which can be challenging to determine. K-means requires the selection of the number of clusters, which can also be challenging to determine.\n",
    "\n",
    "5. **Computation time**: DBSCAN is computationally more expensive than k-means, especially for large datasets."
   ]
  },
  {
   "cell_type": "markdown",
   "id": "424094e4",
   "metadata": {},
   "source": [
    "### Q6. Can DBSCAN clustering be applied to datasets with high dimensional feature spaces? If so, what are some potential challenges?"
   ]
  },
  {
   "cell_type": "markdown",
   "id": "edb49511",
   "metadata": {},
   "source": [
    "DBSCAN clustering can be applied to datasets with high dimensional feature spaces, but it can be challenging to determine the optimal values for the epsilon and minimum points parameters. As the number of dimensions increases, the data becomes more sparse, and the notion of distance becomes less meaningful. This can lead to the \"curse of dimensionality,\" where the performance of clustering algorithms degrades as the number of dimensions increases ⁴⁵.\n",
    "\n",
    "One approach to dealing with high-dimensional data is to use dimensionality reduction techniques such as PCA or t-SNE to reduce the number of dimensions in the data. This can help in identifying patterns in the data and grouping similar data points together based on their features ¹³.\n",
    "\n",
    "Another approach is to use density-based clustering algorithms that are specifically designed for high-dimensional data, such as HDBSCAN and DENCLUE. These algorithms are capable of handling high-dimensional data and can identify clusters of arbitrary shapes and sizes ²⁶.\n",
    "\n",
    "In summary, DBSCAN clustering can be applied to datasets with high dimensional feature spaces, but it is important to choose appropriate values for the epsilon and minimum points parameters. Dimensionality reduction techniques and other density-based clustering algorithms can also be used to handle high-dimensional data."
   ]
  },
  {
   "cell_type": "markdown",
   "id": "938fc92a",
   "metadata": {},
   "source": [
    "### Q7. How does DBSCAN clustering handle clusters with varying densities?"
   ]
  },
  {
   "cell_type": "markdown",
   "id": "c0fcf8f9",
   "metadata": {},
   "source": [
    "DBSCAN clustering algorithm can handle clusters with varying densities effectively. In DBSCAN, clusters are defined as dense regions in the data space, separated by regions of lower density. The algorithm identifies clusters by looking at the density of the data points. The density of a cluster is defined as the number of data points within a specified radius (epsilon) ¹³.\n",
    "\n",
    "DBSCAN can handle clusters with varying densities by identifying dense regions in the data space and grouping together data points that belong to the same cluster. The algorithm can identify clusters of arbitrary shapes and sizes, which makes it suitable for datasets with varying densities ¹².\n",
    "\n",
    "In DBSCAN, the epsilon parameter determines the maximum distance between two points for them to be considered part of the same cluster. If epsilon is too small, a large portion of the data will not be clustered. If epsilon is too high, clusters will merge, and most objects will be in the same cluster ¹³. Therefore, choosing an appropriate value for epsilon is crucial for identifying clusters with varying densities."
   ]
  },
  {
   "cell_type": "markdown",
   "id": "3f77514d",
   "metadata": {},
   "source": [
    "### Q8. What are some common evaluation metrics used to assess the quality of DBSCAN clustering results?"
   ]
  },
  {
   "cell_type": "markdown",
   "id": "bf8757de",
   "metadata": {},
   "source": [
    "There are several evaluation metrics that can be used to assess the quality of DBSCAN clustering results. These metrics can be broadly classified into two categories: **internal** and **external** evaluation metrics ¹².\n",
    "\n",
    "**Internal evaluation metrics** are used when the ground truth labels for the data are not available. Some common internal evaluation metrics for DBSCAN clustering include:\n",
    "\n",
    "1. **Silhouette score**: This metric measures the similarity of a data point to its own cluster compared to other clusters. The score ranges from -1 to 1, where a score of 1 indicates that the data point is well-matched to its own cluster, and a score of -1 indicates that it is better matched to another cluster.\n",
    "\n",
    "2. **Davies-Bouldin index**: This metric measures the average similarity between each cluster and its most similar cluster. A lower value of this index indicates better clustering.\n",
    "\n",
    "3. **Calinski-Harabasz index**: This metric measures the ratio of between-cluster variance to within-cluster variance. A higher value of this index indicates better clustering.\n",
    "\n",
    "**External evaluation metrics** are used when the ground truth labels for the data are available. Some common external evaluation metrics for DBSCAN clustering include:\n",
    "\n",
    "1. **Adjusted Rand Index (ARI)**: This metric measures the similarity between the true labels and the predicted labels. The score ranges from -1 to 1, where a score of 1 indicates perfect agreement between the true and predicted labels.\n",
    "\n",
    "2. **Normalized Mutual Information (NMI)**: This metric measures the mutual information between the true labels and the predicted labels, normalized by the entropy of the true and predicted labels.\n",
    "\n",
    "3. **Fowlkes-Mallows index**: This metric measures the geometric mean of precision and recall between the true and predicted labels.\n",
    "\n",
    "It is important to note that there is no single best evaluation metric for DBSCAN clustering, and the choice of metric depends on the specific problem at hand ¹²."
   ]
  },
  {
   "cell_type": "markdown",
   "id": "0f1c8555",
   "metadata": {},
   "source": [
    "### Q9. Can DBSCAN clustering be used for semi-supervised learning tasks?"
   ]
  },
  {
   "cell_type": "markdown",
   "id": "a743c108",
   "metadata": {},
   "source": [
    "Yes, DBSCAN clustering can be used for semi-supervised learning tasks. In semi-supervised learning, a small amount of labeled data is available along with a large amount of unlabeled data. DBSCAN can be extended to semi-supervised learning by incorporating the labeled data into the clustering process. \n",
    "\n",
    "One approach to semi-supervised clustering with DBSCAN is to use constraints to guide the clustering process. Constraints can be used to specify which pairs of data points should be in the same cluster or different clusters. This approach is known as Constrained DBSCAN (Cons-DBSCAN) ⁴. Another approach is to use a density-based method that incorporates both labeled and unlabeled data, such as HDBSCAN* ¹.\n",
    "\n",
    "In summary, DBSCAN clustering can be extended to semi-supervised learning tasks by incorporating labeled data into the clustering process. There are several approaches to semi-supervised clustering with DBSCAN, including Cons-DBSCAN and HDBSCAN*."
   ]
  },
  {
   "cell_type": "markdown",
   "id": "fe8ba48d",
   "metadata": {},
   "source": [
    "### Q10. How does DBSCAN clustering handle datasets with noise or missing values?"
   ]
  },
  {
   "cell_type": "markdown",
   "id": "a0e3882e",
   "metadata": {},
   "source": [
    "DBSCAN clustering algorithm can handle datasets with noise and missing values effectively. In DBSCAN, noise points are defined as data points that do not belong to any cluster. The algorithm identifies noise points by looking at the density of the data points. If a data point does not have enough neighbors within a specified radius, it is classified as a noise point ¹³.\n",
    "\n",
    "DBSCAN can handle missing values by treating them as a separate category or by imputing them with the mean or median value of the feature. However, imputing missing values can lead to biased results and should be done with caution ¹².\n",
    "\n",
    "There are also several extensions of DBSCAN that are designed to handle missing values and noisy data more effectively. For example, DBSCANI is a noise-resistant method for missing value imputation that is built on density-based clustering ⁴. Another approach is to use a modified version of DBSCAN that incorporates constraints to guide the clustering process ⁵.\n",
    "\n",
    "In summary, DBSCAN clustering can handle datasets with noise and missing values effectively. There are several approaches to handling missing values and noisy data in DBSCAN, including treating them as a separate category, imputing them with the mean or median value of the feature, and using extensions of DBSCAN that are designed to handle missing values and noisy data more effectively."
   ]
  },
  {
   "cell_type": "markdown",
   "id": "b2b1d202",
   "metadata": {},
   "source": [
    "### Q11. Implement the DBSCAN algorithm using a python programming language, and apply it to a sample dataset. Discuss the clustering results and interpret the meaning of the obtained clusters."
   ]
  },
  {
   "cell_type": "code",
   "execution_count": 1,
   "id": "85325d70",
   "metadata": {},
   "outputs": [],
   "source": [
    "import numpy as np\n",
    "import matplotlib.pyplot as plt\n",
    "from sklearn.cluster import DBSCAN\n",
    "from sklearn.datasets import make_moons"
   ]
  },
  {
   "cell_type": "code",
   "execution_count": 2,
   "id": "01dbd0ba",
   "metadata": {},
   "outputs": [],
   "source": [
    "X, _ = make_moons(n_samples=200, noise=0.05)"
   ]
  },
  {
   "cell_type": "code",
   "execution_count": 3,
   "id": "e8c4daf7",
   "metadata": {},
   "outputs": [
    {
     "data": {
      "text/plain": [
       "array([[-2.77911999e-01,  9.18951790e-01],\n",
       "       [ 1.69650877e+00, -2.10266566e-01],\n",
       "       [-9.56353371e-01,  1.65312575e-01],\n",
       "       [ 1.57647831e+00, -3.41531311e-01],\n",
       "       [ 4.96553495e-01,  9.66773553e-01],\n",
       "       [-6.37791115e-02,  1.06587254e+00],\n",
       "       [ 7.27652897e-02,  6.43258700e-02],\n",
       "       [-1.02059757e+00,  9.48949513e-02],\n",
       "       [ 1.01701761e+00,  8.96376960e-02],\n",
       "       [-3.74907759e-01,  9.49706549e-01],\n",
       "       [-7.02409301e-02,  9.88661407e-01],\n",
       "       [ 2.00859238e+00,  3.66949120e-01],\n",
       "       [ 1.13868809e+00, -5.39786739e-01],\n",
       "       [ 3.82258740e-01, -2.45539946e-01],\n",
       "       [ 1.45824518e+00, -4.64028278e-01],\n",
       "       [ 6.09898276e-01, -3.81969542e-01],\n",
       "       [ 3.53484041e-01, -2.17405902e-01],\n",
       "       [ 3.23760988e-02,  4.67447672e-01],\n",
       "       [-9.64752435e-01,  4.02144050e-01],\n",
       "       [-7.83532419e-02,  4.10948826e-01],\n",
       "       [-4.75955333e-01,  8.42192253e-01],\n",
       "       [ 5.06727438e-02, -6.77959151e-03],\n",
       "       [-6.75105317e-01,  6.18482114e-01],\n",
       "       [ 9.27490244e-01,  4.35368784e-01],\n",
       "       [ 4.31647922e-01,  8.78245029e-01],\n",
       "       [-7.43622128e-01,  6.52944284e-01],\n",
       "       [-9.45252549e-01,  1.09219673e-01],\n",
       "       [-8.75730159e-01,  5.27041545e-01],\n",
       "       [ 1.96546337e+00,  9.56664350e-02],\n",
       "       [-7.12441292e-01,  7.43356681e-01],\n",
       "       [ 4.13681749e-01,  9.00671047e-01],\n",
       "       [ 4.99833786e-01,  8.66278507e-01],\n",
       "       [ 4.73103708e-02,  1.50289049e-01],\n",
       "       [ 8.46254838e-01,  4.95624952e-01],\n",
       "       [-8.74046272e-01,  2.95833115e-01],\n",
       "       [-6.36484148e-02,  1.04394382e+00],\n",
       "       [ 1.89620108e+00,  6.09944983e-02],\n",
       "       [ 2.05645620e-01,  9.25077425e-01],\n",
       "       [ 9.65504098e-01,  7.02690479e-02],\n",
       "       [ 1.12590898e+00, -5.88279746e-01],\n",
       "       [ 2.00408083e+00,  4.49300220e-01],\n",
       "       [ 5.04181530e-01,  8.89460262e-01],\n",
       "       [ 1.85242363e+00,  2.74171063e-01],\n",
       "       [ 1.92951878e+00,  1.80907975e-01],\n",
       "       [ 1.93829882e+00, -3.54527931e-02],\n",
       "       [ 4.37123813e-01, -2.68345401e-01],\n",
       "       [ 1.01243370e+00,  3.36318014e-01],\n",
       "       [ 7.75116278e-01,  6.52284463e-01],\n",
       "       [-6.66383066e-01,  7.05129723e-01],\n",
       "       [ 9.40178079e-01,  5.15721199e-01],\n",
       "       [ 1.66536899e+00, -2.85021118e-01],\n",
       "       [-8.93306652e-01,  3.61866604e-01],\n",
       "       [ 2.06865515e+00,  4.78845181e-01],\n",
       "       [ 2.02268941e+00,  3.94779389e-01],\n",
       "       [ 1.04317969e+00, -4.32073840e-01],\n",
       "       [ 8.28221486e-01, -4.52981653e-01],\n",
       "       [ 4.24102544e-01, -3.72351747e-01],\n",
       "       [ 1.84897659e+00, -3.07673252e-02],\n",
       "       [-1.54612393e-02,  2.94935050e-01],\n",
       "       [ 1.57615557e-02,  4.73992146e-01],\n",
       "       [ 1.87409771e+00, -4.28298012e-02],\n",
       "       [ 1.95315538e-01,  1.04071015e+00],\n",
       "       [ 1.91080493e+00,  2.48551245e-02],\n",
       "       [ 1.37699639e-01,  1.01024531e+00],\n",
       "       [-1.07833251e+00,  1.03494255e-01],\n",
       "       [-8.71599921e-01,  3.04929474e-01],\n",
       "       [ 1.46832405e+00, -3.92928365e-01],\n",
       "       [ 1.93050487e+00,  4.69568527e-03],\n",
       "       [ 1.39622858e+00, -4.50257692e-01],\n",
       "       [ 2.46978587e-02,  1.82725393e-01],\n",
       "       [ 5.64222487e-01, -3.13891596e-01],\n",
       "       [ 6.29677582e-01,  8.47513374e-01],\n",
       "       [ 7.46697618e-01,  6.19547616e-01],\n",
       "       [-3.71176632e-02,  1.87682985e-01],\n",
       "       [ 1.12573780e-01,  2.24361914e-01],\n",
       "       [-8.93376185e-01,  5.71028200e-01],\n",
       "       [-4.26846960e-01,  7.42772333e-01],\n",
       "       [ 2.01707228e+00,  4.39049271e-01],\n",
       "       [-2.18882846e-01,  1.00506857e+00],\n",
       "       [ 2.01165981e-01, -1.97527981e-01],\n",
       "       [ 1.59520982e+00, -1.95392695e-01],\n",
       "       [ 1.81230027e+00, -7.27514033e-02],\n",
       "       [-7.96282299e-02,  1.06586836e+00],\n",
       "       [ 3.20093326e-01,  9.35620564e-01],\n",
       "       [ 7.02256579e-01, -4.71282903e-01],\n",
       "       [-1.54356966e-02,  9.85031208e-01],\n",
       "       [ 8.19403150e-01, -4.77406797e-01],\n",
       "       [ 8.88069199e-01,  4.25963482e-01],\n",
       "       [ 5.38571478e-01,  9.77712229e-01],\n",
       "       [ 9.20214482e-01,  1.84886498e-01],\n",
       "       [ 1.40088528e+00, -4.29199471e-01],\n",
       "       [ 4.64678491e-01, -2.85049508e-01],\n",
       "       [ 6.38346618e-03,  3.64095165e-01],\n",
       "       [-5.42263599e-01,  7.52095123e-01],\n",
       "       [-1.05164731e+00,  1.23301737e-01],\n",
       "       [ 8.36953816e-01,  4.16130204e-01],\n",
       "       [-7.53350001e-02,  3.80001824e-01],\n",
       "       [ 4.92483590e-01, -3.79824530e-01],\n",
       "       [ 1.16012873e+00, -4.21689947e-01],\n",
       "       [-8.35819491e-01, -2.73735141e-02],\n",
       "       [ 7.99109766e-01,  5.14407846e-01],\n",
       "       [ 4.46931455e-01, -3.19380553e-01],\n",
       "       [-2.87255287e-01,  9.90921383e-01],\n",
       "       [ 1.01303442e+00, -5.15953018e-01],\n",
       "       [ 7.86674617e-01,  6.14694232e-01],\n",
       "       [ 3.03344062e-01, -2.06533266e-01],\n",
       "       [ 5.34390278e-02,  9.12430299e-01],\n",
       "       [ 1.52050906e+00, -4.71964627e-01],\n",
       "       [-2.58071251e-01,  1.06967413e+00],\n",
       "       [ 7.32334270e-01, -4.39683993e-01],\n",
       "       [ 6.93501051e-01, -3.66180547e-01],\n",
       "       [ 3.02619255e-01, -7.81132302e-03],\n",
       "       [ 9.86159746e-01,  3.46957996e-01],\n",
       "       [-6.56400509e-01,  8.07639210e-01],\n",
       "       [ 9.87984922e-01, -4.44302954e-01],\n",
       "       [-3.95393653e-01,  9.54056586e-01],\n",
       "       [ 6.02706194e-02,  2.21357978e-01],\n",
       "       [ 1.03783870e+00,  1.92327997e-01],\n",
       "       [-5.74703579e-01,  8.13490196e-01],\n",
       "       [-9.95858538e-01,  9.21833798e-02],\n",
       "       [ 1.81290728e+00,  2.32894954e-02],\n",
       "       [ 7.70450304e-01, -4.35674746e-01],\n",
       "       [ 2.03229768e-01,  9.90643951e-01],\n",
       "       [ 6.75606869e-02,  3.36351406e-04],\n",
       "       [ 2.23307042e-01, -5.24892207e-02],\n",
       "       [-5.30012508e-01,  7.32001340e-01],\n",
       "       [ 1.96467740e+00,  5.97971346e-02],\n",
       "       [ 6.20250058e-01, -4.04941938e-01],\n",
       "       [ 1.53711241e+00, -2.49687264e-01],\n",
       "       [ 9.26712800e-01,  3.85637258e-01],\n",
       "       [ 1.21145157e-01,  9.40505392e-01],\n",
       "       [ 9.54495632e-01, -1.03609828e-02],\n",
       "       [-1.05702262e+00,  1.21028577e-01],\n",
       "       [-8.83650124e-01,  5.07267674e-01],\n",
       "       [ 9.71505766e-01, -4.78697346e-01],\n",
       "       [-8.84077370e-01,  2.48609991e-01],\n",
       "       [ 1.99631079e-01,  9.98463039e-01],\n",
       "       [ 2.01957597e+00,  2.26220607e-01],\n",
       "       [ 9.72549306e-01,  3.28016962e-01],\n",
       "       [ 7.76132183e-01,  7.21290694e-01],\n",
       "       [ 2.04607709e+00,  2.76134853e-01],\n",
       "       [-4.10133588e-03,  4.72241603e-01],\n",
       "       [ 8.94193705e-01, -4.29719972e-01],\n",
       "       [ 2.30328209e-01,  9.87792296e-01],\n",
       "       [ 7.08390034e-01,  6.33912876e-01],\n",
       "       [-3.44733335e-02,  1.04537785e+00],\n",
       "       [ 1.28452442e+00, -4.86687759e-01],\n",
       "       [-7.58282060e-01,  7.18910601e-01],\n",
       "       [ 8.05629156e-01, -4.90430659e-01],\n",
       "       [ 6.13606565e-01, -3.19409831e-01],\n",
       "       [ 3.82344451e-01,  9.48434341e-01],\n",
       "       [-3.84268475e-01,  8.77100611e-01],\n",
       "       [ 1.26934402e+00, -5.18430495e-01],\n",
       "       [ 1.55431445e+00, -3.10651540e-01],\n",
       "       [ 2.23016181e-01, -1.46971392e-01],\n",
       "       [ 9.95421814e-01, -4.18796807e-01],\n",
       "       [ 8.59031455e-01,  3.91491548e-01],\n",
       "       [ 1.59345521e+00, -2.79896942e-01],\n",
       "       [ 1.77001838e+00, -1.17754205e-01],\n",
       "       [-9.56264230e-01,  3.32310063e-01],\n",
       "       [-9.10461208e-01,  6.19819222e-01],\n",
       "       [ 4.68447609e-01, -3.75660910e-01],\n",
       "       [-8.04696459e-01,  4.58554513e-01],\n",
       "       [ 6.59676295e-01,  8.19353297e-01],\n",
       "       [ 1.47733458e+00, -3.54508970e-01],\n",
       "       [-1.63811366e-01,  1.02814604e+00],\n",
       "       [-4.73258878e-01,  9.09899244e-01],\n",
       "       [ 9.69039603e-01,  1.92041398e-01],\n",
       "       [ 1.45556358e+00, -2.91363897e-01],\n",
       "       [ 1.96646469e+00,  4.27626392e-01],\n",
       "       [ 3.36269407e-01, -2.23120417e-01],\n",
       "       [-9.20297007e-01,  6.03968154e-01],\n",
       "       [-1.09728138e-02,  1.13094628e-01],\n",
       "       [-3.70362668e-01,  9.10465550e-01],\n",
       "       [ 9.32234497e-02, -7.50481682e-02],\n",
       "       [ 9.85122784e-01,  2.02906619e-01],\n",
       "       [ 2.04794904e+00,  3.36613217e-01],\n",
       "       [ 1.33936565e+00, -4.49302507e-01],\n",
       "       [ 4.06153255e-01, -3.58851462e-01],\n",
       "       [-7.24133314e-01,  6.23687111e-01],\n",
       "       [-5.75632909e-01,  8.07969374e-01],\n",
       "       [ 9.90119018e-01, -3.06827756e-02],\n",
       "       [-5.33929423e-01,  8.73927683e-01],\n",
       "       [ 1.16462485e-01, -1.21929175e-02],\n",
       "       [ 2.32165572e-01,  9.87412683e-01],\n",
       "       [ 9.22529916e-01,  4.87979493e-01],\n",
       "       [ 1.26637523e-01,  5.52116944e-02],\n",
       "       [ 1.02474647e+00, -5.58996860e-01],\n",
       "       [ 8.34334826e-02,  2.76251068e-01],\n",
       "       [ 6.42634386e-01,  8.52501006e-01],\n",
       "       [ 6.56796425e-01,  7.51342486e-01],\n",
       "       [-3.88575348e-01,  9.11139060e-01],\n",
       "       [-9.29783985e-01,  2.88623483e-01],\n",
       "       [ 9.23515684e-01, -4.97362611e-01],\n",
       "       [ 7.89958210e-01,  3.65893376e-01],\n",
       "       [ 6.88167698e-01,  6.96974109e-01],\n",
       "       [ 1.82309707e+00, -1.97945919e-01],\n",
       "       [ 1.73984291e+00, -7.04560443e-02],\n",
       "       [ 1.41273138e+00, -4.98205604e-01],\n",
       "       [ 1.80872927e+00,  2.03168543e-01]])"
      ]
     },
     "execution_count": 3,
     "metadata": {},
     "output_type": "execute_result"
    }
   ],
   "source": [
    "X"
   ]
  },
  {
   "cell_type": "code",
   "execution_count": 4,
   "id": "30bbb2b2",
   "metadata": {},
   "outputs": [],
   "source": [
    "dbscan = DBSCAN(eps=0.3, min_samples=5)\n",
    "dbscan.fit(X)\n",
    "labels = dbscan.labels_"
   ]
  },
  {
   "cell_type": "code",
   "execution_count": 7,
   "id": "1d10f302",
   "metadata": {},
   "outputs": [
    {
     "data": {
      "image/png": "[encoded data removed]",
      "text/plain": [
       "<Figure size 640x480 with 1 Axes>"
      ]
     },
     "metadata": {},
     "output_type": "display_data"
    }
   ],
   "source": [
    "plt.scatter(X[:,0],X[:,1], c=labels, cmap='viridis')\n",
    "plt.title('DBSCAN Clustering')\n",
    "plt.xlabel('Feature 1')\n",
    "plt.ylabel('Feature 2')\n",
    "plt.show()"
   ]
  }
 ],
 "metadata": {
  "kernelspec": {
   "display_name": "Python 3 (ipykernel)",
   "language": "python",
   "name": "python3"
  },
  "language_info": {
   "codemirror_mode": {
    "name": "ipython",
    "version": 3
   },
   "file_extension": ".py",
   "mimetype": "text/x-python",
   "name": "python",
   "nbconvert_exporter": "python",
   "pygments_lexer": "ipython3",
   "version": "3.9.13"
  }
 },
 "nbformat": 4,
 "nbformat_minor": 5
}
