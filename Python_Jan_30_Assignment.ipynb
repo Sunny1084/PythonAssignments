{
 "cells": [
  {
   "cell_type": "code",
   "execution_count": 6,
   "id": "86cff167",
   "metadata": {},
   "outputs": [
    {
     "name": "stdout",
     "output_type": "stream",
     "text": [
      "Enter your percentage : 82\n",
      "You secured grade B\n"
     ]
    }
   ],
   "source": [
    "# Q1 Calculate grades\n",
    "per = int(input(\"Enter your percentage : \"))\n",
    "if per > 90 :\n",
    "    print(\"You secured grade A\")\n",
    "elif per > 80 and per <=90:\n",
    "    print(\"You secured grade B\")\n",
    "elif per >= 60 and per <= 80:\n",
    "    print(\"You secured grade C\")\n",
    "else:\n",
    "    print(\"You secured grade D\")"
   ]
  },
  {
   "cell_type": "code",
   "execution_count": 9,
   "id": "5f7a99e9",
   "metadata": {},
   "outputs": [
    {
     "name": "stdout",
     "output_type": "stream",
     "text": [
      "Enter the price of Bike : 50000\n",
      "Tax to be paid 2500.0\n"
     ]
    }
   ],
   "source": [
    "# Q2 Calculate Tax percentage\n",
    "price = int(input(\"Enter the price of Bike : \"))\n",
    "if price > 100000:\n",
    "    print(f'Tax to be paid {price*(0.15)}')\n",
    "elif price > 50000 and price <= 100000:\n",
    "    print(f'Tax to be paid {price*(0.10)}')\n",
    "else:\n",
    "    print(f'Tax to be paid {price*(0.05)}')"
   ]
  },
  {
   "cell_type": "code",
   "execution_count": 12,
   "id": "dbfb00f6",
   "metadata": {},
   "outputs": [
    {
     "name": "stdout",
     "output_type": "stream",
     "text": [
      "Enter city nameDelhi\n",
      "Red Fort\n"
     ]
    }
   ],
   "source": [
    "# Q3 Give Monument of the selected city\n",
    "city = input(\"Enter city name\")\n",
    "if city in ['Delhi','Agar','Jaipur']:\n",
    "    if city == 'Delhi':\n",
    "        print('Red Fort')\n",
    "    elif city == 'Agar':\n",
    "        print('Taj Mahal')\n",
    "    else:\n",
    "        print('Jal Mahal')\n",
    "else:\n",
    "    print('Please type city Delhi,Agar,Jaipur')"
   ]
  },
  {
   "cell_type": "code",
   "execution_count": 4,
   "id": "17f3a029",
   "metadata": {},
   "outputs": [
    {
     "name": "stdout",
     "output_type": "stream",
     "text": [
      "Enter number : 10\n",
      "Please enter number greater than 10\n",
      "1\n"
     ]
    }
   ],
   "source": [
    "# Q4 Divide a number by 3 till it become less than or equal to 10. Find the count of division\n",
    "num = int(input('Enter number : '))\n",
    "count = 0\n",
    "while num >= 10:\n",
    "    num = num / 3\n",
    "    count += 1\n",
    "else:\n",
    "    print('Please enter number greater than 10')\n",
    "print(count)    "
   ]
  },
  {
   "cell_type": "code",
   "execution_count": 5,
   "id": "5a505f8b",
   "metadata": {},
   "outputs": [
    {
     "name": "stdout",
     "output_type": "stream",
     "text": [
      "1\n",
      "2\n",
      "3\n",
      "4\n",
      "5\n"
     ]
    }
   ],
   "source": [
    "# Q5 Why and when to use while loop in python give detailed description with example\n",
    "# Ans While loop is used to repeat a block of code. For example, if we want to show a message 100 times, then we can use \n",
    "# while loop. When we don't now where to stop than we use a condition and till this condition is true while loop will run.\n",
    "\n",
    "i = 1\n",
    "n = 5\n",
    "\n",
    "while i <= n:\n",
    "    print(i)\n",
    "    i += 1"
   ]
  },
  {
   "cell_type": "code",
   "execution_count": 12,
   "id": "11227b11",
   "metadata": {},
   "outputs": [
    {
     "name": "stdout",
     "output_type": "stream",
     "text": [
      "Enter a number : 4\n",
      "*\n",
      "**\n",
      "***\n",
      "****\n"
     ]
    }
   ],
   "source": [
    "# Q6 Print three pattern using while loop\n",
    "# First\n",
    "num = int(input(\"Enter a number : \"))\n",
    "i= 1\n",
    "while i <= num:\n",
    "    j = 1\n",
    "    while j <= i:\n",
    "        print('*',end=\"\")\n",
    "        j +=1\n",
    "    print('')\n",
    "    i += 1"
   ]
  },
  {
   "cell_type": "code",
   "execution_count": 16,
   "id": "bacccb29",
   "metadata": {},
   "outputs": [
    {
     "name": "stdout",
     "output_type": "stream",
     "text": [
      "Enter a number : 5\n",
      "*****\n",
      "****\n",
      "***\n",
      "**\n",
      "*\n"
     ]
    }
   ],
   "source": [
    "# Second \n",
    "num = int(input(\"Enter a number : \"))\n",
    "i = 1\n",
    "while i <= n :\n",
    "    j = n\n",
    "    while j >= i:\n",
    "        print(\"*\", end = \"\")\n",
    "        j -= 1\n",
    "    print()\n",
    "    i += 1 "
   ]
  },
  {
   "cell_type": "code",
   "execution_count": 20,
   "id": "b9502991",
   "metadata": {},
   "outputs": [
    {
     "name": "stdout",
     "output_type": "stream",
     "text": [
      "Enter a number : 5\n",
      "    *\n",
      "   ***\n",
      "  *****\n",
      " *******\n",
      "*********\n"
     ]
    }
   ],
   "source": [
    "# Third\n",
    "num = int(input(\"Enter a number : \"))\n",
    "i = 1 \n",
    "while i <= n:\n",
    "    j = n-1\n",
    "    while j >= i:\n",
    "        print(' ',end = '')\n",
    "        j -=1\n",
    "    k = 1\n",
    "    while k <= 2*i - 1 :\n",
    "        print('*',end = '')\n",
    "        k += 1\n",
    "    print()\n",
    "    i += 1"
   ]
  },
  {
   "cell_type": "code",
   "execution_count": 21,
   "id": "61b7e2c4",
   "metadata": {},
   "outputs": [
    {
     "name": "stdout",
     "output_type": "stream",
     "text": [
      "Enter a number : 10\n",
      "10\n",
      "9\n",
      "8\n",
      "7\n",
      "6\n",
      "5\n",
      "4\n",
      "3\n",
      "2\n",
      "1\n"
     ]
    }
   ],
   "source": [
    "# Q7 Reverse while loop to print number 10 to 1\n",
    "num = int(input(\"Enter a number : \"))\n",
    "while num > 0:\n",
    "    print(num)\n",
    "    num -= 1"
   ]
  },
  {
   "cell_type": "code",
   "execution_count": null,
   "id": "438ffd9b",
   "metadata": {},
   "outputs": [],
   "source": []
  }
 ],
 "metadata": {
  "kernelspec": {
   "display_name": "Python 3 (ipykernel)",
   "language": "python",
   "name": "python3"
  },
  "language_info": {
   "codemirror_mode": {
    "name": "ipython",
    "version": 3
   },
   "file_extension": ".py",
   "mimetype": "text/x-python",
   "name": "python",
   "nbconvert_exporter": "python",
   "pygments_lexer": "ipython3",
   "version": "3.9.13"
  }
 },
 "nbformat": 4,
 "nbformat_minor": 5
}
