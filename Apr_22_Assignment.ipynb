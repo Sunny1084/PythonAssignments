{
 "cells": [
  {
   "cell_type": "markdown",
   "id": "4ba522cb",
   "metadata": {},
   "source": [
    "### Q1. Write a Python code to implement the KNN classifier algorithm on load_iris dataset in sklearn.datasets."
   ]
  },
  {
   "cell_type": "code",
   "execution_count": 39,
   "id": "d581d1aa",
   "metadata": {},
   "outputs": [],
   "source": [
    "from sklearn.datasets import load_iris\n",
    "import numpy as np\n",
    "import pandas as pd"
   ]
  },
  {
   "cell_type": "code",
   "execution_count": 43,
   "id": "29c09d52",
   "metadata": {},
   "outputs": [
    {
     "name": "stdout",
     "output_type": "stream",
     "text": [
      ".. _iris_dataset:\n",
      "\n",
      "Iris plants dataset\n",
      "--------------------\n",
      "\n",
      "**Data Set Characteristics:**\n",
      "\n",
      "    :Number of Instances: 150 (50 in each of three classes)\n",
      "    :Number of Attributes: 4 numeric, predictive attributes and the class\n",
      "    :Attribute Information:\n",
      "        - sepal length in cm\n",
      "        - sepal width in cm\n",
      "        - petal length in cm\n",
      "        - petal width in cm\n",
      "        - class:\n",
      "                - Iris-Setosa\n",
      "                - Iris-Versicolour\n",
      "                - Iris-Virginica\n",
      "                \n",
      "    :Summary Statistics:\n",
      "\n",
      "    ============== ==== ==== ======= ===== ====================\n",
      "                    Min  Max   Mean    SD   Class Correlation\n",
      "    ============== ==== ==== ======= ===== ====================\n",
      "    sepal length:   4.3  7.9   5.84   0.83    0.7826\n",
      "    sepal width:    2.0  4.4   3.05   0.43   -0.4194\n",
      "    petal length:   1.0  6.9   3.76   1.76    0.9490  (high!)\n",
      "    petal width:    0.1  2.5   1.20   0.76    0.9565  (high!)\n",
      "    ============== ==== ==== ======= ===== ====================\n",
      "\n",
      "    :Missing Attribute Values: None\n",
      "    :Class Distribution: 33.3% for each of 3 classes.\n",
      "    :Creator: R.A. Fisher\n",
      "    :Donor: Michael Marshall (MARSHALL%PLU@io.arc.nasa.gov)\n",
      "    :Date: July, 1988\n",
      "\n",
      "The famous Iris database, first used by Sir R.A. Fisher. The dataset is taken\n",
      "from Fisher's paper. Note that it's the same as in R, but not as in the UCI\n",
      "Machine Learning Repository, which has two wrong data points.\n",
      "\n",
      "This is perhaps the best known database to be found in the\n",
      "pattern recognition literature.  Fisher's paper is a classic in the field and\n",
      "is referenced frequently to this day.  (See Duda & Hart, for example.)  The\n",
      "data set contains 3 classes of 50 instances each, where each class refers to a\n",
      "type of iris plant.  One class is linearly separable from the other 2; the\n",
      "latter are NOT linearly separable from each other.\n",
      "\n",
      ".. topic:: References\n",
      "\n",
      "   - Fisher, R.A. \"The use of multiple measurements in taxonomic problems\"\n",
      "     Annual Eugenics, 7, Part II, 179-188 (1936); also in \"Contributions to\n",
      "     Mathematical Statistics\" (John Wiley, NY, 1950).\n",
      "   - Duda, R.O., & Hart, P.E. (1973) Pattern Classification and Scene Analysis.\n",
      "     (Q327.D83) John Wiley & Sons.  ISBN 0-471-22361-1.  See page 218.\n",
      "   - Dasarathy, B.V. (1980) \"Nosing Around the Neighborhood: A New System\n",
      "     Structure and Classification Rule for Recognition in Partially Exposed\n",
      "     Environments\".  IEEE Transactions on Pattern Analysis and Machine\n",
      "     Intelligence, Vol. PAMI-2, No. 1, 67-71.\n",
      "   - Gates, G.W. (1972) \"The Reduced Nearest Neighbor Rule\".  IEEE Transactions\n",
      "     on Information Theory, May 1972, 431-433.\n",
      "   - See also: 1988 MLC Proceedings, 54-64.  Cheeseman et al\"s AUTOCLASS II\n",
      "     conceptual clustering system finds 3 classes in the data.\n",
      "   - Many, many more ...\n"
     ]
    }
   ],
   "source": [
    "dataset = load_iris()\n",
    "print(dataset.DESCR)"
   ]
  },
  {
   "cell_type": "code",
   "execution_count": 44,
   "id": "11f82c2e",
   "metadata": {},
   "outputs": [
    {
     "data": {
      "text/html": [
       "<div>\n",
       "<style scoped>\n",
       "    .dataframe tbody tr th:only-of-type {\n",
       "        vertical-align: middle;\n",
       "    }\n",
       "\n",
       "    .dataframe tbody tr th {\n",
       "        vertical-align: top;\n",
       "    }\n",
       "\n",
       "    .dataframe thead th {\n",
       "        text-align: right;\n",
       "    }\n",
       "</style>\n",
       "<table border=\"1\" class=\"dataframe\">\n",
       "  <thead>\n",
       "    <tr style=\"text-align: right;\">\n",
       "      <th></th>\n",
       "      <th>sepal length (cm)</th>\n",
       "      <th>sepal width (cm)</th>\n",
       "      <th>petal length (cm)</th>\n",
       "      <th>petal width (cm)</th>\n",
       "      <th>target</th>\n",
       "    </tr>\n",
       "  </thead>\n",
       "  <tbody>\n",
       "    <tr>\n",
       "      <th>0</th>\n",
       "      <td>5.1</td>\n",
       "      <td>3.5</td>\n",
       "      <td>1.4</td>\n",
       "      <td>0.2</td>\n",
       "      <td>0</td>\n",
       "    </tr>\n",
       "    <tr>\n",
       "      <th>1</th>\n",
       "      <td>4.9</td>\n",
       "      <td>3.0</td>\n",
       "      <td>1.4</td>\n",
       "      <td>0.2</td>\n",
       "      <td>0</td>\n",
       "    </tr>\n",
       "    <tr>\n",
       "      <th>2</th>\n",
       "      <td>4.7</td>\n",
       "      <td>3.2</td>\n",
       "      <td>1.3</td>\n",
       "      <td>0.2</td>\n",
       "      <td>0</td>\n",
       "    </tr>\n",
       "    <tr>\n",
       "      <th>3</th>\n",
       "      <td>4.6</td>\n",
       "      <td>3.1</td>\n",
       "      <td>1.5</td>\n",
       "      <td>0.2</td>\n",
       "      <td>0</td>\n",
       "    </tr>\n",
       "    <tr>\n",
       "      <th>4</th>\n",
       "      <td>5.0</td>\n",
       "      <td>3.6</td>\n",
       "      <td>1.4</td>\n",
       "      <td>0.2</td>\n",
       "      <td>0</td>\n",
       "    </tr>\n",
       "  </tbody>\n",
       "</table>\n",
       "</div>"
      ],
      "text/plain": [
       "   sepal length (cm)  sepal width (cm)  petal length (cm)  petal width (cm)  \\\n",
       "0                5.1               3.5                1.4               0.2   \n",
       "1                4.9               3.0                1.4               0.2   \n",
       "2                4.7               3.2                1.3               0.2   \n",
       "3                4.6               3.1                1.5               0.2   \n",
       "4                5.0               3.6                1.4               0.2   \n",
       "\n",
       "   target  \n",
       "0       0  \n",
       "1       0  \n",
       "2       0  \n",
       "3       0  \n",
       "4       0  "
      ]
     },
     "execution_count": 44,
     "metadata": {},
     "output_type": "execute_result"
    }
   ],
   "source": [
    "df_iris = pd.DataFrame(data=dataset.data, columns=dataset.feature_names)\n",
    "df_iris['target'] = dataset.target\n",
    "df_iris.head()"
   ]
  },
  {
   "cell_type": "code",
   "execution_count": 45,
   "id": "7f32c449",
   "metadata": {},
   "outputs": [],
   "source": [
    "X = df_iris.drop('target', axis=1)\n",
    "y = df_iris['target']"
   ]
  },
  {
   "cell_type": "code",
   "execution_count": 46,
   "id": "2e6f6bf9",
   "metadata": {},
   "outputs": [],
   "source": [
    "from sklearn.model_selection import train_test_split"
   ]
  },
  {
   "cell_type": "code",
   "execution_count": 47,
   "id": "e84e915c",
   "metadata": {},
   "outputs": [],
   "source": [
    "X_train, X_test, y_train, y_test = train_test_split(X, y, test_size=0.30, random_state=42)"
   ]
  },
  {
   "cell_type": "code",
   "execution_count": 48,
   "id": "b9c2eedb",
   "metadata": {},
   "outputs": [],
   "source": [
    "from sklearn.neighbors import KNeighborsClassifier\n",
    "from sklearn.metrics import accuracy_score"
   ]
  },
  {
   "cell_type": "code",
   "execution_count": 49,
   "id": "dc08eaaa",
   "metadata": {},
   "outputs": [
    {
     "name": "stdout",
     "output_type": "stream",
     "text": [
      "Accuracy Score  1.0\n"
     ]
    }
   ],
   "source": [
    "clf = KNeighborsClassifier()\n",
    "clf.fit(X_train, y_train)\n",
    "y_pred = clf.predict(X_test)\n",
    "print(\"Accuracy Score \", accuracy_score(y_test, y_pred))"
   ]
  },
  {
   "cell_type": "markdown",
   "id": "a88319e8",
   "metadata": {},
   "source": [
    "### Q2. Write a Python code to implement the KNN regressor algorithm on load_boston dataset in sklearn.datasets."
   ]
  },
  {
   "cell_type": "code",
   "execution_count": 50,
   "id": "51c03dec",
   "metadata": {},
   "outputs": [],
   "source": [
    "from sklearn.datasets import load_boston"
   ]
  },
  {
   "cell_type": "code",
   "execution_count": 52,
   "id": "16c89b89",
   "metadata": {},
   "outputs": [],
   "source": [
    "import warnings\n",
    "warnings.filterwarnings(\"ignore\")"
   ]
  },
  {
   "cell_type": "code",
   "execution_count": 53,
   "id": "efe09114",
   "metadata": {},
   "outputs": [],
   "source": [
    "dataset = load_boston()"
   ]
  },
  {
   "cell_type": "code",
   "execution_count": 54,
   "id": "96122f97",
   "metadata": {},
   "outputs": [
    {
     "name": "stdout",
     "output_type": "stream",
     "text": [
      ".. _boston_dataset:\n",
      "\n",
      "Boston house prices dataset\n",
      "---------------------------\n",
      "\n",
      "**Data Set Characteristics:**  \n",
      "\n",
      "    :Number of Instances: 506 \n",
      "\n",
      "    :Number of Attributes: 13 numeric/categorical predictive. Median Value (attribute 14) is usually the target.\n",
      "\n",
      "    :Attribute Information (in order):\n",
      "        - CRIM     per capita crime rate by town\n",
      "        - ZN       proportion of residential land zoned for lots over 25,000 sq.ft.\n",
      "        - INDUS    proportion of non-retail business acres per town\n",
      "        - CHAS     Charles River dummy variable (= 1 if tract bounds river; 0 otherwise)\n",
      "        - NOX      nitric oxides concentration (parts per 10 million)\n",
      "        - RM       average number of rooms per dwelling\n",
      "        - AGE      proportion of owner-occupied units built prior to 1940\n",
      "        - DIS      weighted distances to five Boston employment centres\n",
      "        - RAD      index of accessibility to radial highways\n",
      "        - TAX      full-value property-tax rate per $10,000\n",
      "        - PTRATIO  pupil-teacher ratio by town\n",
      "        - B        1000(Bk - 0.63)^2 where Bk is the proportion of black people by town\n",
      "        - LSTAT    % lower status of the population\n",
      "        - MEDV     Median value of owner-occupied homes in $1000's\n",
      "\n",
      "    :Missing Attribute Values: None\n",
      "\n",
      "    :Creator: Harrison, D. and Rubinfeld, D.L.\n",
      "\n",
      "This is a copy of UCI ML housing dataset.\n",
      "https://archive.ics.uci.edu/ml/machine-learning-databases/housing/\n",
      "\n",
      "\n",
      "This dataset was taken from the StatLib library which is maintained at Carnegie Mellon University.\n",
      "\n",
      "The Boston house-price data of Harrison, D. and Rubinfeld, D.L. 'Hedonic\n",
      "prices and the demand for clean air', J. Environ. Economics & Management,\n",
      "vol.5, 81-102, 1978.   Used in Belsley, Kuh & Welsch, 'Regression diagnostics\n",
      "...', Wiley, 1980.   N.B. Various transformations are used in the table on\n",
      "pages 244-261 of the latter.\n",
      "\n",
      "The Boston house-price data has been used in many machine learning papers that address regression\n",
      "problems.   \n",
      "     \n",
      ".. topic:: References\n",
      "\n",
      "   - Belsley, Kuh & Welsch, 'Regression diagnostics: Identifying Influential Data and Sources of Collinearity', Wiley, 1980. 244-261.\n",
      "   - Quinlan,R. (1993). Combining Instance-Based and Model-Based Learning. In Proceedings on the Tenth International Conference of Machine Learning, 236-243, University of Massachusetts, Amherst. Morgan Kaufmann.\n",
      "\n"
     ]
    }
   ],
   "source": [
    "print(dataset.DESCR)"
   ]
  },
  {
   "cell_type": "code",
   "execution_count": 55,
   "id": "da23f41f",
   "metadata": {},
   "outputs": [
    {
     "data": {
      "text/html": [
       "<div>\n",
       "<style scoped>\n",
       "    .dataframe tbody tr th:only-of-type {\n",
       "        vertical-align: middle;\n",
       "    }\n",
       "\n",
       "    .dataframe tbody tr th {\n",
       "        vertical-align: top;\n",
       "    }\n",
       "\n",
       "    .dataframe thead th {\n",
       "        text-align: right;\n",
       "    }\n",
       "</style>\n",
       "<table border=\"1\" class=\"dataframe\">\n",
       "  <thead>\n",
       "    <tr style=\"text-align: right;\">\n",
       "      <th></th>\n",
       "      <th>CRIM</th>\n",
       "      <th>ZN</th>\n",
       "      <th>INDUS</th>\n",
       "      <th>CHAS</th>\n",
       "      <th>NOX</th>\n",
       "      <th>RM</th>\n",
       "      <th>AGE</th>\n",
       "      <th>DIS</th>\n",
       "      <th>RAD</th>\n",
       "      <th>TAX</th>\n",
       "      <th>PTRATIO</th>\n",
       "      <th>B</th>\n",
       "      <th>LSTAT</th>\n",
       "      <th>target</th>\n",
       "    </tr>\n",
       "  </thead>\n",
       "  <tbody>\n",
       "    <tr>\n",
       "      <th>0</th>\n",
       "      <td>0.00632</td>\n",
       "      <td>18.0</td>\n",
       "      <td>2.31</td>\n",
       "      <td>0.0</td>\n",
       "      <td>0.538</td>\n",
       "      <td>6.575</td>\n",
       "      <td>65.2</td>\n",
       "      <td>4.0900</td>\n",
       "      <td>1.0</td>\n",
       "      <td>296.0</td>\n",
       "      <td>15.3</td>\n",
       "      <td>396.90</td>\n",
       "      <td>4.98</td>\n",
       "      <td>24.0</td>\n",
       "    </tr>\n",
       "    <tr>\n",
       "      <th>1</th>\n",
       "      <td>0.02731</td>\n",
       "      <td>0.0</td>\n",
       "      <td>7.07</td>\n",
       "      <td>0.0</td>\n",
       "      <td>0.469</td>\n",
       "      <td>6.421</td>\n",
       "      <td>78.9</td>\n",
       "      <td>4.9671</td>\n",
       "      <td>2.0</td>\n",
       "      <td>242.0</td>\n",
       "      <td>17.8</td>\n",
       "      <td>396.90</td>\n",
       "      <td>9.14</td>\n",
       "      <td>21.6</td>\n",
       "    </tr>\n",
       "    <tr>\n",
       "      <th>2</th>\n",
       "      <td>0.02729</td>\n",
       "      <td>0.0</td>\n",
       "      <td>7.07</td>\n",
       "      <td>0.0</td>\n",
       "      <td>0.469</td>\n",
       "      <td>7.185</td>\n",
       "      <td>61.1</td>\n",
       "      <td>4.9671</td>\n",
       "      <td>2.0</td>\n",
       "      <td>242.0</td>\n",
       "      <td>17.8</td>\n",
       "      <td>392.83</td>\n",
       "      <td>4.03</td>\n",
       "      <td>34.7</td>\n",
       "    </tr>\n",
       "    <tr>\n",
       "      <th>3</th>\n",
       "      <td>0.03237</td>\n",
       "      <td>0.0</td>\n",
       "      <td>2.18</td>\n",
       "      <td>0.0</td>\n",
       "      <td>0.458</td>\n",
       "      <td>6.998</td>\n",
       "      <td>45.8</td>\n",
       "      <td>6.0622</td>\n",
       "      <td>3.0</td>\n",
       "      <td>222.0</td>\n",
       "      <td>18.7</td>\n",
       "      <td>394.63</td>\n",
       "      <td>2.94</td>\n",
       "      <td>33.4</td>\n",
       "    </tr>\n",
       "    <tr>\n",
       "      <th>4</th>\n",
       "      <td>0.06905</td>\n",
       "      <td>0.0</td>\n",
       "      <td>2.18</td>\n",
       "      <td>0.0</td>\n",
       "      <td>0.458</td>\n",
       "      <td>7.147</td>\n",
       "      <td>54.2</td>\n",
       "      <td>6.0622</td>\n",
       "      <td>3.0</td>\n",
       "      <td>222.0</td>\n",
       "      <td>18.7</td>\n",
       "      <td>396.90</td>\n",
       "      <td>5.33</td>\n",
       "      <td>36.2</td>\n",
       "    </tr>\n",
       "  </tbody>\n",
       "</table>\n",
       "</div>"
      ],
      "text/plain": [
       "      CRIM    ZN  INDUS  CHAS    NOX     RM   AGE     DIS  RAD    TAX  \\\n",
       "0  0.00632  18.0   2.31   0.0  0.538  6.575  65.2  4.0900  1.0  296.0   \n",
       "1  0.02731   0.0   7.07   0.0  0.469  6.421  78.9  4.9671  2.0  242.0   \n",
       "2  0.02729   0.0   7.07   0.0  0.469  7.185  61.1  4.9671  2.0  242.0   \n",
       "3  0.03237   0.0   2.18   0.0  0.458  6.998  45.8  6.0622  3.0  222.0   \n",
       "4  0.06905   0.0   2.18   0.0  0.458  7.147  54.2  6.0622  3.0  222.0   \n",
       "\n",
       "   PTRATIO       B  LSTAT  target  \n",
       "0     15.3  396.90   4.98    24.0  \n",
       "1     17.8  396.90   9.14    21.6  \n",
       "2     17.8  392.83   4.03    34.7  \n",
       "3     18.7  394.63   2.94    33.4  \n",
       "4     18.7  396.90   5.33    36.2  "
      ]
     },
     "execution_count": 55,
     "metadata": {},
     "output_type": "execute_result"
    }
   ],
   "source": [
    "df_boston = pd.DataFrame(data=dataset.data, columns=dataset.feature_names)\n",
    "df_boston['target'] = dataset.target\n",
    "df_boston.head()"
   ]
  },
  {
   "cell_type": "code",
   "execution_count": 56,
   "id": "7d45f2da",
   "metadata": {},
   "outputs": [],
   "source": [
    "X = df_boston.drop('target', axis=1)\n",
    "y = df_boston['target']"
   ]
  },
  {
   "cell_type": "code",
   "execution_count": 57,
   "id": "e9ad03a3",
   "metadata": {},
   "outputs": [],
   "source": [
    "X_train, X_test, y_train, y_test = train_test_split(X, y, test_size=0.30, random_state=42)"
   ]
  },
  {
   "cell_type": "code",
   "execution_count": 58,
   "id": "4df6e0cd",
   "metadata": {},
   "outputs": [],
   "source": [
    "from sklearn.neighbors import KNeighborsRegressor\n",
    "from sklearn.metrics import r2_score"
   ]
  },
  {
   "cell_type": "code",
   "execution_count": 59,
   "id": "c3595791",
   "metadata": {},
   "outputs": [
    {
     "name": "stdout",
     "output_type": "stream",
     "text": [
      "0.5846965270656936\n"
     ]
    }
   ],
   "source": [
    "reg = KNeighborsRegressor()\n",
    "reg.fit(X_train, y_train)\n",
    "y_pred = reg.predict(X_test)\n",
    "print(r2_score(y_test, y_pred))"
   ]
  },
  {
   "cell_type": "markdown",
   "id": "409741f8",
   "metadata": {},
   "source": [
    "### Q3. Write a Python code snippet to find the optimal value of K for the KNN classifier algorithm using cross-validation on load_iris dataset in sklearn.datasets."
   ]
  },
  {
   "cell_type": "code",
   "execution_count": 60,
   "id": "dc8e4d11",
   "metadata": {},
   "outputs": [],
   "source": [
    "X = df_iris.drop('target', axis=1)\n",
    "y = df_iris['target']\n",
    "X_train, X_test, y_train, y_test = train_test_split(X, y, test_size=0.30, random_state=42)"
   ]
  },
  {
   "cell_type": "code",
   "execution_count": 62,
   "id": "156f4c36",
   "metadata": {},
   "outputs": [],
   "source": [
    "parameter = {\n",
    "    \n",
    "    'n_neighbors':[1,2,3,4,5,6,7,8,9,10]\n",
    "}"
   ]
  },
  {
   "cell_type": "code",
   "execution_count": 63,
   "id": "dc06ee4a",
   "metadata": {},
   "outputs": [],
   "source": [
    "from sklearn.model_selection import GridSearchCV"
   ]
  },
  {
   "cell_type": "code",
   "execution_count": 64,
   "id": "f6950772",
   "metadata": {},
   "outputs": [
    {
     "name": "stdout",
     "output_type": "stream",
     "text": [
      "Fitting 5 folds for each of 10 candidates, totalling 50 fits\n",
      "[CV 1/5] END .....................n_neighbors=1;, score=0.952 total time=   0.0s\n",
      "[CV 2/5] END .....................n_neighbors=1;, score=0.952 total time=   0.0s\n",
      "[CV 3/5] END .....................n_neighbors=1;, score=0.905 total time=   0.0s\n",
      "[CV 4/5] END .....................n_neighbors=1;, score=1.000 total time=   0.0s\n",
      "[CV 5/5] END .....................n_neighbors=1;, score=0.952 total time=   0.0s\n",
      "[CV 1/5] END .....................n_neighbors=2;, score=0.905 total time=   0.0s\n",
      "[CV 2/5] END .....................n_neighbors=2;, score=0.905 total time=   0.0s\n",
      "[CV 3/5] END .....................n_neighbors=2;, score=0.905 total time=   0.0s\n",
      "[CV 4/5] END .....................n_neighbors=2;, score=1.000 total time=   0.0s\n",
      "[CV 5/5] END .....................n_neighbors=2;, score=0.952 total time=   0.0s\n",
      "[CV 1/5] END .....................n_neighbors=3;, score=0.905 total time=   0.0s\n",
      "[CV 2/5] END .....................n_neighbors=3;, score=0.905 total time=   0.0s\n",
      "[CV 3/5] END .....................n_neighbors=3;, score=0.905 total time=   0.0s\n",
      "[CV 4/5] END .....................n_neighbors=3;, score=1.000 total time=   0.0s\n",
      "[CV 5/5] END .....................n_neighbors=3;, score=0.952 total time=   0.0s\n",
      "[CV 1/5] END .....................n_neighbors=4;, score=0.905 total time=   0.0s\n",
      "[CV 2/5] END .....................n_neighbors=4;, score=0.952 total time=   0.0s\n",
      "[CV 3/5] END .....................n_neighbors=4;, score=0.905 total time=   0.0s\n",
      "[CV 4/5] END .....................n_neighbors=4;, score=1.000 total time=   0.0s\n",
      "[CV 5/5] END .....................n_neighbors=4;, score=0.905 total time=   0.0s\n",
      "[CV 1/5] END .....................n_neighbors=5;, score=0.952 total time=   0.0s\n",
      "[CV 2/5] END .....................n_neighbors=5;, score=0.905 total time=   0.0s\n",
      "[CV 3/5] END .....................n_neighbors=5;, score=0.905 total time=   0.0s\n",
      "[CV 4/5] END .....................n_neighbors=5;, score=1.000 total time=   0.0s\n",
      "[CV 5/5] END .....................n_neighbors=5;, score=0.952 total time=   0.0s\n",
      "[CV 1/5] END .....................n_neighbors=6;, score=0.905 total time=   0.0s\n",
      "[CV 2/5] END .....................n_neighbors=6;, score=0.905 total time=   0.0s\n",
      "[CV 3/5] END .....................n_neighbors=6;, score=0.952 total time=   0.0s\n",
      "[CV 4/5] END .....................n_neighbors=6;, score=1.000 total time=   0.0s\n",
      "[CV 5/5] END .....................n_neighbors=6;, score=0.952 total time=   0.0s\n",
      "[CV 1/5] END .....................n_neighbors=7;, score=0.952 total time=   0.0s\n",
      "[CV 2/5] END .....................n_neighbors=7;, score=0.952 total time=   0.0s\n",
      "[CV 3/5] END .....................n_neighbors=7;, score=0.905 total time=   0.0s\n",
      "[CV 4/5] END .....................n_neighbors=7;, score=1.000 total time=   0.0s\n",
      "[CV 5/5] END .....................n_neighbors=7;, score=0.952 total time=   0.0s\n",
      "[CV 1/5] END .....................n_neighbors=8;, score=0.905 total time=   0.0s\n",
      "[CV 2/5] END .....................n_neighbors=8;, score=0.952 total time=   0.0s\n",
      "[CV 3/5] END .....................n_neighbors=8;, score=0.952 total time=   0.0s\n",
      "[CV 4/5] END .....................n_neighbors=8;, score=1.000 total time=   0.0s\n",
      "[CV 5/5] END .....................n_neighbors=8;, score=0.952 total time=   0.0s\n",
      "[CV 1/5] END .....................n_neighbors=9;, score=0.905 total time=   0.0s\n",
      "[CV 2/5] END .....................n_neighbors=9;, score=0.952 total time=   0.0s\n",
      "[CV 3/5] END .....................n_neighbors=9;, score=0.905 total time=   0.0s\n",
      "[CV 4/5] END .....................n_neighbors=9;, score=1.000 total time=   0.0s\n",
      "[CV 5/5] END .....................n_neighbors=9;, score=0.952 total time=   0.0s\n",
      "[CV 1/5] END ....................n_neighbors=10;, score=0.905 total time=   0.0s\n",
      "[CV 2/5] END ....................n_neighbors=10;, score=0.905 total time=   0.0s\n",
      "[CV 3/5] END ....................n_neighbors=10;, score=0.905 total time=   0.0s\n",
      "[CV 4/5] END ....................n_neighbors=10;, score=1.000 total time=   0.0s\n",
      "[CV 5/5] END ....................n_neighbors=10;, score=0.952 total time=   0.0s\n"
     ]
    },
    {
     "data": {
      "text/plain": [
       "GridSearchCV(cv=5, estimator=KNeighborsClassifier(),\n",
       "             param_grid={'n_neighbors': [1, 2, 3, 4, 5, 6, 7, 8, 9, 10]},\n",
       "             verbose=3)"
      ]
     },
     "execution_count": 64,
     "metadata": {},
     "output_type": "execute_result"
    }
   ],
   "source": [
    "cv_clf = GridSearchCV(KNeighborsClassifier(), param_grid=parameter, cv=5, verbose=3)\n",
    "cv_clf.fit(X_train, y_train)"
   ]
  },
  {
   "cell_type": "code",
   "execution_count": 65,
   "id": "17cbefd1",
   "metadata": {},
   "outputs": [
    {
     "data": {
      "text/plain": [
       "{'n_neighbors': 1}"
      ]
     },
     "execution_count": 65,
     "metadata": {},
     "output_type": "execute_result"
    }
   ],
   "source": [
    "cv_clf.best_params_"
   ]
  },
  {
   "cell_type": "markdown",
   "id": "12c48aa7",
   "metadata": {},
   "source": [
    "### Q4. Implement the KNN regressor algorithm with feature scaling on load_boston dataset in sklearn.datasets."
   ]
  },
  {
   "cell_type": "code",
   "execution_count": 66,
   "id": "efcb34f8",
   "metadata": {},
   "outputs": [],
   "source": [
    "X = df_boston.drop('target', axis=1)\n",
    "y = df_boston['target']\n",
    "X_train, X_test, y_train, y_test = train_test_split(X, y, test_size=0.30, random_state=42)"
   ]
  },
  {
   "cell_type": "code",
   "execution_count": 67,
   "id": "ce360ed0",
   "metadata": {},
   "outputs": [],
   "source": [
    "from sklearn.preprocessing import StandardScaler"
   ]
  },
  {
   "cell_type": "code",
   "execution_count": 68,
   "id": "a21b8003",
   "metadata": {},
   "outputs": [],
   "source": [
    "scaler = StandardScaler()\n",
    "scaled_X_train = scaler.fit_transform(X_train)\n",
    "scaled_X_test = scaler.transform(X_test)"
   ]
  },
  {
   "cell_type": "code",
   "execution_count": 69,
   "id": "28bb46c4",
   "metadata": {},
   "outputs": [
    {
     "name": "stdout",
     "output_type": "stream",
     "text": [
      "0.7472251108326438\n"
     ]
    }
   ],
   "source": [
    "reg = KNeighborsRegressor()\n",
    "reg.fit(scaled_X_train, y_train)\n",
    "y_pred = reg.predict(scaled_X_test)\n",
    "print(r2_score(y_test, y_pred))"
   ]
  },
  {
   "cell_type": "markdown",
   "id": "b381f8fc",
   "metadata": {},
   "source": [
    "### Q5. Write a Python code snippet to implement the KNN classifier algorithm with weighted voting on load_iris dataset in sklearn.datasets."
   ]
  },
  {
   "cell_type": "code",
   "execution_count": 70,
   "id": "745f22f4",
   "metadata": {},
   "outputs": [],
   "source": [
    "X = df_iris.drop('target', axis=1)\n",
    "y = df_iris['target']\n",
    "X_train, X_test, y_train, y_test = train_test_split(X, y, test_size=0.30, random_state=42)"
   ]
  },
  {
   "cell_type": "code",
   "execution_count": 74,
   "id": "d23a4df9",
   "metadata": {},
   "outputs": [],
   "source": [
    "parameter = {\n",
    "    'n_neighbors':[1,2,3,4,5,6,7,8,9,10],\n",
    "    'weights':['uniform', 'distance']\n",
    "}"
   ]
  },
  {
   "cell_type": "code",
   "execution_count": 75,
   "id": "4fc06c83",
   "metadata": {},
   "outputs": [
    {
     "name": "stdout",
     "output_type": "stream",
     "text": [
      "Fitting 5 folds for each of 20 candidates, totalling 100 fits\n",
      "[CV 1/5] END ....n_neighbors=1, weights=uniform;, score=0.952 total time=   0.0s\n",
      "[CV 2/5] END ....n_neighbors=1, weights=uniform;, score=0.952 total time=   0.0s\n",
      "[CV 3/5] END ....n_neighbors=1, weights=uniform;, score=0.905 total time=   0.0s\n",
      "[CV 4/5] END ....n_neighbors=1, weights=uniform;, score=1.000 total time=   0.0s\n",
      "[CV 5/5] END ....n_neighbors=1, weights=uniform;, score=0.952 total time=   0.0s\n",
      "[CV 1/5] END ...n_neighbors=1, weights=distance;, score=0.952 total time=   0.0s\n",
      "[CV 2/5] END ...n_neighbors=1, weights=distance;, score=0.952 total time=   0.0s\n",
      "[CV 3/5] END ...n_neighbors=1, weights=distance;, score=0.905 total time=   0.0s\n",
      "[CV 4/5] END ...n_neighbors=1, weights=distance;, score=1.000 total time=   0.0s\n",
      "[CV 5/5] END ...n_neighbors=1, weights=distance;, score=0.952 total time=   0.0s\n",
      "[CV 1/5] END ....n_neighbors=2, weights=uniform;, score=0.905 total time=   0.0s\n",
      "[CV 2/5] END ....n_neighbors=2, weights=uniform;, score=0.905 total time=   0.0s\n",
      "[CV 3/5] END ....n_neighbors=2, weights=uniform;, score=0.905 total time=   0.0s\n",
      "[CV 4/5] END ....n_neighbors=2, weights=uniform;, score=1.000 total time=   0.0s\n",
      "[CV 5/5] END ....n_neighbors=2, weights=uniform;, score=0.952 total time=   0.0s\n",
      "[CV 1/5] END ...n_neighbors=2, weights=distance;, score=0.952 total time=   0.0s\n",
      "[CV 2/5] END ...n_neighbors=2, weights=distance;, score=0.952 total time=   0.0s\n",
      "[CV 3/5] END ...n_neighbors=2, weights=distance;, score=0.905 total time=   0.0s\n",
      "[CV 4/5] END ...n_neighbors=2, weights=distance;, score=1.000 total time=   0.0s\n",
      "[CV 5/5] END ...n_neighbors=2, weights=distance;, score=0.952 total time=   0.0s\n",
      "[CV 1/5] END ....n_neighbors=3, weights=uniform;, score=0.905 total time=   0.0s\n",
      "[CV 2/5] END ....n_neighbors=3, weights=uniform;, score=0.905 total time=   0.0s\n",
      "[CV 3/5] END ....n_neighbors=3, weights=uniform;, score=0.905 total time=   0.0s\n",
      "[CV 4/5] END ....n_neighbors=3, weights=uniform;, score=1.000 total time=   0.0s\n",
      "[CV 5/5] END ....n_neighbors=3, weights=uniform;, score=0.952 total time=   0.0s\n",
      "[CV 1/5] END ...n_neighbors=3, weights=distance;, score=0.952 total time=   0.0s\n",
      "[CV 2/5] END ...n_neighbors=3, weights=distance;, score=0.905 total time=   0.0s\n",
      "[CV 3/5] END ...n_neighbors=3, weights=distance;, score=0.905 total time=   0.0s\n",
      "[CV 4/5] END ...n_neighbors=3, weights=distance;, score=1.000 total time=   0.0s\n",
      "[CV 5/5] END ...n_neighbors=3, weights=distance;, score=0.952 total time=   0.0s\n",
      "[CV 1/5] END ....n_neighbors=4, weights=uniform;, score=0.905 total time=   0.0s\n",
      "[CV 2/5] END ....n_neighbors=4, weights=uniform;, score=0.952 total time=   0.0s\n",
      "[CV 3/5] END ....n_neighbors=4, weights=uniform;, score=0.905 total time=   0.0s\n",
      "[CV 4/5] END ....n_neighbors=4, weights=uniform;, score=1.000 total time=   0.0s\n",
      "[CV 5/5] END ....n_neighbors=4, weights=uniform;, score=0.905 total time=   0.0s\n",
      "[CV 1/5] END ...n_neighbors=4, weights=distance;, score=0.952 total time=   0.0s\n",
      "[CV 2/5] END ...n_neighbors=4, weights=distance;, score=0.905 total time=   0.0s\n",
      "[CV 3/5] END ...n_neighbors=4, weights=distance;, score=0.905 total time=   0.0s\n",
      "[CV 4/5] END ...n_neighbors=4, weights=distance;, score=1.000 total time=   0.0s\n",
      "[CV 5/5] END ...n_neighbors=4, weights=distance;, score=0.952 total time=   0.0s\n",
      "[CV 1/5] END ....n_neighbors=5, weights=uniform;, score=0.952 total time=   0.0s\n",
      "[CV 2/5] END ....n_neighbors=5, weights=uniform;, score=0.905 total time=   0.0s\n",
      "[CV 3/5] END ....n_neighbors=5, weights=uniform;, score=0.905 total time=   0.0s\n",
      "[CV 4/5] END ....n_neighbors=5, weights=uniform;, score=1.000 total time=   0.0s\n",
      "[CV 5/5] END ....n_neighbors=5, weights=uniform;, score=0.952 total time=   0.0s\n",
      "[CV 1/5] END ...n_neighbors=5, weights=distance;, score=0.952 total time=   0.0s\n",
      "[CV 2/5] END ...n_neighbors=5, weights=distance;, score=0.905 total time=   0.0s\n",
      "[CV 3/5] END ...n_neighbors=5, weights=distance;, score=0.905 total time=   0.0s\n",
      "[CV 4/5] END ...n_neighbors=5, weights=distance;, score=1.000 total time=   0.0s\n",
      "[CV 5/5] END ...n_neighbors=5, weights=distance;, score=0.952 total time=   0.0s\n",
      "[CV 1/5] END ....n_neighbors=6, weights=uniform;, score=0.905 total time=   0.0s\n",
      "[CV 2/5] END ....n_neighbors=6, weights=uniform;, score=0.905 total time=   0.0s\n",
      "[CV 3/5] END ....n_neighbors=6, weights=uniform;, score=0.952 total time=   0.0s\n",
      "[CV 4/5] END ....n_neighbors=6, weights=uniform;, score=1.000 total time=   0.0s\n",
      "[CV 5/5] END ....n_neighbors=6, weights=uniform;, score=0.952 total time=   0.0s\n",
      "[CV 1/5] END ...n_neighbors=6, weights=distance;, score=0.952 total time=   0.0s\n",
      "[CV 2/5] END ...n_neighbors=6, weights=distance;, score=0.905 total time=   0.0s\n",
      "[CV 3/5] END ...n_neighbors=6, weights=distance;, score=0.905 total time=   0.0s\n",
      "[CV 4/5] END ...n_neighbors=6, weights=distance;, score=1.000 total time=   0.0s\n",
      "[CV 5/5] END ...n_neighbors=6, weights=distance;, score=0.952 total time=   0.0s\n",
      "[CV 1/5] END ....n_neighbors=7, weights=uniform;, score=0.952 total time=   0.0s\n",
      "[CV 2/5] END ....n_neighbors=7, weights=uniform;, score=0.952 total time=   0.0s\n",
      "[CV 3/5] END ....n_neighbors=7, weights=uniform;, score=0.905 total time=   0.0s\n",
      "[CV 4/5] END ....n_neighbors=7, weights=uniform;, score=1.000 total time=   0.0s\n",
      "[CV 5/5] END ....n_neighbors=7, weights=uniform;, score=0.952 total time=   0.0s\n",
      "[CV 1/5] END ...n_neighbors=7, weights=distance;, score=0.952 total time=   0.0s\n",
      "[CV 2/5] END ...n_neighbors=7, weights=distance;, score=0.952 total time=   0.0s\n",
      "[CV 3/5] END ...n_neighbors=7, weights=distance;, score=0.905 total time=   0.0s\n",
      "[CV 4/5] END ...n_neighbors=7, weights=distance;, score=1.000 total time=   0.0s\n",
      "[CV 5/5] END ...n_neighbors=7, weights=distance;, score=0.952 total time=   0.0s\n",
      "[CV 1/5] END ....n_neighbors=8, weights=uniform;, score=0.905 total time=   0.0s\n",
      "[CV 2/5] END ....n_neighbors=8, weights=uniform;, score=0.952 total time=   0.0s\n",
      "[CV 3/5] END ....n_neighbors=8, weights=uniform;, score=0.952 total time=   0.0s\n",
      "[CV 4/5] END ....n_neighbors=8, weights=uniform;, score=1.000 total time=   0.0s\n",
      "[CV 5/5] END ....n_neighbors=8, weights=uniform;, score=0.952 total time=   0.0s\n",
      "[CV 1/5] END ...n_neighbors=8, weights=distance;, score=0.952 total time=   0.0s\n",
      "[CV 2/5] END ...n_neighbors=8, weights=distance;, score=0.905 total time=   0.0s\n",
      "[CV 3/5] END ...n_neighbors=8, weights=distance;, score=0.905 total time=   0.0s\n",
      "[CV 4/5] END ...n_neighbors=8, weights=distance;, score=1.000 total time=   0.0s\n",
      "[CV 5/5] END ...n_neighbors=8, weights=distance;, score=0.952 total time=   0.0s\n",
      "[CV 1/5] END ....n_neighbors=9, weights=uniform;, score=0.905 total time=   0.0s\n",
      "[CV 2/5] END ....n_neighbors=9, weights=uniform;, score=0.952 total time=   0.0s\n",
      "[CV 3/5] END ....n_neighbors=9, weights=uniform;, score=0.905 total time=   0.0s\n",
      "[CV 4/5] END ....n_neighbors=9, weights=uniform;, score=1.000 total time=   0.0s\n",
      "[CV 5/5] END ....n_neighbors=9, weights=uniform;, score=0.952 total time=   0.0s\n",
      "[CV 1/5] END ...n_neighbors=9, weights=distance;, score=0.952 total time=   0.0s\n",
      "[CV 2/5] END ...n_neighbors=9, weights=distance;, score=0.952 total time=   0.0s\n",
      "[CV 3/5] END ...n_neighbors=9, weights=distance;, score=0.905 total time=   0.0s\n",
      "[CV 4/5] END ...n_neighbors=9, weights=distance;, score=1.000 total time=   0.0s\n",
      "[CV 5/5] END ...n_neighbors=9, weights=distance;, score=0.952 total time=   0.0s\n",
      "[CV 1/5] END ...n_neighbors=10, weights=uniform;, score=0.905 total time=   0.0s\n",
      "[CV 2/5] END ...n_neighbors=10, weights=uniform;, score=0.905 total time=   0.0s\n",
      "[CV 3/5] END ...n_neighbors=10, weights=uniform;, score=0.905 total time=   0.0s\n",
      "[CV 4/5] END ...n_neighbors=10, weights=uniform;, score=1.000 total time=   0.0s\n",
      "[CV 5/5] END ...n_neighbors=10, weights=uniform;, score=0.952 total time=   0.0s\n",
      "[CV 1/5] END ..n_neighbors=10, weights=distance;, score=0.952 total time=   0.0s\n",
      "[CV 2/5] END ..n_neighbors=10, weights=distance;, score=0.905 total time=   0.0s\n",
      "[CV 3/5] END ..n_neighbors=10, weights=distance;, score=0.905 total time=   0.0s\n",
      "[CV 4/5] END ..n_neighbors=10, weights=distance;, score=1.000 total time=   0.0s\n",
      "[CV 5/5] END ..n_neighbors=10, weights=distance;, score=0.952 total time=   0.0s\n"
     ]
    },
    {
     "data": {
      "text/plain": [
       "GridSearchCV(cv=5, estimator=KNeighborsClassifier(),\n",
       "             param_grid={'n_neighbors': [1, 2, 3, 4, 5, 6, 7, 8, 9, 10],\n",
       "                         'weights': ['uniform', 'distance']},\n",
       "             verbose=3)"
      ]
     },
     "execution_count": 75,
     "metadata": {},
     "output_type": "execute_result"
    }
   ],
   "source": [
    "cv_clf = GridSearchCV(KNeighborsClassifier(), param_grid=parameter, cv=5,verbose=3)\n",
    "cv_clf.fit(X_train, y_train)"
   ]
  },
  {
   "cell_type": "code",
   "execution_count": 76,
   "id": "d8ea9de0",
   "metadata": {},
   "outputs": [
    {
     "data": {
      "text/plain": [
       "{'n_neighbors': 1, 'weights': 'uniform'}"
      ]
     },
     "execution_count": 76,
     "metadata": {},
     "output_type": "execute_result"
    }
   ],
   "source": [
    "cv_clf.best_params_"
   ]
  },
  {
   "cell_type": "code",
   "execution_count": 77,
   "id": "db6c5732",
   "metadata": {},
   "outputs": [
    {
     "name": "stdout",
     "output_type": "stream",
     "text": [
      "1.0\n"
     ]
    }
   ],
   "source": [
    "y_pred = cv_clf.predict(X_test)\n",
    "print(accuracy_score(y_test, y_pred))"
   ]
  },
  {
   "cell_type": "markdown",
   "id": "f9678837",
   "metadata": {},
   "source": [
    "### Q6. Implement a function to standardise the features before applying KNN classifier."
   ]
  },
  {
   "cell_type": "code",
   "execution_count": 78,
   "id": "8f05f31b",
   "metadata": {},
   "outputs": [],
   "source": [
    "X = df_iris.drop('target', axis=1)\n",
    "y = df_iris['target']\n",
    "X_train, X_test, y_train, y_test = train_test_split(X, y, test_size=0.30, random_state=42)\n",
    "scaled_X_train = scaler.fit_transform(X_train)\n",
    "scaled_X_test = scaler.transform(X_test)"
   ]
  },
  {
   "cell_type": "code",
   "execution_count": 80,
   "id": "e03b1d67",
   "metadata": {},
   "outputs": [
    {
     "name": "stdout",
     "output_type": "stream",
     "text": [
      "1.0\n"
     ]
    }
   ],
   "source": [
    "clf = KNeighborsClassifier()\n",
    "clf.fit(scaled_X_train, y_train)\n",
    "y_pred = clf.predict(scaled_X_test)\n",
    "print(accuracy_score(y_test, y_pred))"
   ]
  },
  {
   "cell_type": "markdown",
   "id": "2e7a1863",
   "metadata": {},
   "source": [
    "### Q7. Write a Python function to calculate the euclidean distance between two points."
   ]
  },
  {
   "cell_type": "code",
   "execution_count": 85,
   "id": "8a98b34c",
   "metadata": {},
   "outputs": [],
   "source": [
    "def evalute_euclidean_distance(point1, point2):\n",
    "    x1, y1 = point1\n",
    "    x2, y2 = point2\n",
    "    \n",
    "    return np.sqrt((x2-x1)**2 + (y2-y1)**2)"
   ]
  },
  {
   "cell_type": "code",
   "execution_count": 86,
   "id": "66487004",
   "metadata": {},
   "outputs": [
    {
     "data": {
      "text/plain": [
       "1.4142135623730951"
      ]
     },
     "execution_count": 86,
     "metadata": {},
     "output_type": "execute_result"
    }
   ],
   "source": [
    "evalute_euclidean_distance((2,3), (3,4))"
   ]
  },
  {
   "cell_type": "markdown",
   "id": "0540f2bb",
   "metadata": {},
   "source": [
    "### Q8. Write a Python function to calculate the manhattan distance between two points."
   ]
  },
  {
   "cell_type": "code",
   "execution_count": 87,
   "id": "599940e6",
   "metadata": {},
   "outputs": [],
   "source": [
    "def evalute_manhattan_distance(point1, point2):\n",
    "    x1, y1 = point1\n",
    "    x2, y2 = point2\n",
    "    \n",
    "    return (abs(x2-x1) + abs(y2-y1))"
   ]
  },
  {
   "cell_type": "code",
   "execution_count": 88,
   "id": "7883eb07",
   "metadata": {},
   "outputs": [
    {
     "data": {
      "text/plain": [
       "2"
      ]
     },
     "execution_count": 88,
     "metadata": {},
     "output_type": "execute_result"
    }
   ],
   "source": [
    "evalute_manhattan_distance((2,3), (3,4))"
   ]
  }
 ],
 "metadata": {
  "kernelspec": {
   "display_name": "Python 3 (ipykernel)",
   "language": "python",
   "name": "python3"
  },
  "language_info": {
   "codemirror_mode": {
    "name": "ipython",
    "version": 3
   },
   "file_extension": ".py",
   "mimetype": "text/x-python",
   "name": "python",
   "nbconvert_exporter": "python",
   "pygments_lexer": "ipython3",
   "version": "3.9.13"
  }
 },
 "nbformat": 4,
 "nbformat_minor": 5
}
