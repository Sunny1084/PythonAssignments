{
 "cells": [
  {
   "cell_type": "markdown",
   "id": "6858d6ab",
   "metadata": {},
   "source": [
    "### Q1: What are the Probability Mass Function (PMF) and Probability Density Function (PDF)? Explain with an example."
   ]
  },
  {
   "cell_type": "code",
   "execution_count": null,
   "id": "060348c0",
   "metadata": {},
   "outputs": [],
   "source": [
    "'''\n",
    "The PMF is defined as the probability that a discrete random variable takes on a specific value. It is represented by a \n",
    "function that maps each value of the random variable to its corresponding probability. The sum of all probabilities in the PMF \n",
    "is equal to 1. For example, consider a fair six-sided die. The PMF of this die assigns a probability of 1/6 to each of the six \n",
    "possible outcomes (i.e., rolling a 1, 2, 3, 4, 5, or 6) 3.\n",
    "\n",
    "On the other hand, the PDF is used to describe the probability distribution of a continuous random variable. It is represented \n",
    "by a function that maps each value of the random variable to its corresponding probability density. Unlike the PMF, the PDF \n",
    "does not give the probability of any specific value but rather gives the relative likelihood that the value of the random \n",
    "variable falls within a particular range. The area under the PDF curve between two points represents the probability that the \n",
    "random variable falls within that range. For example, consider a normal distribution with mean 0 and standard deviation 1. \n",
    "The PDF of this distribution assigns higher probabilities to values closer to 0 and lower probabilities to values farther \n",
    "away from 0\n",
    "'''"
   ]
  },
  {
   "cell_type": "markdown",
   "id": "5b0e3588",
   "metadata": {},
   "source": [
    "### Q2: What is Cumulative Density Function (CDF)? Explain with an example. Why CDF is used?"
   ]
  },
  {
   "cell_type": "code",
   "execution_count": null,
   "id": "42856f37",
   "metadata": {},
   "outputs": [],
   "source": [
    "'''\n",
    "A Cumulative Density Function (CDF) is a function that maps the values of a random variable to their respective probabilities. \n",
    "It is used to describe the probability distribution of random variables, whether they are discrete, continuous, or mixed 12.\n",
    "The CDF is obtained by summing up the probability density function and getting the cumulative probability for a random variable \n",
    "2.\n",
    "For example, let’s say we have a random variable X that represents the number of hours a student studies for an exam. \n",
    "The probability density function (PDF) of X is given by:\n",
    "\n",
    "\n",
    "f(x)=⎩⎨⎧​00 if x<0\n",
    "         .20 if 0≤x<5\n",
    "         .30 if 5≤x<10\n",
    "         .10 if 10≤x<15\n",
    "          0  if x≥15\n",
    "\n",
    "\n",
    "To find the CDF of X, we need to integrate the PDF from negative infinity to each value of X. The CDF is defined as:\n",
    "\n",
    "F(x)=P(X≤x)=∫−∞x​f(t)dt\n",
    "'''"
   ]
  },
  {
   "cell_type": "markdown",
   "id": "6698e287",
   "metadata": {},
   "source": [
    "### Q3: What are some examples of situations where the normal distribution might be used as a model? Explain how the parameters of the normal distribution relate to the shape of the distribution."
   ]
  },
  {
   "cell_type": "code",
   "execution_count": null,
   "id": "57a25734",
   "metadata": {},
   "outputs": [],
   "source": [
    "'''\n",
    "The normal distribution is a probability distribution that is symmetrically distributed with no skew. It is also known as the \n",
    "Gaussian distribution or the bell curve because of its shape 123. It is used to model a wide range of natural and social \n",
    "phenomena, including height, birth weight, reading ability, job satisfaction, and SAT scores 1.\n",
    "\n",
    "The normal distribution has two parameters: the mean (μ) and the standard deviation (σ) 1. The mean is the location parameter \n",
    "that determines where the peak of the curve is centered. Increasing the mean moves the curve right, while decreasing it moves \n",
    "the curve left. The standard deviation is the scale parameter that stretches or squeezes the curve. A small standard deviation \n",
    "results in a narrow curve, while a large standard deviation leads to a wide curve 1.\n",
    "\n",
    "The empirical rule, also known as the 68-95-99.7 rule, tells you where most of your values lie in a normal distribution 1. \n",
    "Around 68% of values are within 1 standard deviation from the mean. Around 95% of values are within 2 standard deviations from \n",
    "the mean. Around 99.7% of values are within 3 standard deviations from the mean 1.\n",
    "\n",
    "The normal distribution is an important concept in statistics because many statistical tests are designed for normally \n",
    "distributed populations. Understanding its properties means you can use inferential statistics to compare different groups and \n",
    "make estimates about populations using samples\n",
    "'''"
   ]
  },
  {
   "cell_type": "markdown",
   "id": "cb06a4f4",
   "metadata": {},
   "source": [
    "### Q4: Explain the importance of Normal Distribution. Give a few real-life examples of Normal Distribution."
   ]
  },
  {
   "cell_type": "code",
   "execution_count": null,
   "id": "798794b2",
   "metadata": {},
   "outputs": [],
   "source": [
    "'''\n",
    "Normal distributions are important in statistics because they are common in many natural and social sciences. Many variables \n",
    "such as height, birth weight, reading ability, job satisfaction, or SAT scores are normally or approximately normally \n",
    "distributed 1. Because normally distributed variables are so common, many statistical tests are designed for normally \n",
    "distributed populations. Understanding the properties of normal distributions means you can use inferential statistics to \n",
    "compare different groups and make estimates about populations using samples 1.\n",
    "\n",
    "Here are some real-life examples of normal distribution:\n",
    "\n",
    "Height: The height of people is normally distributed. Most people fall within the average height range, while very few people \n",
    "are extremely tall or short.\n",
    "IQ Scores: IQ scores follow a normal distribution pattern. The majority of people have an IQ score between 85 and 115, while \n",
    "very few people have an IQ score below 70 or above 130.\n",
    "Blood Pressure: Blood pressure readings also follow a normal distribution pattern. Most people have blood pressure readings \n",
    "that fall within the average range, while very few people have extremely high or low blood pressure readings.\n",
    "The properties of normal distributions can be used to make predictions about the likelihood of certain events occurring. For \n",
    "example, if you know that a variable is normally distributed, you can use the empirical rule to estimate the percentage of \n",
    "values that fall within a certain range 1.\n",
    "'''"
   ]
  },
  {
   "cell_type": "markdown",
   "id": "bded9b3e",
   "metadata": {},
   "source": [
    "### Q5: What is Bernaulli Distribution? Give an Example. What is the difference between Bernoulli Distribution and Binomial Distribution? "
   ]
  },
  {
   "cell_type": "code",
   "execution_count": null,
   "id": "2d1cdcfa",
   "metadata": {},
   "outputs": [],
   "source": [
    "'''\n",
    "The Bernoulli distribution is a discrete probability distribution that models the probability of a binary outcome, such as \n",
    "success or failure, with a single trial. It is named after the Swiss mathematician Jacob Bernoulli. The distribution is \n",
    "characterized by a single parameter, p, which represents the probability of success\n",
    "\n",
    "An example of a Bernoulli distribution is flipping a coin. If we define heads as success and tails as failure, then the \n",
    "probability of getting heads (success) is p = 0.5 and the probability of getting tails (failure) is q = 1 - p = 0.5.\n",
    "\n",
    "\n",
    "The difference between the Bernoulli and Binomial distributions is that the Bernoulli distribution models a single trial with \n",
    "two possible outcomes, while the Binomial distribution models multiple trials with two possible outcomes each. In other words, \n",
    "the Binomial distribution is simply a sum of independent and identically distributed Bernoulli random variables.\n",
    "'''"
   ]
  },
  {
   "cell_type": "markdown",
   "id": "af7998c1",
   "metadata": {},
   "source": [
    "### Q6. Consider a dataset with a mean of 50 and a standard deviation of 10. If we assume that the dataset is normally distributed, what is the probability that a randomly selected observation will be greater than 60? Use the appropriate formula and show your calculations. "
   ]
  },
  {
   "cell_type": "code",
   "execution_count": null,
   "id": "2dbbfccf",
   "metadata": {},
   "outputs": [],
   "source": [
    "'''\n",
    "To calculate the probability that a randomly selected observation will be greater than 60, we need to use the formula for the \n",
    "standard normal distribution. The formula is:\n",
    "z=x−μ/σ\n",
    "where x is the value we want to find the probability for, μ is the mean of the dataset, σ is the standard deviation of the \n",
    "dataset, and z is the standard score.\n",
    "In this case, x=60, μ=50, and σ=10. Therefore,\n",
    "z=60−50/10=1\n",
    "We can now use a standard normal distribution table to find the probability that a randomly selected observation will be greater\n",
    "than 60. The table gives us the probability for values of z.\n",
    "The probability of a value being greater than 60 can be calculated as:\n",
    "P(X>60)=P(Z>1)\n",
    "Using a standard normal distribution table, we can find that P(Z>1)=0.1587 1. Therefore, the probability that a randomly \n",
    "selected observation will be greater than 60 is approximately 0.1587 or 15.87%.\n",
    "'''"
   ]
  },
  {
   "cell_type": "markdown",
   "id": "81ad300b",
   "metadata": {},
   "source": [
    "### Q7: Explain uniform Distribution with an example."
   ]
  },
  {
   "cell_type": "code",
   "execution_count": null,
   "id": "365697fe",
   "metadata": {},
   "outputs": [],
   "source": [
    "'''\n",
    "The Uniform distribution is a probability distribution in which all values within a given interval are equally likely to occur. \n",
    "In other words, the probability of any specific value occurring is the same for all values in the interval. It's a simple and \n",
    "straightforward distribution often represented by a rectangular shape.\n",
    "\n",
    "Example: Rolling a Fair Die\n",
    "\n",
    "Consider the scenario of rolling a fair six-sided die. The outcomes are the numbers 1 to 6. Assuming the die is fair, each \n",
    "outcome has an equal chance of occurring, and thus, it follows a discrete uniform distribution.\n",
    "\n",
    "In this case, the probability of each outcome is:\n",
    "\n",
    "P(1) = 1/6\n",
    "P(2) = 1/6\n",
    "P(3) = 1/6\n",
    "P(4) = 1/6\n",
    "P(5) = 1/6\n",
    "P(6) = 1/6\n",
    "Each outcome has an equal probability of 1/6, making it a uniform distribution. Visually, you can imagine the probability \n",
    "distribution as a flat, horizontal line over each of the possible outcomes on a graph.\n",
    "'''"
   ]
  },
  {
   "cell_type": "markdown",
   "id": "eb189697",
   "metadata": {},
   "source": [
    "### Q8: What is the z score? State the importance of the z score."
   ]
  },
  {
   "cell_type": "code",
   "execution_count": null,
   "id": "b016cd70",
   "metadata": {},
   "outputs": [],
   "source": [
    "'''\n",
    "The Z-score, also known as the standard score, is a statistical measurement that describes the number of standard deviations a \n",
    "particular data point is from the mean of a dataset. It's used to standardize and compare data points from different \n",
    "distributions, allowing for a common scale of comparison.\n",
    "\n",
    "Mathematically, the Z-score of a data point x from a dataset with mean μ and standard deviation σ is calculated using the \n",
    "following formula:\n",
    "\n",
    "Z = (x - μ) / σ\n",
    "\n",
    "The Z-score has several important uses in statistics and data analysis:\n",
    "\n",
    "Standardization and Comparison: Z-scores standardize data by expressing it in terms of standard deviations from the mean. \n",
    "This allows you to compare data points from different datasets with different scales. Z-scores help identify which data points \n",
    "are relatively high or low compared to the rest of the dataset.\n",
    "\n",
    "Outlier Detection: Z-scores are useful for identifying outliers, which are data points that are significantly different from \n",
    "the rest of the dataset. Outliers often have Z-scores that are much larger or smaller than the average Z-score of the dataset.\n",
    "\n",
    "Normal Distribution Analysis: In a standard normal distribution (mean = 0, standard deviation = 1), Z-scores have specific \n",
    "meanings. About 68% of data points fall within ±1 Z-score, 95% within ±2 Z-scores, and 99.7% within ±3 Z-scores. This makes it \n",
    "easier to interpret where data points lie in relation to the normal distribution.\n",
    "\n",
    "Hypothesis Testing: Z-scores are used in hypothesis testing to determine how far an observed sample mean is from a hypothesized \n",
    "population mean. This helps assess whether the observed difference is statistically significant.\n",
    "\n",
    "Percentile Ranking: Z-scores can be converted into percentile ranks to determine the relative position of a data point within a \n",
    "distribution. For example, a Z-score of 1 corresponds to approximately the 84th percentile.\n",
    "'''"
   ]
  },
  {
   "cell_type": "markdown",
   "id": "5efe2e4e",
   "metadata": {},
   "source": [
    "### Q9: What is Central Limit Theorem? State the significance of the Central Limit Theorem."
   ]
  },
  {
   "cell_type": "code",
   "execution_count": null,
   "id": "7301484c",
   "metadata": {},
   "outputs": [],
   "source": [
    "'''\n",
    "The Central Limit Theorem (CLT) is a fundamental concept in probability theory that states that the sampling distribution of \n",
    "the mean of a large number of independent and identically distributed random variables will tend towards a normal distribution, \n",
    "regardless of the original distribution of the variables. In other words, if we take a large number of random samples from \n",
    "any population, the distribution of the sample means will be approximately normal, even if the population itself is not \n",
    "normally distributed.\n",
    "\n",
    "The significance of the Central Limit Theorem is that it provides a bridge between classical and modern probability theory. It \n",
    "allows us to use probabilistic and statistical methods that work for normal distributions to solve problems involving other \n",
    "types of distributions. The theorem has many applications in fields such as finance, physics, engineering, and more. It is used \n",
    "to model and analyze data from various sources, including stock prices, weather patterns, and more\n",
    "'''"
   ]
  },
  {
   "cell_type": "markdown",
   "id": "6b964e81",
   "metadata": {},
   "source": [
    "### Q10: State the assumptions of the Central Limit Theorem."
   ]
  },
  {
   "cell_type": "code",
   "execution_count": null,
   "id": "9e6858be",
   "metadata": {},
   "outputs": [],
   "source": [
    "'''\n",
    "The Central Limit Theorem (CLT) is a fundamental concept in probability theory that states that the sampling distribution of the \n",
    "standardized sample mean tends towards the standard normal distribution, even if the original variables themselves are not \n",
    "normally distributed. The theorem is applicable to many problems involving other types of distributions, as it implies that \n",
    "probabilistic and statistical methods that work for normal distributions can be used.\n",
    "\n",
    "The assumptions of the Central Limit Theorem are as follows:\n",
    "\n",
    "The sample size should be large enough. A general rule of thumb is that the sample size should be greater than or equal to 30.\n",
    "The samples should be independent and identically distributed (i.i.d.). This means that each observation in the sample should \n",
    "be drawn independently from the same population, and the observations should have the same distribution.\n",
    "The population should have a finite variance. This means that the variance of the population from which the samples are drawn \n",
    "should be finite.\n",
    "The Central Limit Theorem has several variants. In its common form, the random variables must be independent and identically \n",
    "distributed (i.i.d.). This requirement can be weakened; convergence of the mean to the normal distribution also occurs for \n",
    "non-identical distributions or for non-independent observations if they comply with certain conditions \n",
    "'''"
   ]
  }
 ],
 "metadata": {
  "kernelspec": {
   "display_name": "Python 3 (ipykernel)",
   "language": "python",
   "name": "python3"
  },
  "language_info": {
   "codemirror_mode": {
    "name": "ipython",
    "version": 3
   },
   "file_extension": ".py",
   "mimetype": "text/x-python",
   "name": "python",
   "nbconvert_exporter": "python",
   "pygments_lexer": "ipython3",
   "version": "3.9.13"
  }
 },
 "nbformat": 4,
 "nbformat_minor": 5
}
