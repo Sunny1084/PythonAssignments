{
 "cells": [
  {
   "cell_type": "markdown",
   "id": "61cc8f5b",
   "metadata": {},
   "source": [
    "#### Q1. Create a function which will take a list as an argument and return the product of all the numbers after creating a flat list."
   ]
  },
  {
   "cell_type": "code",
   "execution_count": 14,
   "id": "109175cc",
   "metadata": {},
   "outputs": [],
   "source": [
    "lst = [1,2,3,4, [44,55,66, True], False, (34,56,78,89,34), {1,2,3,3,2,1}, {1:34, \"key2\": [55, 67, 78, 89], 4: (45,\n",
    "22, 61, 34)}, [56, 'data science'], 'Machine Learning']\n",
    "new_list = []\n",
    "for i in lst:\n",
    "    if type(i) == int:\n",
    "        new_list.append(i)\n",
    "    if type(i) == list:\n",
    "        for j in i:\n",
    "            if type(j) == int:\n",
    "                new_list.append(j)\n",
    "    if type(i) == tuple:\n",
    "        for a in i:\n",
    "            if type(a) == int:\n",
    "                new_list.append(a) \n",
    "    if type(i) == set:\n",
    "        for b in i:\n",
    "            if type(b) == int:\n",
    "                new_list.append(b)\n",
    "    if type(i) == dict:\n",
    "        for c in i.keys():\n",
    "            if type(c) == int:\n",
    "                new_list.append(c)\n",
    "        for d in i.values():\n",
    "            if type(d) == int:\n",
    "                new_list.append(d)\n",
    "            if type(d) == list:\n",
    "                for x in d:\n",
    "                    if type(x) == int:\n",
    "                        new_list.append(x)\n",
    "            if type(d) == tuple:\n",
    "                for y in d:\n",
    "                    if type(y) == int:\n",
    "                        new_list.append(y)"
   ]
  },
  {
   "cell_type": "code",
   "execution_count": 15,
   "id": "42235b3f",
   "metadata": {},
   "outputs": [
    {
     "data": {
      "text/plain": [
       "[1,\n",
       " 2,\n",
       " 3,\n",
       " 4,\n",
       " 44,\n",
       " 55,\n",
       " 66,\n",
       " 34,\n",
       " 56,\n",
       " 78,\n",
       " 89,\n",
       " 34,\n",
       " 1,\n",
       " 2,\n",
       " 3,\n",
       " 1,\n",
       " 4,\n",
       " 34,\n",
       " 55,\n",
       " 67,\n",
       " 78,\n",
       " 89,\n",
       " 45,\n",
       " 22,\n",
       " 61,\n",
       " 34,\n",
       " 56]"
      ]
     },
     "execution_count": 15,
     "metadata": {},
     "output_type": "execute_result"
    }
   ],
   "source": [
    "new_list"
   ]
  },
  {
   "cell_type": "markdown",
   "id": "2465ab33",
   "metadata": {},
   "source": [
    "#### Q2 Write a python program for encrypting a message sent to you by your friend. The logic of encryption should be such that, for a the output should be z. For b, the output should be y. For c, the output should be x respectively. Also, the whitespace should be replaced with a dollar sign. Keep the punctuation marks unchanged."
   ]
  },
  {
   "cell_type": "code",
   "execution_count": 4,
   "id": "15360211",
   "metadata": {},
   "outputs": [
    {
     "name": "stdout",
     "output_type": "stream",
     "text": [
      "r$dzmg$gl$yvxlnv$z$wzgz$hxrvmgrhg\n"
     ]
    }
   ],
   "source": [
    "dict1 = {'a':'z', 'b':'y', 'c':'x','d':'w','e':'v','f':'u','g':'t','h':'s','i':'r','j':'q','k':'p','l':'o','m':'n','n':'m',\n",
    "         'o':'l','p':'k','q':'j','r':'i','s':'h','t':'g','u':'f','v':'e','w':'d','x':'c','y':'b','z':'a',' ':'$'}\n",
    "sent = 'I want to become a Data Scientist'\n",
    "encrypting_message = ''\n",
    "sent = sent.lower()\n",
    "for i in sent:\n",
    "    encrypting_message += dict1.get(i)\n",
    "    \n",
    "print(encrypting_message)"
   ]
  }
 ],
 "metadata": {
  "kernelspec": {
   "display_name": "Python 3 (ipykernel)",
   "language": "python",
   "name": "python3"
  },
  "language_info": {
   "codemirror_mode": {
    "name": "ipython",
    "version": 3
   },
   "file_extension": ".py",
   "mimetype": "text/x-python",
   "name": "python",
   "nbconvert_exporter": "python",
   "pygments_lexer": "ipython3",
   "version": "3.9.13"
  }
 },
 "nbformat": 4,
 "nbformat_minor": 5
}
