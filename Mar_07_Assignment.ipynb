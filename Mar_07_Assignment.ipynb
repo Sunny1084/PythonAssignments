{
 "cells": [
  {
   "cell_type": "markdown",
   "id": "8e86f51c",
   "metadata": {},
   "source": [
    "#### Q1. What are the three measures of central tendency?"
   ]
  },
  {
   "cell_type": "code",
   "execution_count": null,
   "id": "2dfa459a",
   "metadata": {},
   "outputs": [],
   "source": [
    "# Ans The three mode of central tendency are : 1. Mean  2. Median 3. Mode"
   ]
  },
  {
   "cell_type": "markdown",
   "id": "a440674a",
   "metadata": {},
   "source": [
    "#### Q2. What is the difference between the mean, median, and mode? How are they used to measure the central tendency of a dataset?"
   ]
  },
  {
   "cell_type": "code",
   "execution_count": null,
   "id": "2fe507da",
   "metadata": {},
   "outputs": [],
   "source": [
    "'''\n",
    "The mean, median, and mode are measures of central tendency used to describe the typical or central value of a dataset. While \n",
    "they all provide information about the center of a dataset, they are calculated differently and can sometimes yield different \n",
    "results.\n",
    "\n",
    "The mean is calculated by adding up all the values in the dataset and dividing by the number of values. It is also known as the \n",
    "arithmetic average. The mean is sensitive to outliers, meaning that extreme values can greatly affect the value of the mean. \n",
    "The mean is commonly used in situations where the data is normally distributed, or bell-shaped.\n",
    "\n",
    "The median is the middle value of a dataset when it is arranged in order. If the dataset has an odd number of values, the \n",
    "median is the middle value. If the dataset has an even number of values, the median is the average of the two middle values. \n",
    "The median is less sensitive to outliers than the mean and is a good measure of central tendency when the dataset has extreme \n",
    "values.\n",
    "\n",
    "The mode is the value that appears most frequently in a dataset. If no value appears more than once, the dataset is said to have\n",
    "no mode. The mode is useful in datasets with categorical or discrete values, such as the number of pets a person owns. The mode \n",
    "is also useful in identifying the most common value in a dataset.\n",
    "\n",
    "In general, the mean is the most commonly used measure of central tendency, but the median and mode can be more appropriate in \n",
    "certain situations, especially when the dataset has extreme values or when dealing with categorical or discrete data.\n",
    "'''"
   ]
  },
  {
   "cell_type": "markdown",
   "id": "9165889e",
   "metadata": {},
   "source": [
    "#### Q3. Measure the three measures of central tendency for the given height data [178,177,176,177,178.2,178,175,179,180,175,178.9,176.2,177,172.5,178,176.5]"
   ]
  },
  {
   "cell_type": "code",
   "execution_count": null,
   "id": "a301e6c7",
   "metadata": {},
   "outputs": [],
   "source": [
    "'''\n",
    "To find the measures of central tendency for the given height data, we need to calculate the mean, median, and mode.\n",
    "\n",
    "Mean:\n",
    "To calculate the mean, we add up all the values and divide by the total number of values:\n",
    "\n",
    "(178 + 177 + 176 + 177 + 178.2 + 178 + 175 + 179 + 180 + 175 + 178.9 + 176.2 + 177 + 172.5 + 178 + 176.5) / 16 = 176.95\n",
    "\n",
    "So the mean height is approximately 176.95.\n",
    "\n",
    "Median:\n",
    "To find the median, we first need to order the data from smallest to largest:\n",
    "\n",
    "172.5, 175, 175, 176, 176, 176.2, 176.5, 177, 177, 178, 178, 178, 178.2, 178.9, 179, 180\n",
    "\n",
    "There are 16 values in the dataset, so the median is the average of the two middle values, which are 177 and 177.5:\n",
    "\n",
    "(177 + 177.5) / 2 = 177.25\n",
    "\n",
    "So the median height is approximately 177.25.\n",
    "\n",
    "Mode:\n",
    "To find the mode, we need to identify the value that appears most frequently in the dataset. In this case, the value 178 appears\n",
    "most frequently, so the mode is 178.\n",
    "\n",
    "Therefore, the measures of central tendency for the given height data are:\n",
    "\n",
    "Mean: 176.95\n",
    "Median: 177.25\n",
    "Mode: 178\n",
    "'''"
   ]
  },
  {
   "cell_type": "markdown",
   "id": "e873d624",
   "metadata": {},
   "source": [
    "#### Q4. Find the standard deviation for the given data: [178,177,176,177,178.2,178,175,179,180,175,178.9,176.2,177,172.5,178,176.5]"
   ]
  },
  {
   "cell_type": "code",
   "execution_count": null,
   "id": "945941af",
   "metadata": {},
   "outputs": [],
   "source": [
    "'''\n",
    "To find the standard deviation for the given data, we can use the following formula:\n",
    "\n",
    "standard deviation = square root of [(sum of (each value - mean) squared) / (number of values - 1)]\n",
    "\n",
    "First, we need to find the mean of the dataset:\n",
    "\n",
    "(178 + 177 + 176 + 177 + 178.2 + 178 + 175 + 179 + 180 + 175 + 178.9 + 176.2 + 177 + 172.5 + 178 + 176.5) / 16 = 176.95\n",
    "\n",
    "Next, we need to calculate the sum of (each value - mean) squared:\n",
    "\n",
    "(178 - 176.95)^2 + (177 - 176.95)^2 + (176 - 176.95)^2 + (177 - 176.95)^2 + (178.2 - 176.95)^2 + (178 - 176.95)^2 + \n",
    "(175 - 176.95)^2 + (179 - 176.95)^2 + (180 - 176.95)^2 + (175 - 176.95)^2 + (178.9 - 176.95)^2 + (176.2 - 176.95)^2 + \n",
    "(177 - 176.95)^2 + (172.5 - 176.95)^2 + (178 - 176.95)^2 + (176.5 - 176.95)^2\n",
    "\n",
    "This simplifies to:\n",
    "\n",
    "0.1525 + 0.0025 + 0.9025 + 0.0025 + 0.2729 + 0.0025 + 3.8025 + 1.8225 + 9.9025 + 3.8025 + 0.7056 + 0.7921 + 0.0025 + 20.6225 + \n",
    "0.0025 + 0.2209\n",
    "\n",
    "Adding up these values gives:\n",
    "\n",
    "42.9325\n",
    "\n",
    "Finally, we can plug in these values into the formula for standard deviation:\n",
    "\n",
    "standard deviation = square root of (42.9325 / (16 - 1))\n",
    "= square root of (42.9325 / 15)\n",
    "= square root of 2.862167\n",
    "\n",
    "So the standard deviation for the given data is approximately 1.692.\n",
    "'''"
   ]
  },
  {
   "cell_type": "markdown",
   "id": "0fc4d88c",
   "metadata": {},
   "source": [
    "#### Q5. How are measures of dispersion such as range, variance, and standard deviation used to describe the spread of a dataset? Provide an example."
   ]
  },
  {
   "cell_type": "code",
   "execution_count": null,
   "id": "7ba3cbb7",
   "metadata": {},
   "outputs": [],
   "source": [
    "'''\n",
    "Measures of dispersion such as range, variance, and standard deviation are used to describe the spread of a dataset by providing\n",
    "information about how much the individual data points vary from each other and from the central tendency \n",
    "(such as the mean or median) of the dataset.\n",
    "\n",
    "Range is the simplest measure of dispersion, and it is simply the difference between the largest and smallest values in the \n",
    "dataset. However, range can be influenced by extreme values and may not be a good indicator of the overall variability in the \n",
    "dataset.\n",
    "\n",
    "Variance and standard deviation are more robust measures of dispersion. Variance is the average of the squared differences \n",
    "between each data point and the mean of the dataset, while standard deviation is the square root of the variance. They give us \n",
    "an idea of how spread out the data points are from the mean of the dataset. A high variance or standard deviation means that \n",
    "the data points are more spread out, while a low variance or standard deviation means that the data points are more tightly \n",
    "clustered around the mean.\n",
    "\n",
    "For example, let's consider two datasets of exam scores:\n",
    "\n",
    "Dataset A: 75, 80, 85, 90, 95\n",
    "Dataset B: 60, 70, 80, 90, 100\n",
    "\n",
    "Both datasets have the same mean score of 85. However, Dataset A has a smaller range (20) compared to Dataset B (40), indicating\n",
    "that the scores are more tightly clustered around the mean in Dataset A. When we calculate the variance and standard deviation, \n",
    "we see that Dataset A has a variance of 62.5 and a standard deviation of 7.91, while Dataset B has a variance of 200 and a \n",
    "standard deviation of 14.14. This further confirms that the scores in Dataset A are more tightly clustered around the mean \n",
    "compared to Dataset B.\n",
    "\n",
    "In summary, measures of dispersion such as range, variance, and standard deviation provide valuable information about the spread \n",
    "of a dataset and can help us understand how much the individual data points vary from each other and from the central tendency \n",
    "of the dataset.\n",
    "'''"
   ]
  },
  {
   "cell_type": "markdown",
   "id": "9103abe2",
   "metadata": {},
   "source": [
    "#### Q6. What is a Venn diagram?"
   ]
  },
  {
   "cell_type": "code",
   "execution_count": null,
   "id": "fdc1d147",
   "metadata": {},
   "outputs": [],
   "source": [
    "'''\n",
    "A Venn diagram is a graphical representation of the relationships between different sets or groups of objects or concepts. It \n",
    "is named after the English logician John Venn, who introduced the concept in the late 19th century.\n",
    "\n",
    "In a Venn diagram, each set is represented by a circle or an oval, and the circles are placed on a page so that they overlap. \n",
    "The overlapping area between the circles represents the elements or concepts that are common to both sets. The non-overlapping \n",
    "areas represent the elements or concepts that are unique to each set.\n",
    "'''"
   ]
  },
  {
   "cell_type": "markdown",
   "id": "98774603",
   "metadata": {},
   "source": [
    "#### Q7. For the two given sets A = (2,3,4,5,6,7) & B = (0,2,6,8,10). Find: "
   ]
  },
  {
   "cell_type": "code",
   "execution_count": null,
   "id": "5265c635",
   "metadata": {},
   "outputs": [],
   "source": [
    "# (i) A intersection B  = (2,6)\n",
    "# (ii) A ⋃ B = (0,2,3,4,5,6,7,8,10)"
   ]
  },
  {
   "cell_type": "markdown",
   "id": "8e7c097d",
   "metadata": {},
   "source": [
    "#### Q8. What do you understand about skewness in data?"
   ]
  },
  {
   "cell_type": "code",
   "execution_count": null,
   "id": "bba21b50",
   "metadata": {},
   "outputs": [],
   "source": [
    "'''\n",
    "Skewness in data is a measure of the asymmetry of the probability distribution of a dataset. In other words, it refers to how \n",
    "much the data is skewed or leans to one side or the other of the mean.\n",
    "\n",
    "If a dataset is perfectly symmetrical, its distribution is said to be \"normal\" or \"Gaussian,\" and its skewness is zero. However, \n",
    "in real-world datasets, skewness is common, and it can be positive, negative, or undefined.\n",
    "\n",
    "A dataset is positively skewed (or right-skewed) if its tail is longer on the right side of the distribution and its mean is \n",
    "larger than its median. This can happen when there are a few extremely high values in the dataset that skew the mean to the \n",
    "right. Conversely, a dataset is negatively skewed (or left-skewed) if its tail is longer on the left side of the distribution \n",
    "and its mean is smaller than its median. This can happen when there are a few extremely low values in the dataset that skew the \n",
    "mean to the left.\n",
    "\n",
    "Skewness is important to consider because it can affect the interpretation of statistical analyses. For example, when a dataset \n",
    "is positively skewed, the mean may overestimate the typical value of the dataset, and it may be more appropriate to use the \n",
    "median as a measure of central tendency. Conversely, when a dataset is negatively skewed, the mean may underestimate the typical \n",
    "value, and the median may be less appropriate.\n",
    "\n",
    "In summary, skewness is a measure of the asymmetry of the probability distribution of a dataset, and it is important to consider \n",
    "when analyzing and interpreting data.\n",
    "'''"
   ]
  },
  {
   "cell_type": "markdown",
   "id": "48997d43",
   "metadata": {},
   "source": [
    "#### Q9. If a data is right skewed then what will be the position of median with respect to mean?"
   ]
  },
  {
   "cell_type": "code",
   "execution_count": null,
   "id": "47b34cd0",
   "metadata": {},
   "outputs": [],
   "source": [
    "'''\n",
    "A dataset is positively skewed (or right-skewed) if its tail is longer on the right side of the distribution and its mean is \n",
    "larger than its median. This can happen when there are a few extremely high values in the dataset that skew the mean to the \n",
    "right\n",
    "'''"
   ]
  },
  {
   "cell_type": "markdown",
   "id": "6e2625ed",
   "metadata": {},
   "source": [
    "#### Q10. Explain the difference between covariance and correlation. How are these measures used in statistical analysis?"
   ]
  },
  {
   "cell_type": "code",
   "execution_count": null,
   "id": "ff87ad25",
   "metadata": {},
   "outputs": [],
   "source": [
    "'''\n",
    "Covariance and correlation are two measures that describe the relationship between two variables in a dataset.\n",
    "\n",
    "Covariance is a measure of the extent to which two variables change together. It measures how much two variables vary together, \n",
    "with a positive covariance indicating that they tend to increase or decrease together, and a negative covariance indicating that\n",
    "one variable tends to increase as the other decreases. However, covariance does not take into account the scale of the variables,\n",
    "so it is not standardized and can be difficult to interpret.\n",
    "\n",
    "Correlation, on the other hand, is a standardized measure of the linear relationship between two variables. It ranges from -1 to\n",
    "+1, with a correlation coefficient of +1 indicating a perfect positive relationship, a correlation coefficient of -1 indicating \n",
    "a perfect negative relationship, and a correlation coefficient of 0 indicating no relationship at all. Correlation takes into \n",
    "account the scale of the variables and is therefore easier to interpret than covariance.\n",
    "\n",
    "Both covariance and correlation are used in statistical analysis to investigate the relationship between two variables. They are\n",
    "particularly useful in regression analysis, where one variable is used to predict the other variable. A high correlation between\n",
    "two variables suggests that they may be good predictors of each other, while a low correlation suggests that they may not be \n",
    "related.\n",
    "\n",
    "However, it is important to note that correlation does not imply causation, meaning that just because two variables are \n",
    "correlated, it does not necessarily mean that one causes the other. Additional analysis and experiments are required to \n",
    "establish causality.\n",
    "'''"
   ]
  },
  {
   "cell_type": "markdown",
   "id": "d65474f4",
   "metadata": {},
   "source": [
    "#### Q11. What is the formula for calculating the sample mean? Provide an example calculation for a dataset."
   ]
  },
  {
   "cell_type": "code",
   "execution_count": null,
   "id": "f7bd0a96",
   "metadata": {},
   "outputs": [],
   "source": [
    "'''\n",
    "The formula for calculating the sample mean is:\n",
    "\n",
    "sample mean = (sum of all values in the sample) / (number of values in the sample)\n",
    "\n",
    "In other words, you add up all the values in the sample and divide by the number of values.\n",
    "\n",
    "Here is an example calculation for a dataset:\n",
    "\n",
    "Suppose we have the following dataset:\n",
    "\n",
    "[3, 6, 7, 8, 9]\n",
    "\n",
    "To calculate the sample mean, we add up all the values in the dataset and divide by the number of values:\n",
    "\n",
    "sample mean = (3 + 6 + 7 + 8 + 9) / 5\n",
    "sample mean = 33 / 5\n",
    "sample mean = 6.6\n",
    "\n",
    "Therefore, the sample mean for this dataset is 6.6.\n",
    "'''"
   ]
  },
  {
   "cell_type": "markdown",
   "id": "1ec9f382",
   "metadata": {},
   "source": [
    "#### Q12. For a normal distribution data what is the relationship between its measure of central tendency?"
   ]
  },
  {
   "cell_type": "code",
   "execution_count": null,
   "id": "e2f37d25",
   "metadata": {},
   "outputs": [],
   "source": [
    "# All three mean, median and mode values are almost same in case of normal distribution"
   ]
  },
  {
   "cell_type": "markdown",
   "id": "5c82d18f",
   "metadata": {},
   "source": [
    "#### Q13. How is covariance different from correlation?"
   ]
  },
  {
   "cell_type": "code",
   "execution_count": null,
   "id": "cbf79dad",
   "metadata": {},
   "outputs": [],
   "source": [
    "'''\n",
    "Covariance and correlation are two measures that describe the relationship between two variables in a dataset.\n",
    "\n",
    "Covariance is a measure of the extent to which two variables change together. It measures how much two variables vary together, \n",
    "with a positive covariance indicating that they tend to increase or decrease together, and a negative covariance indicating that\n",
    "one variable tends to increase as the other decreases. However, covariance does not take into account the scale of the variables,\n",
    "so it is not standardized and can be difficult to interpret.\n",
    "\n",
    "Correlation, on the other hand, is a standardized measure of the linear relationship between two variables. It ranges from -1 to\n",
    "+1, with a correlation coefficient of +1 indicating a perfect positive relationship, a correlation coefficient of -1 indicating \n",
    "a perfect negative relationship, and a correlation coefficient of 0 indicating no relationship at all. Correlation takes into \n",
    "account the scale of the variables and is therefore easier to interpret than covariance.\n",
    "'''"
   ]
  },
  {
   "cell_type": "markdown",
   "id": "d92090a5",
   "metadata": {},
   "source": [
    "#### Q14. How do outliers affect measures of central tendency and dispersion? Provide an example."
   ]
  },
  {
   "cell_type": "code",
   "execution_count": null,
   "id": "86db71a5",
   "metadata": {},
   "outputs": [],
   "source": [
    "'''\n",
    "\n",
    "Outliers are extreme values that fall far outside the range of the majority of the data points in a dataset. Outliers can \n",
    "significantly affect measures of central tendency and \n",
    "dispersion.\n",
    "\n",
    "In terms of measures of central tendency, outliers can have a significant impact on the mean, which is sensitive to extreme \n",
    "values. If there is an outlier in the dataset, the mean can be skewed in the direction of the outlier, giving a misleading \n",
    "representation of the typical value of the dataset. However, the median and mode are less affected by outliers since they are \n",
    "not sensitive to extreme values.\n",
    "\n",
    "In terms of measures of dispersion, outliers can also affect the range, variance, and standard deviation of a dataset. The \n",
    "range, which is the difference between the maximum and minimum values in the dataset, can be greatly influenced by the presence \n",
    "of an outlier. Similarly, the variance and standard deviation, which measure the spread of the data around the mean, can be \n",
    "affected by outliers, as they pull the measures of dispersion away from the majority of the data points.\n",
    "\n",
    "Here's an example:\n",
    "\n",
    "Suppose we have the following dataset of salaries for employees at a company:\n",
    "\n",
    "[50, 60, 70, 80, 90, 100, 200]\n",
    "\n",
    "In this dataset, 200 is an outlier since it is significantly larger than the other values. If we calculate the mean salary, it \n",
    "will be skewed by the outlier:\n",
    "\n",
    "mean = (50 + 60 + 70 + 80 + 90 + 100 + 200) / 7 = 93.57\n",
    "\n",
    "However, the median salary, which is not sensitive to outliers, is:\n",
    "\n",
    "median = 80\n",
    "\n",
    "Similarly, the range, variance, and standard deviation are affected by the outlier:\n",
    "\n",
    "range = 200 - 50 = 150\n",
    "variance = 3041.96\n",
    "standard deviation = 55.16\n",
    "\n",
    "In this example, the outlier significantly affects the mean, range, variance, and standard deviation, making them less \n",
    "representative of the typical salaries of the employees.\n",
    "'''"
   ]
  }
 ],
 "metadata": {
  "kernelspec": {
   "display_name": "Python 3 (ipykernel)",
   "language": "python",
   "name": "python3"
  },
  "language_info": {
   "codemirror_mode": {
    "name": "ipython",
    "version": 3
   },
   "file_extension": ".py",
   "mimetype": "text/x-python",
   "name": "python",
   "nbconvert_exporter": "python",
   "pygments_lexer": "ipython3",
   "version": "3.9.13"
  }
 },
 "nbformat": 4,
 "nbformat_minor": 5
}
