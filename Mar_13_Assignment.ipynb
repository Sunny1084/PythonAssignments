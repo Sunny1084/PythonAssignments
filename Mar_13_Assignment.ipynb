{
 "cells": [
  {
   "cell_type": "markdown",
   "id": "3f92e2e7",
   "metadata": {},
   "source": [
    "### Q1. Explain the assumptions required to use ANOVA and provide examples of violations that could impact the validity of the results."
   ]
  },
  {
   "cell_type": "code",
   "execution_count": null,
   "id": "ab51a36f",
   "metadata": {},
   "outputs": [],
   "source": [
    "'''\n",
    "Analysis of Variance (ANOVA) is a statistical technique used to compare the means of three or more groups to determine if there \n",
    "are statistically significant differences between them. To apply ANOVA correctly and interpret the results accurately, several \n",
    "assumptions need to be met. Violations of these assumptions can impact the validity of the ANOVA results. Here are the key \n",
    "assumptions for ANOVA:\n",
    "\n",
    "Independence of Observations: The observations within each group should be independent of each other. This means that the data \n",
    "points in one group should not be influenced by or related to the data points in other groups. Violation of this assumption can \n",
    "lead to inflated Type I error rates.\n",
    "\n",
    "Example of violation: If multiple measurements are taken from the same subject or if there is any form of clustering or \n",
    "dependence between observations in different groups.\n",
    "\n",
    "Normality: The residuals (the differences between observed values and group means) should follow a normal distribution. While \n",
    "this assumption is more critical for small sample sizes, ANOVA is known to be robust to mild departures from normality when the \n",
    "sample size is sufficiently large (e.g., Central Limit Theorem).\n",
    "\n",
    "Example of violation: If the residuals are skewed or have heavy tails, indicating a departure from normality.\n",
    "\n",
    "Homogeneity of Variance (Homoscedasticity): The variance of the residuals should be approximately equal across all groups. This \n",
    "assumption is crucial because ANOVA assumes that the populations from which the samples are drawn have the same variance.\n",
    "\n",
    "Example of violation: If some groups have much larger variances than others, it can lead to inaccurate p-values and decreased \n",
    "power.\n",
    "\n",
    "Equality of Group Sizes: Ideally, the sample sizes for each group should be equal, or at least, not substantially different. \n",
    "Unequal sample sizes can affect the power of the ANOVA test.\n",
    "\n",
    "Example of violation: If one group has a much larger sample size than the others, it may dominate the analysis, leading to \n",
    "biased results.\n",
    "\n",
    "Random Sampling: The data should be obtained through random sampling or an appropriate experimental design. This ensures that \n",
    "the sample is representative of the population from which it is drawn.\n",
    "\n",
    "Example of violation: If the sample is not random and is, for instance, subject to selection bias, the results may not be \n",
    "generalizable to the broader population.\n",
    "\n",
    "Independence of Errors: The errors (residuals) should be independent of each other. This assumption means that the error for one\n",
    "observation should not be related to the error for any other observation.\n",
    "\n",
    "Example of violation: If there is a temporal or spatial autocorrelation between errors in time series or spatial data, this \n",
    "assumption is violated.\n",
    "\n",
    "It's important to note that ANOVA is relatively robust to violations of the normality assumption, especially with larger sample \n",
    "sizes. However, violations of the other assumptions can seriously impact the validity of ANOVA results. In practice, when \n",
    "assumptions are violated, non-parametric alternatives or transformations of the data may be considered, or different \n",
    "statistical tests may be more appropriate.\n",
    "\n",
    "'''"
   ]
  },
  {
   "cell_type": "markdown",
   "id": "74e053ca",
   "metadata": {},
   "source": [
    "### Q2. What are the three types of ANOVA, and in what situations would each be used?"
   ]
  },
  {
   "cell_type": "code",
   "execution_count": null,
   "id": "3f529e51",
   "metadata": {},
   "outputs": [],
   "source": [
    "'''\n",
    "Analysis of Variance (ANOVA) comes in several forms, each suited to different experimental or research designs and objectives. \n",
    "The three primary types of ANOVA are:\n",
    "\n",
    "One-Way ANOVA:\n",
    "\n",
    "Use Case: One-Way ANOVA is used when you have one independent variable (a factor) with more than two levels or groups and you \n",
    "want to determine if there are significant differences in the means of these groups.\n",
    "Example: You want to test if there is a significant difference in the test scores of students who received three different \n",
    "types of teaching methods (A, B, and C).\n",
    "\n",
    "Two-Way ANOVA:\n",
    "\n",
    "Use Case: Two-Way ANOVA is used when you have two independent variables (factors) and you want to determine if there are \n",
    "interactions between these factors and if they have a significant effect on the dependent variable.\n",
    "Example: You want to analyze whether both the type of diet and the type of exercise have an impact on weight loss.\n",
    "\n",
    "Repeated Measures ANOVA:\n",
    "\n",
    "Use Case: Repeated Measures ANOVA is used when you have a single group of participants, and each participant is measured under \n",
    "all conditions or at multiple time points.\n",
    "Example: You want to analyze how the performance of a group of athletes changes over time under three different training \n",
    "regimes.\n",
    "Each type of ANOVA is used to answer different research questions and accounts for various experimental designs. Here's a bit\n",
    "more detail on each:\n",
    "\n",
    "'''"
   ]
  },
  {
   "cell_type": "markdown",
   "id": "07c9537f",
   "metadata": {},
   "source": [
    "### Q3. What is the partitioning of variance in ANOVA, and why is it important to understand this concept?"
   ]
  },
  {
   "cell_type": "code",
   "execution_count": null,
   "id": "9d3a6f4d",
   "metadata": {},
   "outputs": [],
   "source": [
    "'''\n",
    "The partitioning of variance in Analysis of Variance (ANOVA) refers to the process of decomposing the total variance in a \n",
    "dataset into different sources or components of variance. Understanding this concept is crucial in ANOVA because it helps \n",
    "researchers assess whether there are significant differences between groups or conditions and provides insights into the \n",
    "sources of these differences.\n",
    "\n",
    "In ANOVA, the total variance in the data is divided into three main components:\n",
    "\n",
    "Between-Group Variance (SSB): This component represents the variation between different groups or conditions being compared. It \n",
    "measures how much the means of these groups differ from each other. A larger between-group variance suggests that there are \n",
    "significant differences among the groups.\n",
    "\n",
    "Within-Group Variance (SSW): Also known as the error variance, this component represents the variation within each group or \n",
    "condition. It measures the extent to which individual data points within each group deviate from their group mean. Smaller \n",
    "within-group variance indicates that data points within each group are relatively consistent and close to their respective \n",
    "group means.\n",
    "\n",
    "Total Variance (SST): This is the overall variance in the entire dataset, and it is the sum of the between-group variance and \n",
    "the within-group variance. It measures the total variability in the data.\n",
    "\n",
    "The importance of the partitioning of variance is :\n",
    "\n",
    "If the between-group variance is much larger than the within-group variance, it suggests that there are significant group \n",
    "differences, and the null hypothesis (that there are no group differences) is rejected.\n",
    "\n",
    "If the within-group variance is much larger than the between-group variance, it implies that the observed differences are \n",
    "likely due to random variability, and there is no evidence to reject the null hypothesis.\n",
    "\n",
    "By understanding the partitioning of variance, researchers can interpret ANOVA results, identify which groups or conditions \n",
    "differ significantly (if any), and draw meaningful conclusions about their research hypotheses.\n",
    "'''"
   ]
  },
  {
   "cell_type": "markdown",
   "id": "39dff4bc",
   "metadata": {},
   "source": [
    "### Q4. How would you calculate the total sum of squares (SST), explained sum of squares (SSE), and residual sum of squares (SSR) in a one-way ANOVA using Python?"
   ]
  },
  {
   "cell_type": "code",
   "execution_count": null,
   "id": "27de495c",
   "metadata": {},
   "outputs": [],
   "source": [
    "'''\n",
    "In a one-way ANOVA, you can calculate the Total Sum of Squares (SST), Explained Sum of Squares (SSE), and Residual Sum of \n",
    "Squares (SSR) using Python by following these steps:\n",
    "\n",
    "Calculate the Total Sum of Squares (SST):\n",
    "\n",
    "SST measures the total variability in the data and is the sum of squared differences between each data point and the overall\n",
    "mean.\n",
    "'''"
   ]
  },
  {
   "cell_type": "code",
   "execution_count": 2,
   "id": "344f6393",
   "metadata": {},
   "outputs": [
    {
     "name": "stdout",
     "output_type": "stream",
     "text": [
      "454.93333333333334\n"
     ]
    }
   ],
   "source": [
    "import numpy as np\n",
    "\n",
    "# Example data for three groups\n",
    "group1 = np.array([12, 14, 15, 16, 18])\n",
    "group2 = np.array([20, 22, 24, 26, 28])\n",
    "group3 = np.array([10, 11, 12, 13, 15])\n",
    "\n",
    "# Combine data from all groups\n",
    "all_data = np.concatenate([group1, group2, group3])\n",
    "\n",
    "# Calculate overall mean\n",
    "overall_mean = np.mean(all_data)\n",
    "\n",
    "# Calculate SST\n",
    "sst = np.sum((all_data - overall_mean)**2)\n",
    "print(sst)"
   ]
  },
  {
   "cell_type": "code",
   "execution_count": null,
   "id": "74ecb175",
   "metadata": {},
   "outputs": [],
   "source": [
    "'''\n",
    "Calculate the Explained Sum of Squares (SSE):\n",
    "\n",
    "SSE measures the variability explained by the group means and is the sum of squared differences between each group mean and the \n",
    "overall mean, weighted by the number of data points in each group.\n",
    "'''"
   ]
  },
  {
   "cell_type": "code",
   "execution_count": 3,
   "id": "c74cd7fa",
   "metadata": {},
   "outputs": [
    {
     "name": "stdout",
     "output_type": "stream",
     "text": [
      "380.1333333333333\n"
     ]
    }
   ],
   "source": [
    "# Calculate group means\n",
    "group1_mean = np.mean(group1)\n",
    "group2_mean = np.mean(group2)\n",
    "group3_mean = np.mean(group3)\n",
    "\n",
    "# Calculate SSE\n",
    "sse = (len(group1) * (group1_mean - overall_mean)**2) + \\\n",
    "      (len(group2) * (group2_mean - overall_mean)**2) + \\\n",
    "      (len(group3) * (group3_mean - overall_mean)**2)\n",
    "\n",
    "print(sse)"
   ]
  },
  {
   "cell_type": "code",
   "execution_count": null,
   "id": "1ee55929",
   "metadata": {},
   "outputs": [],
   "source": [
    "'''\n",
    "Calculate the Residual Sum of Squares (SSR):\n",
    "\n",
    "SSR measures the unexplained variability or variability within each group and is the sum of squared differences between each \n",
    "data point and its respective group mean.\n",
    "'''"
   ]
  },
  {
   "cell_type": "code",
   "execution_count": 5,
   "id": "9c4aea7c",
   "metadata": {},
   "outputs": [
    {
     "name": "stdout",
     "output_type": "stream",
     "text": [
      "74.8\n"
     ]
    }
   ],
   "source": [
    "# Calculate SSR for each group\n",
    "ssr_group1 = np.sum((group1 - group1_mean)**2)\n",
    "ssr_group2 = np.sum((group2 - group2_mean)**2)\n",
    "ssr_group3 = np.sum((group3 - group3_mean)**2)\n",
    "\n",
    "# Calculate total SSR\n",
    "ssr = ssr_group1 + ssr_group2 + ssr_group3 \n",
    "print(ssr)"
   ]
  },
  {
   "cell_type": "markdown",
   "id": "230586ef",
   "metadata": {},
   "source": [
    "### Q5. In a two-way ANOVA, how would you calculate the main effects and interaction effects using Python?"
   ]
  },
  {
   "cell_type": "code",
   "execution_count": null,
   "id": "6eadd35b",
   "metadata": {},
   "outputs": [],
   "source": [
    "'''\n",
    "In a two-way ANOVA, you can calculate the main effects and interaction effects using Python by following these steps:\n",
    "\n",
    "Prepare Your Data:\n",
    "Make sure you have a dataset that includes at least three variables: two categorical independent variables (factors) and one \n",
    "dependent variable (response variable).\n",
    "\n",
    "Perform the Two-Way ANOVA:\n",
    "You can use Python libraries such as scipy.stats or statsmodels to perform the two-way ANOVA analysis. Here's a general \n",
    "outline:\n",
    "'''"
   ]
  },
  {
   "cell_type": "code",
   "execution_count": null,
   "id": "1bb51eba",
   "metadata": {},
   "outputs": [],
   "source": [
    "import statsmodels.api as sm\n",
    "from statsmodels.formula.api import ols\n",
    "\n",
    "# Assuming 'df' is your DataFrame\n",
    "formula = 'dependent_variable ~ C(factor1) + C(factor2) + C(factor1):C(factor2)'\n",
    "model = ols(formula, data=df).fit()\n",
    "results = sm.stats.anova_lm(model, typ=2)\n",
    "print(results)"
   ]
  },
  {
   "cell_type": "code",
   "execution_count": null,
   "id": "d1860cfb",
   "metadata": {},
   "outputs": [],
   "source": [
    "'''\n",
    "C(factor1) and C(factor2) indicate that factor1 and factor2 are categorical variables.\n",
    "C(factor1):C(factor2) represents the interaction between factor1 and factor2.\n",
    "Extract Main Effects and Interaction Effects:\n",
    "After performing the ANOVA, you can extract the main effects and interaction effects from the results:\n",
    "'''"
   ]
  },
  {
   "cell_type": "code",
   "execution_count": null,
   "id": "15f453a8",
   "metadata": {},
   "outputs": [],
   "source": [
    "main_effect_factor1 = results.loc['C(factor1)', 'F']\n",
    "main_effect_factor2 = results.loc['C(factor2)', 'F']\n",
    "interaction_effect = results.loc['C(factor1):C(factor2)', 'F']"
   ]
  },
  {
   "cell_type": "code",
   "execution_count": null,
   "id": "2e7b981c",
   "metadata": {},
   "outputs": [],
   "source": [
    "'''\n",
    "main_effect_factor1 and main_effect_factor2 represent the main effects of factor1 and factor2.\n",
    "interaction_effect represents the interaction effect between factor1 and factor2.\n",
    "Interpret the Results:\n",
    "You can now interpret the effects based on their significance levels (p-values) and magnitudes (F-statistics). Significant \n",
    "effects indicate that the corresponding factors or interactions have a significant impact on the dependent variable.\n",
    "\n",
    "Keep in mind that this is a simplified example, and the actual implementation may vary depending on your specific dataset and \n",
    "requirements. Additionally, you may want to perform post hoc tests or pairwise comparisons to further analyze significant \n",
    "effects and interactions.\n",
    "'''"
   ]
  },
  {
   "cell_type": "markdown",
   "id": "39583197",
   "metadata": {},
   "source": [
    "### Q6. Suppose you conducted a one-way ANOVA and obtained an F-statistic of 5.23 and a p-value of 0.02. What can you conclude about the differences between the groups, and how would you interpret these results?"
   ]
  },
  {
   "cell_type": "code",
   "execution_count": null,
   "id": "302132dd",
   "metadata": {},
   "outputs": [],
   "source": [
    "'''\n",
    "When conducting a one-way ANOVA and obtaining an F-statistic and p-value, you can draw conclusions based on the significance \n",
    "level (alpha) typically set at 0.05. Here's how to interpret the results:\n",
    "\n",
    "F-Statistic: The F-statistic measures the ratio of the variance between groups (explained variance) to the variance within \n",
    "groups (unexplained variance). In this case, you obtained an F-statistic of 5.23.\n",
    "\n",
    "P-Value: The p-value associated with the F-statistic indicates the probability of obtaining the observed F-statistic \n",
    "(or a more extreme value) under the null hypothesis that there are no significant differences between the group means.\n",
    "\n",
    "Now, let's interpret these results:\n",
    "\n",
    "Null Hypothesis (H0): The null hypothesis in ANOVA is that there are no significant differences between the means of the groups.\n",
    "In other words, all group means are equal.\n",
    "\n",
    "Alternative Hypothesis (Ha): The alternative hypothesis is that there is at least one group with a different mean from the \n",
    "others.\n",
    "\n",
    "Based on the results:\n",
    "\n",
    "If the p-value is less than your chosen significance level (alpha), typically 0.05, you reject the null hypothesis (H0). In \n",
    "this case, the p-value is 0.02, which is less than 0.05.\n",
    "\n",
    "Therefore, you conclude that there is sufficient evidence to suggest that at least one group mean is significantly different \n",
    "from the others.\n",
    "\n",
    "However, the F-statistic alone doesn't tell you which group or groups are different. To identify which groups are different, \n",
    "you may need to perform post hoc tests or pairwise comparisons.\n",
    "\n",
    "In summary, with an F-statistic of 5.23 and a p-value of 0.02, you can conclude that there are significant differences between \n",
    "the groups' means. Further analyses are needed to determine which specific groups differ from each other.\n",
    "'''"
   ]
  },
  {
   "cell_type": "markdown",
   "id": "505a3df8",
   "metadata": {},
   "source": [
    "### Q7. In a repeated measures ANOVA, how would you handle missing data, and what are the potential consequences of using different methods to handle missing data?"
   ]
  },
  {
   "cell_type": "code",
   "execution_count": null,
   "id": "4a3f81e1",
   "metadata": {},
   "outputs": [],
   "source": [
    "'''\n",
    "Handling missing data in a repeated measures ANOVA is essential for obtaining accurate and reliable results. There are several \n",
    "methods for dealing with missing data, each with its advantages and potential consequences:\n",
    "\n",
    "Listwise Deletion (Complete Case Analysis):\n",
    "\n",
    "Method: Remove all cases with any missing data from the analysis.\n",
    "Pros: Simple to implement, maintains the sample size for analysis.\n",
    "Cons: Reduces statistical power, may introduce bias if missing data is not completely random, and can result in loss of \n",
    "valuable information.\n",
    "\n",
    "Pairwise Deletion (Available Case Analysis):\n",
    "\n",
    "Method: Analyze each pairwise combination of variables with available data, ignoring missing data.\n",
    "Pros: Retains more data than listwise deletion, simple to implement.\n",
    "Cons: May lead to different sample sizes for different comparisons, can result in biased estimates if data is not missing at \n",
    "random.\n",
    "\n",
    "Imputation Methods:\n",
    "\n",
    "Method: Replace missing values with estimated values based on observed data or statistical methods (e.g., mean imputation, \n",
    "median imputation, regression imputation).\n",
    "Pros: Retains all cases, preserves statistical power, and can provide unbiased estimates if imputation model is appropriate.\n",
    "Cons: Choice of imputation method can impact results, may introduce bias if imputation model is misspecified, and standard \n",
    "errors should be adjusted to account for imputation uncertainty.\n",
    "\n",
    "Maximum Likelihood Estimation (MLE):\n",
    "\n",
    "Method: Use advanced statistical techniques to estimate parameters while accounting for missing data directly in the analysis.\n",
    "Pros: Provides unbiased parameter estimates and valid statistical tests if the missing data mechanism is correctly modeled.\n",
    "Cons: Complex to implement, may require specialized software, and assumptions about the missing data mechanism must be met.\n",
    "The choice of method depends on the nature of the data, the pattern of missingness, and the goals of the analysis. It's essential to carefully consider the potential consequences of each method:\n",
    "\n",
    "Biased Estimates: Using listwise deletion or inappropriate imputation methods can lead to biased parameter estimates.\n",
    "\n",
    "Loss of Power: Listwise deletion and pairwise deletion reduce the effective sample size, resulting in reduced statistical power.\n",
    "\n",
    "Invalid Tests: Ignoring missing data or using inappropriate methods can lead to invalid statistical tests and incorrect \n",
    "conclusions.\n",
    "\n",
    "Assumptions: Imputation methods and MLE may require assumptions about the missing data mechanism, which should be assessed and \n",
    "tested.\n",
    "\n",
    "Impact on Generalizability: The method chosen can affect the generalizability of the results to the population.\n",
    "\n",
    "In summary, the handling of missing data in repeated measures ANOVA should be done thoughtfully, taking into account the data's \n",
    "characteristics and the potential impact on the validity and reliability of the analysis. Consulting with a statistician or \n",
    "data analyst experienced in missing data handling is advisable when dealing with complex missing data scenarios.\n",
    "'''"
   ]
  },
  {
   "cell_type": "markdown",
   "id": "84aaa972",
   "metadata": {},
   "source": [
    "### Q8. What are some common post-hoc tests used after ANOVA, and when would you use each one? Provide an example of a situation where a post-hoc test might be necessary."
   ]
  },
  {
   "cell_type": "code",
   "execution_count": null,
   "id": "40fd6b1c",
   "metadata": {},
   "outputs": [],
   "source": [
    "'''\n",
    "Post-hoc tests are used in ANOVA (Analysis of Variance) to make pairwise comparisons between groups when the omnibus ANOVA test \n",
    "indicates a significant difference among at least three groups. Common post-hoc tests include:\n",
    "\n",
    "Tukey's Honestly Significant Difference (Tukey's HSD):\n",
    "\n",
    "When to Use: Tukey's HSD is used when you have performed a one-way ANOVA and found a significant difference among groups. It's \n",
    "a conservative test that controls the familywise error rate.\n",
    "Example: Suppose you conducted an ANOVA to compare the exam scores of students who received different types of coaching \n",
    "(A, B, C), and the ANOVA result showed a significant difference. Tukey's HSD can be used to determine which specific coaching \n",
    "types led to significantly different scores.\n",
    "\n",
    "Bonferroni Correction:\n",
    "\n",
    "When to Use: Bonferroni correction is used when you want to control the experimentwise error rate by adjusting the significance \n",
    "level for multiple comparisons.\n",
    "Example: If you have multiple pairwise comparisons to make (e.g., comparing the effects of different drug treatments on various \n",
    "symptoms), you can apply Bonferroni correction to ensure that the overall Type I error rate is controlled.\n",
    "\n",
    "Scheffé's Method:\n",
    "\n",
    "When to Use: Scheffé's method is a conservative post-hoc test that is used when you have unequal sample sizes and want to make \n",
    "pairwise comparisons while controlling the experimentwise error rate.\n",
    "Example: Imagine you conducted an ANOVA to compare the performance of students across different schools, but the schools have \n",
    "different numbers of students. Scheffé's method can be used for comparisons that adjust for these inequalities.\n",
    "\n",
    "Dunnett's Test:\n",
    "\n",
    "When to Use: Dunnett's test is used when you have one control group and want to compare it to multiple treatment groups. It's \n",
    "suitable for situations where you have a control group for reference.\n",
    "Example: If you're conducting a drug trial with one control group and several experimental groups receiving different \n",
    "medications, Dunnett's test can help you determine which experimental groups differ significantly from the control.\n",
    "\n",
    "Fisher's Least Significant Difference (LSD):\n",
    "\n",
    "When to Use: Fisher's LSD is a less conservative post-hoc test used when you want to make pairwise comparisons without \n",
    "controlling for experimentwise error. It's best used when you have a specific reason not to control for multiple comparisons.\n",
    "Example: In some exploratory analyses, you may want to quickly identify groups that appear different from one another. Fisher's \n",
    "LSD can be used for this purpose.\n",
    "\n",
    "Games-Howell Test:\n",
    "\n",
    "When to Use: Games-Howell is used when you have unequal variances and sample sizes among groups and want to perform post-hoc \n",
    "pairwise comparisons.\n",
    "Example: In a study comparing the effects of different fertilizers on plant growth, you observe unequal variances and sample \n",
    "sizes among the fertilizer groups. Games-Howell can be applied to make comparisons while accommodating these differences.\n",
    "The choice of post-hoc test depends on your specific research questions, the nature of your data, and your desired control over \n",
    "Type I error rates. It's essential to carefully consider the appropriate post-hoc test for your study design to draw valid \n",
    "conclusions from your ANOVA results.\n",
    "'''"
   ]
  },
  {
   "cell_type": "markdown",
   "id": "a1d87133",
   "metadata": {},
   "source": [
    "### Q9. A researcher wants to compare the mean weight loss of three diets: A, B, and C. They collect data from 50 participants who were randomly assigned to one of the diets. Conduct a one-way ANOVA using Python to determine if there are any significant differences between the mean weight loss of the three diets. Report the F-statistic and p-value, and interpret the results."
   ]
  },
  {
   "cell_type": "code",
   "execution_count": 8,
   "id": "b26c239b",
   "metadata": {},
   "outputs": [
    {
     "name": "stdout",
     "output_type": "stream",
     "text": [
      "F-statistic: 10.081632653061222\n",
      "p-value: 0.002697284008268878\n",
      "Reject the null hypothesis. There is a significant difference between the mean weight loss of the three diets.\n"
     ]
    }
   ],
   "source": [
    "import scipy.stats as stats\n",
    "\n",
    "# Data for weight loss in each diet group\n",
    "diet_a = [2.3, 1.8, 3.2, 2.5, 2.7]  # Replace with your data for Diet A\n",
    "diet_b = [1.9, 2.0, 1.5, 2.1, 1.8]  # Replace with your data for Diet B\n",
    "diet_c = [2.8, 2.7, 3.0, 2.6, 2.9]  # Replace with your data for Diet C\n",
    "\n",
    "# Perform one-way ANOVA\n",
    "f_statistic, p_value = stats.f_oneway(diet_a, diet_b, diet_c)\n",
    "\n",
    "# Print the results\n",
    "print(\"F-statistic:\", f_statistic)\n",
    "print(\"p-value:\", p_value)\n",
    "\n",
    "# Interpret the results\n",
    "alpha = 0.05  # Set your significance level\n",
    "if p_value < alpha:\n",
    "    print(\"Reject the null hypothesis. There is a significant difference between the mean weight loss of the three diets.\")\n",
    "else:\n",
    "    print(\"Fail to reject the null hypothesis. There is no significant difference between the mean weight loss of the three diets.\")"
   ]
  },
  {
   "cell_type": "markdown",
   "id": "8038c6b7",
   "metadata": {},
   "source": [
    "### Q10. A company wants to know if there are any significant differences in the average time it takes to complete a task using three different software programs: Program A, Program B, and Program C. They randomly assign 30 employees to one of the programs and record the time it takes each employee to complete the task. Conduct a two-way ANOVA using Python to determine if there are any main effects or interaction effects between the software programs and employee experience level (novice vs. experienced). Report the F-statistics and p-values, and interpret the results."
   ]
  },
  {
   "cell_type": "code",
   "execution_count": null,
   "id": "154c02ef",
   "metadata": {},
   "outputs": [],
   "source": [
    "import pandas as pd\n",
    "import statsmodels.api as sm\n",
    "from statsmodels.formula.api import ols\n",
    "\n",
    "# Create a DataFrame with your data\n",
    "data = pd.read_csv('your_data.csv')  # Replace 'your_data.csv' with your data file\n",
    "\n",
    "# Define a linear model\n",
    "model = ols('Time ~ Program + Experience + Program:Experience', data=data).fit()\n",
    "\n",
    "# Perform two-way ANOVA\n",
    "anova_table = sm.stats.anova_lm(model, typ=2)\n",
    "\n",
    "# Print the ANOVA table\n",
    "print(anova_table)\n",
    "\n",
    "# Interpret the results\n",
    "alpha = 0.05  # Set your significance level\n",
    "\n",
    "# Check for main effects of Program and Experience\n",
    "if anova_table['PR(>F)']['Program'] < alpha:\n",
    "    print(\"There is a significant main effect of Program.\")\n",
    "else:\n",
    "    print(\"There is no significant main effect of Program.\")\n",
    "\n",
    "if anova_table['PR(>F)']['Experience'] < alpha:\n",
    "    print(\"There is a significant main effect of Experience.\")\n",
    "else:\n",
    "    print(\"There is no significant main effect of Experience.\")\n",
    "\n",
    "# Check for interaction effect\n",
    "if anova_table['PR(>F)']['Program:Experience'] < alpha:\n",
    "    print(\"There is a significant interaction effect between Program and Experience.\")\n",
    "else:\n",
    "    print(\"There is no significant interaction effect between Program and Experience.\")\n",
    "Replace 'your_data.csv' with the filename of your data file, and ensure that your data file has columns named 'Time', 'Program', and 'Experience' (or adjust the column names in the code accordingly)."
   ]
  },
  {
   "cell_type": "markdown",
   "id": "fcdad956",
   "metadata": {},
   "source": [
    "### Q11. An educational researcher is interested in whether a new teaching method improves student test scores. They randomly assign 100 students to either the control group (traditional teaching method) or the experimental group (new teaching method) and administer a test at the end of the semester. Conduct a two-sample t-test using Python to determine if there are any significant differences in test scores between the two groups. If the results are significant, follow up with a post-hoc test to determine which group(s) differ significantly from each other."
   ]
  },
  {
   "cell_type": "code",
   "execution_count": null,
   "id": "208a9ef9",
   "metadata": {},
   "outputs": [],
   "source": [
    "import pandas as pd\n",
    "import scipy.stats as stats\n",
    "import statsmodels.api as sm\n",
    "from statsmodels.stats.multicomp import pairwise_tukeyhsd\n",
    "\n",
    "# Create a DataFrame with your data\n",
    "data = pd.read_csv('your_data.csv')  # Replace 'your_data.csv' with your data file\n",
    "\n",
    "# Split the data into control and experimental groups\n",
    "control_group = data[data['Group'] == 'Control']['Test_Scores']\n",
    "experimental_group = data[data['Group'] == 'Experimental']['Test_Scores']\n",
    "\n",
    "# Perform a two-sample t-test\n",
    "t_stat, p_value = stats.ttest_ind(control_group, experimental_group)\n",
    "\n",
    "# Interpret the results\n",
    "alpha = 0.05  # Set your significance level\n",
    "\n",
    "if p_value < alpha:\n",
    "    print(\"There is a significant difference in test scores between the control and experimental groups.\")\n",
    "else:\n",
    "    print(\"There is no significant difference in test scores between the groups.\")\n",
    "\n",
    "# If the results are significant, perform a post-hoc test (Tukey's HSD)\n",
    "if p_value < alpha:\n",
    "    data['Group'] = data['Group'].astype('category')\n",
    "    posthoc = pairwise_tukeyhsd(data['Test_Scores'], data['Group'], alpha=alpha)\n",
    "    print(posthoc)\n",
    "\n",
    "    # Interpret the post-hoc results\n",
    "    posthoc_summary = posthoc.summary()\n",
    "    print(posthoc_summary)"
   ]
  },
  {
   "cell_type": "markdown",
   "id": "6e2ab314",
   "metadata": {},
   "source": [
    "### Q12. A researcher wants to know if there are any significant differences in the average daily sales of three retail stores: Store A, Store B, and Store C. They randomly select 30 days and record the sales for each store on those days. Conduct a repeated measures ANOVA using Python to determine if there are any significant differences in sales between the three stores. If the results are significant, follow up with a post- hoc test to determine which store(s) differ significantly from each other. "
   ]
  },
  {
   "cell_type": "code",
   "execution_count": null,
   "id": "ebe4c7c3",
   "metadata": {},
   "outputs": [],
   "source": [
    "import pandas as pd\n",
    "import statsmodels.api as sm\n",
    "from statsmodels.formula.api import ols\n",
    "from statsmodels.stats.anova import AnovaRM\n",
    "from statsmodels.stats.multicomp import MultiComparison\n",
    "\n",
    "# Create a DataFrame with your data\n",
    "data = pd.read_csv('your_data.csv')  # Replace 'your_data.csv' with your data file\n",
    "\n",
    "# Create a repeated measures ANOVA model\n",
    "model = ols('Sales ~ Store', data=data).fit()\n",
    "\n",
    "# Perform the repeated measures ANOVA\n",
    "anova = AnovaRM(data, 'Sales', 'Store').fit()\n",
    "\n",
    "# Interpret the results of the repeated measures ANOVA\n",
    "print(anova.summary())\n",
    "\n",
    "# If the results are significant, perform a post-hoc test (e.g., Tukey's HSD)\n",
    "if anova.pvalues['Store'] < 0.05:\n",
    "    mc = MultiComparison(data['Sales'], data['Store'])\n",
    "    posthoc = mc.tukeyhsd()\n",
    "    print(posthoc.summary())\n",
    "\n",
    "    # Interpret the post-hoc results\n",
    "    print(posthoc.plot_simultaneous())"
   ]
  },
  {
   "cell_type": "code",
   "execution_count": null,
   "id": "0929620a",
   "metadata": {},
   "outputs": [],
   "source": []
  }
 ],
 "metadata": {
  "kernelspec": {
   "display_name": "Python 3 (ipykernel)",
   "language": "python",
   "name": "python3"
  },
  "language_info": {
   "codemirror_mode": {
    "name": "ipython",
    "version": 3
   },
   "file_extension": ".py",
   "mimetype": "text/x-python",
   "name": "python",
   "nbconvert_exporter": "python",
   "pygments_lexer": "ipython3",
   "version": "3.9.13"
  }
 },
 "nbformat": 4,
 "nbformat_minor": 5
}
