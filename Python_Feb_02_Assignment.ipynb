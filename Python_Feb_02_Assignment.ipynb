{
 "cells": [
  {
   "cell_type": "markdown",
   "id": "57d58acb",
   "metadata": {},
   "source": [
    "#### Q1. What are the characteristics of the tuples? Is tuple immutable? "
   ]
  },
  {
   "cell_type": "markdown",
   "id": "51f0aa27",
   "metadata": {},
   "source": [
    "#### Ans Tuple items are ordered, unchangeable, and allow duplicate values.Tuple items are indexed, the first item has index [0], the second item has index [1] etc. Tuple is immutable, we change the tuple."
   ]
  },
  {
   "cell_type": "markdown",
   "id": "dfede5a8",
   "metadata": {},
   "source": [
    "#### Q2. What are the two tuple methods in python? Give an example of each method. Give a reason why tuples have only two in-built methods as compared to Lists."
   ]
  },
  {
   "cell_type": "code",
   "execution_count": 3,
   "id": "439b4e64",
   "metadata": {},
   "outputs": [
    {
     "name": "stdout",
     "output_type": "stream",
     "text": [
      "2\n",
      "1\n"
     ]
    }
   ],
   "source": [
    "# Ans count() and index() are two tuple methods, count() method will give the number of occurence of the given value and index()\n",
    "# will return the first index of given value\n",
    "\n",
    "a = (1,2,3,4,5,5,3,2,6,7,6)\n",
    "print(a.count(3))\n",
    "print(a.index(2))\n",
    "\n",
    "# Tuples have only two in-built methods because tuple is immutable, you cannot change items of a tuple once it is assigned\n",
    "# we have list as well to use different type of method."
   ]
  },
  {
   "cell_type": "markdown",
   "id": "bc5c7df9",
   "metadata": {},
   "source": [
    "#### Q3. Which collection datatypes in python do not allow duplicate items? Write a code using a set to remove duplicates from the given list."
   ]
  },
  {
   "cell_type": "code",
   "execution_count": 4,
   "id": "5c59c02c",
   "metadata": {},
   "outputs": [
    {
     "data": {
      "text/plain": [
       "{1, 2, 3, 4}"
      ]
     },
     "execution_count": 4,
     "metadata": {},
     "output_type": "execute_result"
    }
   ],
   "source": [
    "# Ans set data type in python which do not allowed duplicates\n",
    "\n",
    "List = [1, 1, 1, 2, 1, 3, 1, 4, 2, 1, 2, 2, 2, 3, 2, 4, 3, 1, 3, 2, 3, 3, 3, 4, 4, 1, 4, 2, 4, 3, 4, 4]\n",
    "set(List)"
   ]
  },
  {
   "cell_type": "markdown",
   "id": "121fcf81",
   "metadata": {},
   "source": [
    "#### Q4. Explain the difference between the union() and update() methods for a set. Give an example of each method."
   ]
  },
  {
   "cell_type": "code",
   "execution_count": 11,
   "id": "14e11e6b",
   "metadata": {},
   "outputs": [
    {
     "name": "stdout",
     "output_type": "stream",
     "text": [
      "A =  {1, 2, 3, 4, 5}\n",
      "C =  {1, 2, 3, 4, 5, 6, 7}\n",
      "A After update method  {1, 2, 3, 4, 5, 6, 7}\n"
     ]
    }
   ],
   "source": [
    "# Ans Both union() and update() methods are used to union two set, difference is that where union() method create and return \n",
    "# a new set, containing all the elements ( distinct ) present in all the iterables, update() method updates the set on which \n",
    "# this method is called with all the distinct elements present in all the iterables.\n",
    "# Example of union method\n",
    "\n",
    "A = {1,2,3,4,5}\n",
    "B = {4,5,6,7}\n",
    "C =A.union(B)\n",
    "print(\"A = \",A)\n",
    "print('C = ',C)\n",
    "\n",
    "# Example \n",
    "A.update(B)\n",
    "print('A After update method ',A)"
   ]
  },
  {
   "cell_type": "markdown",
   "id": "8ca9f2b3",
   "metadata": {},
   "source": [
    "#### Q5. What is a dictionary? Give an example. Also, state whether a dictionary is ordered or unordered."
   ]
  },
  {
   "cell_type": "code",
   "execution_count": 13,
   "id": "796797ac",
   "metadata": {},
   "outputs": [
    {
     "name": "stdout",
     "output_type": "stream",
     "text": [
      "{'FirstName': 'Sunny', 'SecondName': 'Singh', 'MobileNo.': '8178985642'}\n"
     ]
    }
   ],
   "source": [
    "# Ans Dictionary is a data type in python which stores data in the form of key value pair.\n",
    "# As of Python version 3.7, dictionaries are ordered. In Python 3.6 and earlier, dictionaries are unordered.\n",
    "\n",
    "# Example \n",
    "dic = {'FirstName':'Sunny', 'SecondName': 'Singh', 'MobileNo.':'8178985642'}\n",
    "print(dic)"
   ]
  },
  {
   "cell_type": "markdown",
   "id": "bb753a9d",
   "metadata": {},
   "source": [
    "#### Q6. Can we create a nested dictionary? If so, please give an example by creating a simple one-level nested dictionary."
   ]
  },
  {
   "cell_type": "code",
   "execution_count": 14,
   "id": "73c07439",
   "metadata": {},
   "outputs": [],
   "source": [
    "# Ans Yes, we can create nested dictionary. for example\n",
    "\n",
    "test = {'Institute':'PWSkills', 'Courses':{'Data Science':'Python','Developer':'Javascript'}}"
   ]
  },
  {
   "cell_type": "code",
   "execution_count": 15,
   "id": "99bff435",
   "metadata": {},
   "outputs": [
    {
     "data": {
      "text/plain": [
       "{'Institute': 'PWSkills',\n",
       " 'Courses': {'Data Science': 'Python', 'Developer': 'Javascript'}}"
      ]
     },
     "execution_count": 15,
     "metadata": {},
     "output_type": "execute_result"
    }
   ],
   "source": [
    "test"
   ]
  },
  {
   "cell_type": "markdown",
   "id": "f2f899f3",
   "metadata": {},
   "source": [
    "#### Q7. Using setdefault() method, create key named topics in the given dictionary and also add the value of the key as this list['Python', 'Machine Learning’, 'Deep Learning'] dict1 = {'language' : 'Python', 'course': 'Data Science Masters'} "
   ]
  },
  {
   "cell_type": "code",
   "execution_count": 18,
   "id": "22f8609e",
   "metadata": {},
   "outputs": [
    {
     "data": {
      "text/plain": [
       "{'language': 'Python',\n",
       " 'course': 'Data Science Masters',\n",
       " 'topics': ['Python', 'Machine Learning', 'Deep Learning']}"
      ]
     },
     "execution_count": 18,
     "metadata": {},
     "output_type": "execute_result"
    }
   ],
   "source": [
    "dict1 = {'language' : 'Python', 'course': 'Data Science Masters'}\n",
    "\n",
    "dict1.setdefault('topics',['Python', 'Machine Learning', 'Deep Learning'])\n",
    "\n",
    "dict1"
   ]
  },
  {
   "cell_type": "markdown",
   "id": "dc6f9b78",
   "metadata": {},
   "source": [
    "#### Q8. What are the three view objects in dictionaries? Use the three in-built methods in python to display these three view objects for the given dictionary."
   ]
  },
  {
   "cell_type": "code",
   "execution_count": 20,
   "id": "40309f4f",
   "metadata": {},
   "outputs": [
    {
     "name": "stdout",
     "output_type": "stream",
     "text": [
      "All the keys are :  dict_keys(['Sport', 'Teams'])\n",
      "All the values are :  dict_values(['Cricket', ['India', 'Australia', 'England', 'South Africa', 'Sri Lanka', 'New Zealand']])\n",
      "All the items are :  dict_items([('Sport', 'Cricket'), ('Teams', ['India', 'Australia', 'England', 'South Africa', 'Sri Lanka', 'New Zealand'])])\n"
     ]
    }
   ],
   "source": [
    "# Ans The main view objects of dictionary in python are keys, values and items\n",
    "\n",
    "dict1 = {'Sport': 'Cricket' , 'Teams': ['India', 'Australia', 'England', 'South Africa', 'Sri Lanka', 'New Zealand']}\n",
    "\n",
    "key = dict1.keys()\n",
    "value = dict1.values()\n",
    "item = dict1.items()\n",
    "print(\"All the keys are : \",key)\n",
    "print(\"All the values are : \",value)\n",
    "print(\"All the items are : \",item)"
   ]
  },
  {
   "cell_type": "code",
   "execution_count": null,
   "id": "7717092e",
   "metadata": {},
   "outputs": [],
   "source": [
    "\n",
    "\n"
   ]
  },
  {
   "cell_type": "code",
   "execution_count": null,
   "id": "2ca3a9ac",
   "metadata": {},
   "outputs": [],
   "source": []
  }
 ],
 "metadata": {
  "kernelspec": {
   "display_name": "Python 3 (ipykernel)",
   "language": "python",
   "name": "python3"
  },
  "language_info": {
   "codemirror_mode": {
    "name": "ipython",
    "version": 3
   },
   "file_extension": ".py",
   "mimetype": "text/x-python",
   "name": "python",
   "nbconvert_exporter": "python",
   "pygments_lexer": "ipython3",
   "version": "3.9.13"
  }
 },
 "nbformat": 4,
 "nbformat_minor": 5
}
