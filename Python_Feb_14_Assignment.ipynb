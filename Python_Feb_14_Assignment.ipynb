{
 "cells": [
  {
   "cell_type": "markdown",
   "id": "8afbc7bb",
   "metadata": {},
   "source": [
    "#### Q1. What is multithreading in python? Why is it used? Name the module used to handle threads in python"
   ]
  },
  {
   "cell_type": "code",
   "execution_count": null,
   "id": "f1bcd166",
   "metadata": {},
   "outputs": [],
   "source": [
    "\"\"\"\n",
    "Ans In Python, multithreading refers to the technique of executing multiple threads (smaller units of a process) simultaneously\n",
    "within a single process. Each thread runs independently and performs its own task. Multithreading is used to improve the \n",
    "performance and efficiency of a program by allowing it to perform multiple tasks at the same time.\n",
    "\n",
    "In Python, multithreading is used for several purposes such as parallel processing, input/output operations, and network \n",
    "operations. For example, a web server can use multithreading to handle multiple client requests simultaneously without waiting \n",
    "for each request to complete before handling the next one.\n",
    "\n",
    "The threading module in Python is used to handle threads. This module provides a simple and easy-to-use API for creating and \n",
    "managing threads in Python. It allows programmers to create multiple threads within a single program, and provides \n",
    "synchronization primitives such as locks, semaphores, and condition variables to help prevent race conditions and other \n",
    "concurrency issues. The threading module is built on top of the lower-level _thread module, which provides the core \n",
    "functionality for working with threads in Python.\n",
    "\n",
    "\"\"\""
   ]
  },
  {
   "cell_type": "markdown",
   "id": "90d1d7de",
   "metadata": {},
   "source": [
    "#### Q2. Why threading module used? Write the use of the following functions 1. activeCount()  2.currentThread()  3.enumerate()"
   ]
  },
  {
   "cell_type": "code",
   "execution_count": null,
   "id": "a9b30a7e",
   "metadata": {},
   "outputs": [],
   "source": [
    "\"\"\"\n",
    "The threading module in Python is used to implement multithreading in a program. It allows a program to execute multiple threads\n",
    "concurrently, thereby improving the program's performance and efficiency. The threading module provides several useful functions\n",
    "for working with threads, including the following:\n",
    "\n",
    "1. activeCount(): This function returns the number of thread objects that are currently active in the program. It is useful for\n",
    "monitoring the progress of a multithreaded program and can be used to determine whether all threads have completed their tasks.\n",
    "\n",
    "2. currentThread(): This function returns a reference to the current thread object that is executing the function. It is useful\n",
    "for getting information about the current thread, such as its name, identification number, and other attributes.\n",
    "\n",
    "3. enumerate(): This function returns a list of all thread objects that are currently active in the program. It is useful for \n",
    "iterating over all the threads and performing some action on each one. The function can be called with an optional argument to \n",
    "specify whether to include only daemon threads or all threads.\n",
    "\n",
    "\"\"\""
   ]
  },
  {
   "cell_type": "markdown",
   "id": "13d10a48",
   "metadata": {},
   "source": [
    "#### Q4. Write a python program to create two threads. Thread one must print the list of squares and thread two must print the list of cubes"
   ]
  },
  {
   "cell_type": "code",
   "execution_count": 4,
   "id": "07a41dce",
   "metadata": {},
   "outputs": [],
   "source": [
    "import threading\n",
    "\n",
    "def squarethread(num):\n",
    "    print(num*num)\n",
    "\n",
    "def cubethread(num):\n",
    "    print(num*num*num)\n",
    "\n",
    "thread1 = [threading.Thread(target = squarethread, args = (i,)) for i in [1,2,3,4]]\n",
    "\n",
    "thread2 = [threading.Thread(target = cubethread, args = (i,)) for i in [1,2,3,4]]\n"
   ]
  },
  {
   "cell_type": "code",
   "execution_count": 5,
   "id": "e99aca9f",
   "metadata": {},
   "outputs": [
    {
     "name": "stdout",
     "output_type": "stream",
     "text": [
      "1\n",
      "4\n",
      "9\n",
      "16\n",
      "1\n",
      "8\n",
      "27\n",
      "64\n"
     ]
    }
   ],
   "source": [
    "for x in thread1:\n",
    "    x.start()\n",
    "\n",
    "for y in thread2:\n",
    "    y.start()"
   ]
  },
  {
   "cell_type": "markdown",
   "id": "8a1c945e",
   "metadata": {},
   "source": [
    "#### Q5. State advantages and disadvantages of multithreading "
   ]
  },
  {
   "cell_type": "code",
   "execution_count": null,
   "id": "69646717",
   "metadata": {},
   "outputs": [],
   "source": [
    "\"\"\"\n",
    "Advantages:\n",
    "\n",
    "1. Improved performance: Multithreading allows multiple threads to execute simultaneously, leading to faster and more efficient \n",
    "execution of programs.\n",
    "2. Responsiveness: Multithreading allows a program to remain responsive to user input, even if some of the threads are busy \n",
    "executing other tasks.\n",
    "3. Resource sharing: Threads can share resources, such as memory and files, leading to more efficient use of system resources.\n",
    "4. Modularity: Multithreading can help to modularize complex programs, making them easier to understand, maintain, and update.\n",
    "5. Parallelism: Multithreading can enable parallelism, which allows multiple independent tasks to execute at the same time, \n",
    "improving overall system throughput.\n",
    "\n",
    "Disadvantages:\n",
    "\n",
    "1. Complexity: Multithreading can add complexity to programming, particularly when coordinating the execution of multiple \n",
    "threads and ensuring thread safety.\n",
    "2. Deadlocks: Multithreading can lead to deadlocks, where threads are waiting for resources that are held by other threads, \n",
    "leading to a system freeze.\n",
    "3. Race conditions: Multithreading can also lead to race conditions, where the behavior of a program depends on the order \n",
    "in which threads execute, leading to unpredictable results.\n",
    "4. Debugging: Debugging multithreaded programs can be challenging, particularly when trying to reproduce and diagnose \n",
    "issues that occur only in certain thread interleavings.\n",
    "5. Overhead: Multithreading can introduce overhead, such as the cost of context switching and thread synchronization, \n",
    "which can impact overall system performance.\n",
    "\n",
    "\"\"\""
   ]
  },
  {
   "cell_type": "markdown",
   "id": "5b6c5d66",
   "metadata": {},
   "source": [
    "#### Q6 Explain deadlocks and race conditions."
   ]
  },
  {
   "cell_type": "code",
   "execution_count": null,
   "id": "84770925",
   "metadata": {},
   "outputs": [],
   "source": [
    "# Ans Deadlocks: Multithreading can lead to deadlocks, where threads are waiting for resources that are held by other threads, \n",
    "# leading to a system freeze.\n",
    "# Race conditions: Multithreading can also lead to race conditions, where the behavior of a program depends on the order \n",
    "# in which threads execute, leading to unpredictable results."
   ]
  },
  {
   "cell_type": "code",
   "execution_count": null,
   "id": "f1f8015d",
   "metadata": {},
   "outputs": [],
   "source": []
  }
 ],
 "metadata": {
  "kernelspec": {
   "display_name": "Python 3 (ipykernel)",
   "language": "python",
   "name": "python3"
  },
  "language_info": {
   "codemirror_mode": {
    "name": "ipython",
    "version": 3
   },
   "file_extension": ".py",
   "mimetype": "text/x-python",
   "name": "python",
   "nbconvert_exporter": "python",
   "pygments_lexer": "ipython3",
   "version": "3.9.13"
  }
 },
 "nbformat": 4,
 "nbformat_minor": 5
}
