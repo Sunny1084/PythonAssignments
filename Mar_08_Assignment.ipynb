{
 "cells": [
  {
   "cell_type": "markdown",
   "id": "19f8548a",
   "metadata": {},
   "source": [
    "#### Q1. What is the Probability density function?"
   ]
  },
  {
   "cell_type": "code",
   "execution_count": null,
   "id": "b5743f2f",
   "metadata": {},
   "outputs": [],
   "source": [
    "'''\n",
    "The Probability Density Function (PDF) is a function that describes the likelihood of a random variable taking on a particular \n",
    "value or set of values. In other words, it represents the distribution of probabilities for a continuous random variable.\n",
    "\n",
    "The PDF is defined as the derivative of the Cumulative Distribution Function (CDF), which gives the probability that a random \n",
    "variable takes on a value less than or equal to a specific value.\n",
    "'''"
   ]
  },
  {
   "cell_type": "markdown",
   "id": "f7477e00",
   "metadata": {},
   "source": [
    "#### Q2. What are the types of Probability distribution?"
   ]
  },
  {
   "cell_type": "code",
   "execution_count": null,
   "id": "ce02ec20",
   "metadata": {},
   "outputs": [],
   "source": [
    "'''\n",
    "There are many types of probability distributions, but some of the most common ones are:\n",
    "\n",
    "Bernoulli Distribution: A discrete probability distribution that represents the outcome of a single trial with two possible \n",
    "outcomes, usually labeled as success and failure.\n",
    "\n",
    "Binomial Distribution: A discrete probability distribution that represents the number of successes in a fixed number of \n",
    "independent trials with the same probability of success.\n",
    "\n",
    "Poisson Distribution: A discrete probability distribution that represents the number of times an event occurs in a fixed \n",
    "interval of time or space, given that the events occur randomly and independently of each other.\n",
    "\n",
    "Normal Distribution: A continuous probability distribution that is symmetric, bell-shaped, and represents many natural \n",
    "phenomena such as heights, weights, and test scores.\n",
    "'''"
   ]
  },
  {
   "cell_type": "markdown",
   "id": "003a0990",
   "metadata": {},
   "source": [
    "#### Q3. Write a Python function to calculate the probability density function of a normal distribution with given mean and standard deviation at a given point."
   ]
  },
  {
   "cell_type": "code",
   "execution_count": 4,
   "id": "222c9891",
   "metadata": {},
   "outputs": [],
   "source": [
    "import scipy.stats as stat\n",
    "\n",
    "def cal_pdf(mean, sd):\n",
    "    return stat.norm(loc=mean, scale=sd).pdf(0)"
   ]
  },
  {
   "cell_type": "code",
   "execution_count": 5,
   "id": "075d1af8",
   "metadata": {},
   "outputs": [
    {
     "data": {
      "text/plain": [
       "1.3053019206829942e-84"
      ]
     },
     "execution_count": 5,
     "metadata": {},
     "output_type": "execute_result"
    }
   ],
   "source": [
    "cal_pdf(45, 2.3)"
   ]
  },
  {
   "cell_type": "markdown",
   "id": "8c04160f",
   "metadata": {},
   "source": [
    "#### Q4. What are the properties of Binomial distribution? Give two examples of events where binomial distribution can be applied."
   ]
  },
  {
   "cell_type": "code",
   "execution_count": null,
   "id": "4de91883",
   "metadata": {},
   "outputs": [],
   "source": [
    "'''\n",
    "The Binomial distribution has the following properties:\n",
    "\n",
    "The experiment consists of a fixed number of independent trials.\n",
    "Each trial has only two possible outcomes, which are usually labeled as success and failure.\n",
    "The probability of success (p) is the same for each trial.\n",
    "The trials are independent, meaning that the outcome of one trial does not affect the outcome of any other trial.\n",
    "The random variable of interest is the number of successes (k) in the fixed number of trials.\n",
    "Some examples of events where the Binomial distribution can be applied are:\n",
    "\n",
    "Flipping a coin a fixed number of times and counting the number of heads. Since each coin flip has only two possible outcomes \n",
    "(heads or tails), and the probability of getting heads is the same for each flip, we can model the number of heads as a Binomial\n",
    "distribution.\n",
    "\n",
    "Conducting a survey with a fixed number of participants and recording the number who answer \"yes\" to a particular question. \n",
    "Since each participant can either answer \"yes\" or \"no,\" and the probability of answering \"yes\" is the same for each participant,\n",
    "we can model the number of \"yes\" responses as a Binomial distribution.\n",
    "\n",
    "In general, the Binomial distribution can be applied to any situation that satisfies the above properties, where we are \n",
    "interested in counting the number of successes in a fixed number of independent trials, each with the same probability of \n",
    "success.\n",
    "'''"
   ]
  },
  {
   "cell_type": "markdown",
   "id": "83cd014b",
   "metadata": {},
   "source": [
    "#### Q5. Generate a random sample of size 1000 from a binomial distribution with probability of success 0.4 and plot a histogram of the results using matplotlib."
   ]
  },
  {
   "cell_type": "code",
   "execution_count": 6,
   "id": "a3e81958",
   "metadata": {},
   "outputs": [
    {
     "data": {
      "image/png": "[encoded data removed]",
      "text/plain": [
       "<Figure size 640x480 with 1 Axes>"
      ]
     },
     "metadata": {},
     "output_type": "display_data"
    }
   ],
   "source": [
    "import numpy as np\n",
    "import matplotlib.pyplot as plt\n",
    "\n",
    "# set the probability of success\n",
    "p = 0.4\n",
    "\n",
    "# generate a random sample of size 1000 from a Binomial distribution\n",
    "sample = np.random.binomial(n=1, p=p, size=1000)\n",
    "\n",
    "# plot a histogram of the results\n",
    "plt.hist(sample, bins=2, density=True, alpha=0.5)\n",
    "plt.title(\"Binomial Distribution\")\n",
    "plt.xlabel(\"Number of Successes\")\n",
    "plt.ylabel(\"Density\")\n",
    "plt.show()"
   ]
  },
  {
   "cell_type": "markdown",
   "id": "821af141",
   "metadata": {},
   "source": [
    "#### Q6. Write a Python function to calculate the cumulative distribution function of a Poisson distribution with given mean at a given point. "
   ]
  },
  {
   "cell_type": "code",
   "execution_count": 1,
   "id": "02caa939",
   "metadata": {},
   "outputs": [
    {
     "name": "stdout",
     "output_type": "stream",
     "text": [
      "CDF at point 2 for mean 3.5: 0.3208\n"
     ]
    }
   ],
   "source": [
    "import math\n",
    "\n",
    "def poisson_cdf(mean, k):\n",
    "    if mean <= 0 or k < 0:\n",
    "        raise ValueError(\"Mean and k must be non-negative\")\n",
    "\n",
    "    cdf = 0\n",
    "    for i in range(k + 1):\n",
    "        cdf += math.exp(-mean) * (mean ** i) / math.factorial(i)\n",
    "\n",
    "    return cdf\n",
    "\n",
    "# Example usage\n",
    "mean = 3.5\n",
    "point = 2\n",
    "cdf_value = poisson_cdf(mean, point)\n",
    "print(f\"CDF at point {point} for mean {mean}: {cdf_value:.4f}\")\n",
    "\n"
   ]
  },
  {
   "cell_type": "markdown",
   "id": "74827ef3",
   "metadata": {},
   "source": [
    "### Q7. How Binomial distribution different from Poisson distribution?"
   ]
  },
  {
   "cell_type": "code",
   "execution_count": null,
   "id": "4fba8591",
   "metadata": {},
   "outputs": [],
   "source": [
    "'''\n",
    "The Binomial distribution and the Poisson distribution are two of the most commonly used probability distributions in\n",
    "statistics. Although they share some similarities, they are fundamentally different in their assumptions and applications \n",
    "\n",
    "The key differences between the two distributions are as follows:\n",
    "\n",
    "The Binomial distribution is used to model the probability of obtaining a certain number of successes in a fixed number of \n",
    "independent trials, where each trial has only two possible outcomes (success or failure) and the probability of success is \n",
    "constant across all trials. In contrast, the Poisson distribution is used to model the probability of a certain number of \n",
    "events occurring in a fixed interval of time or space, where the events occur randomly and independently of each other, and \n",
    "the average rate of occurrence is constant across all intervals 12.\n",
    "\n",
    "The Binomial distribution has two parameters: the number of trials (n) and the probability of success (p). The Poisson \n",
    "distribution has only one parameter: the average rate of occurrence (λ) 12.\n",
    "\n",
    "The Binomial distribution is discrete, meaning that it can only take on integer values. The Poisson distribution is also \n",
    "discrete, but it can take on any non-negative integer value 12.\n",
    "\n",
    "The Binomial distribution is symmetric when p=0.5, meaning that the mean, median, and mode are all equal. The Poisson \n",
    "distribution is skewed to the right, meaning that the mean is greater than the median and mode\n",
    "'''"
   ]
  },
  {
   "cell_type": "markdown",
   "id": "5f7f7b06",
   "metadata": {},
   "source": [
    "### Q8. Generate a random sample of size 1000 from a Poisson distribution with mean 5 and calculate the sample mean and variance."
   ]
  },
  {
   "cell_type": "code",
   "execution_count": 2,
   "id": "b13aaea2",
   "metadata": {},
   "outputs": [
    {
     "name": "stdout",
     "output_type": "stream",
     "text": [
      "Sample Mean: 5.0120\n",
      "Sample Variance: 4.9339\n"
     ]
    }
   ],
   "source": [
    "import numpy as np\n",
    "\n",
    "# Parameters\n",
    "mean = 5\n",
    "sample_size = 1000\n",
    "\n",
    "# Generate random sample from Poisson distribution\n",
    "random_sample = np.random.poisson(mean, size=sample_size)\n",
    "\n",
    "# Calculate sample mean and variance\n",
    "sample_mean = np.mean(random_sample)\n",
    "sample_variance = np.var(random_sample)\n",
    "\n",
    "print(f\"Sample Mean: {sample_mean:.4f}\")\n",
    "print(f\"Sample Variance: {sample_variance:.4f}\")"
   ]
  },
  {
   "cell_type": "markdown",
   "id": "28a5406a",
   "metadata": {},
   "source": [
    "### Q9. How mean and variance are related in Binomial distribution and Poisson distribution?"
   ]
  },
  {
   "cell_type": "code",
   "execution_count": null,
   "id": "c8ca5e4a",
   "metadata": {},
   "outputs": [],
   "source": [
    "'''\n",
    "The Binomial distribution and the Poisson distribution are two probability distributions that are used to model the number of \n",
    "occurrences of some event. The Binomial distribution is used to model the number of successes in a fixed number of trials, \n",
    "while the Poisson distribution is used to model the number of events that occur during a fixed time interval 12.\n",
    "\n",
    "In a Binomial distribution, the mean is equal to n * p, where n is the number of trials and p is the probability of success on \n",
    "each trial. The variance is equal to n * p * (1 - p) 1.\n",
    "\n",
    "In a Poisson distribution, both the mean and variance are equal to λ, which represents the average number of events that occur \n",
    "during a fixed time interval\n",
    "'''"
   ]
  },
  {
   "cell_type": "markdown",
   "id": "f424a60a",
   "metadata": {},
   "source": [
    "### Q10. In normal distribution with respect to mean position, where does the least frequent data appear? "
   ]
  },
  {
   "cell_type": "code",
   "execution_count": null,
   "id": "d0ca0c7d",
   "metadata": {},
   "outputs": [],
   "source": [
    "'''\n",
    "In a normal distribution, the data is symmetrically distributed with no skew. When plotted on a graph, the data follows a bell \n",
    "shape, with most values clustering around a central region and tapering off as they go further away from the center 1. The mean,\n",
    "median, and mode are exactly the same in a normal distribution 1. The empirical rule, or the 68-95-99.7 rule, tells you where \n",
    "most of your values lie in a normal distribution: Around 68% of values are within 1 standard deviation from the mean. \n",
    "Around 95% of values are within 2 standard deviations from the mean. Around 99.7% of values are within 3 standard deviations \n",
    "from the mean 1. Therefore, there is no least frequent data in a normal distribution with respect to mean position.\n",
    "'''"
   ]
  },
  {
   "cell_type": "code",
   "execution_count": null,
   "id": "347ec11b",
   "metadata": {},
   "outputs": [],
   "source": []
  },
  {
   "cell_type": "code",
   "execution_count": null,
   "id": "306e80c7",
   "metadata": {},
   "outputs": [],
   "source": []
  }
 ],
 "metadata": {
  "kernelspec": {
   "display_name": "Python 3 (ipykernel)",
   "language": "python",
   "name": "python3"
  },
  "language_info": {
   "codemirror_mode": {
    "name": "ipython",
    "version": 3
   },
   "file_extension": ".py",
   "mimetype": "text/x-python",
   "name": "python",
   "nbconvert_exporter": "python",
   "pygments_lexer": "ipython3",
   "version": "3.9.13"
  }
 },
 "nbformat": 4,
 "nbformat_minor": 5
}
