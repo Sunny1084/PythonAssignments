{
 "cells": [
  {
   "cell_type": "markdown",
   "id": "de99925b",
   "metadata": {},
   "source": [
    "### Q1: What is the difference between a t-test and a z-test? Provide an example scenario where you would use each type of test."
   ]
  },
  {
   "cell_type": "code",
   "execution_count": null,
   "id": "fb08353c",
   "metadata": {},
   "outputs": [],
   "source": [
    "'''\n",
    "A t-test and a z-test are both statistical tests used to determine whether a sample mean is significantly different from a \n",
    "hypothesized population mean. The main difference between the two tests is that a t-test is used when the sample size is small \n",
    "or when the population standard deviation is unknown, while a z-test is used when the sample size is large and the population \n",
    "standard deviation is known.\n",
    "\n",
    "For example, suppose we want to test whether the average height of male students in a university is 6 feet. If we have a sample \n",
    "size of 30 students and do not know the population standard deviation, we would use a t-test. On the other hand, if we have a \n",
    "sample size of 300 students and know the population standard deviation, we would use a z-test.\n",
    "\n",
    "Here’s how you can perform a t-test in Python:\n",
    "'''"
   ]
  },
  {
   "cell_type": "code",
   "execution_count": 1,
   "id": "f226376b",
   "metadata": {},
   "outputs": [
    {
     "name": "stdout",
     "output_type": "stream",
     "text": [
      "For T Test\n",
      "Reject null hypothesis\n",
      "For Z Test\n",
      "Reject null hypothesis\n"
     ]
    }
   ],
   "source": [
    "# for T test\n",
    "print(\"For T Test\")\n",
    "import scipy.stats as stats\n",
    "\n",
    "# Define the sample mean, hypothesized population mean, sample standard deviation, and sample size\n",
    "x_bar = 70\n",
    "mu = 75\n",
    "s = 8\n",
    "n = 30\n",
    "\n",
    "# Calculate the t-statistic\n",
    "t = (x_bar - mu) / (s / (n ** 0.5))\n",
    "\n",
    "# Find the critical value for a one-tailed test with 29 degrees of freedom and a significance level of 0.05\n",
    "cv = stats.t.ppf(0.05, df=29)\n",
    "\n",
    "# Compare the t-statistic to the critical value and print the result\n",
    "if t < cv:\n",
    "    print(\"Reject null hypothesis\")\n",
    "else:\n",
    "    print(\"Fail to reject null hypothesis\")\n",
    "    \n",
    "print('For Z Test')\n",
    "import scipy.stats as stats\n",
    "\n",
    "# Define the sample mean, hypothesized population mean, population standard deviation, and sample size\n",
    "x_bar = 70\n",
    "mu = 75\n",
    "sigma = 8\n",
    "n = 300\n",
    "\n",
    "# Calculate the z-statistic\n",
    "z = (x_bar - mu) / (sigma / (n ** 0.5))\n",
    "\n",
    "# Find the critical value for a one-tailed test with a significance level of 0.05\n",
    "cv = stats.norm.ppf(0.05)\n",
    "\n",
    "# Compare the z-statistic to the critical value and print the result\n",
    "if z < cv:\n",
    "    print(\"Reject null hypothesis\")\n",
    "else:\n",
    "    print(\"Fail to reject null hypothesis\")"
   ]
  },
  {
   "cell_type": "markdown",
   "id": "4555d697",
   "metadata": {},
   "source": [
    "### Q2: Differentiate between one-tailed and two-tailed tests."
   ]
  },
  {
   "cell_type": "code",
   "execution_count": null,
   "id": "7b98648a",
   "metadata": {},
   "outputs": [],
   "source": [
    "'''\n",
    "In hypothesis testing, a one-tailed test is a statistical test in which the alternative hypothesis is directional, meaning that \n",
    "it tests for an effect in one direction only. For example, if we want to test whether a new drug is more effective than an \n",
    "existing drug, we would use a one-tailed test with the alternative hypothesis being that the new drug is better than the \n",
    "existing drug. One-tailed tests are used when we have a specific directional hypothesis and want to maximize our statistical \n",
    "power to detect an effect in that direction.\n",
    "\n",
    "On the other hand, a two-tailed test is a statistical test in which the alternative hypothesis is non-directional, meaning that \n",
    "it tests for an effect in either direction. For example, if we want to test whether a coin is biased, we would use a two-tailed \n",
    "test with the alternative hypothesis being that the coin is not fair. Two-tailed tests are used when we do not have a specific \n",
    "directional hypothesis or when we want to test for the possibility of an effect in either direction.\n",
    "'''"
   ]
  },
  {
   "cell_type": "markdown",
   "id": "1856b7c9",
   "metadata": {},
   "source": [
    "### Q3: Explain the concept of Type 1 and Type 2 errors in hypothesis testing. Provide an example scenario for each type of error."
   ]
  },
  {
   "cell_type": "code",
   "execution_count": null,
   "id": "9c70e92b",
   "metadata": {},
   "outputs": [],
   "source": [
    "'''\n",
    "A Type I error occurs when we reject the null hypothesis when it is actually true. For example, suppose we want to test whether \n",
    "a coin is fair and set our significance level at 0.05. If we flip the coin 100 times and get 60 heads, we would reject the null \n",
    "hypothesis that the coin is fair and conclude that it is biased towards heads. However, if the coin is actually fair, we have \n",
    "made a Type I error by rejecting the null hypothesis.\n",
    "\n",
    "A Type II error occurs when we fail to reject the null hypothesis when it is actually false. For example, suppose we want to \n",
    "test whether a new drug is effective in treating a disease and set our significance level at 0.05. If the drug is actually \n",
    "effective but we fail to detect this effect due to small sample size or measurement errors, we have made a Type II error by \n",
    "failing to reject the null hypothesis.\n",
    "'''"
   ]
  },
  {
   "cell_type": "markdown",
   "id": "98bcd4da",
   "metadata": {},
   "source": [
    "### Q4: Explain Bayes's theorem with an example."
   ]
  },
  {
   "cell_type": "code",
   "execution_count": null,
   "id": "592d7cc9",
   "metadata": {},
   "outputs": [],
   "source": [
    "'''\n",
    "Bayes’s theorem is a mathematical formula used to calculate conditional probabilities. It describes the probability of an event \n",
    "based on prior knowledge of conditions that might be related to the event. The formula for Bayes’s theorem is:\n",
    "\n",
    "P(A|B) = P(B|A) * P(A) / P(B)\n",
    "\n",
    "where P(A|B) is the probability of A given B, P(B|A) is the probability of B given A, P(A) is the prior probability of A, and \n",
    "P(B) is the prior probability of B.\n",
    "\n",
    "For example, suppose we have a medical test that can detect a certain disease. The test has a false positive rate of 5% and a \n",
    "false negative rate of 1%. This means that if a person has the disease, there is a 99% chance that the test will be positive, \n",
    "and if a person does not have the disease, there is a 5% chance that the test will be positive.\n",
    "\n",
    "Suppose we know that 1% of the population has the disease. If we randomly select a person from the population and administer the \n",
    "test, what is the probability that the person has the disease given that the test is positive?\n",
    "\n",
    "Using Bayes’s theorem, we can calculate:\n",
    "\n",
    "P(Disease|Positive) = P(Positive|Disease) * P(Disease) / P(Positive)\n",
    "\n",
    "where Disease is the event that a person has the disease, Positive is the event that the test is positive, and \n",
    "P(Disease|Positive) is the probability that a person has the disease given that the test is positive.\n",
    "\n",
    "Substituting in our values, we get:\n",
    "\n",
    "P(Disease|Positive) = 0.99 * 0.01 / (0.99 * 0.01 + 0.05 * 0.99)\n",
    "\n",
    "Simplifying this expression, we get:\n",
    "\n",
    "P(Disease|Positive) = 0.1667\n",
    "\n",
    "Therefore, if a person tests positive for the disease, there is only a 16.67% chance that they actually have it.\n",
    "'''"
   ]
  },
  {
   "cell_type": "markdown",
   "id": "5c374dce",
   "metadata": {},
   "source": [
    "### Q5: What is a confidence interval? How to calculate the confidence interval, explain with an example."
   ]
  },
  {
   "cell_type": "code",
   "execution_count": 2,
   "id": "ee213274",
   "metadata": {},
   "outputs": [
    {
     "data": {
      "text/plain": [
       "'\\nA confidence interval is a range of values that is constructed around a sample statistic (e.g., the sample mean or sample \\nproportion) to provide an estimate of the true population parameter (e.g., the population mean or population proportion) with a \\nspecified level of confidence. In other words, it is a way to quantify the uncertainty associated with estimating a population \\nparameter based on a sample.\\n\\nThe formula to calculate a confidence interval:\\n\\nConfidence Interval = Sample Mean ± Margin of Error\\n'"
      ]
     },
     "execution_count": 2,
     "metadata": {},
     "output_type": "execute_result"
    }
   ],
   "source": [
    "'''\n",
    "A confidence interval is a range of values that is constructed around a sample statistic (e.g., the sample mean or sample \n",
    "proportion) to provide an estimate of the true population parameter (e.g., the population mean or population proportion) with a \n",
    "specified level of confidence. In other words, it is a way to quantify the uncertainty associated with estimating a population \n",
    "parameter based on a sample.\n",
    "\n",
    "The formula to calculate a confidence interval:\n",
    "\n",
    "Confidence Interval = Sample Mean ± Margin of Error\n",
    "\n",
    "CI = X̄ ± Z * (σ / √n)\n",
    "\n",
    "where CI is the confidence interval, X̄ is the sample mean, Z is the critical value from the standard normal distribution \n",
    "corresponding to the desired level of confidence, σ is the population standard deviation, and n is the sample size.\n",
    "\n",
    "Example : suppose we want to estimate the average height of all students in a university with 95% confidence. We take a random \n",
    "sample of 50 students and find that their average height is 68 inches with a standard deviation of 3 inches.\n",
    "'''"
   ]
  },
  {
   "cell_type": "code",
   "execution_count": 3,
   "id": "128309fb",
   "metadata": {},
   "outputs": [
    {
     "name": "stdout",
     "output_type": "stream",
     "text": [
      "We are 95% confident that the true average height of all students in the university falls between 67.2 and 68.8 inches.\n"
     ]
    }
   ],
   "source": [
    "# Code to calculate the confidence interval\n",
    "\n",
    "import scipy.stats as stats\n",
    "import math\n",
    "\n",
    "# Define the sample mean, population standard deviation, and sample size\n",
    "x_bar = 68\n",
    "sigma = 3\n",
    "n = 50\n",
    "\n",
    "# Find the critical value for a two-tailed test with a significance level of 0.05\n",
    "z = stats.norm.ppf(0.975)\n",
    "\n",
    "# Calculate the confidence interval\n",
    "ci_low = x_bar - z * (sigma / math.sqrt(n))\n",
    "ci_high = x_bar + z * (sigma / math.sqrt(n))\n",
    "\n",
    "# Print the result\n",
    "print(f\"We are 95% confident that the true average height of all students in the university falls between {ci_low:.1f} and {ci_high:.1f} inches.\")"
   ]
  },
  {
   "cell_type": "markdown",
   "id": "39ab10cb",
   "metadata": {},
   "source": [
    "### Q6. Use Bayes' Theorem to calculate the probability of an event occurring given prior knowledge of the event's probability and new evidence. Provide a sample problem and solution."
   ]
  },
  {
   "cell_type": "code",
   "execution_count": null,
   "id": "9bf03747",
   "metadata": {},
   "outputs": [],
   "source": [
    "'''\n",
    "Bayes’ theorem is a mathematical formula used to calculate conditional probabilities. It describes the probability of an event \n",
    "based on prior knowledge of conditions that might be related to the event. The formula for Bayes’ theorem is:\n",
    "\n",
    "P(A|B) = P(B|A) * P(A) / P(B)\n",
    "\n",
    "where P(A|B) is the probability of A given B, P(B|A) is the probability of B given A, P(A) is the prior probability of A, and \n",
    "P(B) is the prior probability of B.\n",
    "\n",
    "For example, suppose we have a bag containing 10 red balls and 20 blue balls. We randomly select a ball from the bag and find \n",
    "that it is blue. What is the probability that the next ball we select will also be blue?\n",
    "'''"
   ]
  },
  {
   "cell_type": "code",
   "execution_count": 4,
   "id": "9e4b738d",
   "metadata": {},
   "outputs": [
    {
     "name": "stdout",
     "output_type": "stream",
     "text": [
      "The probability that the next ball selected will be blue given that the first ball selected was blue is 0.6552.\n"
     ]
    }
   ],
   "source": [
    "# Code to calculate the probability \n",
    "p_blue1 = 20 / 30\n",
    "p_blue2 = 20 / 30\n",
    "\n",
    "# Define the conditional probabilities\n",
    "p_blue1_given_blue2 = 19 / 29\n",
    "\n",
    "# Calculate the posterior probability\n",
    "p_blue2_given_blue1 = p_blue1_given_blue2 * p_blue2 / p_blue1\n",
    "\n",
    "# Print the result\n",
    "print(f\"The probability that the next ball selected will be blue given that the first ball selected was blue is {p_blue2_given_blue1:.4f}.\")"
   ]
  },
  {
   "cell_type": "markdown",
   "id": "7ceacde6",
   "metadata": {},
   "source": [
    "### Q7. Calculate the 95% confidence interval for a sample of data with a mean of 50 and a standard deviation of 5. Interpret the results."
   ]
  },
  {
   "cell_type": "code",
   "execution_count": 6,
   "id": "1b0cd0e6",
   "metadata": {},
   "outputs": [
    {
     "name": "stdout",
     "output_type": "stream",
     "text": [
      "We are 95% confident that the true average height of all students in the university falls between 48.2 and 51.8 inches.\n"
     ]
    }
   ],
   "source": [
    "# Code to calculate the confidence interval\n",
    "\n",
    "import scipy.stats as stats\n",
    "import math\n",
    "\n",
    "# Define the sample mean, population standard deviation, and sample size\n",
    "x_bar = 50\n",
    "sigma = 5\n",
    "n = 30\n",
    "\n",
    "# Find the critical value for a two-tailed test with a significance level of 0.05\n",
    "z = stats.norm.ppf(0.975)\n",
    "\n",
    "# Calculate the confidence interval\n",
    "ci_low = x_bar - z * (sigma / math.sqrt(n))\n",
    "ci_high = x_bar + z * (sigma / math.sqrt(n))\n",
    "\n",
    "# Print the result\n",
    "print(f\"We are 95% confident that the true average height of all students in the university falls between {ci_low:.1f} and {ci_high:.1f} inches.\")"
   ]
  },
  {
   "cell_type": "markdown",
   "id": "3dac1cdc",
   "metadata": {},
   "source": [
    "### Q8. What is the margin of error in a confidence interval? How does sample size affect the margin of error? Provide an example of a scenario where a larger sample size would result in a smaller margin of error."
   ]
  },
  {
   "cell_type": "code",
   "execution_count": null,
   "id": "1d144a97",
   "metadata": {},
   "outputs": [],
   "source": [
    "'''\n",
    "The margin of error is a measure of the precision of an estimate. It represents the range of values within which we expect the \n",
    "true population parameter to lie with a certain degree of confidence. \n",
    "\n",
    "Margin of Error = Z * (s / sqrt(n))\n",
    "\n",
    "where:\n",
    "\n",
    "Z is the z-score for the desired level of confidence\n",
    "s is the sample standard deviation\n",
    "n is the sample size\n",
    "As we can see from these formulas, the margin of error decreases as the sample size increases. This is because a larger sample \n",
    "size reduces the variability in our estimates and increases our confidence in their accuracy. Conversely, a smaller sample size \n",
    "leads to a larger margin of error and less precise estimates.\n",
    "\n",
    "For example, suppose we want to estimate the proportion of voters in a city who support a particular candidate. If we take a \n",
    "small sample of 50 voters and find that 60% support the candidate, then our estimate has a margin of error of approximately 14% \n",
    "at 95% confidence level. However, if we increase our sample size to 500 voters, then our margin of error decreases to \n",
    "approximately 4%. This means that we can be more confident that our estimate is accurate with a larger sample size\n",
    "'''"
   ]
  },
  {
   "cell_type": "markdown",
   "id": "8aeffd08",
   "metadata": {},
   "source": [
    "### Q9. Calculate the z-score for a data point with a value of 75, a population mean of 70, and a population standard deviation of 5. Interpret the results. "
   ]
  },
  {
   "cell_type": "code",
   "execution_count": 7,
   "id": "af3a6a33",
   "metadata": {},
   "outputs": [
    {
     "name": "stdout",
     "output_type": "stream",
     "text": [
      "The z-score for the data point is: 1.0\n"
     ]
    }
   ],
   "source": [
    "import numpy as np\n",
    "from scipy.stats import norm\n",
    "\n",
    "# Defining variables\n",
    "x = 75\n",
    "mu = 70\n",
    "sigma = 5\n",
    "\n",
    "# Calculating z-score\n",
    "z = (x - mu) / sigma\n",
    "\n",
    "# Printing z-score\n",
    "print(\"The z-score for the data point is:\", z)"
   ]
  },
  {
   "cell_type": "markdown",
   "id": "7d9671db",
   "metadata": {},
   "source": [
    "### Q10. In a study of the effectiveness of a new weight loss drug, a sample of 50 participants lost an average of 6 pounds with a standard deviation of 2.5 pounds. Conduct a hypothesis test to determine if the drug is significantly effective at a 95% confidence level using a t-test."
   ]
  },
  {
   "cell_type": "code",
   "execution_count": null,
   "id": "30def191",
   "metadata": {},
   "outputs": [],
   "source": [
    "'''\n",
    "To conduct a hypothesis test to determine if the drug is significantly effective at a 95% confidence level using a t-test, \n",
    "we need to set up the null and alternative hypotheses. The null hypothesis is that the drug is not significantly effective, \n",
    "while the alternative hypothesis is that the drug is significantly effective. We can express these hypotheses as follows:\n",
    "\n",
    "H0: μ = 0\n",
    "Ha: μ ≠ 0\n",
    "where:\n",
    "\n",
    "μ is the population mean weight loss\n",
    "We can use a one-sample t-test to test these hypotheses. The formula for the t-statistic is given by:\n",
    "\n",
    "t = (X - μ) / (s / sqrt(n))\n",
    "\n",
    "where:\n",
    "\n",
    "X is the sample mean (6 in this case)\n",
    "μ is the population mean (0 in this case under null hypothesis)\n",
    "s is the sample standard deviation (2.5 in this case)\n",
    "n is the sample size (50 in this case)\n",
    "\n",
    "Substituting these values, we get:\n",
    "\n",
    "t = (6 - 0) / (2.5 / sqrt(50)) = 12\n",
    "\n",
    "The degrees of freedom for this test are n - 1 = 49. Using a t-table or a calculator, we can find that the critical value for a \n",
    "two-tailed test with 49 degrees of freedom and a 95% confidence level is approximately ±2.009 1.\n",
    "\n",
    "Since our calculated t-value of 12 is much larger than the critical value of ±2.009, we can reject the null hypothesis and \n",
    "conclude that the drug is significantly effective at a 95% confidence level \n",
    "\n",
    "'''"
   ]
  },
  {
   "cell_type": "markdown",
   "id": "2152c37d",
   "metadata": {},
   "source": [
    "### Q11. In a survey of 500 people, 65% reported being satisfied with their current job. Calculate the 95% confidence interval for the true proportion of people who are satisfied with their job."
   ]
  },
  {
   "cell_type": "code",
   "execution_count": null,
   "id": "b440fdc0",
   "metadata": {},
   "outputs": [],
   "source": [
    "'''\n",
    "To calculate the 95% confidence interval for the true proportion of people who are satisfied with their job, you can use the \n",
    "formula for a confidence interval for a proportion. The formula is:\n",
    "\n",
    "Confidence Interval = Sample Proportion ± Margin of Error\n",
    "\n",
    "Here's how you can calculate it:\n",
    "\n",
    "Given Data:\n",
    "\n",
    "Sample Size (n) = 500\n",
    "Sample Proportion (p_hat) = 65% = 0.65 (proportion of people satisfied)\n",
    "Confidence Level (CL) = 95% (corresponding to a critical z-value)\n",
    "Calculate the Margin of Error (MOE):\n",
    "\n",
    "To calculate the margin of error, you'll need to find the critical z-value for a 95% confidence level. This critical z-value \n",
    "can be found using a standard normal distribution table or a calculator.\n",
    "For a 95% confidence level, the critical z-value is approximately 1.96.\n",
    "Now, calculate the margin of error:\n",
    "Margin of Error (MOE) = Critical z-value * √[(p_hat * (1 - p_hat)) / n]\n",
    "MOE = 1.96 * √[(0.65 * (1 - 0.65)) / 500]\n",
    "Calculate the Confidence Interval:\n",
    "\n",
    "Now that you have the margin of error, you can calculate the confidence interval:\n",
    "Confidence Interval = p_hat ± MOE\n",
    "Confidence Interval = 0.65 ± (1.96 * √[(0.65 * 0.35) / 500])\n",
    "Calculate the Upper and Lower Bounds of the Interval:\n",
    "\n",
    "Lower Bound = 0.65 - MOE\n",
    "Upper Bound = 0.65 + MOE\n",
    "Now, let's calculate the confidence interval:\n",
    "\n",
    "Lower Bound = 0.65 - (1.96 * √[(0.65 * 0.35) / 500])\n",
    "Upper Bound = 0.65 + (1.96 * √[(0.65 * 0.35) / 500])\n",
    "\n",
    "Lower Bound ≈ 0.6101\n",
    "Upper Bound ≈ 0.6899\n",
    "\n",
    "So, the 95% confidence interval for the true proportion of people who are satisfied with their job is approximately (0.6101, 0.6899). This means that we can be 95% confident that the true proportion of satisfied people falls within this interval.\n",
    "\n",
    "\n",
    "'''"
   ]
  },
  {
   "cell_type": "markdown",
   "id": "8f1ff8ee",
   "metadata": {},
   "source": [
    "### Q12. A researcher is testing the effectiveness of two different teaching methods on student performance. Sample A has a mean score of 85 with a standard deviation of 6, while sample B has a mean score of 82 with a standard deviation of 5. Conduct a hypothesis test to determine if the two teaching methods have a significant difference in student performance using a t-test with a significance level of 0.01."
   ]
  },
  {
   "cell_type": "code",
   "execution_count": 9,
   "id": "0c69ad50",
   "metadata": {},
   "outputs": [
    {
     "name": "stdout",
     "output_type": "stream",
     "text": [
      "Fail to reject the null hypothesis.\n",
      "t-statistic: 2.1038606199548298\n",
      "Critical t-value: 2.6632869538098674\n",
      "P-value: 0.03973697161571077\n"
     ]
    }
   ],
   "source": [
    "import scipy.stats as stats\n",
    "\n",
    "# Given data\n",
    "mean_A = 85\n",
    "std_dev_A = 6\n",
    "n_A = 30 # Replace with the sample size for Sample A\n",
    "\n",
    "mean_B = 82\n",
    "std_dev_B = 5\n",
    "n_B = 30 # Replace with the sample size for Sample B\n",
    "\n",
    "alpha = 0.01  # Significance level\n",
    "\n",
    "# Calculate the pooled variance\n",
    "pooled_variance = ((n_A - 1) * std_dev_A**2 + (n_B - 1) * std_dev_B**2) / (n_A + n_B - 2)\n",
    "\n",
    "# Calculate the standard error of the difference in means\n",
    "standard_error = ((pooled_variance / n_A) + (pooled_variance / n_B))**0.5\n",
    "\n",
    "# Calculate the t-statistic\n",
    "t_statistic = (mean_A - mean_B) / standard_error\n",
    "\n",
    "# Calculate the degrees of freedom\n",
    "degrees_of_freedom = n_A + n_B - 2\n",
    "\n",
    "# Find the critical t-value for a two-tailed test\n",
    "critical_t_value = stats.t.ppf(1 - alpha / 2, df=degrees_of_freedom)\n",
    "\n",
    "# Perform the hypothesis test\n",
    "p_value = 2 * (1 - stats.t.cdf(abs(t_statistic), df=degrees_of_freedom))\n",
    "\n",
    "# Determine whether to reject the null hypothesis\n",
    "if p_value < alpha:\n",
    "    print(\"Reject the null hypothesis.\")\n",
    "else:\n",
    "    print(\"Fail to reject the null hypothesis.\")\n",
    "\n",
    "# Print the t-statistic, critical t-value, and p-value for reference\n",
    "print(f\"t-statistic: {t_statistic}\")\n",
    "print(f\"Critical t-value: {critical_t_value}\")\n",
    "print(f\"P-value: {p_value}\")\n",
    "\n",
    "\n",
    "\n"
   ]
  },
  {
   "cell_type": "markdown",
   "id": "68f6b0b4",
   "metadata": {},
   "source": [
    "### Q13. A population has a mean of 60 and a standard deviation of 8. A sample of 50 observations has a mean of 65. Calculate the 90% confidence interval for the true population mean."
   ]
  },
  {
   "cell_type": "code",
   "execution_count": 10,
   "id": "0d2afdbc",
   "metadata": {},
   "outputs": [
    {
     "name": "stdout",
     "output_type": "stream",
     "text": [
      "90% Confidence Interval: (63.13906055411732, 66.86093944588268)\n"
     ]
    }
   ],
   "source": [
    "import scipy.stats as stats\n",
    "\n",
    "# Given data\n",
    "sample_mean = 65\n",
    "population_mean = 60\n",
    "population_std_dev = 8\n",
    "sample_size = 50\n",
    "confidence_level = 0.90  # 90% confidence level\n",
    "\n",
    "# Calculate the critical Z-score\n",
    "critical_z = stats.norm.ppf((1 + confidence_level) / 2)\n",
    "\n",
    "# Calculate the margin of error\n",
    "margin_of_error = critical_z * (population_std_dev / (sample_size**0.5))\n",
    "\n",
    "# Calculate the confidence interval\n",
    "lower_bound = sample_mean - margin_of_error\n",
    "upper_bound = sample_mean + margin_of_error\n",
    "\n",
    "# Print the confidence interval\n",
    "print(f\"90% Confidence Interval: ({lower_bound}, {upper_bound})\")"
   ]
  },
  {
   "cell_type": "markdown",
   "id": "36ff14f2",
   "metadata": {},
   "source": [
    "### Q14. In a study of the effects of caffeine on reaction time, a sample of 30 participants had an average reaction time of 0.25 seconds with a standard deviation of 0.05 seconds. Conduct a hypothesis test to determine if the caffeine has a significant effect on reaction time at a 90% confidence level using a t-test. "
   ]
  },
  {
   "cell_type": "code",
   "execution_count": 11,
   "id": "ac9db1ac",
   "metadata": {},
   "outputs": [
    {
     "name": "stdout",
     "output_type": "stream",
     "text": [
      "Fail to reject the null hypothesis. Caffeine does not have a significant effect on reaction time.\n",
      "t-statistic: 0.0\n",
      "Critical t-value: 1.6991270265334972\n",
      "P-value: 1.0\n"
     ]
    }
   ],
   "source": [
    "import scipy.stats as stats\n",
    "\n",
    "# Given data\n",
    "sample_mean = 0.25\n",
    "population_std_dev = 0.05\n",
    "sample_size = 30\n",
    "confidence_level = 0.90  # 90% confidence level\n",
    "\n",
    "# Calculate the critical t-value (two-tailed test)\n",
    "critical_t_value = stats.t.ppf(1 - (1 - confidence_level) / 2, df=sample_size - 1)\n",
    "\n",
    "# Calculate the standard error of the mean\n",
    "standard_error = population_std_dev / (sample_size**0.5)\n",
    "\n",
    "# Calculate the t-statistic\n",
    "t_statistic = (sample_mean - 0.25) / standard_error\n",
    "\n",
    "# Calculate the degrees of freedom\n",
    "degrees_of_freedom = sample_size - 1\n",
    "\n",
    "# Calculate the p-value for a two-tailed test\n",
    "p_value = 2 * (1 - stats.t.cdf(abs(t_statistic), df=degrees_of_freedom))\n",
    "\n",
    "# Determine whether to reject the null hypothesis\n",
    "if p_value < 0.10:  # 0.10 is the alpha level for a 90% confidence level\n",
    "    print(\"Reject the null hypothesis. Caffeine has a significant effect on reaction time.\")\n",
    "else:\n",
    "    print(\"Fail to reject the null hypothesis. Caffeine does not have a significant effect on reaction time.\")\n",
    "\n",
    "# Print the t-statistic, critical t-value, and p-value for reference\n",
    "print(f\"t-statistic: {t_statistic}\")\n",
    "print(f\"Critical t-value: {critical_t_value}\")\n",
    "print(f\"P-value: {p_value}\")"
   ]
  }
 ],
 "metadata": {
  "kernelspec": {
   "display_name": "Python 3 (ipykernel)",
   "language": "python",
   "name": "python3"
  },
  "language_info": {
   "codemirror_mode": {
    "name": "ipython",
    "version": 3
   },
   "file_extension": ".py",
   "mimetype": "text/x-python",
   "name": "python",
   "nbconvert_exporter": "python",
   "pygments_lexer": "ipython3",
   "version": "3.9.13"
  }
 },
 "nbformat": 4,
 "nbformat_minor": 5
}
