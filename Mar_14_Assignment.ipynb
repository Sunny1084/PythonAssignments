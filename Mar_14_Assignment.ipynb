{
 "cells": [
  {
   "cell_type": "markdown",
   "id": "c228a43b",
   "metadata": {},
   "source": [
    "### Q1. Write a Python function that takes in two arrays of data and calculates the F-value for a variance ratio test. The function should return the F-value and the corresponding p-value for the test. "
   ]
  },
  {
   "cell_type": "code",
   "execution_count": null,
   "id": "7416c6d6",
   "metadata": {},
   "outputs": [],
   "source": [
    "f_statistic, p_value = f_oneway(data1, data2)\n",
    "This is the method the F-value and the corresponding p-value for the test"
   ]
  },
  {
   "cell_type": "markdown",
   "id": "d6904ea7",
   "metadata": {},
   "source": [
    "### Q2. Given a significance level of 0.05 and the degrees of freedom for the numerator and denominator of an F-distribution, write a Python function that returns the critical F-value for a two-tailed test."
   ]
  },
  {
   "cell_type": "code",
   "execution_count": null,
   "id": "795d2315",
   "metadata": {},
   "outputs": [],
   "source": [
    "from scipy.stats import f\n",
    "\n",
    "def calculate_critical_f(alpha, dfn, dfd):\n",
    "    \"\"\"\n",
    "    Calculate the critical F-value for a two-tailed test.\n",
    "\n",
    "    Args:\n",
    "    alpha: The significance level (e.g., 0.05 for a 95% confidence level).\n",
    "    dfn: Degrees of freedom for the numerator.\n",
    "    dfd: Degrees of freedom for the denominator.\n",
    "\n",
    "    Returns:\n",
    "    critical_f: The critical F-value for the given alpha and degrees of freedom.\n",
    "    \"\"\"\n",
    "\n",
    "    # Calculate the critical F-value\n",
    "    critical_f = f.ppf(1 - alpha / 2, dfn, dfd)\n",
    "\n",
    "    return critical_f\n",
    "\n",
    "# Example usage:\n",
    "alpha = 0.05\n",
    "dfn = 3  # Degrees of freedom for the numerator\n",
    "dfd = 12  # Degrees of freedom for the denominator\n",
    "\n",
    "critical_f = calculate_critical_f(alpha, dfn, dfd)\n",
    "print(f\"Critical F-value: {critical_f}\")"
   ]
  },
  {
   "cell_type": "markdown",
   "id": "a9cfe3ed",
   "metadata": {},
   "source": [
    "### Q3. Write a Python program that generates random samples from two normal distributions with known variances and uses an F-test to determine if the variances are equal. The program should output the F-value, degrees of freedom, and p-value for the test."
   ]
  },
  {
   "cell_type": "code",
   "execution_count": null,
   "id": "9bc0f5f7",
   "metadata": {},
   "outputs": [],
   "source": [
    "import numpy as np\n",
    "from scipy.stats import f\n",
    "\n",
    "def perform_f_test(sample1, sample2, alpha):\n",
    "    \"\"\"\n",
    "    Perform an F-test to compare the variances of two samples.\n",
    "\n",
    "    Args:\n",
    "    sample1: The first sample as a NumPy array.\n",
    "    sample2: The second sample as a NumPy array.\n",
    "    alpha: The significance level for the test.\n",
    "\n",
    "    Returns:\n",
    "    result: A dictionary containing the F-value, degrees of freedom, p-value, and whether variances are equal.\n",
    "    \"\"\"\n",
    "    \n",
    "    # Calculate the variances of the two samples\n",
    "    var1 = np.var(sample1, ddof=1)  # ddof=1 for sample variance\n",
    "    var2 = np.var(sample2, ddof=1)\n",
    "    \n",
    "    # Calculate the F-value\n",
    "    f_value = var1 / var2 if var1 >= var2 else var2 / var1\n",
    "    \n",
    "    # Calculate degrees of freedom\n",
    "    df1 = len(sample1) - 1\n",
    "    df2 = len(sample2) - 1\n",
    "    \n",
    "    # Calculate the p-value for the F-test\n",
    "    p_value = 2 * min(f.cdf(f_value, df1, df2), 1 - f.cdf(f_value, df1, df2))\n",
    "    \n",
    "    # Determine whether variances are equal based on p-value\n",
    "    equal_variances = p_value >= alpha\n",
    "    \n",
    "    result = {\n",
    "        \"F-value\": f_value,\n",
    "        \"Degrees of Freedom (numerator)\": df1,\n",
    "        \"Degrees of Freedom (denominator)\": df2,\n",
    "        \"p-value\": p_value,\n",
    "        \"Equal Variances\": equal_variances,\n",
    "    }\n",
    "    \n",
    "    return result\n",
    "\n",
    "# Generate random samples from two normal distributions (change these as needed)\n",
    "np.random.seed(0)\n",
    "sample1 = np.random.normal(loc=0, scale=1, size=30)\n",
    "sample2 = np.random.normal(loc=0, scale=2, size=30)\n",
    "\n",
    "# Set the significance level\n",
    "alpha = 0.05\n",
    "\n",
    "# Perform the F-test\n",
    "result = perform_f_test(sample1, sample2, alpha)\n",
    "\n",
    "# Display the results\n",
    "print(\"Results of F-test:\")\n",
    "print(f\"F-value: {result['F-value']:.4f}\")\n",
    "print(f\"Degrees of Freedom (numerator): {result['Degrees of Freedom (numerator)']}\")\n",
    "print(f\"Degrees of Freedom (denominator): {result['Degrees of Freedom (denominator)']}\")\n",
    "print(f\"p-value: {result['p-value']:.4f}\")\n",
    "print(f\"Equal Variances: {result['Equal Variances']}\")"
   ]
  },
  {
   "cell_type": "markdown",
   "id": "a081e82f",
   "metadata": {},
   "source": [
    "### Q4.The variances of two populations are known to be 10 and 15. A sample of 12 observations is taken from each population. Conduct an F-test at the 5% significance level to determine if the variances are significantly different."
   ]
  },
  {
   "cell_type": "code",
   "execution_count": 1,
   "id": "a17b13ef",
   "metadata": {},
   "outputs": [
    {
     "name": "stdout",
     "output_type": "stream",
     "text": [
      "Results of F-test:\n",
      "F-statistic: 0.6667\n",
      "Degrees of Freedom (numerator): 11\n",
      "Degrees of Freedom (denominator): 11\n",
      "p-value: 0.5124\n",
      "Fail to reject the null hypothesis. Variances are not significantly different.\n"
     ]
    }
   ],
   "source": [
    "import scipy.stats as stats\n",
    "\n",
    "# Known variances\n",
    "variance_pop1 = 10\n",
    "variance_pop2 = 15\n",
    "\n",
    "# Sample sizes\n",
    "n1 = 12\n",
    "n2 = 12\n",
    "\n",
    "# Calculate the F-statistic\n",
    "F_statistic = variance_pop1 / variance_pop2\n",
    "\n",
    "# Degrees of freedom\n",
    "df1 = n1 - 1\n",
    "df2 = n2 - 1\n",
    "\n",
    "# Calculate the p-value for the F-test\n",
    "p_value = 2 * min(stats.f.cdf(F_statistic, df1, df2), 1 - stats.f.cdf(F_statistic, df1, df2))\n",
    "\n",
    "# Set the significance level\n",
    "alpha = 0.05\n",
    "\n",
    "# Perform the F-test and check if the variances are significantly different\n",
    "if p_value < alpha:\n",
    "    result = \"Reject the null hypothesis. Variances are significantly different.\"\n",
    "else:\n",
    "    result = \"Fail to reject the null hypothesis. Variances are not significantly different.\"\n",
    "\n",
    "# Display the results\n",
    "print(\"Results of F-test:\")\n",
    "print(f\"F-statistic: {F_statistic:.4f}\")\n",
    "print(f\"Degrees of Freedom (numerator): {df1}\")\n",
    "print(f\"Degrees of Freedom (denominator): {df2}\")\n",
    "print(f\"p-value: {p_value:.4f}\")\n",
    "print(result)"
   ]
  },
  {
   "cell_type": "markdown",
   "id": "c5e0c084",
   "metadata": {},
   "source": [
    "### Q5. A manufacturer claims that the variance of the diameter of a certain product is 0.005. A sample of 25 products is taken, and the sample variance is found to be 0.006. Conduct an F-test at the 1% significance level to determine if the claim is justified."
   ]
  },
  {
   "cell_type": "code",
   "execution_count": 2,
   "id": "7d99f4ec",
   "metadata": {},
   "outputs": [
    {
     "name": "stdout",
     "output_type": "stream",
     "text": [
      "Results of F-test:\n",
      "F-statistic: 1.2000\n",
      "Critical F-value: nan\n",
      "Fail to reject the null hypothesis. The claim is justified.\n"
     ]
    }
   ],
   "source": [
    "import scipy.stats as stats\n",
    "\n",
    "# Given data\n",
    "sample_variance = 0.006\n",
    "claimed_population_variance = 0.005\n",
    "sample_size = 25\n",
    "alpha = 0.01  # Significance level\n",
    "\n",
    "# Calculate the F-statistic\n",
    "F_statistic = sample_variance / claimed_population_variance\n",
    "\n",
    "# Degrees of freedom\n",
    "df1 = sample_size - 1\n",
    "df2 = float('inf')  # Large degrees of freedom for the denominator\n",
    "\n",
    "# Calculate the critical F-value\n",
    "critical_F = stats.f.ppf(1 - alpha/2, df1, df2)\n",
    "\n",
    "# Perform the F-test\n",
    "if F_statistic > critical_F:\n",
    "    result = \"Reject the null hypothesis. The claim is not justified.\"\n",
    "else:\n",
    "    result = \"Fail to reject the null hypothesis. The claim is justified.\"\n",
    "\n",
    "# Display the results\n",
    "print(\"Results of F-test:\")\n",
    "print(f\"F-statistic: {F_statistic:.4f}\")\n",
    "print(f\"Critical F-value: {critical_F:.4f}\")\n",
    "print(result)"
   ]
  },
  {
   "cell_type": "markdown",
   "id": "61bb16e6",
   "metadata": {},
   "source": [
    "### Q6. Write a Python function that takes in the degrees of freedom for the numerator and denominator of an F-distribution and calculates the mean and variance of the distribution. The function should return the mean and variance as a tuple."
   ]
  },
  {
   "cell_type": "code",
   "execution_count": null,
   "id": "e4b477ae",
   "metadata": {},
   "outputs": [],
   "source": [
    "import scipy.stats as stats\n",
    "\n",
    "def calculate_f_distribution_mean_and_variance(df1, df2):\n",
    "    \"\"\"\n",
    "    Calculate the mean and variance of an F-distribution.\n",
    "    \n",
    "    Parameters:\n",
    "    - df1: Degrees of freedom for the numerator.\n",
    "    - df2: Degrees of freedom for the denominator.\n",
    "    \n",
    "    Returns:\n",
    "    - Tuple containing the mean and variance of the F-distribution.\n",
    "    \"\"\"\n",
    "    # Calculate the mean of the F-distribution\n",
    "    mean = df2 / (df2 - 2) if df2 > 2 else None\n",
    "\n",
    "    # Calculate the variance of the F-distribution\n",
    "    if df2 > 4:\n",
    "        variance = (2 * (df2**2) * (df1 + df2 - 2)) / (df1 * (df2 - 2)**2 * (df2 - 4))\n",
    "    else:\n",
    "        variance = None\n",
    "\n",
    "    return mean, variance\n",
    "\n",
    "# Example usage:\n",
    "df1 = 5\n",
    "df2 = 10\n",
    "mean, variance = calculate_f_distribution_mean_and_variance(df1, df2)\n",
    "print(f\"Mean of F-distribution: {mean:.4f}\")\n",
    "print(f\"Variance of F-distribution: {variance:.4f}\")"
   ]
  },
  {
   "cell_type": "markdown",
   "id": "d5eb57ea",
   "metadata": {},
   "source": [
    "### Q7. A random sample of 10 measurements is taken from a normal population with unknown variance. The sample variance is found to be 25. Another random sample of 15 measurements is taken from another normal population with unknown variance, and the sample variance is found to be 20. Conduct an F-test at the 10% significance level to determine if the variances are significantly different."
   ]
  },
  {
   "cell_type": "code",
   "execution_count": 3,
   "id": "9eaf69e9",
   "metadata": {},
   "outputs": [
    {
     "name": "stdout",
     "output_type": "stream",
     "text": [
      "F-statistic: 1.2500\n",
      "Critical value: 2.6458\n",
      "Result: Fail to reject the null hypothesis\n"
     ]
    }
   ],
   "source": [
    "import scipy.stats as stats\n",
    "\n",
    "# Given sample variances\n",
    "s1_squared = 25  # Sample variance of the first population\n",
    "s2_squared = 20  # Sample variance of the second population\n",
    "\n",
    "# Degrees of freedom\n",
    "n1 = 10  # Number of measurements in the first sample\n",
    "n2 = 15  # Number of measurements in the second sample\n",
    "df1 = n1 - 1\n",
    "df2 = n2 - 1\n",
    "\n",
    "# Calculate the F-statistic\n",
    "F_statistic = s1_squared / s2_squared\n",
    "\n",
    "# Set the significance level\n",
    "alpha = 0.10\n",
    "\n",
    "# Calculate the critical value for the F-distribution\n",
    "critical_value = stats.f.ppf(1 - alpha / 2, df1, df2)\n",
    "\n",
    "# Perform the hypothesis test\n",
    "if F_statistic > critical_value:\n",
    "    # Reject the null hypothesis\n",
    "    result = \"Reject\"\n",
    "else:\n",
    "    # Fail to reject the null hypothesis\n",
    "    result = \"Fail to reject\"\n",
    "\n",
    "print(f\"F-statistic: {F_statistic:.4f}\")\n",
    "print(f\"Critical value: {critical_value:.4f}\")\n",
    "print(f\"Result: {result} the null hypothesis\")"
   ]
  },
  {
   "cell_type": "markdown",
   "id": "80acf94e",
   "metadata": {},
   "source": [
    "### Q8. The following data represent the waiting times in minutes at two different restaurants on a Saturday night: Restaurant A: 24, 25, 28, 23, 22, 20, 27; Restaurant B: 31, 33, 35, 30, 32, 36. Conduct an F-test at the 5% significance level to determine if the variances are significantly different."
   ]
  },
  {
   "cell_type": "code",
   "execution_count": 4,
   "id": "aaf0ed78",
   "metadata": {},
   "outputs": [
    {
     "name": "stdout",
     "output_type": "stream",
     "text": [
      "F-statistic: 1.4552\n",
      "Critical value: 6.9777\n",
      "Result: Fail to reject the null hypothesis\n"
     ]
    }
   ],
   "source": [
    "import scipy.stats as stats\n",
    "\n",
    "# Data for Restaurant A and Restaurant B\n",
    "data_A = [24, 25, 28, 23, 22, 20, 27]\n",
    "data_B = [31, 33, 35, 30, 32, 36]\n",
    "\n",
    "# Calculate sample variances\n",
    "variance_A = sum((x - sum(data_A) / len(data_A)) ** 2 for x in data_A) / (len(data_A) - 1)\n",
    "variance_B = sum((x - sum(data_B) / len(data_B)) ** 2 for x in data_B) / (len(data_B) - 1)\n",
    "\n",
    "# Degrees of freedom\n",
    "df1 = len(data_A) - 1\n",
    "df2 = len(data_B) - 1\n",
    "\n",
    "# Calculate the F-statistic\n",
    "F_statistic = variance_A / variance_B\n",
    "\n",
    "# Set the significance level\n",
    "alpha = 0.05\n",
    "\n",
    "# Calculate the critical value for the F-distribution\n",
    "critical_value = stats.f.ppf(1 - alpha / 2, df1, df2)\n",
    "\n",
    "# Perform the hypothesis test\n",
    "if F_statistic > critical_value:\n",
    "    # Reject the null hypothesis\n",
    "    result = \"Reject\"\n",
    "else:\n",
    "    # Fail to reject the null hypothesis\n",
    "    result = \"Fail to reject\"\n",
    "\n",
    "print(f\"F-statistic: {F_statistic:.4f}\")\n",
    "print(f\"Critical value: {critical_value:.4f}\")\n",
    "print(f\"Result: {result} the null hypothesis\")"
   ]
  },
  {
   "cell_type": "markdown",
   "id": "271cf56a",
   "metadata": {},
   "source": [
    "### Q9. The following data represent the test scores of two groups of students: Group A: 80, 85, 90, 92, 87, 83; Group B: 75, 78, 82, 79, 81, 84. Conduct an F-test at the 1% significance level to determine if the variances are significantly different. "
   ]
  },
  {
   "cell_type": "code",
   "execution_count": 5,
   "id": "f08f46d2",
   "metadata": {},
   "outputs": [
    {
     "name": "stdout",
     "output_type": "stream",
     "text": [
      "F-statistic: 1.9443\n",
      "Critical value: 14.9396\n",
      "Result: Fail to reject the null hypothesis\n"
     ]
    }
   ],
   "source": [
    "import scipy.stats as stats\n",
    "\n",
    "# Data for Group A and Group B\n",
    "data_A = [80, 85, 90, 92, 87, 83]\n",
    "data_B = [75, 78, 82, 79, 81, 84]\n",
    "\n",
    "# Calculate sample variances\n",
    "variance_A = sum((x - sum(data_A) / len(data_A)) ** 2 for x in data_A) / (len(data_A) - 1)\n",
    "variance_B = sum((x - sum(data_B) / len(data_B)) ** 2 for x in data_B) / (len(data_B) - 1)\n",
    "\n",
    "# Degrees of freedom\n",
    "df1 = len(data_A) - 1\n",
    "df2 = len(data_B) - 1\n",
    "\n",
    "# Calculate the F-statistic\n",
    "F_statistic = variance_A / variance_B\n",
    "\n",
    "# Set the significance level\n",
    "alpha = 0.01\n",
    "\n",
    "# Calculate the critical value for the F-distribution\n",
    "critical_value = stats.f.ppf(1 - alpha / 2, df1, df2)\n",
    "\n",
    "# Perform the hypothesis test\n",
    "if F_statistic > critical_value:\n",
    "    # Reject the null hypothesis\n",
    "    result = \"Reject\"\n",
    "else:\n",
    "    # Fail to reject the null hypothesis\n",
    "    result = \"Fail to reject\"\n",
    "\n",
    "print(f\"F-statistic: {F_statistic:.4f}\")\n",
    "print(f\"Critical value: {critical_value:.4f}\")\n",
    "print(f\"Result: {result} the null hypothesis\")"
   ]
  }
 ],
 "metadata": {
  "kernelspec": {
   "display_name": "Python 3 (ipykernel)",
   "language": "python",
   "name": "python3"
  },
  "language_info": {
   "codemirror_mode": {
    "name": "ipython",
    "version": 3
   },
   "file_extension": ".py",
   "mimetype": "text/x-python",
   "name": "python",
   "nbconvert_exporter": "python",
   "pygments_lexer": "ipython3",
   "version": "3.9.13"
  }
 },
 "nbformat": 4,
 "nbformat_minor": 5
}
