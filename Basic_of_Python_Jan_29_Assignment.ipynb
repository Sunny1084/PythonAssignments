{
 "cells": [
  {
   "cell_type": "markdown",
   "id": "3a2d95c4",
   "metadata": {},
   "source": [
    "### Q1 Who Develop Python Programming Language ?\n",
    "### Ans Guido van Rossum"
   ]
  },
  {
   "cell_type": "markdown",
   "id": "6b0b4ec0",
   "metadata": {},
   "source": [
    "### Q2 Which type of programming does Python support ?\n",
    "### Ans It supports multiple programming paradigms, including structured (particularly procedural), object-oriented and functional programming."
   ]
  },
  {
   "cell_type": "markdown",
   "id": "96627452",
   "metadata": {},
   "source": [
    "### Q3 Is Python case sensitive when dealing with identifiers ?\n",
    "### Ans Yes, Python is a case-sensitive language, i.e., it treats uppercase and lowercase characters differently. This applies to identifiers too. You must avoid using the same name with different cases while naming identifiers."
   ]
  },
  {
   "cell_type": "markdown",
   "id": "9f9ccb45",
   "metadata": {},
   "source": [
    "### Q4 What is the correct extension of the python file ?\n",
    "### Ans ‘.py’ is the correct extension of the Python file. Python programs can be written in any text editor. To save these programs we need to save in files with file extension ‘.py’."
   ]
  },
  {
   "cell_type": "markdown",
   "id": "d1a0b742",
   "metadata": {},
   "source": [
    "### Q5 Is Python code is compiled or interpreted ?\n",
    "### Ans Python is an interpreted language"
   ]
  },
  {
   "cell_type": "markdown",
   "id": "73b0df61",
   "metadata": {},
   "source": [
    "### Q6 Name a few blocks of code used to define in python language?\n",
    "### Ans a module, a function body, and a class definition."
   ]
  },
  {
   "cell_type": "markdown",
   "id": "f564f182",
   "metadata": {},
   "source": [
    "### Q7 State a character used to give single line comments in python?\n",
    "### Ans Hash character(#) is used to comment the line in the Python program."
   ]
  },
  {
   "cell_type": "markdown",
   "id": "57b7a839",
   "metadata": {},
   "source": [
    "### Q8 Mention fuction which the currently using python version?\n",
    "### Ans The python_version() function from the platform module to get the version of Python currently being used and prints it to the console."
   ]
  },
  {
   "cell_type": "markdown",
   "id": "54792ce0",
   "metadata": {},
   "source": [
    "### Q9 Python supports the creation of anonymous functions at runtime, using a construct called?\n",
    "### Ans lambda"
   ]
  },
  {
   "cell_type": "markdown",
   "id": "507cc6f9",
   "metadata": {},
   "source": [
    "### Q10 What does pip stands for in python?\n",
    "### Ans pip stands for \"preferred installer program\"."
   ]
  },
  {
   "cell_type": "markdown",
   "id": "40ddf5a6",
   "metadata": {},
   "source": [
    "### Q11 Mention few build in functions in python?\n",
    "### Ans id(), input(), print(), type(), int(), float(), list(), tuple(), set(), dict(), range(), len()"
   ]
  },
  {
   "cell_type": "markdown",
   "id": "2cad95fa",
   "metadata": {},
   "source": [
    "### Q12 What is the maximum possible length of the identifiers in python?\n",
    "### Ans 79 characters"
   ]
  },
  {
   "cell_type": "markdown",
   "id": "fe1b4344",
   "metadata": {},
   "source": [
    "### Q13 What are benefits of using python ?\n",
    "### Ans Data science, Scientific and mathematical computing, Web development, Finance and trading, System automation and administration, Computer graphics, Basic game development, Security and penetration testing."
   ]
  },
  {
   "cell_type": "markdown",
   "id": "9f466b7f",
   "metadata": {},
   "source": [
    "### Q14 How is memory managed in python ?\n",
    "### Ans Memory management in Python involves the management of a private heap. A private heap is a portion of memory that is exclusive to the Python process. All Python objects and data structures are stored in the private heap."
   ]
  },
  {
   "cell_type": "markdown",
   "id": "692ba508",
   "metadata": {},
   "source": [
    "### Q15 How to install python in windows and set path variables ?\n",
    "### Ans Install python from this link https://www.python.org/downloads/After this, install it on your PC. Look for the location where PYTHON has been installed on your PC using tge following command on your command prompt: cmd python.Then go to advanced system settings and add new variable and name it as PYTHON_NAME and paste the copied path.Then look for the path variable, select it's value and select edit. Add a semicolon towards the end of the value if it's not present and then type %PYTHON_HOME%"
   ]
  },
  {
   "cell_type": "markdown",
   "id": "2fe9bcd4",
   "metadata": {},
   "source": [
    "### Q16 Is identation required in python?\n",
    "### Ans Indentation is mandatory in python to define the blocks of statements."
   ]
  }
 ],
 "metadata": {
  "kernelspec": {
   "display_name": "Python 3 (ipykernel)",
   "language": "python",
   "name": "python3"
  },
  "language_info": {
   "codemirror_mode": {
    "name": "ipython",
    "version": 3
   },
   "file_extension": ".py",
   "mimetype": "text/x-python",
   "name": "python",
   "nbconvert_exporter": "python",
   "pygments_lexer": "ipython3",
   "version": "3.9.13"
  }
 },
 "nbformat": 4,
 "nbformat_minor": 5
}
