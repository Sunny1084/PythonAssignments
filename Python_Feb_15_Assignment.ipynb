{
 "cells": [
  {
   "cell_type": "markdown",
   "id": "3328bf71",
   "metadata": {},
   "source": [
    "#### Q1. What is multiprocessing in python? Why is it useful?"
   ]
  },
  {
   "cell_type": "code",
   "execution_count": null,
   "id": "376eb6b3",
   "metadata": {},
   "outputs": [],
   "source": [
    "\"\"\"\n",
    "Multiprocessing is a technique in Python that allows you to run multiple processes concurrently on a single machine or multiple \n",
    "machines. It is useful because it can help speed up the execution of certain types of programs that can be broken down into \n",
    "smaller independent tasks that can be executed simultaneously.\n",
    "\n",
    "In Python, multiprocessing is implemented using the multiprocessing module, which provides a way to spawn processes, communicate \n",
    "between processes, and synchronize their execution.\n",
    "\n",
    "Multiprocessing is particularly useful for CPU-bound tasks, where the program spends most of its time performing computations, \n",
    "rather than waiting for I/O. By running multiple processes concurrently, you can take advantage of multi-core CPUs, which can \n",
    "significantly improve the performance of the program.\n",
    "\n",
    "For example, if you have a program that needs to process a large amount of data, you can split the data into chunks and process \n",
    "each chunk in a separate process. This can be much faster than processing the data sequentially in a single process.\n",
    "\n",
    "Overall, multiprocessing in Python provides a powerful and flexible way to take advantage of multi-core CPUs and distribute \n",
    "workloads across multiple processes to improve the performance of your programs.\n",
    "\"\"\""
   ]
  },
  {
   "cell_type": "markdown",
   "id": "43781e1b",
   "metadata": {},
   "source": [
    "#### Q2. What are the differences between multiprocessing and multithreading?"
   ]
  },
  {
   "cell_type": "code",
   "execution_count": null,
   "id": "bb00a530",
   "metadata": {},
   "outputs": [],
   "source": [
    "'''\n",
    "Multiprocessing and multithreading are two techniques used in computer programming to achieve parallelism and improve the \n",
    "performance of a program. Here are some key differences between them:\n",
    "\n",
    "Process vs Thread: The main difference between multiprocessing and multithreading is that multiprocessing involves running \n",
    "multiple processes, while multithreading involves running multiple threads within a single process. A process is an independent \n",
    "unit of execution that has its own memory space, while a thread is a subset of a process that shares the same memory space as \n",
    "the parent process.\n",
    "\n",
    "Concurrency: Multiprocessing allows for true parallelism, where multiple processes can execute at the same time on different \n",
    "CPU cores. In contrast, multithreading achieves concurrency by dividing the CPU time among multiple threads, but only one thread\n",
    "can execute at a time on a single CPU core.\n",
    "\n",
    "Overhead: Multiprocessing has more overhead than multithreading because it requires the operating system to create a new process \n",
    "and allocate memory for it. In contrast, creating a new thread is relatively lightweight, as it only requires the allocation of \n",
    "a small amount of memory for the thread stack.\n",
    "\n",
    "Communication and synchronization: Processes communicate and synchronize using inter-process communication (IPC) mechanisms, \n",
    "such as pipes, queues, and shared memory. In contrast, threads within a process share the same memory space and can communicate \n",
    "and synchronize using shared variables and locks.\n",
    "\n",
    "Error handling: In multiprocessing, each process runs in its own memory space and is isolated from other processes. If a process \n",
    "encounters an error, it can be terminated without affecting other processes. In contrast, if a thread encounters an error, it \n",
    "can cause the entire process to crash.\n",
    "\n",
    "Overall, the choice between multiprocessing and multithreading depends on the specific requirements of the program. \n",
    "Multiprocessing is typically used for CPU-bound tasks that can be split into independent processes, while multithreading is used\n",
    "for I/O-bound tasks where multiple threads can wait for I/O operations to complete.\n",
    "'''"
   ]
  },
  {
   "cell_type": "markdown",
   "id": "d41c365d",
   "metadata": {},
   "source": [
    "#### Q3. Write a python code to create a process using the multiprocessing module. "
   ]
  },
  {
   "cell_type": "code",
   "execution_count": null,
   "id": "3a5cc7f0",
   "metadata": {},
   "outputs": [],
   "source": [
    "def square(n):\n",
    "    print(n*n)\n",
    "\n",
    "if __name__ == \"__main__\":\n",
    "    p = multiprocessing.Process(target = square, args = (10,))\n",
    "    p.start()\n",
    "    p.join()"
   ]
  },
  {
   "cell_type": "markdown",
   "id": "a488dee3",
   "metadata": {},
   "source": [
    "#### Q4. What is a multiprocessing pool in python? Why is it used?"
   ]
  },
  {
   "cell_type": "code",
   "execution_count": null,
   "id": "f27c0004",
   "metadata": {},
   "outputs": [],
   "source": [
    "\"\"\"\n",
    "A multiprocessing pool in Python is a convenient way to distribute a workload across multiple processes in order to perform \n",
    "computations in parallel. It is implemented in the multiprocessing module and provides a high-level interface for creating and \n",
    "managing a pool of worker processes.\n",
    "\n",
    "The basic idea behind a multiprocessing pool is to create a fixed number of worker processes (referred to as the pool size) and \n",
    "then distribute tasks among them. When a task is submitted to the pool, it is placed in a queue, and one of the worker processes\n",
    "will pick it up and execute it. Once the task is complete, the worker process returns the result to the parent process.\n",
    "\n",
    "The multiprocessing module provides two classes for creating a pool of worker processes: Pool and ThreadPool. The Pool class is \n",
    "used to create a pool of independent processes, while the ThreadPool class is used to create a pool of threads within a single \n",
    "process.\n",
    "\n",
    "Multiprocessing pools are useful because they can significantly speed up the execution of CPU-bound tasks by parallelizing the \n",
    "workload across multiple processes. They can also be used to perform I/O-bound tasks more efficiently by allowing multiple \n",
    "processes to perform I/O operations in parallel.\n",
    "\n",
    "For example, if you have a large amount of data that needs to be processed, you can create a multiprocessing pool and submit \n",
    "each data item as a separate task. The pool will distribute the tasks among the worker processes, and each process will process\n",
    "a portion of the data. This can be much faster than processing the data sequentially in a single process.\n",
    "\n",
    "Overall, multiprocessing pools in Python provide a convenient way to parallelize computations and improve the performance of \n",
    "your programs.\n",
    "\"\"\""
   ]
  },
  {
   "cell_type": "markdown",
   "id": "82c48038",
   "metadata": {},
   "source": [
    "#### Q5. How can we create a pool of worker processes in python using the multiprocessing module?"
   ]
  },
  {
   "cell_type": "code",
   "execution_count": null,
   "id": "953b0867",
   "metadata": {},
   "outputs": [],
   "source": [
    "# We can create pool using the following python program\n",
    "\n",
    "import multiprocessing\n",
    "\n",
    "def square(x):\n",
    "    return x * x\n",
    "\n",
    "if __name__ == '__main__':\n",
    "    pool = multiprocessing.Pool(processes=4)\n",
    "    results = pool.map(square, [1, 2, 3, 4, 5])\n",
    "    print(results)\n",
    "    pool.close()\n",
    "    pool.join()"
   ]
  },
  {
   "cell_type": "markdown",
   "id": "0583a65d",
   "metadata": {},
   "source": [
    "#### Q6. Write a python program to create 4 processes, each process should print a different number using the multiprocessing module in python."
   ]
  },
  {
   "cell_type": "code",
   "execution_count": null,
   "id": "74ffe3f7",
   "metadata": {},
   "outputs": [],
   "source": [
    "# here is the example\n",
    "\n",
    "import multiprocessing\n",
    "\n",
    "def print_number(num):\n",
    "    print(\"Process ID:\", multiprocessing.current_process().pid, \"- Number:\", num)\n",
    "\n",
    "if __name__ == '__main__':\n",
    "    processes = []\n",
    "    for i in range(4):\n",
    "        p = multiprocessing.Process(target=print_number, args=(i,))\n",
    "        processes.append(p)\n",
    "        p.start()\n",
    "\n",
    "    for p in processes:\n",
    "        p.join()"
   ]
  }
 ],
 "metadata": {
  "kernelspec": {
   "display_name": "Python 3 (ipykernel)",
   "language": "python",
   "name": "python3"
  },
  "language_info": {
   "codemirror_mode": {
    "name": "ipython",
    "version": 3
   },
   "file_extension": ".py",
   "mimetype": "text/x-python",
   "name": "python",
   "nbconvert_exporter": "python",
   "pygments_lexer": "ipython3",
   "version": "3.9.13"
  }
 },
 "nbformat": 4,
 "nbformat_minor": 5
}
