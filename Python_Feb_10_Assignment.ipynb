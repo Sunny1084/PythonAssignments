{
 "cells": [
  {
   "cell_type": "markdown",
   "id": "6df436d1",
   "metadata": {},
   "source": [
    "#### Q1. Which function is used to open a file? What are the different modes of opening a file? Explain each mode of file opening. "
   ]
  },
  {
   "cell_type": "code",
   "execution_count": 1,
   "id": "40673d4d",
   "metadata": {},
   "outputs": [
    {
     "data": {
      "text/plain": [
       "\"\\nAns The open() function is used to open a file in Python. The open() function takes two arguments: the name of the file and \\nthe mode in which the file should be opened.\\n\\nThere are several modes in which a file can be opened in Python:\\n\\n1. 'r' (Read Only): This mode opens the file for reading. If the file does not exist, a FileNotFoundError is raised.\\n2. 'w' (Write Only): This mode opens the file for writing. If the file already exists, its contents are truncated. If the file \\ndoes not exist, a new file is created.\\n3. 'a' (Append Only): This mode opens the file for writing, but the new data is appended to the end of the file. If the \\nfile does not exist, a new file is created.\\n4. 'x' (Exclusive Creation): This mode is used to create a new file, but only if the file does not already exist. If the \\nfile already exists, a FileExistsError is raised.\\n5. 'b' (Binary Mode): This mode is used to open a binary file, such as an image or a video. The b mode is usually combined \\nwith one of the other modes. For example, 'rb' is used to open a binary file in read-only mode, and 'wb' is used to open a \\nbinary file in write-only mode.\\n6. 't' (Text Mode): This mode is used to open a text file. The t mode is usually combined with one of the other modes. \\nFor example, 'rt' is used to open a text file in read-only mode, and 'wt' is used to open a text file in write-only mode.\\n\\n\""
      ]
     },
     "execution_count": 1,
     "metadata": {},
     "output_type": "execute_result"
    }
   ],
   "source": [
    "\"\"\"\n",
    "Ans The open() function is used to open a file in Python. The open() function takes two arguments: the name of the file and \n",
    "the mode in which the file should be opened.\n",
    "\n",
    "There are several modes in which a file can be opened in Python:\n",
    "\n",
    "1. 'r' (Read Only): This mode opens the file for reading. If the file does not exist, a FileNotFoundError is raised.\n",
    "2. 'w' (Write Only): This mode opens the file for writing. If the file already exists, its contents are truncated. If the file \n",
    "does not exist, a new file is created.\n",
    "3. 'a' (Append Only): This mode opens the file for writing, but the new data is appended to the end of the file. If the \n",
    "file does not exist, a new file is created.\n",
    "4. 'x' (Exclusive Creation): This mode is used to create a new file, but only if the file does not already exist. If the \n",
    "file already exists, a FileExistsError is raised.\n",
    "5. 'b' (Binary Mode): This mode is used to open a binary file, such as an image or a video. The b mode is usually combined \n",
    "with one of the other modes. For example, 'rb' is used to open a binary file in read-only mode, and 'wb' is used to open a \n",
    "binary file in write-only mode.\n",
    "6. 't' (Text Mode): This mode is used to open a text file. The t mode is usually combined with one of the other modes. \n",
    "For example, 'rt' is used to open a text file in read-only mode, and 'wt' is used to open a text file in write-only mode.\n",
    "\n",
    "\"\"\""
   ]
  },
  {
   "cell_type": "markdown",
   "id": "79510085",
   "metadata": {},
   "source": [
    "#### Q2. Why close() function is used? Why is it important to close a file?"
   ]
  },
  {
   "cell_type": "code",
   "execution_count": null,
   "id": "f9189531",
   "metadata": {},
   "outputs": [],
   "source": [
    "\"\"\"\n",
    "Ans The close() function is used in Python to close an open file. When a file is opened, the operating system reserves resources\n",
    "for it and associates a file descriptor to it. Closing a file releases these resources and makes sure that any changes made to \n",
    "the file are properly saved.\n",
    "\n",
    "It is important to close a file after you have finished working with it because:\n",
    "\n",
    "1. It frees up resources that were being used by the file, such as memory and file descriptors.\n",
    "2. It ensures that any changes made to the file are properly saved and written to disk.\n",
    "3. It makes the file available for other operations, such as opening and modifying it.\n",
    "4. It helps to prevent data corruption, as the operating system can automatically flush any buffered data to disk when the file \n",
    "is closed.\n",
    "\n",
    "\"\"\""
   ]
  },
  {
   "cell_type": "markdown",
   "id": "e352a275",
   "metadata": {},
   "source": [
    "#### Q3. Write a python program to create a text file. Write ‘I want to become a Data Scientist’ in that file. Then close the file. Open this file and read the content of the file."
   ]
  },
  {
   "cell_type": "code",
   "execution_count": 6,
   "id": "91423aa2",
   "metadata": {},
   "outputs": [],
   "source": [
    "# Ans\n",
    "f = open(\"FirstFile.txt\", 'w')\n",
    "f.write(\"I want to become a Data Scientist\")\n",
    "f.close()"
   ]
  },
  {
   "cell_type": "code",
   "execution_count": 5,
   "id": "65ba506a",
   "metadata": {},
   "outputs": [
    {
     "data": {
      "text/plain": [
       "'I want to become a Data Scientist'"
      ]
     },
     "execution_count": 5,
     "metadata": {},
     "output_type": "execute_result"
    }
   ],
   "source": [
    "r = open(\"FirstFile.txt\", 'r')\n",
    "r.read()"
   ]
  },
  {
   "cell_type": "markdown",
   "id": "5f2d428f",
   "metadata": {},
   "source": [
    "#### Q4. Explain the following with python code: read(), readline() and readlines()."
   ]
  },
  {
   "cell_type": "code",
   "execution_count": 1,
   "id": "fe329ddd",
   "metadata": {},
   "outputs": [
    {
     "data": {
      "text/plain": [
       "'The close() function is used in Python to close an open file. When a file is opened, the operating system reserves resources for it and associates a file descriptor to it. Closing a file releases these resources and makes sure that any changes made to the file are properly savedIt is important to close a file after you have finished working with it because:It frees up resources that were being used by the file, such as memory and file descriptors.It ensures that any changes made to the file are properly saved and written to disk.It makes the file available for other operations, such as opening and modifying it.It helps to prevent data corruption, as the operating system can automatically flush any buffered data to disk when the file is closed.In Python, it is recommended to use the with statement when working with files, as this ensures that the file is automatically closed when you are done with it, even if an exception occurs during execution. This makes it less likely that you will forget to close the file, which can lead to resource leaks and other issues.'"
      ]
     },
     "execution_count": 1,
     "metadata": {},
     "output_type": "execute_result"
    }
   ],
   "source": [
    "# Ans read() is used to read the entire contents of a file as a single string\n",
    "\n",
    "r = open(\"FirstFile.txt\", 'r')\n",
    "r.read()"
   ]
  },
  {
   "cell_type": "code",
   "execution_count": 6,
   "id": "faaa7604",
   "metadata": {},
   "outputs": [
    {
     "name": "stdout",
     "output_type": "stream",
     "text": [
      "The close() function is used in Python to close an open file. When a file is opened, the operating system reserves resources for it and\n",
      "\n"
     ]
    }
   ],
   "source": [
    "# readline() is used to read a single line from the file. Here's an example:\n",
    "with open(\"FirstFile.txt\", 'r') as file:\n",
    "    line = file.readline()\n",
    "    print(line)\n"
   ]
  },
  {
   "cell_type": "code",
   "execution_count": 9,
   "id": "37a54b30",
   "metadata": {},
   "outputs": [
    {
     "name": "stdout",
     "output_type": "stream",
     "text": [
      "['The close() function is used in Python to close an open file. When a file is opened, the operating system reserves resources for it and\\n', 'associates a file descriptor to it. Closing a file releases these resources and makes sure that any changes made to the file are properly\\n', 'savedIt is important to close a file after you have finished working with it because:It frees up resources that were being used by the file, \\n', 'such as memory and file descriptors.It ensures that any changes made to the file are properly saved and written to disk.It makes the file\\n', 'available for other operations, such as opening and modifying it.It helps to prevent data corruption, as the operating system can \\n', 'automatically flush any buffered data to disk when the file is closed.In Python, it is recommended to use the with statement when working with\\n', 'files, as this ensures that the file is automatically closed when you are done with it, even if an exception occurs during execution. This\\n', 'makes it less likely that you will forget to close the file, which can lead to resource leaks and other issues.']\n"
     ]
    }
   ],
   "source": [
    "# readlines() is used to read all the lines of a file as a list of strings, where each element of the list corresponds to a \n",
    "# single line in the file. Here's an example:\n",
    "with open(\"FirstFile.txt\", 'r') as file:\n",
    "    lines = file.readlines()\n",
    "    print(lines)"
   ]
  },
  {
   "cell_type": "markdown",
   "id": "fddbdcb4",
   "metadata": {},
   "source": [
    "#### Q5. Explain why with statement is used with open(). What is the advantage of using with statement and open() together?"
   ]
  },
  {
   "cell_type": "code",
   "execution_count": null,
   "id": "5b356393",
   "metadata": {},
   "outputs": [],
   "source": [
    "\"\"\"\n",
    "Ans The with statement is used in Python to wrap the execution of a block of code with management of a resource, such as a file,\n",
    "a network connection, or a lock. When you use a with statement with open(), the file is automatically closed when you are done\n",
    "with it, even if an exception occurs during execution.\n",
    "\n",
    "The advantage of using the with statement and open() together is that it helps to ensure that resources are properly managed, \n",
    "even if an error occurs while you are working with the file. This makes your code more robust and less likely to cause problems.\n",
    "\n",
    "\"\"\""
   ]
  },
  {
   "cell_type": "markdown",
   "id": "ac7605a7",
   "metadata": {},
   "source": [
    "#### Q6. Explain the write() and writelines() functions. Give a suitable example."
   ]
  },
  {
   "cell_type": "code",
   "execution_count": 10,
   "id": "da3b8b55",
   "metadata": {},
   "outputs": [],
   "source": [
    "# Ans write() is used to write a string to a file. Here's an example:\n",
    "\n",
    "with open(\"FirstFile.txt\", 'w') as file:\n",
    "    file.write(\"This is the first line of code. \\n\")\n",
    "    file.write(\"This is the second line of code. \\n\")"
   ]
  },
  {
   "cell_type": "code",
   "execution_count": 11,
   "id": "1f00a667",
   "metadata": {},
   "outputs": [],
   "source": [
    "# writelines() is used to write a sequence of strings to a file. The sequence can be a list or a tuple, for example. \n",
    "# Here's an example:\n",
    "\n",
    "line = [\"This is the first line of code. \\n\",\"This is the second line of code. \\n\", \"Th\"]\n",
    "\n",
    "with open(\"FirstFile.txt\", 'w') as file:\n",
    "    file.writelines(line)"
   ]
  },
  {
   "cell_type": "code",
   "execution_count": null,
   "id": "e1333d9d",
   "metadata": {},
   "outputs": [],
   "source": []
  }
 ],
 "metadata": {
  "kernelspec": {
   "display_name": "Python 3 (ipykernel)",
   "language": "python",
   "name": "python3"
  },
  "language_info": {
   "codemirror_mode": {
    "name": "ipython",
    "version": 3
   },
   "file_extension": ".py",
   "mimetype": "text/x-python",
   "name": "python",
   "nbconvert_exporter": "python",
   "pygments_lexer": "ipython3",
   "version": "3.9.13"
  }
 },
 "nbformat": 4,
 "nbformat_minor": 5
}
