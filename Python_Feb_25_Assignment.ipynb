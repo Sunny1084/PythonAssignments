{
 "cells": [
  {
   "cell_type": "markdown",
   "id": "6d6e3913",
   "metadata": {},
   "source": [
    "#### Q1. Write a code to print the data present in the second row of the dataframe, df."
   ]
  },
  {
   "cell_type": "code",
   "execution_count": 12,
   "id": "762867e4",
   "metadata": {},
   "outputs": [
    {
     "name": "stdout",
     "output_type": "stream",
     "text": [
      "        course_name  duration\n",
      "1  Machine Learning         3\n"
     ]
    },
    {
     "data": {
      "text/plain": [
       "course_name    Machine Learning\n",
       "duration                      3\n",
       "Name: 1, dtype: object"
      ]
     },
     "execution_count": 12,
     "metadata": {},
     "output_type": "execute_result"
    }
   ],
   "source": [
    "import pandas as pd\n",
    "course_name = ['Data Science', 'Machine Learning', 'Big Data', 'Data Engineer']\n",
    "duration = [2,3,6,4]\n",
    "df = pd.DataFrame(data = {'course_name' : course_name, 'duration' : duration})\n",
    "print(df[1:2])\n",
    "df.loc[1]"
   ]
  },
  {
   "cell_type": "markdown",
   "id": "887d2f97",
   "metadata": {},
   "source": [
    "#### Q2. What is the difference between the functions loc and iloc in pandas.DataFrame?"
   ]
  },
  {
   "cell_type": "code",
   "execution_count": null,
   "id": "dcc5ec3b",
   "metadata": {},
   "outputs": [],
   "source": [
    "'''\n",
    "Both loc and iloc are indexing methods in pandas that allow you to select subsets of a DataFrame. The main difference between \n",
    "the two methods is how they reference the data.\n",
    "\n",
    "loc is a label-based indexing method, which means that it selects data based on the row and column labels. You can use loc to \n",
    "select rows and columns by their labels, or to slice data using labels. The syntax for using loc is df.loc[row_label, \n",
    "column_label].\n",
    "\n",
    "iloc, on the other hand, is a position-based indexing method, which means that it selects data based on the integer position of \n",
    "the rows and columns. You can use iloc to select rows and columns by their integer positions, or to slice data using integer \n",
    "positions. The syntax for using iloc is df.iloc[row_position, column_position].\n",
    "'''"
   ]
  },
  {
   "cell_type": "markdown",
   "id": "3964cc4a",
   "metadata": {},
   "source": [
    "#### Q3. Reindex the given dataframe using a variable, reindex = [3,0,1,2] and store it in the variable, new_df then find the output for both new_df.loc[2] and new_df.iloc[2]."
   ]
  },
  {
   "cell_type": "code",
   "execution_count": 20,
   "id": "670a8447",
   "metadata": {},
   "outputs": [
    {
     "name": "stdout",
     "output_type": "stream",
     "text": [
      "column_1    0.493338\n",
      "column_2    0.232954\n",
      "column_3    0.552333\n",
      "column_4    0.247303\n",
      "column_5    0.654126\n",
      "column_6    0.139668\n",
      "Name: 2, dtype: float64\n",
      "column_1    0.008528\n",
      "column_2    0.777445\n",
      "column_3    0.821941\n",
      "column_4    0.491180\n",
      "column_5    0.282291\n",
      "column_6    0.642782\n",
      "Name: 1, dtype: float64\n"
     ]
    }
   ],
   "source": [
    "import pandas as pd\n",
    "import numpy as np\n",
    "columns = ['column_1', 'column_2', 'column_3', 'column_4', 'column_5', 'column_6']\n",
    "indices = [1,2,3,4,5,6]\n",
    "#Creating a dataframe:\n",
    "df1 = pd.DataFrame(np.random.rand(6,6), columns = columns, index = indices)\n",
    "re_index = [3,0,1,2,5,4]\n",
    "new_df = df1.reindex(re_index)\n",
    "print(new_df.loc[2])\n",
    "print(new_df.iloc[2])\n",
    "\n",
    "# Note that since we have reindexed the DataFrame, the labels and integer positions have changed. The label for the row \n",
    "# originally at index 2 is now 1, and the integer position of the row with label 2 is now 2."
   ]
  },
  {
   "cell_type": "markdown",
   "id": "260aa91a",
   "metadata": {},
   "source": [
    "#### Q4. Write a code to find the following statistical measurements for the above dataframe df1: (i) mean of each and every column present in the dataframe.  (ii) standard deviation of column, ‘column_2’"
   ]
  },
  {
   "cell_type": "code",
   "execution_count": 26,
   "id": "3305b52a",
   "metadata": {},
   "outputs": [
    {
     "name": "stdout",
     "output_type": "stream",
     "text": [
      "column_1    0.448077\n",
      "column_2    0.563651\n",
      "column_3    0.522240\n",
      "column_4    0.491187\n",
      "column_5    0.496382\n",
      "column_6    0.435916\n",
      "dtype: float64\n"
     ]
    },
    {
     "data": {
      "text/plain": [
       "0.3188241506209836"
      ]
     },
     "execution_count": 26,
     "metadata": {},
     "output_type": "execute_result"
    }
   ],
   "source": [
    "print(df1.mean())\n",
    "df1['column_2'].std()"
   ]
  },
  {
   "cell_type": "markdown",
   "id": "318a7a60",
   "metadata": {},
   "source": [
    "#### Q5. Replace the data present in the second row of column, ‘column_2’ by a string variable then find the mean of column, column_2. If you are getting errors in executing it then explain why."
   ]
  },
  {
   "cell_type": "code",
   "execution_count": 32,
   "id": "68674b47",
   "metadata": {},
   "outputs": [
    {
     "data": {
      "text/html": [
       "<div>\n",
       "<style scoped>\n",
       "    .dataframe tbody tr th:only-of-type {\n",
       "        vertical-align: middle;\n",
       "    }\n",
       "\n",
       "    .dataframe tbody tr th {\n",
       "        vertical-align: top;\n",
       "    }\n",
       "\n",
       "    .dataframe thead th {\n",
       "        text-align: right;\n",
       "    }\n",
       "</style>\n",
       "<table border=\"1\" class=\"dataframe\">\n",
       "  <thead>\n",
       "    <tr style=\"text-align: right;\">\n",
       "      <th></th>\n",
       "      <th>column_1</th>\n",
       "      <th>column_2</th>\n",
       "      <th>column_3</th>\n",
       "      <th>column_4</th>\n",
       "      <th>column_5</th>\n",
       "      <th>column_6</th>\n",
       "    </tr>\n",
       "  </thead>\n",
       "  <tbody>\n",
       "    <tr>\n",
       "      <th>1</th>\n",
       "      <td>0.008528</td>\n",
       "      <td>0.777445</td>\n",
       "      <td>0.821941</td>\n",
       "      <td>0.491180</td>\n",
       "      <td>0.282291</td>\n",
       "      <td>0.642782</td>\n",
       "    </tr>\n",
       "    <tr>\n",
       "      <th>2</th>\n",
       "      <td>0.493338</td>\n",
       "      <td>new value</td>\n",
       "      <td>0.552333</td>\n",
       "      <td>0.247303</td>\n",
       "      <td>0.654126</td>\n",
       "      <td>0.139668</td>\n",
       "    </tr>\n",
       "    <tr>\n",
       "      <th>3</th>\n",
       "      <td>0.456889</td>\n",
       "      <td>0.286131</td>\n",
       "      <td>0.510980</td>\n",
       "      <td>0.295131</td>\n",
       "      <td>0.270711</td>\n",
       "      <td>0.754038</td>\n",
       "    </tr>\n",
       "    <tr>\n",
       "      <th>4</th>\n",
       "      <td>0.469199</td>\n",
       "      <td>0.331074</td>\n",
       "      <td>0.772267</td>\n",
       "      <td>0.758646</td>\n",
       "      <td>0.916742</td>\n",
       "      <td>0.400624</td>\n",
       "    </tr>\n",
       "    <tr>\n",
       "      <th>5</th>\n",
       "      <td>0.785264</td>\n",
       "      <td>0.990068</td>\n",
       "      <td>0.293771</td>\n",
       "      <td>0.514510</td>\n",
       "      <td>0.547012</td>\n",
       "      <td>0.308880</td>\n",
       "    </tr>\n",
       "    <tr>\n",
       "      <th>6</th>\n",
       "      <td>0.475245</td>\n",
       "      <td>0.764237</td>\n",
       "      <td>0.182148</td>\n",
       "      <td>0.640355</td>\n",
       "      <td>0.307412</td>\n",
       "      <td>0.369504</td>\n",
       "    </tr>\n",
       "  </tbody>\n",
       "</table>\n",
       "</div>"
      ],
      "text/plain": [
       "   column_1   column_2  column_3  column_4  column_5  column_6\n",
       "1  0.008528   0.777445  0.821941  0.491180  0.282291  0.642782\n",
       "2  0.493338  new value  0.552333  0.247303  0.654126  0.139668\n",
       "3  0.456889   0.286131  0.510980  0.295131  0.270711  0.754038\n",
       "4  0.469199   0.331074  0.772267  0.758646  0.916742  0.400624\n",
       "5  0.785264   0.990068  0.293771  0.514510  0.547012  0.308880\n",
       "6  0.475245   0.764237  0.182148  0.640355  0.307412  0.369504"
      ]
     },
     "execution_count": 32,
     "metadata": {},
     "output_type": "execute_result"
    }
   ],
   "source": [
    "df1.loc[2,'column_2'] = 'new value'\n",
    "df1\n",
    "#df1['column_2'].mean()\n",
    "\n",
    "# Got an error unsupported operand type(s) for +: 'float' and 'str' because we cannot calculate the mean of String"
   ]
  },
  {
   "cell_type": "markdown",
   "id": "93118710",
   "metadata": {},
   "source": [
    "#### Q6. What do you understand about the windows function in pandas and list the types of windows functions?"
   ]
  },
  {
   "cell_type": "code",
   "execution_count": null,
   "id": "c646ea8e",
   "metadata": {},
   "outputs": [],
   "source": [
    "'''\n",
    "In pandas, the window functions (also known as rolling or moving functions) are used to perform calculations on a moving window \n",
    "of data. This is especially useful for time-series data or any dataset where the order of the data points is important.\n",
    "\n",
    "Window functions in pandas can be applied to a rolling window of data and the window can be either centered or not. These \n",
    "functions can be used to calculate moving statistics such as the rolling mean, rolling standard deviation, and rolling \n",
    "correlation coefficients.\n",
    "\n",
    "The types of window functions available in pandas are:\n",
    "\n",
    "Rolling Window Function: Calculates the rolling window statistics for a single column of data, like rolling mean or rolling sum,\n",
    "etc.\n",
    "\n",
    "Rolling Group Function: Calculates the rolling window statistics for a column of data with a group or category for \n",
    "each data point.\n",
    "'''"
   ]
  },
  {
   "cell_type": "markdown",
   "id": "e4c632f7",
   "metadata": {},
   "source": [
    "#### Q7. Write a code to print only the current month and year at the time of answering this question. [Hint: Use pandas.datetime function]"
   ]
  },
  {
   "cell_type": "code",
   "execution_count": 41,
   "id": "9348eff1",
   "metadata": {},
   "outputs": [
    {
     "name": "stdout",
     "output_type": "stream",
     "text": [
      "March 2023\n"
     ]
    }
   ],
   "source": [
    "import datetime\n",
    "now = datetime.datetime.now()\n",
    "current_month_year = now.strftime(\"%B %Y\")\n",
    "print(current_month_year)"
   ]
  },
  {
   "cell_type": "markdown",
   "id": "3b22aae1",
   "metadata": {},
   "source": [
    "####  Q8. Write a Python program that takes in two dates as input (in the format YYYY-MM-DD) and calculates the difference between them in days, hours, and minutes using Pandas time delta. The program should prompt the user to enter the dates and display the result."
   ]
  },
  {
   "cell_type": "code",
   "execution_count": 45,
   "id": "caaaa333",
   "metadata": {},
   "outputs": [
    {
     "name": "stdout",
     "output_type": "stream",
     "text": [
      "Enter the first date (YYYY-MM-DD): 2005-06-27\n",
      "Enter the second date (YYYY-MM-DD): 2007-09-30\n"
     ]
    }
   ],
   "source": [
    "import pandas as pd\n",
    "\n",
    "date1 = input(\"Enter the first date (YYYY-MM-DD): \")\n",
    "date2 = input(\"Enter the second date (YYYY-MM-DD): \")\n",
    "\n",
    "date1 = pd.to_datetime(date1)\n",
    "date2 = pd.to_datetime(date2)\n",
    "\n",
    "diff = date2 - date1\n",
    "\n",
    "days = diff.days\n",
    "hours = diff.seconds / 3600\n",
    "minutes = diff.seconds / 60\n",
    "\n",
    "print(f\"The difference between {date1.date()} and {date2.date()} is {days} days, {hours} hours, and {minutes} minutes.\")"
   ]
  },
  {
   "cell_type": "markdown",
   "id": "b5147217",
   "metadata": {},
   "source": [
    "#### Q9. Write a Python program that reads a CSV file containing categorical data and converts a specified column to a categorical data type. The program should prompt the user to enter the file path, column name, and category order, and then display the sorted data."
   ]
  },
  {
   "cell_type": "code",
   "execution_count": null,
   "id": "59fe2525",
   "metadata": {},
   "outputs": [],
   "source": [
    "import pandas as pd\n",
    "\n",
    "file_path = input(\"Enter the file path: \")\n",
    "\n",
    "column_name = input(\"Enter the column name to convert: \")\n",
    "\n",
    "category_order = input(\"Enter the category order (comma-separated): \").split(\",\")\n",
    "\n",
    "df = pd.read_csv(file_path)\n",
    "\n",
    "df[column_name] = pd.Categorical(df[column_name], categories=category_order, ordered=True)\n",
    "\n",
    "df_sorted = df.sort_values(by=column_name)\n",
    "\n",
    "print(df_sorted)"
   ]
  },
  {
   "cell_type": "markdown",
   "id": "095f9088",
   "metadata": {},
   "source": [
    "#### Q10. Write a Python program that reads a CSV file containing sales data for different products and visualizes the data using a stacked bar chart to show the sales of each product category over time. The program should prompt the user to enter the file path and display the chart."
   ]
  },
  {
   "cell_type": "code",
   "execution_count": null,
   "id": "ca3e595c",
   "metadata": {},
   "outputs": [],
   "source": [
    "import pandas as pd\n",
    "import matplotlib.pyplot as plt\n",
    "\n",
    "file_path = input(\"Enter the file path: \")\n",
    "\n",
    "df = pd.read_csv(file_path)\n",
    "\n",
    "df['Date'] = pd.to_datetime(df['Date'])\n",
    "\n",
    "grouped = df.groupby(['Category', 'Date'])['Sales'].sum().reset_index()\n",
    "\n",
    "pivoted = grouped.pivot(index='Date', columns='Category', values='Sales').fillna(0)\n",
    "\n",
    "pivoted.plot(kind='bar', stacked=True)\n",
    "\n",
    "plt.title('Sales by Product Category')\n",
    "plt.xlabel('Date')\n",
    "plt.ylabel('Sales')\n",
    "\n",
    "plt.show()"
   ]
  },
  {
   "cell_type": "markdown",
   "id": "7dbf506a",
   "metadata": {},
   "source": [
    "#### Q11. You are given a CSV file containing student data that includes the student ID and their test score. Write a Python program that reads the CSV file, calculates the mean, median, and mode of the test scores, and displays the results in a table."
   ]
  },
  {
   "cell_type": "code",
   "execution_count": null,
   "id": "33f4bfd1",
   "metadata": {},
   "outputs": [],
   "source": [
    "import pandas as pd\n",
    "\n",
    "file_path = input(\"Enter the file path of the CSV file containing the student data: \")\n",
    "\n",
    "data = pd.read_csv(file_path)\n",
    "\n",
    "mean = data['Test Score'].mean()\n",
    "median = data['Test Score'].median()\n",
    "mode = data['Test Score'].mode()\n",
    "\n",
    "table = pd.DataFrame({'Statistic': ['Mean', 'Median', 'Mode'], 'Value': [mean, median, ', '.join(map(str, mode.tolist()))]})\n",
    "print(table)"
   ]
  },
  {
   "cell_type": "code",
   "execution_count": null,
   "id": "40c635ed",
   "metadata": {},
   "outputs": [],
   "source": []
  }
 ],
 "metadata": {
  "kernelspec": {
   "display_name": "Python 3 (ipykernel)",
   "language": "python",
   "name": "python3"
  },
  "language_info": {
   "codemirror_mode": {
    "name": "ipython",
    "version": 3
   },
   "file_extension": ".py",
   "mimetype": "text/x-python",
   "name": "python",
   "nbconvert_exporter": "python",
   "pygments_lexer": "ipython3",
   "version": "3.9.13"
  }
 },
 "nbformat": 4,
 "nbformat_minor": 5
}
