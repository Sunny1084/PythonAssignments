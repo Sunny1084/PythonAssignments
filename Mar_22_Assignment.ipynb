{
 "cells": [
  {
   "cell_type": "markdown",
   "id": "c8c2fd24",
   "metadata": {},
   "source": [
    "### Q1. Pearson correlation coefficient is a measure of the linear relationship between two variables. Suppose you have collected data on the amount of time students spend studying for an exam and their final exam scores. Calculate the Pearson correlation coefficient between these two variables and interpret the result."
   ]
  },
  {
   "cell_type": "code",
   "execution_count": 3,
   "id": "2ec319a3",
   "metadata": {},
   "outputs": [
    {
     "data": {
      "text/html": [
       "<div>\n",
       "<style scoped>\n",
       "    .dataframe tbody tr th:only-of-type {\n",
       "        vertical-align: middle;\n",
       "    }\n",
       "\n",
       "    .dataframe tbody tr th {\n",
       "        vertical-align: top;\n",
       "    }\n",
       "\n",
       "    .dataframe thead th {\n",
       "        text-align: right;\n",
       "    }\n",
       "</style>\n",
       "<table border=\"1\" class=\"dataframe\">\n",
       "  <thead>\n",
       "    <tr style=\"text-align: right;\">\n",
       "      <th></th>\n",
       "      <th>Time</th>\n",
       "      <th>Score</th>\n",
       "    </tr>\n",
       "  </thead>\n",
       "  <tbody>\n",
       "    <tr>\n",
       "      <th>Time</th>\n",
       "      <td>1.0</td>\n",
       "      <td>1.0</td>\n",
       "    </tr>\n",
       "    <tr>\n",
       "      <th>Score</th>\n",
       "      <td>1.0</td>\n",
       "      <td>1.0</td>\n",
       "    </tr>\n",
       "  </tbody>\n",
       "</table>\n",
       "</div>"
      ],
      "text/plain": [
       "       Time  Score\n",
       "Time    1.0    1.0\n",
       "Score   1.0    1.0"
      ]
     },
     "execution_count": 3,
     "metadata": {},
     "output_type": "execute_result"
    }
   ],
   "source": [
    "import pandas as pd\n",
    "data = {'Time':[2,4,6,8,10,3,5,7,9], 'Score':[60,70,80,90,100,65,75,85,95]}\n",
    "df = pd.DataFrame(data)\n",
    "df.corr()"
   ]
  },
  {
   "cell_type": "markdown",
   "id": "858419db",
   "metadata": {},
   "source": [
    "The result is a positive number close to 1, which indicates a strong positive linear relationship between time spent studying and final exam score. This means that as one variable increases, the other variable also tends to increase proportionally. In other words, students who study more tend to score higher on the exam."
   ]
  },
  {
   "cell_type": "markdown",
   "id": "2c9e966c",
   "metadata": {},
   "source": [
    "### Q2. Spearman's rank correlation is a measure of the monotonic relationship between two variables. Suppose you have collected data on the amount of sleep individuals get each night and their overall job satisfaction level on a scale of 1 to 10. Calculate the Spearman's rank correlation between these two variables and interpret the result."
   ]
  },
  {
   "cell_type": "code",
   "execution_count": 4,
   "id": "b955513e",
   "metadata": {},
   "outputs": [
    {
     "data": {
      "text/html": [
       "<div>\n",
       "<style scoped>\n",
       "    .dataframe tbody tr th:only-of-type {\n",
       "        vertical-align: middle;\n",
       "    }\n",
       "\n",
       "    .dataframe tbody tr th {\n",
       "        vertical-align: top;\n",
       "    }\n",
       "\n",
       "    .dataframe thead th {\n",
       "        text-align: right;\n",
       "    }\n",
       "</style>\n",
       "<table border=\"1\" class=\"dataframe\">\n",
       "  <thead>\n",
       "    <tr style=\"text-align: right;\">\n",
       "      <th></th>\n",
       "      <th>sleep</th>\n",
       "      <th>satisfaction</th>\n",
       "    </tr>\n",
       "  </thead>\n",
       "  <tbody>\n",
       "    <tr>\n",
       "      <th>sleep</th>\n",
       "      <td>1.000000</td>\n",
       "      <td>0.666695</td>\n",
       "    </tr>\n",
       "    <tr>\n",
       "      <th>satisfaction</th>\n",
       "      <td>0.666695</td>\n",
       "      <td>1.000000</td>\n",
       "    </tr>\n",
       "  </tbody>\n",
       "</table>\n",
       "</div>"
      ],
      "text/plain": [
       "                 sleep  satisfaction\n",
       "sleep         1.000000      0.666695\n",
       "satisfaction  0.666695      1.000000"
      ]
     },
     "execution_count": 4,
     "metadata": {},
     "output_type": "execute_result"
    }
   ],
   "source": [
    "data = {'sleep':[7,6,5,4,3,8,9,10,11,12], 'satisfaction':[8,7,6,5,4,9,10,9,8,7]}\n",
    "df = pd.DataFrame(data)\n",
    "df.corr(method='spearman')"
   ]
  },
  {
   "cell_type": "markdown",
   "id": "0cb324e9",
   "metadata": {},
   "source": [
    "The result is a positive number close to 1, which indicates a strong positive monotonic relationship between sleep and satisfaction. This means that as one variable increases or decreases, the other variable also tends to increase or decrease in a consistent way. In other words, individuals who sleep more tend to have higher satisfaction levels and vice versa."
   ]
  },
  {
   "cell_type": "markdown",
   "id": "72221b00",
   "metadata": {},
   "source": [
    "### Q3. Suppose you are conducting a study to examine the relationship between the number of hours of exercise per week and body mass index (BMI) in a sample of adults. You collected data on both variables for 50 participants. Calculate the Pearson correlation coefficient and the Spearman's rank correlation between these two variables and compare the results."
   ]
  },
  {
   "cell_type": "code",
   "execution_count": 6,
   "id": "6683a19b",
   "metadata": {},
   "outputs": [
    {
     "name": "stdout",
     "output_type": "stream",
     "text": [
      "Using Pearson Correlation Coefficient\n",
      "          exercise       bmi\n",
      "exercise  1.000000 -0.854352\n",
      "bmi      -0.854352  1.000000\n",
      "Using Spearman Correlation Coefficient\n",
      "          exercise       bmi\n",
      "exercise  1.000000 -0.941097\n",
      "bmi      -0.941097  1.000000\n"
     ]
    }
   ],
   "source": [
    "data = {'exercise':[1,2,3,4,5,6,7,8,9,10,11,12,13,14,15,16,17,18,19,20],\n",
    "        'bmi':[30.2,28.6,27.1,25.8,24.7,23.9,23.2,22.7,22.3,22,21.8,21.6,21.5,21.4,21.3,21.3,21.3,21.3,21.4,21.5]}\n",
    "\n",
    "df = pd.DataFrame(data)\n",
    "print('Using Pearson Correlation Coefficient')\n",
    "print(df.corr(method='pearson'))\n",
    "print('Using Spearman Correlation Coefficient')\n",
    "print(df.corr(method='spearman'))\n"
   ]
  },
  {
   "cell_type": "markdown",
   "id": "60cfa375",
   "metadata": {},
   "source": [
    "### Q4. A researcher is interested in examining the relationship between the number of hours individuals spend watching television per day and their level of physical activity. The researcher collected data on both variables from a sample of 50 participants. Calculate the Pearson correlation coefficient between these two variables."
   ]
  },
  {
   "cell_type": "markdown",
   "id": "dacc59ab",
   "metadata": {},
   "source": [
    "To calculate the Pearson correlation coefficient between two variables, you need to use the following formula:\n",
    "\n",
    "**r = [n(Σxy) − ΣxΣy]/√[n(Σx2) − (Σx)2] [n(Σy2) − (Σy)2]**²\n",
    "\n",
    "In this formula, **x** is the independent variable, **y** is the dependent variable, **n** is the sample size, and **Σ** represents a summation of all values.\n"
   ]
  },
  {
   "cell_type": "markdown",
   "id": "f8e8cd96",
   "metadata": {},
   "source": [
    "### Q5. A survey was conducted to examine the relationship between age and preference for a particular brand of soft drink. The survey results are shown below:"
   ]
  },
  {
   "cell_type": "code",
   "execution_count": 12,
   "id": "62787260",
   "metadata": {},
   "outputs": [
    {
     "data": {
      "text/html": [
       "<div>\n",
       "<style scoped>\n",
       "    .dataframe tbody tr th:only-of-type {\n",
       "        vertical-align: middle;\n",
       "    }\n",
       "\n",
       "    .dataframe tbody tr th {\n",
       "        vertical-align: top;\n",
       "    }\n",
       "\n",
       "    .dataframe thead th {\n",
       "        text-align: right;\n",
       "    }\n",
       "</style>\n",
       "<table border=\"1\" class=\"dataframe\">\n",
       "  <thead>\n",
       "    <tr style=\"text-align: right;\">\n",
       "      <th></th>\n",
       "      <th>Age(Years)</th>\n",
       "      <th>Soft_Drink_Coke</th>\n",
       "      <th>Soft_Drink_Mountain dew</th>\n",
       "      <th>Soft_Drink_Pepsi</th>\n",
       "    </tr>\n",
       "  </thead>\n",
       "  <tbody>\n",
       "    <tr>\n",
       "      <th>Age(Years)</th>\n",
       "      <td>1.000000</td>\n",
       "      <td>-0.837240</td>\n",
       "      <td>0.394132</td>\n",
       "      <td>0.576439</td>\n",
       "    </tr>\n",
       "    <tr>\n",
       "      <th>Soft_Drink_Coke</th>\n",
       "      <td>-0.837240</td>\n",
       "      <td>1.000000</td>\n",
       "      <td>-0.447214</td>\n",
       "      <td>-0.707107</td>\n",
       "    </tr>\n",
       "    <tr>\n",
       "      <th>Soft_Drink_Mountain dew</th>\n",
       "      <td>0.394132</td>\n",
       "      <td>-0.447214</td>\n",
       "      <td>1.000000</td>\n",
       "      <td>-0.316228</td>\n",
       "    </tr>\n",
       "    <tr>\n",
       "      <th>Soft_Drink_Pepsi</th>\n",
       "      <td>0.576439</td>\n",
       "      <td>-0.707107</td>\n",
       "      <td>-0.316228</td>\n",
       "      <td>1.000000</td>\n",
       "    </tr>\n",
       "  </tbody>\n",
       "</table>\n",
       "</div>"
      ],
      "text/plain": [
       "                         Age(Years)  Soft_Drink_Coke  Soft_Drink_Mountain dew  Soft_Drink_Pepsi\n",
       "Age(Years)                 1.000000        -0.837240                 0.394132          0.576439\n",
       "Soft_Drink_Coke           -0.837240         1.000000                -0.447214         -0.707107\n",
       "Soft_Drink_Mountain dew    0.394132        -0.447214                 1.000000         -0.316228\n",
       "Soft_Drink_Pepsi           0.576439        -0.707107                -0.316228          1.000000"
      ]
     },
     "execution_count": 12,
     "metadata": {},
     "output_type": "execute_result"
    }
   ],
   "source": [
    "data = {'Age(Years)':[25 ,42,37,19,31,28], 'Soft_Drink':['Coke','Pepsi','Mountain dew','Coke','Pepsi','Coke']}\n",
    "df = pd.DataFrame(data)\n",
    "df = pd.get_dummies(df)\n",
    "df.corr()     "
   ]
  },
  {
   "cell_type": "markdown",
   "id": "e7c5e367",
   "metadata": {},
   "source": [
    "### Q6. A company is interested in examining the relationship between the number of sales calls made per day and the number of sales made per week. The company collected data on both variables from a sample of 30 sales representatives. Calculate the Pearson correlation coefficient between these two variables."
   ]
  },
  {
   "cell_type": "markdown",
   "id": "0d223962",
   "metadata": {},
   "source": [
    "You can use the same formula as before to calculate the Pearson correlation coefficient between the number of sales calls made per day and the number of sales made per week.\n",
    "\n",
    "**r = [n(Σxy) − ΣxΣy]/√[n(Σx2) − (Σx)2] [n(Σy2) − (Σy)2]**\n",
    "\n",
    "In this case, **x** is the number of sales calls made per day, **y** is the number of sales made per week, and **n** is 30.\n"
   ]
  }
 ],
 "metadata": {
  "kernelspec": {
   "display_name": "Python 3 (ipykernel)",
   "language": "python",
   "name": "python3"
  },
  "language_info": {
   "codemirror_mode": {
    "name": "ipython",
    "version": 3
   },
   "file_extension": ".py",
   "mimetype": "text/x-python",
   "name": "python",
   "nbconvert_exporter": "python",
   "pygments_lexer": "ipython3",
   "version": "3.9.13"
  }
 },
 "nbformat": 4,
 "nbformat_minor": 5
}
