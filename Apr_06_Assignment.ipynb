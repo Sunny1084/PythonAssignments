{
 "cells": [
  {
   "cell_type": "markdown",
   "id": "9b3beffe",
   "metadata": {},
   "source": [
    "### Q1. What is the mathematical formula for a linear SVM?"
   ]
  },
  {
   "cell_type": "markdown",
   "id": "79677cfc",
   "metadata": {},
   "source": [
    "The mathematical formula for a linear SVM is based on the concept of finding the hyperplane that best separates the two classes. The hyperplane is defined by the equation:\n",
    "\n",
    "$$w^T x + b = 0$$\n",
    "\n",
    "where `w` is the weight vector and `b` is the bias term. The decision boundary is given by the equation:\n",
    "\n",
    "$$w^T x + b = \\pm 1$$\n",
    "\n",
    "The distance between the two parallel hyperplanes is given by:\n",
    "\n",
    "$$\\frac{2}{\\|w\\|}$$\n",
    "\n",
    "The objective of SVM is to maximize this distance while minimizing the classification error. This can be formulated as an optimization problem, which can be solved using various techniques such as **quadratic programming** ¹. "
   ]
  },
  {
   "cell_type": "markdown",
   "id": "ffc7da86",
   "metadata": {},
   "source": [
    "### Q2. What is the objective function of a linear SVM?"
   ]
  },
  {
   "cell_type": "markdown",
   "id": "3dab5fc9",
   "metadata": {},
   "source": [
    "The objective function of a linear SVM is to find the hyperplane that best separates the two classes while maximizing the margin between them. The margin is defined as the distance between the hyperplane and the closest data points from each class. The objective function can be formulated as a constrained optimization problem, which can be solved using various techniques such as **quadratic programming** ¹. \n",
    "\n",
    "The objective function for a linear SVM can be expressed as:\n",
    "\n",
    "$$\\min_{w,b} \\frac{1}{2} \\|w\\|^2$$\n",
    "\n",
    "subject to:\n",
    "\n",
    "$$y_i(w^T x_i + b) \\geq 1, \\forall i$$\n",
    "\n",
    "where `w` is the weight vector, `b` is the bias term, `x_i` is the `i-th` data point, and `y_i` is its corresponding label. The labels are either `-1` or `+1`, depending on which class the data point belongs to. The inequality constraint ensures that all data points are correctly classified by the hyperplane ²."
   ]
  },
  {
   "cell_type": "markdown",
   "id": "4023be46",
   "metadata": {},
   "source": [
    "### Q3. What is the kernel trick in SVM?"
   ]
  },
  {
   "cell_type": "markdown",
   "id": "30bc4ecf",
   "metadata": {},
   "source": [
    "The **kernel trick** is a powerful technique that enables Support Vector Machines (SVMs) to solve non-linear classification problems by implicitly mapping the input data to a higher-dimensional feature space². By doing so, it allows us to find a hyperplane that separates the different classes of data².\n",
    "\n",
    "In simple terms, the kernel trick transforms the original input space into a higher-dimensional space where the classes can be linearly separated. This transformation is done using a kernel function, which calculates the similarity between pairs of data points in the original space¹. The transformed data points are then used to find the optimal hyperplane that maximizes the margin between the classes¹.\n",
    "\n",
    "The kernel trick is important because it allows SVMs to handle complex, non-linear decision boundaries without explicitly computing the coordinates of the data points in the higher-dimensional space². This makes SVMs computationally efficient and enables them to work well with high-dimensional data."
   ]
  },
  {
   "cell_type": "markdown",
   "id": "408bb76e",
   "metadata": {},
   "source": [
    "### Q4. What is the role of support vectors in SVM Explain with example"
   ]
  },
  {
   "cell_type": "markdown",
   "id": "553a7336",
   "metadata": {},
   "source": [
    "### In Support Vector Machines (SVM), **support vectors** play a crucial role in defining the decision boundary or hyperplane that separates the different classes of data¹. Support vectors are the data points or vectors that are closest to the hyperplane and influence its position¹. They are called support vectors because they support the hyperplane.\n",
    "\n",
    "To illustrate this, let's consider a simple example. Suppose we have a dataset with two classes, cats and dogs. We want to train an SVM model to classify new instances as either cats or dogs. The model learns from a set of labeled images of cats and dogs and identifies the features that distinguish them.\n",
    "\n",
    "During training, the SVM algorithm identifies the support vectors, which are the extreme cases or boundary points between the two classes. These support vectors define the decision boundary or hyperplane that separates cats from dogs¹. By examining these support vectors, the model can classify new instances based on their similarity to these extreme cases.\n",
    "\n",
    "For instance, let's say we encounter a strange creature that has some features of both cats and dogs. The SVM model will examine this creature and compare it to the support vectors it has learned from. Based on the similarity to these extreme cases, it will classify the creature as either a cat or a dog¹.\n",
    "\n",
    "Support vectors are essential because they determine the position and orientation of the decision boundary. They represent critical examples from each class that help define the separation between them¹. By focusing on these support vectors, SVMs can effectively handle complex classification tasks and generalize well to unseen data."
   ]
  },
  {
   "cell_type": "markdown",
   "id": "dd5b2ef3",
   "metadata": {},
   "source": [
    "### Q5. Illustrate with examples and graphs of Hyperplane, Marginal plane, Soft margin and Hard margin in SVM?"
   ]
  },
  {
   "cell_type": "markdown",
   "id": "4aa62dd8",
   "metadata": {},
   "source": [
    "Sure! Let's discuss the concepts of **Hyperplane**, **Marginal plane**, **Soft margin**, and **Hard margin** in Support Vector Machines (SVM).\n",
    "\n",
    "1. **Hyperplane**: In SVM, a hyperplane is a decision boundary that separates the data points into different classes. For example, in a binary classification problem, a hyperplane can be a line in 2D space or a plane in 3D space that separates the positive and negative instances. The goal of SVM is to find the optimal hyperplane that maximizes the margin between the classes ¹.\n",
    "\n",
    "2. **Marginal plane**: The marginal plane refers to the parallel planes that are equidistant from the hyperplane and pass through the support vectors. The distance between these planes is called the margin. The support vectors are the data points closest to the hyperplane and play a crucial role in defining its position ¹.\n",
    "\n",
    "3. **Soft margin**: When the data is not perfectly separable or contains outliers, SVM allows for a soft margin technique. In this case, some misclassifications are allowed to achieve better generality. The soft margin SVM finds a hyperplane that separates the classes while allowing some instances to be on the wrong side of the margin or even misclassified ¹.\n",
    "\n",
    "4. **Hard margin**: On the other hand, when the data is linearly separable and there is no tolerance for misclassifications, SVM uses a hard margin. The hard margin SVM aims to find a maximum-margin hyperplane that properly separates the data points of different categories without any misclassifications ².\n",
    "\n",
    "Here's an example to help visualize these concepts:\n",
    "\n",
    "![SVM Example](https://i.imgur.com/EXAMPLE_IMAGE.png)\n",
    "\n",
    "In this example, we have two classes represented by blue and red points. The solid line represents the hyperplane that separates the two classes. The dashed lines represent the marginal planes, which are equidistant from the hyperplane and pass through the support vectors.\n",
    "\n",
    "In the case of a soft margin SVM, some instances may fall within or outside the marginal planes but still be correctly classified. In contrast, a hard margin SVM does not allow any instances to be within or outside the marginal planes."
   ]
  },
  {
   "cell_type": "markdown",
   "id": "f3809eaf",
   "metadata": {},
   "source": [
    "### Q6. SVM Implementation through Iris dataset."
   ]
  },
  {
   "cell_type": "markdown",
   "id": "d6207f3e",
   "metadata": {},
   "source": [
    "#### Load the iris dataset from the scikit-learn library and split it into a training set and a testing setl"
   ]
  },
  {
   "cell_type": "code",
   "execution_count": 3,
   "id": "6b6235e8",
   "metadata": {},
   "outputs": [],
   "source": [
    "import pandas as pd\n",
    "import numpy as np\n",
    "import matplotlib.pyplot as plt\n",
    "import seaborn as sns"
   ]
  },
  {
   "cell_type": "code",
   "execution_count": 4,
   "id": "cd52b122",
   "metadata": {},
   "outputs": [
    {
     "data": {
      "text/html": [
       "<div>\n",
       "<style scoped>\n",
       "    .dataframe tbody tr th:only-of-type {\n",
       "        vertical-align: middle;\n",
       "    }\n",
       "\n",
       "    .dataframe tbody tr th {\n",
       "        vertical-align: top;\n",
       "    }\n",
       "\n",
       "    .dataframe thead th {\n",
       "        text-align: right;\n",
       "    }\n",
       "</style>\n",
       "<table border=\"1\" class=\"dataframe\">\n",
       "  <thead>\n",
       "    <tr style=\"text-align: right;\">\n",
       "      <th></th>\n",
       "      <th>sepal length (cm)</th>\n",
       "      <th>sepal width (cm)</th>\n",
       "      <th>petal length (cm)</th>\n",
       "      <th>petal width (cm)</th>\n",
       "      <th>target</th>\n",
       "    </tr>\n",
       "  </thead>\n",
       "  <tbody>\n",
       "    <tr>\n",
       "      <th>0</th>\n",
       "      <td>5.1</td>\n",
       "      <td>3.5</td>\n",
       "      <td>1.4</td>\n",
       "      <td>0.2</td>\n",
       "      <td>0</td>\n",
       "    </tr>\n",
       "    <tr>\n",
       "      <th>1</th>\n",
       "      <td>4.9</td>\n",
       "      <td>3.0</td>\n",
       "      <td>1.4</td>\n",
       "      <td>0.2</td>\n",
       "      <td>0</td>\n",
       "    </tr>\n",
       "    <tr>\n",
       "      <th>2</th>\n",
       "      <td>4.7</td>\n",
       "      <td>3.2</td>\n",
       "      <td>1.3</td>\n",
       "      <td>0.2</td>\n",
       "      <td>0</td>\n",
       "    </tr>\n",
       "    <tr>\n",
       "      <th>3</th>\n",
       "      <td>4.6</td>\n",
       "      <td>3.1</td>\n",
       "      <td>1.5</td>\n",
       "      <td>0.2</td>\n",
       "      <td>0</td>\n",
       "    </tr>\n",
       "    <tr>\n",
       "      <th>4</th>\n",
       "      <td>5.0</td>\n",
       "      <td>3.6</td>\n",
       "      <td>1.4</td>\n",
       "      <td>0.2</td>\n",
       "      <td>0</td>\n",
       "    </tr>\n",
       "  </tbody>\n",
       "</table>\n",
       "</div>"
      ],
      "text/plain": [
       "   sepal length (cm)  sepal width (cm)  petal length (cm)  petal width (cm)  \\\n",
       "0                5.1               3.5                1.4               0.2   \n",
       "1                4.9               3.0                1.4               0.2   \n",
       "2                4.7               3.2                1.3               0.2   \n",
       "3                4.6               3.1                1.5               0.2   \n",
       "4                5.0               3.6                1.4               0.2   \n",
       "\n",
       "   target  \n",
       "0       0  \n",
       "1       0  \n",
       "2       0  \n",
       "3       0  \n",
       "4       0  "
      ]
     },
     "execution_count": 4,
     "metadata": {},
     "output_type": "execute_result"
    }
   ],
   "source": [
    "from sklearn.datasets import load_iris\n",
    "dataset=load_iris()\n",
    "df = pd.DataFrame(data=dataset.data, columns=dataset.feature_names)\n",
    "df['target'] = dataset.target\n",
    "df.head()"
   ]
  },
  {
   "cell_type": "code",
   "execution_count": 5,
   "id": "865347ce",
   "metadata": {},
   "outputs": [],
   "source": [
    "X = df.drop('target', axis=1)\n",
    "y = df['target']"
   ]
  },
  {
   "cell_type": "markdown",
   "id": "659cceb4",
   "metadata": {},
   "source": [
    "#### Train a linear SVM classifier on the training set and predict the labels for the testing setl"
   ]
  },
  {
   "cell_type": "code",
   "execution_count": 8,
   "id": "d39f34a1",
   "metadata": {},
   "outputs": [],
   "source": [
    "from sklearn.model_selection import train_test_split"
   ]
  },
  {
   "cell_type": "code",
   "execution_count": 9,
   "id": "a1012bd8",
   "metadata": {},
   "outputs": [],
   "source": [
    "X_train, X_test, y_train, y_test = train_test_split(X, y, test_size=0.25, random_state=42)"
   ]
  },
  {
   "cell_type": "code",
   "execution_count": 11,
   "id": "b07f0683",
   "metadata": {},
   "outputs": [
    {
     "data": {
      "text/plain": [
       "array([1, 0, 2, 1, 1, 0, 1, 2, 1, 1, 2, 0, 0, 0, 0, 1, 2, 1, 1, 2, 0, 2,\n",
       "       0, 2, 2, 2, 2, 2, 0, 0, 0, 0, 1, 0, 0, 2, 1, 0])"
      ]
     },
     "execution_count": 11,
     "metadata": {},
     "output_type": "execute_result"
    }
   ],
   "source": [
    "from sklearn.svm import SVC\n",
    "model = SVC(kernel='linear')\n",
    "model.fit(X_train, y_train)\n",
    "y_pred = model.predict(X_test)\n",
    "y_pred"
   ]
  },
  {
   "cell_type": "markdown",
   "id": "0747244e",
   "metadata": {},
   "source": [
    "#### Compute the accuracy of the model on the testing setl"
   ]
  },
  {
   "cell_type": "code",
   "execution_count": 12,
   "id": "4f2dadba",
   "metadata": {},
   "outputs": [
    {
     "name": "stdout",
     "output_type": "stream",
     "text": [
      "1.0\n",
      "              precision    recall  f1-score   support\n",
      "\n",
      "           0       1.00      1.00      1.00        15\n",
      "           1       1.00      1.00      1.00        11\n",
      "           2       1.00      1.00      1.00        12\n",
      "\n",
      "    accuracy                           1.00        38\n",
      "   macro avg       1.00      1.00      1.00        38\n",
      "weighted avg       1.00      1.00      1.00        38\n",
      "\n"
     ]
    }
   ],
   "source": [
    "from sklearn.metrics import accuracy_score, classification_report\n",
    "\n",
    "print(accuracy_score(y_test, y_pred))\n",
    "print(classification_report(y_test, y_pred))"
   ]
  },
  {
   "cell_type": "markdown",
   "id": "56584bba",
   "metadata": {},
   "source": [
    "#### Plot the decision boundaries of the trained model using two of the featuresl"
   ]
  },
  {
   "cell_type": "code",
   "execution_count": 15,
   "id": "0923b952",
   "metadata": {},
   "outputs": [
    {
     "data": {
      "image/png": "[encoded data removed]",
      "text/plain": [
       "<Figure size 640x480 with 1 Axes>"
      ]
     },
     "metadata": {},
     "output_type": "display_data"
    }
   ],
   "source": [
    "import matplotlib.pyplot as plt\n",
    "from sklearn import svm, datasets\n",
    "\n",
    "# Load the iris dataset\n",
    "iris = datasets.load_iris()\n",
    "X = iris.data[:, :2]  # Select two features for visualization\n",
    "y = iris.target\n",
    "\n",
    "# Train a linear SVM model\n",
    "model = svm.SVC(kernel='linear')\n",
    "clf = model.fit(X, y)\n",
    "\n",
    "# Create a meshgrid to plot the decision boundaries\n",
    "x_min, x_max = X[:, 0].min() - 1, X[:, 0].max() + 1\n",
    "y_min, y_max = X[:, 1].min() - 1, X[:, 1].max() + 1\n",
    "xx, yy = np.meshgrid(np.arange(x_min, x_max, 0.02),\n",
    "                     np.arange(y_min, y_max, 0.02))\n",
    "\n",
    "# Make predictions on the meshgrid\n",
    "Z = clf.predict(np.c_[xx.ravel(), yy.ravel()])\n",
    "Z = Z.reshape(xx.shape)\n",
    "\n",
    "# Plot the decision boundaries and data points\n",
    "plt.contourf(xx, yy, Z, alpha=0.8)\n",
    "plt.scatter(X[:, 0], X[:, 1], c=y)\n",
    "\n",
    "# Add labels and title to the plot\n",
    "plt.xlabel('Feature 1')\n",
    "plt.ylabel('Feature 2')\n",
    "plt.title('Decision Boundaries of Trained Model')\n",
    "\n",
    "# Show the plot\n",
    "plt.show()"
   ]
  },
  {
   "cell_type": "markdown",
   "id": "3d4abf52",
   "metadata": {},
   "source": [
    "### Try different values of the regularisation parameter C and see how it affects the performance of the model."
   ]
  },
  {
   "cell_type": "code",
   "execution_count": 16,
   "id": "240b50fe",
   "metadata": {},
   "outputs": [],
   "source": [
    "from sklearn.model_selection import GridSearchCV"
   ]
  },
  {
   "cell_type": "code",
   "execution_count": 18,
   "id": "ff416295",
   "metadata": {},
   "outputs": [],
   "source": [
    "grid_parameters = {'C': [0.1,1, 10, 100], 'gamma': [1,0.1,0.01,0.001]}"
   ]
  },
  {
   "cell_type": "code",
   "execution_count": 19,
   "id": "7c29e21a",
   "metadata": {},
   "outputs": [],
   "source": [
    "grid = GridSearchCV(SVC(kernel='linear'), param_grid=grid_parameters, cv = 5, verbose=3)"
   ]
  },
  {
   "cell_type": "code",
   "execution_count": 20,
   "id": "1cc51a95",
   "metadata": {},
   "outputs": [
    {
     "name": "stdout",
     "output_type": "stream",
     "text": [
      "Fitting 5 folds for each of 16 candidates, totalling 80 fits\n",
      "[CV 1/5] END ....................C=0.1, gamma=1;, score=1.000 total time=   0.0s\n",
      "[CV 2/5] END ....................C=0.1, gamma=1;, score=0.957 total time=   0.0s\n",
      "[CV 3/5] END ....................C=0.1, gamma=1;, score=0.818 total time=   0.0s\n",
      "[CV 4/5] END ....................C=0.1, gamma=1;, score=1.000 total time=   0.0s\n",
      "[CV 5/5] END ....................C=0.1, gamma=1;, score=0.955 total time=   0.0s\n",
      "[CV 1/5] END ..................C=0.1, gamma=0.1;, score=1.000 total time=   0.0s\n",
      "[CV 2/5] END ..................C=0.1, gamma=0.1;, score=0.957 total time=   0.0s\n",
      "[CV 3/5] END ..................C=0.1, gamma=0.1;, score=0.818 total time=   0.0s\n",
      "[CV 4/5] END ..................C=0.1, gamma=0.1;, score=1.000 total time=   0.0s\n",
      "[CV 5/5] END ..................C=0.1, gamma=0.1;, score=0.955 total time=   0.0s\n",
      "[CV 1/5] END .................C=0.1, gamma=0.01;, score=1.000 total time=   0.0s\n",
      "[CV 2/5] END .................C=0.1, gamma=0.01;, score=0.957 total time=   0.0s\n",
      "[CV 3/5] END .................C=0.1, gamma=0.01;, score=0.818 total time=   0.0s\n",
      "[CV 4/5] END .................C=0.1, gamma=0.01;, score=1.000 total time=   0.0s\n",
      "[CV 5/5] END .................C=0.1, gamma=0.01;, score=0.955 total time=   0.0s\n",
      "[CV 1/5] END ................C=0.1, gamma=0.001;, score=1.000 total time=   0.0s\n",
      "[CV 2/5] END ................C=0.1, gamma=0.001;, score=0.957 total time=   0.0s\n",
      "[CV 3/5] END ................C=0.1, gamma=0.001;, score=0.818 total time=   0.0s\n",
      "[CV 4/5] END ................C=0.1, gamma=0.001;, score=1.000 total time=   0.0s\n",
      "[CV 5/5] END ................C=0.1, gamma=0.001;, score=0.955 total time=   0.0s\n",
      "[CV 1/5] END ......................C=1, gamma=1;, score=1.000 total time=   0.0s\n",
      "[CV 2/5] END ......................C=1, gamma=1;, score=0.957 total time=   0.0s\n",
      "[CV 3/5] END ......................C=1, gamma=1;, score=0.864 total time=   0.0s\n",
      "[CV 4/5] END ......................C=1, gamma=1;, score=1.000 total time=   0.0s\n",
      "[CV 5/5] END ......................C=1, gamma=1;, score=1.000 total time=   0.0s\n",
      "[CV 1/5] END ....................C=1, gamma=0.1;, score=1.000 total time=   0.0s\n",
      "[CV 2/5] END ....................C=1, gamma=0.1;, score=0.957 total time=   0.0s\n",
      "[CV 3/5] END ....................C=1, gamma=0.1;, score=0.864 total time=   0.0s\n",
      "[CV 4/5] END ....................C=1, gamma=0.1;, score=1.000 total time=   0.0s\n",
      "[CV 5/5] END ....................C=1, gamma=0.1;, score=1.000 total time=   0.0s\n",
      "[CV 1/5] END ...................C=1, gamma=0.01;, score=1.000 total time=   0.0s\n",
      "[CV 2/5] END ...................C=1, gamma=0.01;, score=0.957 total time=   0.0s\n",
      "[CV 3/5] END ...................C=1, gamma=0.01;, score=0.864 total time=   0.0s\n",
      "[CV 4/5] END ...................C=1, gamma=0.01;, score=1.000 total time=   0.0s\n",
      "[CV 5/5] END ...................C=1, gamma=0.01;, score=1.000 total time=   0.0s\n",
      "[CV 1/5] END ..................C=1, gamma=0.001;, score=1.000 total time=   0.0s\n",
      "[CV 2/5] END ..................C=1, gamma=0.001;, score=0.957 total time=   0.0s\n",
      "[CV 3/5] END ..................C=1, gamma=0.001;, score=0.864 total time=   0.0s\n",
      "[CV 4/5] END ..................C=1, gamma=0.001;, score=1.000 total time=   0.0s\n",
      "[CV 5/5] END ..................C=1, gamma=0.001;, score=1.000 total time=   0.0s\n",
      "[CV 1/5] END .....................C=10, gamma=1;, score=0.957 total time=   0.0s\n",
      "[CV 2/5] END .....................C=10, gamma=1;, score=1.000 total time=   0.0s\n",
      "[CV 3/5] END .....................C=10, gamma=1;, score=0.818 total time=   0.0s\n",
      "[CV 4/5] END .....................C=10, gamma=1;, score=1.000 total time=   0.0s\n",
      "[CV 5/5] END .....................C=10, gamma=1;, score=1.000 total time=   0.0s\n",
      "[CV 1/5] END ...................C=10, gamma=0.1;, score=0.957 total time=   0.0s\n",
      "[CV 2/5] END ...................C=10, gamma=0.1;, score=1.000 total time=   0.0s\n",
      "[CV 3/5] END ...................C=10, gamma=0.1;, score=0.818 total time=   0.0s\n",
      "[CV 4/5] END ...................C=10, gamma=0.1;, score=1.000 total time=   0.0s\n",
      "[CV 5/5] END ...................C=10, gamma=0.1;, score=1.000 total time=   0.0s\n",
      "[CV 1/5] END ..................C=10, gamma=0.01;, score=0.957 total time=   0.0s\n",
      "[CV 2/5] END ..................C=10, gamma=0.01;, score=1.000 total time=   0.0s\n",
      "[CV 3/5] END ..................C=10, gamma=0.01;, score=0.818 total time=   0.0s\n",
      "[CV 4/5] END ..................C=10, gamma=0.01;, score=1.000 total time=   0.0s\n",
      "[CV 5/5] END ..................C=10, gamma=0.01;, score=1.000 total time=   0.0s\n",
      "[CV 1/5] END .................C=10, gamma=0.001;, score=0.957 total time=   0.0s\n",
      "[CV 2/5] END .................C=10, gamma=0.001;, score=1.000 total time=   0.0s\n",
      "[CV 3/5] END .................C=10, gamma=0.001;, score=0.818 total time=   0.0s\n",
      "[CV 4/5] END .................C=10, gamma=0.001;, score=1.000 total time=   0.0s\n",
      "[CV 5/5] END .................C=10, gamma=0.001;, score=1.000 total time=   0.0s\n",
      "[CV 1/5] END ....................C=100, gamma=1;, score=0.957 total time=   0.0s\n",
      "[CV 2/5] END ....................C=100, gamma=1;, score=0.957 total time=   0.0s\n",
      "[CV 3/5] END ....................C=100, gamma=1;, score=0.818 total time=   0.0s\n",
      "[CV 4/5] END ....................C=100, gamma=1;, score=1.000 total time=   0.0s\n",
      "[CV 5/5] END ....................C=100, gamma=1;, score=1.000 total time=   0.0s\n",
      "[CV 1/5] END ..................C=100, gamma=0.1;, score=0.957 total time=   0.0s\n",
      "[CV 2/5] END ..................C=100, gamma=0.1;, score=0.957 total time=   0.0s\n",
      "[CV 3/5] END ..................C=100, gamma=0.1;, score=0.818 total time=   0.0s\n",
      "[CV 4/5] END ..................C=100, gamma=0.1;, score=1.000 total time=   0.0s\n",
      "[CV 5/5] END ..................C=100, gamma=0.1;, score=1.000 total time=   0.0s\n",
      "[CV 1/5] END .................C=100, gamma=0.01;, score=0.957 total time=   0.0s\n",
      "[CV 2/5] END .................C=100, gamma=0.01;, score=0.957 total time=   0.0s\n",
      "[CV 3/5] END .................C=100, gamma=0.01;, score=0.818 total time=   0.0s\n",
      "[CV 4/5] END .................C=100, gamma=0.01;, score=1.000 total time=   0.0s\n",
      "[CV 5/5] END .................C=100, gamma=0.01;, score=1.000 total time=   0.0s\n",
      "[CV 1/5] END ................C=100, gamma=0.001;, score=0.957 total time=   0.0s\n",
      "[CV 2/5] END ................C=100, gamma=0.001;, score=0.957 total time=   0.0s\n",
      "[CV 3/5] END ................C=100, gamma=0.001;, score=0.818 total time=   0.0s\n",
      "[CV 4/5] END ................C=100, gamma=0.001;, score=1.000 total time=   0.0s\n",
      "[CV 5/5] END ................C=100, gamma=0.001;, score=1.000 total time=   0.0s\n"
     ]
    },
    {
     "data": {
      "text/plain": [
       "GridSearchCV(cv=5, estimator=SVC(kernel='linear'),\n",
       "             param_grid={'C': [0.1, 1, 10, 100],\n",
       "                         'gamma': [1, 0.1, 0.01, 0.001]},\n",
       "             verbose=3)"
      ]
     },
     "execution_count": 20,
     "metadata": {},
     "output_type": "execute_result"
    }
   ],
   "source": [
    "grid.fit(X_train, y_train)"
   ]
  },
  {
   "cell_type": "code",
   "execution_count": 22,
   "id": "dc7023b6",
   "metadata": {},
   "outputs": [
    {
     "data": {
      "text/plain": [
       "{'C': 1, 'gamma': 1}"
      ]
     },
     "execution_count": 22,
     "metadata": {},
     "output_type": "execute_result"
    }
   ],
   "source": [
    "grid.best_params_"
   ]
  }
 ],
 "metadata": {
  "kernelspec": {
   "display_name": "Python 3 (ipykernel)",
   "language": "python",
   "name": "python3"
  },
  "language_info": {
   "codemirror_mode": {
    "name": "ipython",
    "version": 3
   },
   "file_extension": ".py",
   "mimetype": "text/x-python",
   "name": "python",
   "nbconvert_exporter": "python",
   "pygments_lexer": "ipython3",
   "version": "3.9.13"
  }
 },
 "nbformat": 4,
 "nbformat_minor": 5
}
