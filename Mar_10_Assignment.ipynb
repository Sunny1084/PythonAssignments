{
 "cells": [
  {
   "cell_type": "markdown",
   "id": "b46de232",
   "metadata": {},
   "source": [
    "### Q1: What is Estimation Statistics? Explain point estimate and interval estimate."
   ]
  },
  {
   "cell_type": "code",
   "execution_count": null,
   "id": "74b9f13b",
   "metadata": {},
   "outputs": [],
   "source": [
    "'''\n",
    "Estimation statistics is a data analysis framework that uses a combination of effect sizes, confidence intervals, precision \n",
    "planning, and meta-analysis to plan experiments, analyze data and interpret results. It complements hypothesis testing \n",
    "approaches such as null hypothesis significance testing (NHST), by going beyond the question of whether an effect is present or \n",
    "not, and provides information about how large an effect is. The primary aim of estimation methods is to report an effect \n",
    "size (a point estimate) along with its confidence interval, the latter of which is related to the precision of the estimate.\n",
    "\n",
    "A point estimate is a single value that estimates the value of an unknown parameter in a population. For example, if we want to \n",
    "estimate the average height of all students in a school, we can take a sample of students and calculate their average height. \n",
    "This average height is our point estimate for the population parameter.\n",
    "\n",
    "An interval estimate is a range of values that estimates the value of an unknown parameter in a population. It provides \n",
    "information about the precision of the point estimate by giving us an idea of how much variability there is in our sample data. \n",
    "The most common type of interval estimate is a confidence interval, which gives us a range of values that we can be confident \n",
    "contains the true population parameter with a certain level of probability\n",
    "'''"
   ]
  },
  {
   "cell_type": "markdown",
   "id": "9bad37f1",
   "metadata": {},
   "source": [
    "### Q2. Write a Python function to estimate the population mean using a sample mean and standard deviation."
   ]
  },
  {
   "cell_type": "code",
   "execution_count": 1,
   "id": "bb3bc3b7",
   "metadata": {},
   "outputs": [
    {
     "data": {
      "text/plain": [
       "35.35533905932738"
      ]
     },
     "execution_count": 1,
     "metadata": {},
     "output_type": "execute_result"
    }
   ],
   "source": [
    "def estimate_population_mean(sample_mean, sample_std_dev, sample_size):\n",
    "    return sample_mean * (sample_size ** 0.5) / sample_std_dev\n",
    "\n",
    "estimate_population_mean(50,10,50)"
   ]
  },
  {
   "cell_type": "markdown",
   "id": "f44daa7e",
   "metadata": {},
   "source": [
    "### Q3: What is Hypothesis testing? Why is it used? State the importance of Hypothesis testing."
   ]
  },
  {
   "cell_type": "code",
   "execution_count": null,
   "id": "1da477d0",
   "metadata": {},
   "outputs": [],
   "source": [
    "'''\n",
    "Hypothesis testing is a statistical method used to test a hypothesis or assumption about a population parameter using sample \n",
    "data. It is a formal procedure for investigating our ideas about the world using statistics. Hypothesis testing is used to \n",
    "determine whether the null hypothesis can be rejected or not. The null hypothesis is a prediction of no relationship between \n",
    "the variables you are interested in, while the alternate hypothesis is usually your initial hypothesis that predicts a \n",
    "relationship between variables.\n",
    "\n",
    "The importance of hypothesis testing lies in its ability to provide evidence for or against a claim or theory about a population\n",
    "parameter. It helps researchers and analysts determine the reliability of their study and make inferences about the population \n",
    "they are studying. Hypothesis testing is also used to make probabilistic statements about population parameters.\n",
    "'''"
   ]
  },
  {
   "cell_type": "markdown",
   "id": "ec1dca6c",
   "metadata": {},
   "source": [
    "###  Q4. Create a hypothesis that states whether the average weight of male college students is greater than the average weight of female college students."
   ]
  },
  {
   "cell_type": "code",
   "execution_count": null,
   "id": "613b9bfe",
   "metadata": {},
   "outputs": [],
   "source": [
    "'''\n",
    "Null Hypothesis (H0):\n",
    "The average weight of male college students is equal to or less than the average weight of female college students.\n",
    "\n",
    "Alternative Hypothesis (Ha):\n",
    "The average weight of male college students is greater than the average weight of female college students.\n",
    "\n",
    "In symbolic notation:\n",
    "\n",
    "H0: μ_male ≤ μ_female\n",
    "Ha: μ_male > μ_female\n",
    "\n",
    "Where:\n",
    "\n",
    "μ_male represents the population mean weight of male college students.\n",
    "μ_female represents the population mean weight of female college students.\n",
    "'''"
   ]
  },
  {
   "cell_type": "markdown",
   "id": "ae99e2e7",
   "metadata": {},
   "source": [
    "### Q5. Write a Python script to conduct a hypothesis test on the difference between two population means, given a sample from each population."
   ]
  },
  {
   "cell_type": "code",
   "execution_count": 3,
   "id": "57c83205",
   "metadata": {},
   "outputs": [
    {
     "name": "stdout",
     "output_type": "stream",
     "text": [
      "Sample 1 Mean: 80.0\n",
      "Sample 2 Mean: 70.0\n",
      "Test Statistic (t): 2.0\n",
      "p-value: 0.08051623795726257\n",
      "Degrees of Freedom: 8\n",
      "Critical t-value at alpha/2 (0.025): 2.3060041350333704\n",
      "Fail to reject the null hypothesis: There is no significant difference in means.\n"
     ]
    }
   ],
   "source": [
    "import numpy as np\n",
    "from scipy import stats\n",
    "\n",
    "sample1 = np.array([70, 75, 80, 85, 90])\n",
    "sample2 = np.array([60, 65, 70, 75, 80])\n",
    "\n",
    "alpha = 0.05\n",
    "\n",
    "t_stat, p_value = stats.ttest_ind(sample1, sample2)\n",
    "\n",
    "degrees_of_freedom = len(sample1) + len(sample2) - 2\n",
    "\n",
    "critical_t = stats.t.ppf(1 - alpha / 2, degrees_of_freedom)\n",
    "\n",
    "print(\"Sample 1 Mean:\", np.mean(sample1))\n",
    "print(\"Sample 2 Mean:\", np.mean(sample2))\n",
    "print(\"Test Statistic (t):\", t_stat)\n",
    "print(\"p-value:\", p_value)\n",
    "print(\"Degrees of Freedom:\", degrees_of_freedom)\n",
    "print(f\"Critical t-value at alpha/2 ({alpha/2}):\", critical_t)\n",
    "\n",
    "if np.abs(t_stat) > critical_t or p_value < alpha:\n",
    "    print(\"Reject the null hypothesis: There is a significant difference in means.\")\n",
    "else:\n",
    "    print(\"Fail to reject the null hypothesis: There is no significant difference in means.\")\n"
   ]
  },
  {
   "cell_type": "markdown",
   "id": "3dcdc756",
   "metadata": {},
   "source": [
    "### Q6: What is a null and alternative hypothesis? Give some examples."
   ]
  },
  {
   "cell_type": "code",
   "execution_count": null,
   "id": "b45bafb1",
   "metadata": {},
   "outputs": [],
   "source": [
    "'''\n",
    "Null Hypothesis (H0):\n",
    "\n",
    "The null hypothesis is a statement that represents a default or null position.\n",
    "It typically suggests that there is no effect, no difference, or no relationship in the population.\n",
    "It is the hypothesis that you aim to test against.\n",
    "In symbol notation, it is often denoted as H0.\n",
    "Examples:\n",
    "\n",
    "H0: The average test scores of students who used a new teaching method are equal to those of students who used the traditional method.\n",
    "H0: There is no difference in the mean heights of male and female adults in a certain population.\n",
    "Alternative Hypothesis (Ha):\n",
    "\n",
    "The alternative hypothesis is a statement that contradicts the null hypothesis.\n",
    "It represents what you are trying to show or prove based on your sample data.\n",
    "It suggests the presence of an effect, a difference, or a relationship in the population.\n",
    "In symbol notation, it is often denoted as Ha.\n",
    "Examples:\n",
    "\n",
    "Ha: The average test scores of students who used a new teaching method are different from those of students who used the \n",
    "traditional method.\n",
    "Ha: The mean heights of male and female adults in a certain population are not equal.\n",
    "To decide between the null and alternative hypotheses, you perform a statistical test on sample data. The outcome of the test \n",
    "(e.g., p-value) helps you determine whether you should reject the null hypothesis in favor of the alternative hypothesis or \n",
    "fail to reject the null hypothesis due to insufficient evidence.\n",
    "'''"
   ]
  },
  {
   "cell_type": "markdown",
   "id": "3df5a9ae",
   "metadata": {},
   "source": [
    "### Q7: Write down the steps involved in hypothesis testing."
   ]
  },
  {
   "cell_type": "code",
   "execution_count": null,
   "id": "074443d0",
   "metadata": {},
   "outputs": [],
   "source": [
    "'''\n",
    "These are the 5 menthods :\n",
    "\n",
    "State your research hypothesis as a null hypothesis and alternate hypothesis (H o) and (H a or H 1).\n",
    "Collect data in a way designed to test the hypothesis.\n",
    "Perform an appropriate statistical test.\n",
    "Decide whether to reject or fail to reject your null hypothesis.\n",
    "Present the findings in your results and discussion section.\n",
    "'''"
   ]
  },
  {
   "cell_type": "markdown",
   "id": "a2a528cf",
   "metadata": {},
   "source": [
    "### Q8. Define p-value and explain its significance in hypothesis testing."
   ]
  },
  {
   "cell_type": "code",
   "execution_count": null,
   "id": "af50a1f1",
   "metadata": {},
   "outputs": [],
   "source": [
    "'''\n",
    "The p-value is a statistical measure that helps determine the probability of obtaining the observed results, assuming that the \n",
    "null hypothesis is true. It is calculated from a statistical test and describes how likely you are to have found a particular \n",
    "set of observations if the null hypothesis were true. The p-value ranges from 0 to 1, with a smaller p-value indicating \n",
    "stronger evidence against the null hypothesis.\n",
    "\n",
    "In hypothesis testing, the p-value is used to help decide whether to reject or fail to reject the null hypothesis. If the \n",
    "p-value is less than or equal to the significance level (alpha), then we reject the null hypothesis and conclude that there is \n",
    "sufficient evidence to support the alternative hypothesis 1. On the other hand, if the p-value is greater than alpha, then we \n",
    "fail to reject the null hypothesis and conclude that there is insufficient evidence to support the alternative hypothesis.\n",
    "'''"
   ]
  },
  {
   "cell_type": "markdown",
   "id": "b4323f51",
   "metadata": {},
   "source": [
    "### Q9. Generate a Student's t-distribution plot using Python's matplotlib library, with the degrees of freedom parameter set to 10."
   ]
  },
  {
   "cell_type": "code",
   "execution_count": 4,
   "id": "d1f8a6a9",
   "metadata": {},
   "outputs": [
    {
     "data": {
      "image/png": "[encoded data removed]",
      "text/plain": [
       "<Figure size 640x480 with 1 Axes>"
      ]
     },
     "metadata": {},
     "output_type": "display_data"
    }
   ],
   "source": [
    "import matplotlib.pyplot as plt\n",
    "import numpy as np\n",
    "from scipy.stats import t\n",
    "\n",
    "df = 10\n",
    "x = np.linspace(-5, 5, 1000)\n",
    "y = t.pdf(x, df)\n",
    "\n",
    "plt.plot(x, y)\n",
    "plt.title(\"Student's t-distribution with df=10\")\n",
    "plt.xlabel(\"x\")\n",
    "plt.ylabel(\"pdf(x)\")\n",
    "plt.show()"
   ]
  },
  {
   "cell_type": "markdown",
   "id": "3b237648",
   "metadata": {},
   "source": [
    "### Q10. Write a Python program to calculate the two-sample t-test for independent samples, given two random samples of equal size and a null hypothesis that the population means are equal."
   ]
  },
  {
   "cell_type": "code",
   "execution_count": 5,
   "id": "eb989b06",
   "metadata": {},
   "outputs": [
    {
     "name": "stdout",
     "output_type": "stream",
     "text": [
      "t-statistic: -0.18101479619552968\n",
      "p-value: 0.8565411163551927\n"
     ]
    }
   ],
   "source": [
    "import numpy as np\n",
    "from scipy.stats import ttest_ind\n",
    "\n",
    "# Generate two random samples of equal size\n",
    "sample1 = np.random.normal(0, 1, 100)\n",
    "sample2 = np.random.normal(0, 1, 100)\n",
    "\n",
    "# Calculate the t-statistic and p-value\n",
    "t_statistic, p_value = ttest_ind(sample1, sample2)\n",
    "\n",
    "# Print the results\n",
    "print(\"t-statistic:\", t_statistic)\n",
    "print(\"p-value:\", p_value)"
   ]
  },
  {
   "cell_type": "markdown",
   "id": "afe8c577",
   "metadata": {},
   "source": [
    "### Q11: What is Student’s t distribution? When to use the t-Distribution."
   ]
  },
  {
   "cell_type": "code",
   "execution_count": null,
   "id": "0e3751b4",
   "metadata": {},
   "outputs": [],
   "source": [
    "'''\n",
    "The Student’s t-distribution is a continuous probability distribution that is used to describe data that follow a bell curve \n",
    "when plotted on a graph, with the greatest number of observations close to the mean and fewer observations in the tails. It \n",
    "is a type of normal distribution used for smaller sample sizes, where the variance in the data is unknown. The t-distribution \n",
    "is similar to the standard normal distribution, but has heavier tails and the amount of probability mass in the tails is \n",
    "controlled by a parameter called degrees of freedom.\n",
    "\n",
    "The Student’s t-distribution plays a role in a number of widely used statistical analyses, including:\n",
    "\n",
    "Student’s t-test for assessing the statistical significance of the difference between two sample means.\n",
    "The construction of confidence intervals for the difference between two population means.\n",
    "Linear regression analysis.\n",
    "\n",
    "The t-distribution is most often used when data are approximately normally distributed and the population variance is unknown. \n",
    "It is also used when sample sizes are small, typically less than 30. When sample sizes are large, it can be approximated by the \n",
    "standard normal distribution \n",
    "'''"
   ]
  },
  {
   "cell_type": "markdown",
   "id": "bfeaeb13",
   "metadata": {},
   "source": [
    "### Q12: What is t-statistic? State the formula for t-statistic."
   ]
  },
  {
   "cell_type": "code",
   "execution_count": null,
   "id": "299de344",
   "metadata": {},
   "outputs": [],
   "source": [
    "'''\n",
    "The t-statistic is a measure of the difference between the sample mean and the null hypothesis mean, relative to the standard \n",
    "error of the sample mean. It is used in hypothesis testing to determine whether the difference between two groups is \n",
    "statistically significant.\n",
    "\n",
    "The formula for the t-statistic is:\n",
    "\n",
    "t = (x̄ - μ) / (s / √n)\n",
    "\n",
    "where:\n",
    "\n",
    "x̄ is the sample mean\n",
    "μ is the null hypothesis mean\n",
    "s is the standard deviation of the sample\n",
    "n is the sample size\n",
    "'''"
   ]
  },
  {
   "cell_type": "markdown",
   "id": "3d88d062",
   "metadata": {},
   "source": [
    "### Q13. A coffee shop owner wants to estimate the average daily revenue for their shop. They take a random sample of 50 days and find the sample mean revenue to be 500 with a standard deviation of 50.Estimate the population mean revenue with a 95% confidence interval."
   ]
  },
  {
   "cell_type": "code",
   "execution_count": 6,
   "id": "61e1a45e",
   "metadata": {},
   "outputs": [
    {
     "name": "stdout",
     "output_type": "stream",
     "text": [
      "95% Confidence Interval: ($486.14, $513.86)\n"
     ]
    }
   ],
   "source": [
    "'''\n",
    "To estimate the population mean revenue with a 95% confidence interval, we can use the following formula 1:\n",
    "\n",
    "CI = X̄ ± Z * (σ / √n)\n",
    "'''\n",
    "\n",
    "import math\n",
    "\n",
    "# Sample mean revenue\n",
    "X_bar = 500\n",
    "\n",
    "# Standard deviation of sample revenue\n",
    "sigma = 50\n",
    "\n",
    "# Sample size\n",
    "n = 50\n",
    "\n",
    "# Critical value for a 95% confidence interval\n",
    "Z_star = 1.96\n",
    "\n",
    "# Calculate the margin of error\n",
    "ME = Z_star * (sigma / math.sqrt(n))\n",
    "\n",
    "# Calculate the lower and upper bounds of the confidence interval\n",
    "lower_bound = X_bar - ME\n",
    "upper_bound = X_bar + ME\n",
    "\n",
    "# Print the results\n",
    "print(\"95% Confidence Interval: (${:.2f}, ${:.2f})\".format(lower_bound, upper_bound))"
   ]
  },
  {
   "cell_type": "markdown",
   "id": "395ac1af",
   "metadata": {},
   "source": [
    "### Q14. A researcher hypothesizes that a new drug will decrease blood pressure by 10 mmHg. They conduct a clinical trial with 100 patients and find that the sample mean decrease in blood pressure is 8 mmHg with a standard deviation of 3 mmHg. Test the hypothesis with a significance level of 0.05."
   ]
  },
  {
   "cell_type": "code",
   "execution_count": 7,
   "id": "3ad027a9",
   "metadata": {},
   "outputs": [
    {
     "name": "stdout",
     "output_type": "stream",
     "text": [
      "Reject null hypothesis\n"
     ]
    }
   ],
   "source": [
    "import scipy.stats as stats\n",
    "\n",
    "# Define the sample mean, hypothesized population mean, sample standard deviation, and sample size\n",
    "x_bar = 8\n",
    "mu = 10\n",
    "s = 3\n",
    "n = 100\n",
    "\n",
    "# Calculate the t-statistic\n",
    "t = (x_bar - mu) / (s / (n ** 0.5))\n",
    "\n",
    "# Find the critical value for a one-tailed test with 99 degrees of freedom and a significance level of 0.05\n",
    "cv = stats.t.ppf(0.05, df=99)\n",
    "\n",
    "# Compare the t-statistic to the critical value and print the result\n",
    "if t < cv:\n",
    "    print(\"Reject null hypothesis\")\n",
    "else:\n",
    "    print(\"Fail to reject null hypothesis\")"
   ]
  },
  {
   "cell_type": "markdown",
   "id": "6f4f1e43",
   "metadata": {},
   "source": [
    "### Q15. An electronics company produces a certain type of product with a mean weight of 5 pounds and a standard deviation of 0.5 pounds. A random sample of 25 products is taken, and the sample mean weight is found to be 4.8 pounds. Test the hypothesis that the true mean weight of the products is less than 5 pounds with a significance level of 0.01."
   ]
  },
  {
   "cell_type": "code",
   "execution_count": 8,
   "id": "800cc470",
   "metadata": {},
   "outputs": [
    {
     "name": "stdout",
     "output_type": "stream",
     "text": [
      "Fail to reject null hypothesis\n"
     ]
    }
   ],
   "source": [
    "x_bar = 4.8\n",
    "mu = 5\n",
    "s = 0.5\n",
    "n = 25\n",
    "\n",
    "# Calculate the t-statistic\n",
    "t = (x_bar - mu) / (s / (n ** 0.5))\n",
    "\n",
    "# Find the critical value for a one-tailed test with 24 degrees of freedom and a significance level of 0.01\n",
    "cv = stats.t.ppf(0.01, df=24)\n",
    "\n",
    "# Compare the t-statistic to the critical value and print the result\n",
    "if t < cv:\n",
    "    print(\"Reject null hypothesis\")\n",
    "else:\n",
    "    print(\"Fail to reject null hypothesis\")"
   ]
  },
  {
   "cell_type": "markdown",
   "id": "705392b5",
   "metadata": {},
   "source": [
    "### Q16. Two groups of students are given different study materials to prepare for a test. The first group (n1 = 30) has a mean score of 80 with a standard deviation of 10, and the second group (n2 = 40) has a mean score of 75 with a standard deviation of 8. Test the hypothesis that the population means for the two groups are equal with a significance level of 0.01."
   ]
  },
  {
   "cell_type": "code",
   "execution_count": 10,
   "id": "c52bcc73",
   "metadata": {},
   "outputs": [
    {
     "name": "stdout",
     "output_type": "stream",
     "text": [
      "Fail to reject null hypothesis\n"
     ]
    }
   ],
   "source": [
    "\n",
    "# Define the sample means, sample standard deviations, and sample sizes\n",
    "x_bar1 = 80\n",
    "x_bar2 = 75\n",
    "s1 = 10\n",
    "s2 = 8\n",
    "n1 = 30\n",
    "n2 = 40\n",
    "\n",
    "# Calculate the t-statistic\n",
    "t = (x_bar1 - x_bar2) / ((s1 ** 2 / n1) + (s2 ** 2 / n2)) ** 0.5\n",
    "\n",
    "# Find the critical values for a two-tailed test with 68 degrees of freedom and a significance level of 0.01\n",
    "cv_low = stats.t.ppf(0.005, df=68)\n",
    "cv_high = stats.t.ppf(0.995, df=68)\n",
    "\n",
    "# Compare the t-statistic to the critical values and print the result\n",
    "if t < cv_low or t > cv_high:\n",
    "    print(\"Reject null hypothesis\")\n",
    "else:\n",
    "    print(\"Fail to reject null hypothesis\")\n"
   ]
  },
  {
   "cell_type": "markdown",
   "id": "2ac37e3b",
   "metadata": {},
   "source": [
    "### Q17. A marketing company wants to estimate the average number of ads watched by viewers during a TV program. They take a random sample of 50 viewers and find that the sample mean is 4 with a standard deviation of 1.5. Estimate the population mean with a 99% confidence interval."
   ]
  },
  {
   "cell_type": "code",
   "execution_count": 11,
   "id": "588e5c3c",
   "metadata": {},
   "outputs": [
    {
     "name": "stdout",
     "output_type": "stream",
     "text": [
      "The population mean number of ads watched by viewers during a TV program is estimated to be between 3.43 and 4.57 with 99% confidence.\n"
     ]
    }
   ],
   "source": [
    "x_bar = 4\n",
    "s = 1.5\n",
    "n = 50\n",
    "\n",
    "# Find the t-value for a two-tailed test with 49 degrees of freedom and a significance level of 0.01\n",
    "t = stats.t.ppf(0.995, df=n-1)\n",
    "\n",
    "# Calculate the confidence interval\n",
    "ci_low = x_bar - t * (s / math.sqrt(n))\n",
    "ci_high = x_bar + t * (s / math.sqrt(n))\n",
    "\n",
    "# Print the result\n",
    "print(f\"The population mean number of ads watched by viewers during a TV program is estimated to be between {ci_low:.2f} and {ci_high:.2f} with 99% confidence.\")"
   ]
  },
  {
   "cell_type": "code",
   "execution_count": null,
   "id": "833f1c21",
   "metadata": {},
   "outputs": [],
   "source": []
  }
 ],
 "metadata": {
  "kernelspec": {
   "display_name": "Python 3 (ipykernel)",
   "language": "python",
   "name": "python3"
  },
  "language_info": {
   "codemirror_mode": {
    "name": "ipython",
    "version": 3
   },
   "file_extension": ".py",
   "mimetype": "text/x-python",
   "name": "python",
   "nbconvert_exporter": "python",
   "pygments_lexer": "ipython3",
   "version": "3.9.13"
  }
 },
 "nbformat": 4,
 "nbformat_minor": 5
}
