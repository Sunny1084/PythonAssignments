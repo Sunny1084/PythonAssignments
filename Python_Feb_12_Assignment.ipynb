{
 "cells": [
  {
   "cell_type": "markdown",
   "id": "331cee4a",
   "metadata": {},
   "source": [
    "#### Q1. What is an Exception in pthon? Write the difference between Exceptions and Syntax errors"
   ]
  },
  {
   "cell_type": "code",
   "execution_count": null,
   "id": "63db6818",
   "metadata": {},
   "outputs": [],
   "source": [
    "# Ans An exception is an event, which occurs during the execution of a program that disrupts the normal flow of the program's \n",
    "# instructions. In general, when a Python script encounters a situation that it cannot cope with, it raises an exception. \n",
    "# An exception is a Python object that represents an error.\n",
    "\n",
    "# Syntax errors often called as parsing errors, are predominantly caused when the parser detects a syntactic issue in your code.\n",
    "# Syntax are not handled where as we can handled the exceptions "
   ]
  },
  {
   "cell_type": "markdown",
   "id": "c464a571",
   "metadata": {},
   "source": [
    "#### Q2. What happens when an exception is not handled? Explain with an example"
   ]
  },
  {
   "cell_type": "code",
   "execution_count": 1,
   "id": "bf28a020",
   "metadata": {},
   "outputs": [
    {
     "ename": "ZeroDivisionError",
     "evalue": "division by zero",
     "output_type": "error",
     "traceback": [
      "\u001b[1;31m---------------------------------------------------------------------------\u001b[0m",
      "\u001b[1;31mZeroDivisionError\u001b[0m                         Traceback (most recent call last)",
      "\u001b[1;32m~\\AppData\\Local\\Temp\\ipykernel_600\\3776264580.py\u001b[0m in \u001b[0;36m<module>\u001b[1;34m\u001b[0m\n\u001b[0;32m      2\u001b[0m \u001b[1;33m\u001b[0m\u001b[0m\n\u001b[0;32m      3\u001b[0m \u001b[0ma\u001b[0m \u001b[1;33m=\u001b[0m \u001b[1;36m10\u001b[0m\u001b[1;33m\u001b[0m\u001b[1;33m\u001b[0m\u001b[0m\n\u001b[1;32m----> 4\u001b[1;33m \u001b[0mb\u001b[0m \u001b[1;33m=\u001b[0m \u001b[1;36m10\u001b[0m\u001b[1;33m/\u001b[0m\u001b[1;36m0\u001b[0m\u001b[1;33m\u001b[0m\u001b[1;33m\u001b[0m\u001b[0m\n\u001b[0m\u001b[0;32m      5\u001b[0m \u001b[0mprint\u001b[0m\u001b[1;33m(\u001b[0m\u001b[1;34m\"b\"\u001b[0m\u001b[1;33m)\u001b[0m\u001b[1;33m\u001b[0m\u001b[1;33m\u001b[0m\u001b[0m\n\u001b[0;32m      6\u001b[0m \u001b[0mprint\u001b[0m\u001b[1;33m(\u001b[0m\u001b[1;34m\"further code\"\u001b[0m\u001b[1;33m)\u001b[0m\u001b[1;33m\u001b[0m\u001b[1;33m\u001b[0m\u001b[0m\n",
      "\u001b[1;31mZeroDivisionError\u001b[0m: division by zero"
     ]
    }
   ],
   "source": [
    "# Ans When an exception is occur in between of the code, the code will stop execute further after exception.\n",
    "\n",
    "a = 10\n",
    "b = 10/0\n",
    "print(\"b\")\n",
    "print(\"further code\")"
   ]
  },
  {
   "cell_type": "markdown",
   "id": "5c50bdcf",
   "metadata": {},
   "source": [
    "#### Q3. Which Python statements are used to catch and handle exceptions? Explain with an example"
   ]
  },
  {
   "cell_type": "code",
   "execution_count": 5,
   "id": "d690b4eb",
   "metadata": {},
   "outputs": [
    {
     "name": "stdout",
     "output_type": "stream",
     "text": [
      "There is an error in the code\n",
      "division by zero\n",
      "always execute\n",
      "further code\n"
     ]
    }
   ],
   "source": [
    "# Ans Statements are used to catch and handle exceptions are\n",
    "# 1. Try and else block  2. Except block  3. Finally block\n",
    "\n",
    "a = 10\n",
    "try:\n",
    "    print(a/0)\n",
    "except Exception as e:\n",
    "    print(\"There is an error in the code\")\n",
    "    print(e)\n",
    "else:\n",
    "    print(\"will execute when exception not occur in try block\")\n",
    "finally:\n",
    "    print(\"always execute\")\n",
    "    \n",
    "print(\"further code\")\n"
   ]
  },
  {
   "cell_type": "markdown",
   "id": "156509a0",
   "metadata": {},
   "source": [
    "#### Q4 Explain with an example"
   ]
  },
  {
   "cell_type": "code",
   "execution_count": 11,
   "id": "a7dca59d",
   "metadata": {},
   "outputs": [
    {
     "name": "stdout",
     "output_type": "stream",
     "text": [
      "5.0\n",
      "will execute when exception not occur in try block\n",
      "always execute\n",
      "further code\n",
      "For raise example\n",
      "Enter your age : 41\n",
      "valid age\n"
     ]
    }
   ],
   "source": [
    "# 1. try and else  2. finally\n",
    "a = 10\n",
    "try:\n",
    "    print(a/2)\n",
    "except Exception as e:\n",
    "    print(\"There is an error in the code\")\n",
    "    print(e)\n",
    "else:\n",
    "    print(\"will execute when exception not occur in try block\")\n",
    "finally:\n",
    "    print(\"always execute\")\n",
    "    \n",
    "print(\"further code\")\n",
    "\n",
    "# 3. raise\n",
    "print(\"For raise example\")\n",
    "class Validateage(Exception):\n",
    "    def __init__(self, msg):\n",
    "        self.msg = msg\n",
    "def validate_age(age):\n",
    "    if age <= 18:\n",
    "        raise Validateage(\"Age should be greater than 18\")\n",
    "    elif age >= 45:\n",
    "        raise Validateage(\"Age should less than 45\")\n",
    "    else :\n",
    "        print(\"valid age\")\n",
    "        \n",
    "try:\n",
    "    age = int(input(\"Enter your age : \"))\n",
    "    validate_age(age)\n",
    "except Validateage as e:\n",
    "    print(e)"
   ]
  },
  {
   "cell_type": "markdown",
   "id": "ea9e6a9b",
   "metadata": {},
   "source": [
    "#### Q5. What are Custom Exceptions in python? What do we need Custom Exceptions? Explain withan example"
   ]
  },
  {
   "cell_type": "code",
   "execution_count": 13,
   "id": "32cf209c",
   "metadata": {},
   "outputs": [
    {
     "name": "stdout",
     "output_type": "stream",
     "text": [
      "Enter non zero value : 10\n"
     ]
    }
   ],
   "source": [
    "# Ans Exceptions which are drive from the Exception class to handle our own exception are called as Custom Exceptions.\n",
    "# We used custom exception to handle our error in code in some standard form. for example\n",
    "class forzerovalue(Exception):\n",
    "    pass\n",
    "\n",
    "try:\n",
    "    value = int(input(\"Enter non zero value : \"))\n",
    "    if value == 0:\n",
    "        raise forzerovalue\n",
    "except forzerovalue as e:\n",
    "    print(\"Input value is zero Try Again!!\")"
   ]
  },
  {
   "cell_type": "markdown",
   "id": "dabafd64",
   "metadata": {},
   "source": [
    "#### Q6. Create custom exception class. Use this class to handle an exception."
   ]
  },
  {
   "cell_type": "code",
   "execution_count": 14,
   "id": "a309a786",
   "metadata": {},
   "outputs": [
    {
     "name": "stdout",
     "output_type": "stream",
     "text": [
      "Enter your age : 45\n",
      "Age should less than 45\n"
     ]
    }
   ],
   "source": [
    "class Validateage(Exception):\n",
    "    def __init__(self, msg):\n",
    "        self.msg = msg\n",
    "def validate_age(age):\n",
    "    if age <= 18:\n",
    "        raise Validateage(\"Age should be greater than 18\")\n",
    "    elif age >= 45:\n",
    "        raise Validateage(\"Age should less than 45\")\n",
    "    else :\n",
    "        print(\"valid age\")\n",
    "        \n",
    "try:\n",
    "    age = int(input(\"Enter your age : \"))\n",
    "    validate_age(age)\n",
    "except Validateage as e:\n",
    "    print(e)"
   ]
  },
  {
   "cell_type": "code",
   "execution_count": null,
   "id": "de2a2b73",
   "metadata": {},
   "outputs": [],
   "source": []
  }
 ],
 "metadata": {
  "kernelspec": {
   "display_name": "Python 3 (ipykernel)",
   "language": "python",
   "name": "python3"
  },
  "language_info": {
   "codemirror_mode": {
    "name": "ipython",
    "version": 3
   },
   "file_extension": ".py",
   "mimetype": "text/x-python",
   "name": "python",
   "nbconvert_exporter": "python",
   "pygments_lexer": "ipython3",
   "version": "3.9.13"
  }
 },
 "nbformat": 4,
 "nbformat_minor": 5
}
