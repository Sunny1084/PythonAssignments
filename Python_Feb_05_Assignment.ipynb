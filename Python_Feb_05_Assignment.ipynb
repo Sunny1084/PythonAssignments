{
 "cells": [
  {
   "cell_type": "markdown",
   "id": "e6ca7547",
   "metadata": {},
   "source": [
    "#### Q1. Explain Class and Object with respect to Object-Oriented Programming. Give a suitable example."
   ]
  },
  {
   "cell_type": "code",
   "execution_count": 7,
   "id": "4fca1a89",
   "metadata": {},
   "outputs": [
    {
     "name": "stdout",
     "output_type": "stream",
     "text": [
      "Floors 3\n",
      "Doors 6\n",
      "Windows 12\n",
      "Floors 3\n",
      "Doors 56\n",
      "Windows 12\n"
     ]
    }
   ],
   "source": [
    "# Ans A class is considered as a blueprint of objects. We can think of the class as a sketch (prototype) of a house. It contains\n",
    "# all the details about the floors, doors, windows, etc. Based on these descriptions we build the house. House is the object.\n",
    "# Example of class\n",
    "class House:\n",
    "    floors = 3\n",
    "    doors = 6\n",
    "    windows = 12\n",
    "    def print_value(self):\n",
    "        print(f'Floors {self.floors}')\n",
    "        print(\"Doors\",self.doors)\n",
    "        print(\"Windows\",self.windows)\n",
    "\n",
    "# An object is called an instance of a class. For example, suppose house is a class then we can create objects \n",
    "# like house1, house2, etc from the class.\n",
    "\n",
    "house1 = House()\n",
    "house1.print_value()\n",
    "house2 = House()\n",
    "house2.doors = 56\n",
    "house2.print_value()"
   ]
  },
  {
   "cell_type": "markdown",
   "id": "18faa8b8",
   "metadata": {},
   "source": [
    "#### Q2. Name the four pillars of OOPs."
   ]
  },
  {
   "cell_type": "code",
   "execution_count": null,
   "id": "ed1b2176",
   "metadata": {},
   "outputs": [],
   "source": [
    "# Ans 1. Inheritance  2. Polymorphism  3. Encapsulation   4. Extraction"
   ]
  },
  {
   "cell_type": "markdown",
   "id": "42f2a568",
   "metadata": {},
   "source": [
    "#### Q3. Explain why the __init__() function is used. Give a suitable example."
   ]
  },
  {
   "cell_type": "code",
   "execution_count": 8,
   "id": "561d58d1",
   "metadata": {},
   "outputs": [
    {
     "data": {
      "text/plain": [
       "6"
      ]
     },
     "execution_count": 8,
     "metadata": {},
     "output_type": "execute_result"
    }
   ],
   "source": [
    "# Ans __init__() function is used to create constructer of a class.\n",
    "# This is the example of __init__() function\n",
    "\n",
    "class House:\n",
    "    def __init__(self,floors = 3, doors = 6, windows=12):\n",
    "        self.floors = floors\n",
    "        self.doors = doors\n",
    "        self.windows = windows\n",
    "house1 = House()\n",
    "house1.doors"
   ]
  },
  {
   "cell_type": "markdown",
   "id": "b209aeb6",
   "metadata": {},
   "source": [
    "#### Q4. Why self is used in OOPs?"
   ]
  },
  {
   "cell_type": "code",
   "execution_count": null,
   "id": "b94b3832",
   "metadata": {},
   "outputs": [],
   "source": [
    "# Ans The self keyword is used to represent an instance (object) of the given class. In this case, the two Cat objects cat1 \n",
    "# and cat2 have their own name and age attributes. If there was no self argument, the same class couldn't hold the information \n",
    "# for both these objects."
   ]
  },
  {
   "cell_type": "markdown",
   "id": "a773c50c",
   "metadata": {},
   "source": [
    "#### Q5. What is inheritance? Give an example for each type of inheritance."
   ]
  },
  {
   "cell_type": "code",
   "execution_count": 9,
   "id": "c6137063",
   "metadata": {},
   "outputs": [
    {
     "name": "stdout",
     "output_type": "stream",
     "text": [
      "Parent bright method\n"
     ]
    }
   ],
   "source": [
    "# Inheritance is a process of obtaining properties and characteristics(variables and methods) of another class. In this \n",
    "# hierarchical order, the class which inherits another class is called subclass or child class, and the other class is the \n",
    "# parent class.\n",
    "\n",
    "# There are five types of inheritances:\n",
    "\n",
    "# 1.Single Inheritance\n",
    "# 2.Multiple Inheritance\n",
    "# 3.Multilevel Inheritance\n",
    "# 4.Hierarchical Inheritance\n",
    "# 5.Hybrid Inheritance\n",
    "\n",
    "# 1. Single Inheritance\n",
    "class Parent:\n",
    "    p1 = 23\n",
    "    def bright(self):\n",
    "        print(\"Parent bright method\")\n",
    "\n",
    "class child(Parent):\n",
    "    c1 = 25\n",
    "    def brigthchild(self):\n",
    "        print(\"Child Bright method\")\n",
    "\n",
    "child1 = child()\n",
    "child1.bright()\n"
   ]
  },
  {
   "cell_type": "code",
   "execution_count": 11,
   "id": "7cef462d",
   "metadata": {},
   "outputs": [
    {
     "name": "stdout",
     "output_type": "stream",
     "text": [
      "Hey there you are in the child\n",
      "first number is :  10\n",
      "second number is :  5\n"
     ]
    }
   ],
   "source": [
    "# 2. Multuple Inheritance\n",
    "#parent class 1\n",
    "class A:\n",
    "    demo1=0\n",
    "    def fun1(self):\n",
    "        print(self.demo1)\n",
    "\n",
    "#parent class 2\n",
    "class B:\n",
    "    demo2=0\n",
    "    def fun2(self):\n",
    "        print(self.demo2)\n",
    "\n",
    "#child class\n",
    "class C(A, B):\n",
    "    def fun3(self):\n",
    "        print(\"Hey there you are in the child\")\n",
    "\n",
    "# Main code\n",
    "c = C()\n",
    "c.demo1 = 10\n",
    "c.demo2 = 5\n",
    "c.fun3()\n",
    "print(\"first number is : \",c.demo1)\n",
    "print(\"second number is : \",c.demo2)"
   ]
  }
 ],
 "metadata": {
  "kernelspec": {
   "display_name": "Python 3 (ipykernel)",
   "language": "python",
   "name": "python3"
  },
  "language_info": {
   "codemirror_mode": {
    "name": "ipython",
    "version": 3
   },
   "file_extension": ".py",
   "mimetype": "text/x-python",
   "name": "python",
   "nbconvert_exporter": "python",
   "pygments_lexer": "ipython3",
   "version": "3.9.13"
  }
 },
 "nbformat": 4,
 "nbformat_minor": 5
}
