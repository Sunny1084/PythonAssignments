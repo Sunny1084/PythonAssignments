{
 "cells": [
  {
   "cell_type": "markdown",
   "id": "f0474ab3",
   "metadata": {},
   "source": [
    "#### Q1. Which keyword is used to create a function? Create a function to return a list of odd numbers in the range of 1 to 25."
   ]
  },
  {
   "cell_type": "code",
   "execution_count": 2,
   "id": "aee06f06",
   "metadata": {},
   "outputs": [],
   "source": [
    "# Ans def keyword is used to create a function in python\n",
    "def odd_number(start, stop):\n",
    "    final_list = []\n",
    "    for num in range(start, stop):\n",
    "        if num % 2 != 0:\n",
    "            final_list.append(num)\n",
    "        else : \n",
    "            pass\n",
    "    return final_list"
   ]
  },
  {
   "cell_type": "code",
   "execution_count": 3,
   "id": "c9ae31c9",
   "metadata": {},
   "outputs": [
    {
     "data": {
      "text/plain": [
       "[1, 3, 5, 7, 9, 11, 13, 15, 17, 19, 21, 23]"
      ]
     },
     "execution_count": 3,
     "metadata": {},
     "output_type": "execute_result"
    }
   ],
   "source": [
    "odd_number(1,25)"
   ]
  },
  {
   "cell_type": "markdown",
   "id": "69da06f3",
   "metadata": {},
   "source": [
    "#### Q2. Why *args and **kwargs is used in some functions? Create a function each for *args and **kwargs to demonstrate their use."
   ]
  },
  {
   "cell_type": "code",
   "execution_count": 4,
   "id": "66f24b5e",
   "metadata": {},
   "outputs": [],
   "source": [
    "# Ans We use *args and **kwargs as an argument when we are unsure about the number of arguments to pass in the functions.\n",
    "\n",
    "def adder(*num):\n",
    "    sum = 0\n",
    "    \n",
    "    for n in num:\n",
    "        sum = sum + n\n",
    "\n",
    "    print(\"Sum:\",sum)\n",
    "\n",
    "# using this *args we can add as many arguments as we want in the function and it gives us the \n",
    "# sum of all the argumnets which we pass "
   ]
  },
  {
   "cell_type": "code",
   "execution_count": 5,
   "id": "f063dbea",
   "metadata": {},
   "outputs": [
    {
     "name": "stdout",
     "output_type": "stream",
     "text": [
      "Sum: 43\n"
     ]
    }
   ],
   "source": [
    "adder(1,2,3,4,5,6,6,8,8)"
   ]
  },
  {
   "cell_type": "code",
   "execution_count": 6,
   "id": "66b9a598",
   "metadata": {},
   "outputs": [],
   "source": [
    "def intro(**data):\n",
    "    print(\"\\nData type of argument:\",type(data))\n",
    "\n",
    "    for key, value in data.items():\n",
    "        print(\"{} is {}\".format(key,value))\n",
    "        \n",
    "# using **kwargs we can add as many as we want key value pair in the function"
   ]
  },
  {
   "cell_type": "code",
   "execution_count": 7,
   "id": "8c929b93",
   "metadata": {},
   "outputs": [
    {
     "name": "stdout",
     "output_type": "stream",
     "text": [
      "\n",
      "Data type of argument: <class 'dict'>\n",
      "name is Sunny\n",
      "grade is 7th\n",
      "place is Delhi\n"
     ]
    }
   ],
   "source": [
    "intro(name = 'Sunny', grade = '7th', place = 'Delhi')"
   ]
  },
  {
   "cell_type": "markdown",
   "id": "4f33d1c9",
   "metadata": {},
   "source": [
    "#### Q3. What is an iterator in python? Name the method used to initialise the iterator object and the methodused for iteration. Use these methods to print the first five elements of the given list [2, 4, 6, 8, 10, 12, 14, 16,18, 20]."
   ]
  },
  {
   "cell_type": "code",
   "execution_count": 12,
   "id": "854955e4",
   "metadata": {},
   "outputs": [
    {
     "name": "stdout",
     "output_type": "stream",
     "text": [
      "2\n",
      "4\n",
      "6\n",
      "8\n",
      "10\n"
     ]
    }
   ],
   "source": [
    "\"\"\"\n",
    "Ans Iterator is used to loop through an element and returns all the elements of that object. iter() method is used to initialise \n",
    "and next() method is used for iteration\n",
    "\n",
    "\"\"\"\n",
    "lst = [2,4,6,8,10,12,14,16,18,20]\n",
    "\n",
    "itr = iter(lst)\n",
    "\n",
    "print(next(itr))\n",
    "print(next(itr))\n",
    "print(next(itr))\n",
    "print(next(itr))\n",
    "print(next(itr))"
   ]
  },
  {
   "cell_type": "markdown",
   "id": "88f20482",
   "metadata": {},
   "source": [
    "#### Q4. What is a generator function in python? Why yield keyword is used? Give an example of a generator function."
   ]
  },
  {
   "cell_type": "code",
   "execution_count": 13,
   "id": "76c7a455",
   "metadata": {},
   "outputs": [],
   "source": [
    "\"\"\"\n",
    "Ans Generators are useful when we want to produce a large sequence of values, but we don't want \n",
    "to store all of them in memory at once.The yield keyword is used to produce a value from the generator.\n",
    "\"\"\"\n",
    "def generate_number(n):\n",
    "    val = 0\n",
    "    while val < n:\n",
    "        yield val\n",
    "        val += 1"
   ]
  },
  {
   "cell_type": "code",
   "execution_count": 14,
   "id": "6a0e80a5",
   "metadata": {},
   "outputs": [
    {
     "data": {
      "text/plain": [
       "<generator object generate_number at 0x000002973C8A0AC0>"
      ]
     },
     "execution_count": 14,
     "metadata": {},
     "output_type": "execute_result"
    }
   ],
   "source": [
    "generate_number(10)"
   ]
  },
  {
   "cell_type": "code",
   "execution_count": 15,
   "id": "2ae3662f",
   "metadata": {},
   "outputs": [
    {
     "name": "stdout",
     "output_type": "stream",
     "text": [
      "0\n",
      "1\n",
      "2\n",
      "3\n",
      "4\n",
      "5\n",
      "6\n",
      "7\n",
      "8\n",
      "9\n"
     ]
    }
   ],
   "source": [
    "for i in generate_number(10):\n",
    "    print(i)\n",
    "    \n",
    "# using this function we can generate the numbers"
   ]
  },
  {
   "cell_type": "markdown",
   "id": "f720b575",
   "metadata": {},
   "source": [
    "#### Q5. Create a generator function for prime numbers less than 1000. Use the next() method to print the first 20 prime numbers."
   ]
  },
  {
   "cell_type": "code",
   "execution_count": 19,
   "id": "92394a2e",
   "metadata": {},
   "outputs": [],
   "source": [
    "def prime_number(n):\n",
    "    for i in range(n+1):\n",
    "        if i > 1:\n",
    "            for j in range(2,i):\n",
    "                if i % j == 0:\n",
    "                    break\n",
    "            else:\n",
    "                yield i\n",
    "                    "
   ]
  },
  {
   "cell_type": "code",
   "execution_count": 20,
   "id": "69a03c74",
   "metadata": {},
   "outputs": [
    {
     "data": {
      "text/plain": [
       "<generator object prime_number at 0x000002973C8A03C0>"
      ]
     },
     "execution_count": 20,
     "metadata": {},
     "output_type": "execute_result"
    }
   ],
   "source": [
    "prime_number(100)"
   ]
  },
  {
   "cell_type": "code",
   "execution_count": 21,
   "id": "2cdf4090",
   "metadata": {},
   "outputs": [
    {
     "name": "stdout",
     "output_type": "stream",
     "text": [
      "2\n",
      "3\n",
      "5\n",
      "7\n",
      "11\n",
      "13\n",
      "17\n",
      "19\n",
      "23\n",
      "29\n",
      "31\n",
      "37\n",
      "41\n",
      "43\n",
      "47\n",
      "53\n",
      "59\n",
      "61\n",
      "67\n",
      "71\n",
      "73\n",
      "79\n",
      "83\n",
      "89\n",
      "97\n",
      "101\n",
      "103\n",
      "107\n",
      "109\n",
      "113\n",
      "127\n",
      "131\n",
      "137\n",
      "139\n",
      "149\n",
      "151\n",
      "157\n",
      "163\n",
      "167\n",
      "173\n",
      "179\n",
      "181\n",
      "191\n",
      "193\n",
      "197\n",
      "199\n",
      "211\n",
      "223\n",
      "227\n",
      "229\n",
      "233\n",
      "239\n",
      "241\n",
      "251\n",
      "257\n",
      "263\n",
      "269\n",
      "271\n",
      "277\n",
      "281\n",
      "283\n",
      "293\n",
      "307\n",
      "311\n",
      "313\n",
      "317\n",
      "331\n",
      "337\n",
      "347\n",
      "349\n",
      "353\n",
      "359\n",
      "367\n",
      "373\n",
      "379\n",
      "383\n",
      "389\n",
      "397\n",
      "401\n",
      "409\n",
      "419\n",
      "421\n",
      "431\n",
      "433\n",
      "439\n",
      "443\n",
      "449\n",
      "457\n",
      "461\n",
      "463\n",
      "467\n",
      "479\n",
      "487\n",
      "491\n",
      "499\n",
      "503\n",
      "509\n",
      "521\n",
      "523\n",
      "541\n",
      "547\n",
      "557\n",
      "563\n",
      "569\n",
      "571\n",
      "577\n",
      "587\n",
      "593\n",
      "599\n",
      "601\n",
      "607\n",
      "613\n",
      "617\n",
      "619\n",
      "631\n",
      "641\n",
      "643\n",
      "647\n",
      "653\n",
      "659\n",
      "661\n",
      "673\n",
      "677\n",
      "683\n",
      "691\n",
      "701\n",
      "709\n",
      "719\n",
      "727\n",
      "733\n",
      "739\n",
      "743\n",
      "751\n",
      "757\n",
      "761\n",
      "769\n",
      "773\n",
      "787\n",
      "797\n",
      "809\n",
      "811\n",
      "821\n",
      "823\n",
      "827\n",
      "829\n",
      "839\n",
      "853\n",
      "857\n",
      "859\n",
      "863\n",
      "877\n",
      "881\n",
      "883\n",
      "887\n",
      "907\n",
      "911\n",
      "919\n",
      "929\n",
      "937\n",
      "941\n",
      "947\n",
      "953\n",
      "967\n",
      "971\n",
      "977\n",
      "983\n",
      "991\n",
      "997\n"
     ]
    }
   ],
   "source": [
    "for a in prime_number(1000):\n",
    "    print(a)"
   ]
  },
  {
   "cell_type": "code",
   "execution_count": 22,
   "id": "23b98340",
   "metadata": {},
   "outputs": [
    {
     "name": "stdout",
     "output_type": "stream",
     "text": [
      "2\n",
      "3\n",
      "5\n",
      "7\n",
      "11\n",
      "13\n",
      "17\n",
      "19\n",
      "23\n",
      "29\n",
      "31\n",
      "37\n",
      "41\n",
      "43\n",
      "47\n",
      "53\n",
      "59\n",
      "61\n",
      "67\n",
      "71\n"
     ]
    }
   ],
   "source": [
    "itr1 = iter(prime_number(1000))\n",
    "stop = 1\n",
    "for b in range(0,20):\n",
    "    print(next(itr1))\n",
    "    "
   ]
  },
  {
   "cell_type": "code",
   "execution_count": null,
   "id": "b8140c45",
   "metadata": {},
   "outputs": [],
   "source": []
  }
 ],
 "metadata": {
  "kernelspec": {
   "display_name": "Python 3 (ipykernel)",
   "language": "python",
   "name": "python3"
  },
  "language_info": {
   "codemirror_mode": {
    "name": "ipython",
    "version": 3
   },
   "file_extension": ".py",
   "mimetype": "text/x-python",
   "name": "python",
   "nbconvert_exporter": "python",
   "pygments_lexer": "ipython3",
   "version": "3.9.13"
  }
 },
 "nbformat": 4,
 "nbformat_minor": 5
}
